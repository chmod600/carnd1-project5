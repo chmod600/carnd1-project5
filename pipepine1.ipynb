{
 "cells": [
  {
   "cell_type": "markdown",
   "metadata": {
    "deletable": true,
    "editable": true
   },
   "source": [
    "## Vehicle Detection Project"
   ]
  },
  {
   "cell_type": "code",
   "execution_count": 1,
   "metadata": {
    "collapsed": false,
    "deletable": true,
    "editable": true
   },
   "outputs": [
    {
     "name": "stderr",
     "output_type": "stream",
     "text": [
      "/Users/Akshay/miniconda3/envs/carnd-term1/lib/python3.5/site-packages/sklearn/cross_validation.py:44: DeprecationWarning: This module was deprecated in version 0.18 in favor of the model_selection module into which all the refactored classes and functions are moved. Also note that the interface of the new CV iterators are different from that of this module. This module will be removed in 0.20.\n",
      "  \"This module will be removed in 0.20.\", DeprecationWarning)\n"
     ]
    }
   ],
   "source": [
    "# Pipeline for Project 5\n",
    "# 1. Extract Features from images\n",
    "# 2. Train Classifier\n",
    "# 3. Sliding window to make detections in images\n",
    "\n",
    "import numpy as np\n",
    "import cv2\n",
    "import matplotlib.pyplot as plt\n",
    "import matplotlib.image as mpimg\n",
    "import glob\n",
    "import pdb\n",
    "from skimage.feature import hog\n",
    "from sklearn.cross_validation import train_test_split\n",
    "from sklearn.svm import LinearSVC\n",
    "from sklearn.preprocessing import StandardScaler\n",
    "from moviepy.editor import VideoFileClip\n",
    "from IPython.display import HTML\n",
    "from scipy.ndimage.measurements import label\n",
    "import time\n",
    "import math\n",
    "%matplotlib inline\n",
    "test_mode = True"
   ]
  },
  {
   "cell_type": "code",
   "execution_count": 2,
   "metadata": {
    "collapsed": true
   },
   "outputs": [],
   "source": [
    "# Method for printing images\n",
    "def print_image(img, title = \"\"):\n",
    "    plt.figure(figsize=(7, 7))\n",
    "    plt.imshow(img)\n",
    "    plt.title(title)\n",
    "    \n",
    "def print_gray_image(img, title = \"\"):\n",
    "    plt.figure(figsize=(7, 7))\n",
    "    plt.imshow(img, cmap=\"gray\")\n",
    "    plt.title(title)"
   ]
  },
  {
   "cell_type": "code",
   "execution_count": 3,
   "metadata": {
    "collapsed": true
   },
   "outputs": [],
   "source": [
    "# Read in our vehicles and non-vehicles\n",
    "cars = glob.glob('/Users/Akshay/projects/carnd/CarND-Vehicle-Detection/feature_extraction_data/vehicles/*.jpeg')\n",
    "notcars = glob.glob('/Users/Akshay/projects/carnd/CarND-Vehicle-Detection/feature_extraction_data/non-vehicles/*.jpeg')\n",
    "test_images = glob.glob('/Users/Akshay/projects/carnd/CarND-Vehicle-Detection/test_images/*.jpg')"
   ]
  },
  {
   "cell_type": "code",
   "execution_count": 4,
   "metadata": {
    "collapsed": true
   },
   "outputs": [],
   "source": [
    "def log(string1, string2):\n",
    "    print(\"========\")\n",
    "    print(string1, string2)\n",
    "    print(\"========\")"
   ]
  },
  {
   "cell_type": "code",
   "execution_count": 5,
   "metadata": {
    "collapsed": true
   },
   "outputs": [],
   "source": [
    "# Define a function to compute binned color features  \n",
    "def bin_spatial(img, size=(32, 32)):\n",
    "    # Use cv2.resize().ravel() to create the feature vector\n",
    "    features = cv2.resize(img, size).ravel() \n",
    "    # Return the feature vector\n",
    "    return features"
   ]
  },
  {
   "cell_type": "code",
   "execution_count": 6,
   "metadata": {
    "collapsed": true
   },
   "outputs": [],
   "source": [
    "# Define a function to compute color histogram features  \n",
    "def color_hist(img, nbins=32, bins_range=(0, 256)):\n",
    "    # Compute the histogram of the color channels separately\n",
    "    channel1_hist = np.histogram(img[:,:,0], bins=nbins, range=bins_range)\n",
    "    channel2_hist = np.histogram(img[:,:,1], bins=nbins, range=bins_range)\n",
    "    channel3_hist = np.histogram(img[:,:,2], bins=nbins, range=bins_range)\n",
    "    # Concatenate the histograms into a single feature vector\n",
    "    hist_features = np.concatenate((channel1_hist[0], channel2_hist[0], channel3_hist[0]))\n",
    "    # Return the individual histograms, bin_centers and feature vector\n",
    "    return hist_features"
   ]
  },
  {
   "cell_type": "code",
   "execution_count": 7,
   "metadata": {
    "collapsed": true
   },
   "outputs": [],
   "source": [
    "# Define a function to return HOG features and visualization\n",
    "def get_hog_features(img, orient, pix_per_cell, cell_per_block, \n",
    "                        vis=False, feature_vec=True):\n",
    "    # Call with two outputs if vis==True\n",
    "    if vis == True:\n",
    "        features, hog_image = hog(img, orientations=orient, pixels_per_cell=(pix_per_cell, pix_per_cell),\n",
    "                                  cells_per_block=(cell_per_block, cell_per_block), transform_sqrt=True, \n",
    "                                  visualise=vis, feature_vector=feature_vec)\n",
    "        return features, hog_image\n",
    "    # Otherwise call with one output\n",
    "    else:      \n",
    "        features = hog(img, orientations=orient, pixels_per_cell=(pix_per_cell, pix_per_cell),\n",
    "                       cells_per_block=(cell_per_block, cell_per_block), transform_sqrt=True, \n",
    "                       visualise=vis, feature_vector=feature_vec)\n",
    "        return features"
   ]
  },
  {
   "cell_type": "code",
   "execution_count": 8,
   "metadata": {
    "collapsed": false
   },
   "outputs": [],
   "source": [
    "# Define a function to extract features from a list of images\n",
    "# Have this function call bin_spatial() and color_hist()\n",
    "def extract_features(imgs, \n",
    "                     cspace='RGB', \n",
    "                     orient=9, \n",
    "                     pix_per_cell=8, \n",
    "                     cell_per_block=2,\n",
    "                     hog_channel=0,\n",
    "                     spatial_size=(32, 32),\n",
    "                     hist_bins=32, \n",
    "                     hist_range=(0, 256)):\n",
    "    # Create a list to append feature vectors to\n",
    "    features = []\n",
    "    # Iterate through the list of images\n",
    "    for file in imgs:\n",
    "        # Read in each one by one\n",
    "        image = mpimg.imread(file)\n",
    "        # apply color conversion if other than 'RGB'\n",
    "        if cspace != 'RGB':\n",
    "            if cspace == 'HSV':\n",
    "                feature_image = cv2.cvtColor(image, cv2.COLOR_RGB2HSV)\n",
    "            elif cspace == 'LUV':\n",
    "                feature_image = cv2.cvtColor(image, cv2.COLOR_RGB2LUV)\n",
    "            elif cspace == 'HLS':\n",
    "                feature_image = cv2.cvtColor(image, cv2.COLOR_RGB2HLS)\n",
    "            elif cspace == 'YUV':\n",
    "                feature_image = cv2.cvtColor(image, cv2.COLOR_RGB2YUV)\n",
    "            elif cspace == 'YCrCb':\n",
    "                feature_image = cv2.cvtColor(image, cv2.COLOR_RGB2YCrCb)\n",
    "        else: feature_image = np.copy(image)\n",
    "            \n",
    "        spatial_features = bin_spatial(feature_image, size = spatial_size)\n",
    "        hist_features = color_hist(feature_image, nbins = hist_bins, bins_range = hist_range)\n",
    "\n",
    "        # Call get_hog_features() with vis=False, feature_vec=True\n",
    "        if hog_channel == 'ALL':\n",
    "            hog_features = []\n",
    "            for channel in range(feature_image.shape[2]):\n",
    "                hog_features.append(get_hog_features(feature_image[:,:,channel], \n",
    "                                    orient, pix_per_cell, cell_per_block, \n",
    "                                    vis=False, feature_vec=True))\n",
    "            hog_features = np.ravel(hog_features)        \n",
    "        else:\n",
    "            hog_features = get_hog_features(feature_image[:,:,hog_channel], orient, \n",
    "                        pix_per_cell, cell_per_block, vis=False, feature_vec=True)\n",
    "        \n",
    "        \n",
    "        # Append the new feature vector to the features list\n",
    "        features.append(np.concatenate((spatial_features, hist_features, hog_features)))\n",
    "    # Return list of feature vectors\n",
    "    return features"
   ]
  },
  {
   "cell_type": "code",
   "execution_count": 9,
   "metadata": {
    "collapsed": false
   },
   "outputs": [
    {
     "data": {
      "image/png": "[encoded data removed]",
      "text/plain": [
       "<matplotlib.figure.Figure at 0x11d58b4a8>"
      ]
     },
     "metadata": {},
     "output_type": "display_data"
    },
    {
     "data": {
      "image/png": "[encoded data removed]",
      "text/plain": [
       "<matplotlib.figure.Figure at 0x11d69af60>"
      ]
     },
     "metadata": {},
     "output_type": "display_data"
    }
   ],
   "source": [
    "if test_mode:\n",
    "    # Generate a random index to look at a car image\n",
    "    ind = np.random.randint(0, len(cars))\n",
    "    image = mpimg.imread(cars[ind])\n",
    "    gray = cv2.cvtColor(image, cv2.COLOR_RGB2GRAY)\n",
    "\n",
    "    # Define HOG parameters\n",
    "    orient = 9\n",
    "    pix_per_cell = 8\n",
    "    cell_per_block = 2\n",
    "    # Call our function with vis=True to see an image output\n",
    "    hog_features, hog_image = get_hog_features(gray,\n",
    "                                               orient,\n",
    "                                               pix_per_cell,\n",
    "                                               cell_per_block,\n",
    "                                               vis=True,\n",
    "                                               feature_vec=False)\n",
    "\n",
    "    print_image(image, 'Orig Image')\n",
    "    print_gray_image(hog_image, 'HOG Visualization')"
   ]
  },
  {
   "cell_type": "code",
   "execution_count": 10,
   "metadata": {
    "collapsed": false,
    "scrolled": false
   },
   "outputs": [
    {
     "name": "stdout",
     "output_type": "stream",
     "text": [
      "16.84 Seconds to extract HOG features...\n",
      "Using: 9 orientations 8 pixels per cell and 2 cells per block\n",
      "Feature vector length: 8412\n",
      "0.77 Seconds to train SVC...\n",
      "Test Accuracy of SVC =  0.9914\n",
      "My SVC predicts:  [ 0.  1.  1.  0.  0.  1.  0.  1.  1.  1.]\n",
      "For these 10 labels:  [ 0.  1.  1.  0.  0.  1.  0.  1.  1.  1.]\n",
      "0.00313 Seconds to predict 10 labels with SVC\n"
     ]
    }
   ],
   "source": [
    "colorspace = 'YUV' # Can be RGB, HSV, LUV, HLS, YUV, YCrCb\n",
    "orient = 9\n",
    "pix_per_cell = 8\n",
    "cell_per_block = 2\n",
    "hog_channel = \"ALL\" # Can be 0, 1, 2, or \"ALL\"\n",
    "spatial = 32\n",
    "histbin = 16\n",
    "\n",
    "t = time.time()\n",
    "car_features = extract_features(cars, \n",
    "                                cspace = colorspace, \n",
    "                                orient = orient, \n",
    "                                pix_per_cell = pix_per_cell, \n",
    "                                cell_per_block = cell_per_block, \n",
    "                                hog_channel = hog_channel,\n",
    "                                spatial_size=(spatial, spatial),\n",
    "                                hist_bins=histbin, hist_range=(0, 256))\n",
    "\n",
    "notcar_features = extract_features(notcars, \n",
    "                                   cspace = colorspace, \n",
    "                                   orient = orient, \n",
    "                                   pix_per_cell = pix_per_cell, \n",
    "                                   cell_per_block = cell_per_block, \n",
    "                                   hog_channel = hog_channel,\n",
    "                                   spatial_size=(spatial, spatial),\n",
    "                                   hist_bins=histbin, hist_range=(0, 256))\n",
    "\n",
    "t2 = time.time()\n",
    "\n",
    "print(round(t2-t, 2), 'Seconds to extract HOG features...')\n",
    "\n",
    "# Create an array stack of feature vectors\n",
    "X = np.vstack((car_features, notcar_features)).astype(np.float64)                        \n",
    "\n",
    "# Fit a per-column scaler\n",
    "X_scaler = StandardScaler().fit(X)\n",
    "\n",
    "# Apply the scaler to X\n",
    "scaled_X = X_scaler.transform(X)\n",
    "\n",
    "# Define the labels vector. 1 if car present and 0 if not\n",
    "y = np.hstack((np.ones(len(car_features)), np.zeros(len(notcar_features))))\n",
    "\n",
    "# Split up data into randomized training and test sets\n",
    "rand_state = np.random.randint(0, 100)\n",
    "\n",
    "X_train, X_test, y_train, y_test = train_test_split(\n",
    "    scaled_X, y, test_size=0.2, random_state=rand_state)\n",
    "\n",
    "print('Using:',orient,'orientations',pix_per_cell,\n",
    "    'pixels per cell and', cell_per_block,'cells per block')\n",
    "\n",
    "print('Feature vector length:', len(X_train[0]))\n",
    "# Use a linear SVC \n",
    "svc = LinearSVC()\n",
    "\n",
    "# Check the training time for the SVC\n",
    "t = time.time()\n",
    "svc.fit(X_train, y_train)\n",
    "t2 = time.time()\n",
    "\n",
    "print(round(t2-t, 2), 'Seconds to train SVC...')\n",
    "\n",
    "# Check the score of the SVC\n",
    "print('Test Accuracy of SVC = ', round(svc.score(X_test, y_test), 4))\n",
    "\n",
    "# Check the prediction time for a single sample\n",
    "t = time.time()\n",
    "n_predict = 10\n",
    "\n",
    "print('My SVC predicts: ', svc.predict(X_test[0:n_predict]))\n",
    "print('For these', n_predict, 'labels: ', y_test[0:n_predict])\n",
    "\n",
    "t2 = time.time()\n",
    "\n",
    "print(round(t2-t, 5), 'Seconds to predict', n_predict,'labels with SVC')"
   ]
  },
  {
   "cell_type": "code",
   "execution_count": 17,
   "metadata": {
    "collapsed": true
   },
   "outputs": [],
   "source": [
    "# Define a function that takes an image,\n",
    "# start and stop positions in both x and y, \n",
    "# window size (x and y dimensions),  \n",
    "# and overlap fraction (for both x and y)\n",
    "def slide_window(img, \n",
    "                 x_start_stop=[None, None], \n",
    "                 y_start_stop=[None, None], \n",
    "                 xy_window=(64, 64), \n",
    "                 xy_overlap=(0.5, 0.5)):\n",
    "    \n",
    "    # If x and/or y start/stop positions not defined, set to image size\n",
    "    if x_start_stop[0] == None:\n",
    "        x_start_stop[0] = 0\n",
    "    if x_start_stop[1] == None:\n",
    "        x_start_stop[1] = img.shape[1]\n",
    "    if y_start_stop[0] == None:\n",
    "        y_start_stop[0] = 0\n",
    "    if y_start_stop[1] == None:\n",
    "        y_start_stop[1] = img.shape[0]\n",
    "    # Compute the span of the region to be searched    \n",
    "    xspan = x_start_stop[1] - x_start_stop[0]\n",
    "    yspan = y_start_stop[1] - y_start_stop[0]\n",
    "    # Compute the number of pixels per step in x/y\n",
    "    nx_pix_per_step = np.int(xy_window[0]*(1 - xy_overlap[0]))\n",
    "    ny_pix_per_step = np.int(xy_window[1]*(1 - xy_overlap[1]))\n",
    "    # Compute the number of windows in x/y\n",
    "    nx_buffer = np.int(xy_window[0]*(xy_overlap[0]))\n",
    "    ny_buffer = np.int(xy_window[1]*(xy_overlap[1]))\n",
    "    nx_windows = np.int((xspan-nx_buffer)/nx_pix_per_step) \n",
    "    ny_windows = np.int((yspan-ny_buffer)/ny_pix_per_step) \n",
    "    # Initialize a list to append window positions to\n",
    "    window_list = []\n",
    "    # Loop through finding x and y window positions\n",
    "    # Note: you could vectorize this step, but in practice\n",
    "    # you'll be considering windows one by one with your\n",
    "    # classifier, so looping makes sense\n",
    "    for ys in range(ny_windows):\n",
    "        for xs in range(nx_windows):\n",
    "            # Calculate window position\n",
    "            startx = xs*nx_pix_per_step + x_start_stop[0]\n",
    "            endx = startx + xy_window[0]\n",
    "            starty = ys*ny_pix_per_step + y_start_stop[0]\n",
    "            endy = starty + xy_window[1]\n",
    "            \n",
    "            # Append window position to list\n",
    "            window_list.append(((startx, starty), (endx, endy)))\n",
    "    # Return the list of windows\n",
    "    return window_list\n",
    "\n",
    "# Define a function to draw bounding boxes\n",
    "def draw_boxes(img, bboxes, color=(0, 0, 255), thick=6):\n",
    "\n",
    "    # Make a copy of the image\n",
    "    imcopy = np.copy(img)\n",
    "    # Iterate through the bounding boxes\n",
    "    for bbox in bboxes:\n",
    "        # Draw a rectangle given bbox coordinates\n",
    "        cv2.rectangle(imcopy, bbox[0], bbox[1], color, thick)\n",
    "    # Return the image copy with boxes drawn\n",
    "    return imcopy\n",
    "\n",
    "# Define a function to extract features from a single image window\n",
    "# This function is very similar to extract_features()\n",
    "# just for a single image rather than list of images\n",
    "def single_img_features(img, \n",
    "                        color_space='RGB', \n",
    "                        spatial_size=(32, 32),\n",
    "                        hist_bins=32, \n",
    "                        orient=9, \n",
    "                        pix_per_cell=8, \n",
    "                        cell_per_block=2, \n",
    "                        hog_channel=0,\n",
    "                        spatial_feat=True, \n",
    "                        hist_feat=True, \n",
    "                        hog_feat=True):    \n",
    "    #1) Define an empty list to receive features\n",
    "    img_features = []\n",
    "    #2) Apply color conversion if other than 'RGB'\n",
    "    if color_space != 'RGB':\n",
    "        if color_space == 'HSV':\n",
    "            feature_image = cv2.cvtColor(img, cv2.COLOR_RGB2HSV)\n",
    "        elif color_space == 'LUV':\n",
    "            feature_image = cv2.cvtColor(img, cv2.COLOR_RGB2LUV)\n",
    "        elif color_space == 'HLS':\n",
    "            feature_image = cv2.cvtColor(img, cv2.COLOR_RGB2HLS)\n",
    "        elif color_space == 'YUV':\n",
    "            feature_image = cv2.cvtColor(img, cv2.COLOR_RGB2YUV)\n",
    "        elif color_space == 'YCrCb':\n",
    "            feature_image = cv2.cvtColor(img, cv2.COLOR_RGB2YCrCb)\n",
    "    else: feature_image = np.copy(img)      \n",
    "    #3) Compute spatial features if flag is set\n",
    "    if spatial_feat == True:\n",
    "        spatial_features = bin_spatial(feature_image, size=spatial_size)\n",
    "        #4) Append features to list\n",
    "        img_features.append(spatial_features)\n",
    "    #5) Compute histogram features if flag is set\n",
    "    if hist_feat == True:\n",
    "        hist_features = color_hist(feature_image, nbins=hist_bins)\n",
    "        #6) Append features to list\n",
    "        img_features.append(hist_features)\n",
    "    #7) Compute HOG features if flag is set\n",
    "    if hog_feat == True:\n",
    "        if hog_channel == 'ALL':\n",
    "            hog_features = []\n",
    "            for channel in range(feature_image.shape[2]):\n",
    "                hog_features.extend(get_hog_features(feature_image[:,:,channel], \n",
    "                                    orient, pix_per_cell, cell_per_block, \n",
    "                                    vis=False, feature_vec=True))      \n",
    "        else:\n",
    "            hog_features = get_hog_features(feature_image[:,:,hog_channel], orient, \n",
    "                        pix_per_cell, cell_per_block, vis=False, feature_vec=True)\n",
    "        #8) Append features to list\n",
    "        img_features.append(hog_features)\n",
    "\n",
    "    #9) Return concatenated array of features\n",
    "    return np.concatenate(img_features)"
   ]
  },
  {
   "cell_type": "code",
   "execution_count": 18,
   "metadata": {
    "collapsed": true
   },
   "outputs": [],
   "source": [
    "def search_windows(img, windows, clf, scaler, color_space='RGB', \n",
    "                    spatial_size=(32, 32), hist_bins=32, \n",
    "                    hist_range=(0, 256), orient=9, \n",
    "                    pix_per_cell=8, cell_per_block=2, \n",
    "                    hog_channel=0, spatial_feat=True, \n",
    "                    hist_feat=True, hog_feat=True):\n",
    "\n",
    "    #1) Create an empty list to receive positive detection windows\n",
    "    on_windows = []\n",
    "    #2) Iterate over all windows in the list\n",
    "    for window in windows:\n",
    "        #3) Extract the test window from original image\n",
    "        test_img = cv2.resize(img[window[0][1]:window[1][1], window[0][0]:window[1][0]], (64, 64))      \n",
    "        #4) Extract features for that window using single_img_features()\n",
    "        features = single_img_features(test_img, color_space=color_space, \n",
    "                            spatial_size=spatial_size, hist_bins=hist_bins, \n",
    "                            orient=orient, pix_per_cell=pix_per_cell, \n",
    "                            cell_per_block=cell_per_block, \n",
    "                            hog_channel=hog_channel, spatial_feat=spatial_feat, \n",
    "                            hist_feat=hist_feat, hog_feat=hog_feat)\n",
    "        #5) Scale extracted features to be fed to classifier\n",
    "        test_features = scaler.transform(np.array(features).reshape(1, -1))\n",
    "        #6) Predict using your classifier\n",
    "        prediction = clf.predict(test_features)\n",
    "        #7) If positive (prediction == 1) then save the window\n",
    "        if prediction == 1:\n",
    "            on_windows.append(window)\n",
    "    #8) Return windows for positive detections\n",
    "    return on_windows"
   ]
  },
  {
   "cell_type": "code",
   "execution_count": 19,
   "metadata": {
    "collapsed": true
   },
   "outputs": [],
   "source": [
    "previous_heatmaps = []\n",
    "\n",
    "def add_heat(heatmap, bbox_list):\n",
    "    H = 30\n",
    "    global previous_heatmaps\n",
    "    # Iterate through list of bboxes\n",
    "    for box in bbox_list:\n",
    "        # Add += 1 for all pixels inside each bbox\n",
    "        # Assuming each \"box\" takes the form ((x1, y1), (x2, y2))\n",
    "        heatmap[box[0][1]:box[1][1], box[0][0]:box[1][0]] += 1\n",
    "        \n",
    "    if len(bbox_list) > 0:\n",
    "        previous_heatmaps += [heatmap]\n",
    "        \n",
    "    for hm in previous_heatmaps[-H:]:\n",
    "        heatmap[hm == 1] += 1\n",
    "\n",
    "    # Return updated heatmap\n",
    "    return heatmap\n",
    "    \n",
    "def apply_threshold(heatmap, threshold):\n",
    "    # Zero out pixels below the threshold\n",
    "    heatmap[heatmap <= threshold] = 0\n",
    "    # Return thresholded map\n",
    "    return heatmap\n",
    "\n",
    "def uniform_box_size(bbox):\n",
    "    min_side_len = 64\n",
    "    x1 = bbox[0][0]\n",
    "    y1 = bbox[0][1]\n",
    "    x2 = bbox[1][0]\n",
    "    y2 = bbox[1][1]\n",
    "    \n",
    "    if (x2 - x1) < min_side_len:\n",
    "        expand_size = int(((min_side_len - (x2 - x1)) / 2) + 5)\n",
    "        x1 -= expand_size\n",
    "        x2 += expand_size\n",
    "        \n",
    "    if (y2 - y1) < min_side_len:\n",
    "        expand_size = int(((min_side_len - (y2 - y1)) / 2))\n",
    "        y1 -= expand_size\n",
    "        y2 += expand_size\n",
    "        \n",
    "    return ((x1, y1), (x2, y2))\n",
    "    \n",
    "def draw_labeled_bboxes(img, labels):\n",
    "    boxes_to_draw = []\n",
    "    # Iterate through all detected cars\n",
    "    for car_number in range(1, labels[1]+1):\n",
    "        # Find pixels with each car_number label value\n",
    "        nonzero = (labels[0] == car_number).nonzero()\n",
    "        # Identify x and y values of those pixels\n",
    "        nonzeroy = np.array(nonzero[0])\n",
    "        nonzerox = np.array(nonzero[1])\n",
    "        # Define a bounding box based on min/max x and y\n",
    "        bbox = ((np.min(nonzerox), np.min(nonzeroy)), (np.max(nonzerox), np.max(nonzeroy)))\n",
    "        bbox = uniform_box_size(bbox)\n",
    "        boxes_to_draw.append(bbox)\n",
    "        \n",
    "    boxes_to_draw = get_qualifying_bboxes(boxes_to_draw)\n",
    "\n",
    "    for bbox in boxes_to_draw:\n",
    "        cv2.rectangle(img, bbox[0], bbox[1], (0, 0, 255), 6)\n",
    "    \n",
    "    # Return the image\n",
    "    return img"
   ]
  },
  {
   "cell_type": "code",
   "execution_count": 24,
   "metadata": {
    "collapsed": false
   },
   "outputs": [
    {
     "ename": "IndentationError",
     "evalue": "expected an indented block (<ipython-input-24-89f9efc46bca>, line 19)",
     "output_type": "error",
     "traceback": [
      "\u001b[0;36m  File \u001b[0;32m\"<ipython-input-24-89f9efc46bca>\"\u001b[0;36m, line \u001b[0;32m19\u001b[0m\n\u001b[0;31m    last_n_frames.append(bboxes)\u001b[0m\n\u001b[0m    ^\u001b[0m\n\u001b[0;31mIndentationError\u001b[0m\u001b[0;31m:\u001b[0m expected an indented block\n"
     ]
    }
   ],
   "source": [
    "# Weed out false positives\n",
    "N = 3\n",
    "last_n_frames = []\n",
    "distance_threshold = 64 # pixels\n",
    "\n",
    "def get_qualifying_bboxes(bboxes):\n",
    "    #print(\"Frame #\", len(last_n_frames) + 1)\n",
    "    global last_n_frames\n",
    "    \n",
    "    selected_boxes = []\n",
    "    \n",
    "    for box in bboxes:\n",
    "        if qualifies_for_inclusion(box):\n",
    "            #log(\"Selecting..\", box)\n",
    "            selected_boxes.append(box)\n",
    "        else:\n",
    "            #log(\"Not Selecting..\", box)\n",
    "\n",
    "    last_n_frames.append(bboxes)\n",
    "    return selected_boxes\n",
    "    \n",
    "def qualifies_for_inclusion(box):\n",
    "    count = 0\n",
    "    \n",
    "    for frame_boxes in last_n_frames[-N:]:\n",
    "        for frame_box in frame_boxes:\n",
    "            d = get_distance(box, frame_box)\n",
    "#             print(\"========\")\n",
    "#             print(\"box1\", box)\n",
    "#             print(\"box2\", frame_box)\n",
    "#             print(\"distance\", d)\n",
    "#             print(\"========\")\n",
    "            if(d <= distance_threshold):\n",
    "                count += 1\n",
    "                continue # Go to next frame\n",
    "\n",
    "    if count == N:\n",
    "        return True\n",
    "\n",
    "    return False\n",
    "\n",
    "def get_distance(box1, box2):\n",
    "    centroid1 = get_centroid(box1)\n",
    "    centroid2 = get_centroid(box2)\n",
    "    \n",
    "    x1 = centroid1[0]\n",
    "    y1 = centroid1[1]\n",
    "    \n",
    "    x2 = centroid2[0]\n",
    "    y2 = centroid2[1]\n",
    "    \n",
    "    d = ((x2 - x1) ** 2) + ((y2 - y1) ** 2)\n",
    "    return int(math.sqrt(d))\n",
    "\n",
    "def get_centroid(box):\n",
    "    x1 = box[0][0]\n",
    "    y1 = box[0][1]\n",
    "    x2 = box[1][0]\n",
    "    y2 = box[1][1]\n",
    "    \n",
    "    x = ((x2 + x1) / 2)\n",
    "    y = ((y2 + y1) / 2)\n",
    "    \n",
    "    x = int(x)\n",
    "    y = int(y)\n",
    "    \n",
    "    return (x, y)"
   ]
  },
  {
   "cell_type": "code",
   "execution_count": 25,
   "metadata": {
    "collapsed": false,
    "scrolled": false
   },
   "outputs": [],
   "source": [
    "y_start_stop = [384, 640]\n",
    "x_start_stop = [672, None]\n",
    "\n",
    "def detect_and_draw(image):\n",
    "    heat = np.zeros_like(image[:,:,0]).astype(np.float)\n",
    "    draw_image = np.copy(image)\n",
    "    draw_image = np.copy(image)\n",
    "    all_windows = []\n",
    "    for scale_mult in [2, 2.5, 3]:\n",
    "        windows = slide_window(image, \n",
    "                           x_start_stop = x_start_stop, \n",
    "                           y_start_stop = y_start_stop, \n",
    "                           xy_window=(int(32* scale_mult), int(32 * scale_mult)),\n",
    "                           xy_overlap=(0.85, 0.85))\n",
    "        \n",
    "        if test_mode:\n",
    "            window_img = draw_boxes(draw_image, windows, color=(255, 0, 0), thick = 6)\n",
    "            print_image(window_img)\n",
    "        \n",
    "        all_windows += windows\n",
    "\n",
    "    hot_windows = search_windows(image, \n",
    "                                 all_windows, \n",
    "                                 svc, \n",
    "                                 X_scaler, \n",
    "                                 color_space = colorspace, \n",
    "                                 spatial_size = (spatial, spatial), \n",
    "                                 hist_bins = histbin, \n",
    "                                 orient = orient, \n",
    "                                 pix_per_cell = pix_per_cell, \n",
    "                                 cell_per_block = cell_per_block, \n",
    "                                 hog_channel = hog_channel, \n",
    "                                 spatial_feat = True, \n",
    "                                 hist_feat = True, \n",
    "                                 hog_feat = True)                       \n",
    "\n",
    "    heat = add_heat(heat, hot_windows)\n",
    "    \n",
    "    if test_mode:\n",
    "            print_image(heat)\n",
    "    \n",
    "    heat = apply_threshold(heat, 2)\n",
    "    heatmap = np.clip(heat, 0, 255)\n",
    "    \n",
    "    \n",
    "    # Find final boxes from heatmap using label function\n",
    "    labels = label(heatmap)\n",
    "    draw_img = draw_labeled_bboxes(np.copy(image), labels)\n",
    "    \n",
    "    if test_mode:\n",
    "            window_img = draw_boxes(draw_image, hot_windows, color=(0, 0, 255), thick = 4)\n",
    "            print_image(window_img)\n",
    "            \n",
    "    return draw_img\n",
    "\n",
    "test_mode = False\n",
    "if test_mode == True:\n",
    "    for image in test_images:\n",
    "        print(\"Running pipeline on image\")\n",
    "        image = mpimg.imread(image)\n",
    "        window_img = detect_and_draw(image)\n",
    "        print_image(window_img)\n",
    "        #break"
   ]
  },
  {
   "cell_type": "code",
   "execution_count": 26,
   "metadata": {
    "collapsed": false,
    "scrolled": false
   },
   "outputs": [
    {
     "name": "stdout",
     "output_type": "stream",
     "text": [
      "Frame # 503\n",
      "[MoviePy] >>>> Building video ./p5.mp4\n",
      "[MoviePy] Writing video ./p5.mp4\n"
     ]
    },
    {
     "name": "stderr",
     "output_type": "stream",
     "text": [
      "  0%|          | 1/1261 [00:18<6:34:30, 18.79s/it]"
     ]
    },
    {
     "name": "stdout",
     "output_type": "stream",
     "text": [
      "Frame # 504\n"
     ]
    },
    {
     "name": "stderr",
     "output_type": "stream",
     "text": [
      "\r",
      "  0%|          | 2/1261 [00:37<6:34:45, 18.81s/it]"
     ]
    },
    {
     "name": "stdout",
     "output_type": "stream",
     "text": [
      "Frame # 505\n"
     ]
    },
    {
     "name": "stderr",
     "output_type": "stream",
     "text": [
      "\r",
      "  0%|          | 3/1261 [00:56<6:33:43, 18.78s/it]"
     ]
    },
    {
     "name": "stdout",
     "output_type": "stream",
     "text": [
      "Frame # 506\n"
     ]
    },
    {
     "name": "stderr",
     "output_type": "stream",
     "text": [
      "\r",
      "  0%|          | 4/1261 [01:15<6:33:27, 18.78s/it]"
     ]
    },
    {
     "name": "stdout",
     "output_type": "stream",
     "text": [
      "Frame # 507\n"
     ]
    },
    {
     "name": "stderr",
     "output_type": "stream",
     "text": [
      "\r",
      "  0%|          | 5/1261 [01:33<6:33:28, 18.80s/it]"
     ]
    },
    {
     "name": "stdout",
     "output_type": "stream",
     "text": [
      "Frame # 508\n"
     ]
    },
    {
     "name": "stderr",
     "output_type": "stream",
     "text": [
      "\r",
      "  0%|          | 6/1261 [01:52<6:32:32, 18.77s/it]"
     ]
    },
    {
     "name": "stdout",
     "output_type": "stream",
     "text": [
      "Frame # 509\n"
     ]
    },
    {
     "name": "stderr",
     "output_type": "stream",
     "text": [
      "\r",
      "  1%|          | 7/1261 [02:11<6:31:43, 18.74s/it]"
     ]
    },
    {
     "name": "stdout",
     "output_type": "stream",
     "text": [
      "Frame # 510\n"
     ]
    },
    {
     "name": "stderr",
     "output_type": "stream",
     "text": [
      "\r",
      "  1%|          | 8/1261 [02:30<6:31:19, 18.74s/it]"
     ]
    },
    {
     "name": "stdout",
     "output_type": "stream",
     "text": [
      "Frame # 511\n"
     ]
    },
    {
     "name": "stderr",
     "output_type": "stream",
     "text": [
      "\r",
      "  1%|          | 9/1261 [02:48<6:30:26, 18.71s/it]"
     ]
    },
    {
     "name": "stdout",
     "output_type": "stream",
     "text": [
      "Frame # 512\n"
     ]
    },
    {
     "name": "stderr",
     "output_type": "stream",
     "text": [
      "\r",
      "  1%|          | 10/1261 [03:07<6:29:49, 18.70s/it]"
     ]
    },
    {
     "name": "stdout",
     "output_type": "stream",
     "text": [
      "Frame # 513\n"
     ]
    },
    {
     "name": "stderr",
     "output_type": "stream",
     "text": [
      "\r",
      "  1%|          | 11/1261 [03:26<6:29:29, 18.70s/it]"
     ]
    },
    {
     "name": "stdout",
     "output_type": "stream",
     "text": [
      "Frame # 514\n"
     ]
    },
    {
     "name": "stderr",
     "output_type": "stream",
     "text": [
      "\r",
      "  1%|          | 12/1261 [03:44<6:29:37, 18.72s/it]"
     ]
    },
    {
     "name": "stdout",
     "output_type": "stream",
     "text": [
      "Frame # 515\n"
     ]
    },
    {
     "name": "stderr",
     "output_type": "stream",
     "text": [
      "\r",
      "  1%|          | 13/1261 [04:03<6:29:10, 18.71s/it]"
     ]
    },
    {
     "name": "stdout",
     "output_type": "stream",
     "text": [
      "Frame # 516\n"
     ]
    },
    {
     "name": "stderr",
     "output_type": "stream",
     "text": [
      "\r",
      "  1%|          | 14/1261 [04:22<6:29:21, 18.73s/it]"
     ]
    },
    {
     "name": "stdout",
     "output_type": "stream",
     "text": [
      "Frame # 517\n"
     ]
    },
    {
     "name": "stderr",
     "output_type": "stream",
     "text": [
      "\r",
      "  1%|          | 15/1261 [04:41<6:28:43, 18.72s/it]"
     ]
    },
    {
     "name": "stdout",
     "output_type": "stream",
     "text": [
      "Frame # 518\n"
     ]
    },
    {
     "name": "stderr",
     "output_type": "stream",
     "text": [
      "\r",
      "  1%|▏         | 16/1261 [04:59<6:28:42, 18.73s/it]"
     ]
    },
    {
     "name": "stdout",
     "output_type": "stream",
     "text": [
      "Frame # 519\n"
     ]
    },
    {
     "name": "stderr",
     "output_type": "stream",
     "text": [
      "\r",
      "  1%|▏         | 17/1261 [05:18<6:29:05, 18.77s/it]"
     ]
    },
    {
     "name": "stdout",
     "output_type": "stream",
     "text": [
      "Frame # 520\n"
     ]
    },
    {
     "name": "stderr",
     "output_type": "stream",
     "text": [
      "\r",
      "  1%|▏         | 18/1261 [05:37<6:29:32, 18.80s/it]"
     ]
    },
    {
     "name": "stdout",
     "output_type": "stream",
     "text": [
      "Frame # 521\n"
     ]
    },
    {
     "name": "stderr",
     "output_type": "stream",
     "text": [
      "\r",
      "  2%|▏         | 19/1261 [05:56<6:29:01, 18.79s/it]"
     ]
    },
    {
     "name": "stdout",
     "output_type": "stream",
     "text": [
      "Frame # 522\n"
     ]
    },
    {
     "name": "stderr",
     "output_type": "stream",
     "text": [
      "\r",
      "  2%|▏         | 20/1261 [06:14<6:27:21, 18.73s/it]"
     ]
    },
    {
     "name": "stdout",
     "output_type": "stream",
     "text": [
      "Frame # 523\n"
     ]
    },
    {
     "name": "stderr",
     "output_type": "stream",
     "text": [
      "\r",
      "  2%|▏         | 21/1261 [06:33<6:26:15, 18.69s/it]"
     ]
    },
    {
     "name": "stdout",
     "output_type": "stream",
     "text": [
      "Frame # 524\n"
     ]
    },
    {
     "name": "stderr",
     "output_type": "stream",
     "text": [
      "\r",
      "  2%|▏         | 22/1261 [06:52<6:26:11, 18.70s/it]"
     ]
    },
    {
     "name": "stdout",
     "output_type": "stream",
     "text": [
      "Frame # 525\n"
     ]
    },
    {
     "name": "stderr",
     "output_type": "stream",
     "text": [
      "\r",
      "  2%|▏         | 23/1261 [07:10<6:26:20, 18.72s/it]"
     ]
    },
    {
     "name": "stdout",
     "output_type": "stream",
     "text": [
      "Frame # 526\n"
     ]
    },
    {
     "name": "stderr",
     "output_type": "stream",
     "text": [
      "\r",
      "  2%|▏         | 24/1261 [07:29<6:26:24, 18.74s/it]"
     ]
    },
    {
     "name": "stdout",
     "output_type": "stream",
     "text": [
      "Frame # 527\n"
     ]
    },
    {
     "name": "stderr",
     "output_type": "stream",
     "text": [
      "\r",
      "  2%|▏         | 25/1261 [07:48<6:25:57, 18.74s/it]"
     ]
    },
    {
     "name": "stdout",
     "output_type": "stream",
     "text": [
      "Frame # 528\n"
     ]
    },
    {
     "name": "stderr",
     "output_type": "stream",
     "text": [
      "\r",
      "  2%|▏         | 26/1261 [08:07<6:26:05, 18.76s/it]"
     ]
    },
    {
     "name": "stdout",
     "output_type": "stream",
     "text": [
      "Frame # 529\n"
     ]
    },
    {
     "name": "stderr",
     "output_type": "stream",
     "text": [
      "\r",
      "  2%|▏         | 27/1261 [08:26<6:25:43, 18.75s/it]"
     ]
    },
    {
     "name": "stdout",
     "output_type": "stream",
     "text": [
      "Frame # 530\n"
     ]
    },
    {
     "name": "stderr",
     "output_type": "stream",
     "text": [
      "\r",
      "  2%|▏         | 28/1261 [08:44<6:24:56, 18.73s/it]"
     ]
    },
    {
     "name": "stdout",
     "output_type": "stream",
     "text": [
      "Frame # 531\n"
     ]
    },
    {
     "name": "stderr",
     "output_type": "stream",
     "text": [
      "\r",
      "  2%|▏         | 29/1261 [09:03<6:24:50, 18.74s/it]"
     ]
    },
    {
     "name": "stdout",
     "output_type": "stream",
     "text": [
      "Frame # 532\n"
     ]
    },
    {
     "name": "stderr",
     "output_type": "stream",
     "text": [
      "\r",
      "  2%|▏         | 30/1261 [09:22<6:24:37, 18.75s/it]"
     ]
    },
    {
     "name": "stdout",
     "output_type": "stream",
     "text": [
      "Frame # 533\n"
     ]
    },
    {
     "name": "stderr",
     "output_type": "stream",
     "text": [
      "\r",
      "  2%|▏         | 31/1261 [09:41<6:24:43, 18.77s/it]"
     ]
    },
    {
     "name": "stdout",
     "output_type": "stream",
     "text": [
      "Frame # 534\n"
     ]
    },
    {
     "name": "stderr",
     "output_type": "stream",
     "text": [
      "\r",
      "  3%|▎         | 32/1261 [09:59<6:23:41, 18.73s/it]"
     ]
    },
    {
     "name": "stdout",
     "output_type": "stream",
     "text": [
      "Frame # 535\n"
     ]
    },
    {
     "name": "stderr",
     "output_type": "stream",
     "text": [
      "\r",
      "  3%|▎         | 33/1261 [10:18<6:22:58, 18.71s/it]"
     ]
    },
    {
     "name": "stdout",
     "output_type": "stream",
     "text": [
      "Frame # 536\n"
     ]
    },
    {
     "name": "stderr",
     "output_type": "stream",
     "text": [
      "\r",
      "  3%|▎         | 34/1261 [10:37<6:22:25, 18.70s/it]"
     ]
    },
    {
     "name": "stdout",
     "output_type": "stream",
     "text": [
      "Frame # 537\n"
     ]
    },
    {
     "name": "stderr",
     "output_type": "stream",
     "text": [
      "\r",
      "  3%|▎         | 35/1261 [10:55<6:21:17, 18.66s/it]"
     ]
    },
    {
     "name": "stdout",
     "output_type": "stream",
     "text": [
      "Frame # 538\n"
     ]
    },
    {
     "name": "stderr",
     "output_type": "stream",
     "text": [
      "\r",
      "  3%|▎         | 36/1261 [11:14<6:21:30, 18.69s/it]"
     ]
    },
    {
     "name": "stdout",
     "output_type": "stream",
     "text": [
      "Frame # 539\n"
     ]
    },
    {
     "name": "stderr",
     "output_type": "stream",
     "text": [
      "\r",
      "  3%|▎         | 37/1261 [11:33<6:21:35, 18.71s/it]"
     ]
    },
    {
     "name": "stdout",
     "output_type": "stream",
     "text": [
      "Frame # 540\n"
     ]
    },
    {
     "name": "stderr",
     "output_type": "stream",
     "text": [
      "\r",
      "  3%|▎         | 38/1261 [11:51<6:21:39, 18.72s/it]"
     ]
    },
    {
     "name": "stdout",
     "output_type": "stream",
     "text": [
      "Frame # 541\n"
     ]
    },
    {
     "name": "stderr",
     "output_type": "stream",
     "text": [
      "\r",
      "  3%|▎         | 39/1261 [12:10<6:21:50, 18.75s/it]"
     ]
    },
    {
     "name": "stdout",
     "output_type": "stream",
     "text": [
      "Frame # 542\n"
     ]
    },
    {
     "name": "stderr",
     "output_type": "stream",
     "text": [
      "\r",
      "  3%|▎         | 40/1261 [12:29<6:21:14, 18.73s/it]"
     ]
    },
    {
     "name": "stdout",
     "output_type": "stream",
     "text": [
      "Frame # 543\n"
     ]
    },
    {
     "name": "stderr",
     "output_type": "stream",
     "text": [
      "\r",
      "  3%|▎         | 41/1261 [12:48<6:21:17, 18.75s/it]"
     ]
    },
    {
     "name": "stdout",
     "output_type": "stream",
     "text": [
      "Frame # 544\n"
     ]
    },
    {
     "name": "stderr",
     "output_type": "stream",
     "text": [
      "\r",
      "  3%|▎         | 42/1261 [13:06<6:21:11, 18.76s/it]"
     ]
    },
    {
     "name": "stdout",
     "output_type": "stream",
     "text": [
      "Frame # 545\n"
     ]
    },
    {
     "name": "stderr",
     "output_type": "stream",
     "text": [
      "\r",
      "  3%|▎         | 43/1261 [13:25<6:20:27, 18.74s/it]"
     ]
    },
    {
     "name": "stdout",
     "output_type": "stream",
     "text": [
      "Frame # 546\n"
     ]
    },
    {
     "name": "stderr",
     "output_type": "stream",
     "text": [
      "\r",
      "  3%|▎         | 44/1261 [13:44<6:20:49, 18.78s/it]"
     ]
    },
    {
     "name": "stdout",
     "output_type": "stream",
     "text": [
      "Frame # 547\n"
     ]
    },
    {
     "name": "stderr",
     "output_type": "stream",
     "text": [
      "\r",
      "  4%|▎         | 45/1261 [14:03<6:20:15, 18.76s/it]"
     ]
    },
    {
     "name": "stdout",
     "output_type": "stream",
     "text": [
      "Frame # 548\n"
     ]
    },
    {
     "name": "stderr",
     "output_type": "stream",
     "text": [
      "\r",
      "  4%|▎         | 46/1261 [14:21<6:19:30, 18.74s/it]"
     ]
    },
    {
     "name": "stdout",
     "output_type": "stream",
     "text": [
      "Frame # 549\n"
     ]
    },
    {
     "name": "stderr",
     "output_type": "stream",
     "text": [
      "\r",
      "  4%|▎         | 47/1261 [14:40<6:19:10, 18.74s/it]"
     ]
    },
    {
     "name": "stdout",
     "output_type": "stream",
     "text": [
      "Frame # 550\n"
     ]
    },
    {
     "name": "stderr",
     "output_type": "stream",
     "text": [
      "\r",
      "  4%|▍         | 48/1261 [14:59<6:18:25, 18.72s/it]"
     ]
    },
    {
     "name": "stdout",
     "output_type": "stream",
     "text": [
      "Frame # 551\n"
     ]
    },
    {
     "name": "stderr",
     "output_type": "stream",
     "text": [
      "\r",
      "  4%|▍         | 49/1261 [15:18<6:17:49, 18.70s/it]"
     ]
    },
    {
     "name": "stdout",
     "output_type": "stream",
     "text": [
      "Frame # 552\n"
     ]
    },
    {
     "name": "stderr",
     "output_type": "stream",
     "text": [
      "\r",
      "  4%|▍         | 50/1261 [15:36<6:17:54, 18.72s/it]"
     ]
    },
    {
     "name": "stdout",
     "output_type": "stream",
     "text": [
      "Frame # 553\n"
     ]
    },
    {
     "name": "stderr",
     "output_type": "stream",
     "text": [
      "\r",
      "  4%|▍         | 51/1261 [15:55<6:18:16, 18.76s/it]"
     ]
    },
    {
     "name": "stdout",
     "output_type": "stream",
     "text": [
      "Frame # 554\n"
     ]
    },
    {
     "name": "stderr",
     "output_type": "stream",
     "text": [
      "\r",
      "  4%|▍         | 52/1261 [16:14<6:18:25, 18.78s/it]"
     ]
    },
    {
     "name": "stdout",
     "output_type": "stream",
     "text": [
      "Frame # 555\n"
     ]
    },
    {
     "name": "stderr",
     "output_type": "stream",
     "text": [
      "\r",
      "  4%|▍         | 53/1261 [16:33<6:18:11, 18.78s/it]"
     ]
    },
    {
     "name": "stdout",
     "output_type": "stream",
     "text": [
      "Frame # 556\n"
     ]
    },
    {
     "name": "stderr",
     "output_type": "stream",
     "text": [
      "\r",
      "  4%|▍         | 54/1261 [16:51<6:17:35, 18.77s/it]"
     ]
    },
    {
     "name": "stdout",
     "output_type": "stream",
     "text": [
      "Frame # 557\n"
     ]
    },
    {
     "name": "stderr",
     "output_type": "stream",
     "text": [
      "\r",
      "  4%|▍         | 55/1261 [17:10<6:17:11, 18.77s/it]"
     ]
    },
    {
     "name": "stdout",
     "output_type": "stream",
     "text": [
      "Frame # 558\n"
     ]
    },
    {
     "name": "stderr",
     "output_type": "stream",
     "text": [
      "\r",
      "  4%|▍         | 56/1261 [17:29<6:17:04, 18.78s/it]"
     ]
    },
    {
     "name": "stdout",
     "output_type": "stream",
     "text": [
      "Frame # 559\n"
     ]
    },
    {
     "name": "stderr",
     "output_type": "stream",
     "text": [
      "\r",
      "  5%|▍         | 57/1261 [17:48<6:16:31, 18.76s/it]"
     ]
    },
    {
     "name": "stdout",
     "output_type": "stream",
     "text": [
      "Frame # 560\n"
     ]
    },
    {
     "name": "stderr",
     "output_type": "stream",
     "text": [
      "\r",
      "  5%|▍         | 58/1261 [18:07<6:17:17, 18.82s/it]"
     ]
    },
    {
     "name": "stdout",
     "output_type": "stream",
     "text": [
      "Frame # 561\n"
     ]
    },
    {
     "name": "stderr",
     "output_type": "stream",
     "text": [
      "\r",
      "  5%|▍         | 59/1261 [18:26<6:17:14, 18.83s/it]"
     ]
    },
    {
     "name": "stdout",
     "output_type": "stream",
     "text": [
      "Frame # 562\n"
     ]
    },
    {
     "name": "stderr",
     "output_type": "stream",
     "text": [
      "\r",
      "  5%|▍         | 60/1261 [18:44<6:16:02, 18.79s/it]"
     ]
    },
    {
     "name": "stdout",
     "output_type": "stream",
     "text": [
      "Frame # 563\n"
     ]
    },
    {
     "name": "stderr",
     "output_type": "stream",
     "text": [
      "\r",
      "  5%|▍         | 61/1261 [19:03<6:15:46, 18.79s/it]"
     ]
    },
    {
     "name": "stdout",
     "output_type": "stream",
     "text": [
      "Frame # 564\n"
     ]
    },
    {
     "name": "stderr",
     "output_type": "stream",
     "text": [
      "\r",
      "  5%|▍         | 62/1261 [19:22<6:15:28, 18.79s/it]"
     ]
    },
    {
     "name": "stdout",
     "output_type": "stream",
     "text": [
      "Frame # 565\n"
     ]
    },
    {
     "name": "stderr",
     "output_type": "stream",
     "text": [
      "\r",
      "  5%|▍         | 63/1261 [19:41<6:15:05, 18.79s/it]"
     ]
    },
    {
     "name": "stdout",
     "output_type": "stream",
     "text": [
      "Frame # 566\n"
     ]
    },
    {
     "name": "stderr",
     "output_type": "stream",
     "text": [
      "\r",
      "  5%|▌         | 64/1261 [19:59<6:14:33, 18.77s/it]"
     ]
    },
    {
     "name": "stdout",
     "output_type": "stream",
     "text": [
      "Frame # 567\n"
     ]
    },
    {
     "name": "stderr",
     "output_type": "stream",
     "text": [
      "\r",
      "  5%|▌         | 65/1261 [20:18<6:14:04, 18.77s/it]"
     ]
    },
    {
     "name": "stdout",
     "output_type": "stream",
     "text": [
      "Frame # 568\n"
     ]
    },
    {
     "name": "stderr",
     "output_type": "stream",
     "text": [
      "\r",
      "  5%|▌         | 66/1261 [20:37<6:13:51, 18.77s/it]"
     ]
    },
    {
     "name": "stdout",
     "output_type": "stream",
     "text": [
      "Frame # 569\n"
     ]
    },
    {
     "name": "stderr",
     "output_type": "stream",
     "text": [
      "\r",
      "  5%|▌         | 67/1261 [20:56<6:13:52, 18.79s/it]"
     ]
    },
    {
     "name": "stdout",
     "output_type": "stream",
     "text": [
      "Frame # 570\n"
     ]
    },
    {
     "name": "stderr",
     "output_type": "stream",
     "text": [
      "\r",
      "  5%|▌         | 68/1261 [21:14<6:13:06, 18.76s/it]"
     ]
    },
    {
     "name": "stdout",
     "output_type": "stream",
     "text": [
      "Frame # 571\n"
     ]
    },
    {
     "name": "stderr",
     "output_type": "stream",
     "text": [
      "\r",
      "  5%|▌         | 69/1261 [21:33<6:13:13, 18.79s/it]"
     ]
    },
    {
     "name": "stdout",
     "output_type": "stream",
     "text": [
      "Frame # 572\n"
     ]
    },
    {
     "name": "stderr",
     "output_type": "stream",
     "text": [
      "\r",
      "  6%|▌         | 70/1261 [21:52<6:13:15, 18.80s/it]"
     ]
    },
    {
     "name": "stdout",
     "output_type": "stream",
     "text": [
      "Frame # 573\n"
     ]
    },
    {
     "name": "stderr",
     "output_type": "stream",
     "text": [
      "\r",
      "  6%|▌         | 71/1261 [22:11<6:12:27, 18.78s/it]"
     ]
    },
    {
     "name": "stdout",
     "output_type": "stream",
     "text": [
      "Frame # 574\n"
     ]
    },
    {
     "name": "stderr",
     "output_type": "stream",
     "text": [
      "\r",
      "  6%|▌         | 72/1261 [22:30<6:11:40, 18.76s/it]"
     ]
    },
    {
     "name": "stdout",
     "output_type": "stream",
     "text": [
      "Frame # 575\n"
     ]
    },
    {
     "name": "stderr",
     "output_type": "stream",
     "text": [
      "\r",
      "  6%|▌         | 73/1261 [22:48<6:11:38, 18.77s/it]"
     ]
    },
    {
     "name": "stdout",
     "output_type": "stream",
     "text": [
      "Frame # 576\n"
     ]
    },
    {
     "name": "stderr",
     "output_type": "stream",
     "text": [
      "\r",
      "  6%|▌         | 74/1261 [23:07<6:10:53, 18.75s/it]"
     ]
    },
    {
     "name": "stdout",
     "output_type": "stream",
     "text": [
      "Frame # 577\n"
     ]
    },
    {
     "name": "stderr",
     "output_type": "stream",
     "text": [
      "\r",
      "  6%|▌         | 75/1261 [23:26<6:10:25, 18.74s/it]"
     ]
    },
    {
     "name": "stdout",
     "output_type": "stream",
     "text": [
      "Frame # 578\n"
     ]
    },
    {
     "name": "stderr",
     "output_type": "stream",
     "text": [
      "\r",
      "  6%|▌         | 76/1261 [23:45<6:10:45, 18.77s/it]"
     ]
    },
    {
     "name": "stdout",
     "output_type": "stream",
     "text": [
      "Frame # 579\n"
     ]
    },
    {
     "name": "stderr",
     "output_type": "stream",
     "text": [
      "\r",
      "  6%|▌         | 77/1261 [24:04<6:11:20, 18.82s/it]"
     ]
    },
    {
     "name": "stdout",
     "output_type": "stream",
     "text": [
      "Frame # 580\n"
     ]
    },
    {
     "name": "stderr",
     "output_type": "stream",
     "text": [
      "\r",
      "  6%|▌         | 78/1261 [24:22<6:11:03, 18.82s/it]"
     ]
    },
    {
     "name": "stdout",
     "output_type": "stream",
     "text": [
      "Frame # 581\n"
     ]
    },
    {
     "name": "stderr",
     "output_type": "stream",
     "text": [
      "\r",
      "  6%|▋         | 79/1261 [24:41<6:11:10, 18.84s/it]"
     ]
    },
    {
     "name": "stdout",
     "output_type": "stream",
     "text": [
      "Frame # 582\n"
     ]
    },
    {
     "name": "stderr",
     "output_type": "stream",
     "text": [
      "\r",
      "  6%|▋         | 80/1261 [25:00<6:09:34, 18.78s/it]"
     ]
    },
    {
     "name": "stdout",
     "output_type": "stream",
     "text": [
      "Frame # 583\n"
     ]
    },
    {
     "name": "stderr",
     "output_type": "stream",
     "text": [
      "\r",
      "  6%|▋         | 81/1261 [25:18<6:07:08, 18.67s/it]"
     ]
    },
    {
     "name": "stdout",
     "output_type": "stream",
     "text": [
      "Frame # 584\n"
     ]
    },
    {
     "name": "stderr",
     "output_type": "stream",
     "text": [
      "\r",
      "  7%|▋         | 82/1261 [25:37<6:07:03, 18.68s/it]"
     ]
    },
    {
     "name": "stdout",
     "output_type": "stream",
     "text": [
      "Frame # 585\n"
     ]
    },
    {
     "name": "stderr",
     "output_type": "stream",
     "text": [
      "\r",
      "  7%|▋         | 83/1261 [25:56<6:06:44, 18.68s/it]"
     ]
    },
    {
     "name": "stdout",
     "output_type": "stream",
     "text": [
      "Frame # 586\n"
     ]
    },
    {
     "name": "stderr",
     "output_type": "stream",
     "text": [
      "\r",
      "  7%|▋         | 84/1261 [26:14<6:06:42, 18.69s/it]"
     ]
    },
    {
     "name": "stdout",
     "output_type": "stream",
     "text": [
      "Frame # 587\n"
     ]
    },
    {
     "name": "stderr",
     "output_type": "stream",
     "text": [
      "\r",
      "  7%|▋         | 85/1261 [26:33<6:06:03, 18.68s/it]"
     ]
    },
    {
     "name": "stdout",
     "output_type": "stream",
     "text": [
      "Frame # 588\n"
     ]
    },
    {
     "name": "stderr",
     "output_type": "stream",
     "text": [
      "\r",
      "  7%|▋         | 86/1261 [26:52<6:05:56, 18.69s/it]"
     ]
    },
    {
     "name": "stdout",
     "output_type": "stream",
     "text": [
      "Frame # 589\n"
     ]
    },
    {
     "name": "stderr",
     "output_type": "stream",
     "text": [
      "\r",
      "  7%|▋         | 87/1261 [27:10<6:05:48, 18.70s/it]"
     ]
    },
    {
     "name": "stdout",
     "output_type": "stream",
     "text": [
      "Frame # 590\n"
     ]
    },
    {
     "name": "stderr",
     "output_type": "stream",
     "text": [
      "\r",
      "  7%|▋         | 88/1261 [27:29<6:05:49, 18.71s/it]"
     ]
    },
    {
     "name": "stdout",
     "output_type": "stream",
     "text": [
      "Frame # 591\n"
     ]
    },
    {
     "name": "stderr",
     "output_type": "stream",
     "text": [
      "\r",
      "  7%|▋         | 89/1261 [27:48<6:05:50, 18.73s/it]"
     ]
    },
    {
     "name": "stdout",
     "output_type": "stream",
     "text": [
      "Frame # 592\n"
     ]
    },
    {
     "name": "stderr",
     "output_type": "stream",
     "text": [
      "\r",
      "  7%|▋         | 90/1261 [28:07<6:05:15, 18.71s/it]"
     ]
    },
    {
     "name": "stdout",
     "output_type": "stream",
     "text": [
      "Frame # 593\n"
     ]
    },
    {
     "name": "stderr",
     "output_type": "stream",
     "text": [
      "\r",
      "  7%|▋         | 91/1261 [28:25<6:04:39, 18.70s/it]"
     ]
    },
    {
     "name": "stdout",
     "output_type": "stream",
     "text": [
      "Frame # 594\n"
     ]
    },
    {
     "name": "stderr",
     "output_type": "stream",
     "text": [
      "\r",
      "  7%|▋         | 92/1261 [28:44<6:03:58, 18.68s/it]"
     ]
    },
    {
     "name": "stdout",
     "output_type": "stream",
     "text": [
      "Frame # 595\n"
     ]
    },
    {
     "name": "stderr",
     "output_type": "stream",
     "text": [
      "\r",
      "  7%|▋         | 93/1261 [29:03<6:03:17, 18.66s/it]"
     ]
    },
    {
     "name": "stdout",
     "output_type": "stream",
     "text": [
      "Frame # 596\n"
     ]
    },
    {
     "name": "stderr",
     "output_type": "stream",
     "text": [
      "\r",
      "  7%|▋         | 94/1261 [29:21<6:02:54, 18.66s/it]"
     ]
    },
    {
     "name": "stdout",
     "output_type": "stream",
     "text": [
      "Frame # 597\n"
     ]
    },
    {
     "name": "stderr",
     "output_type": "stream",
     "text": [
      "\r",
      "  8%|▊         | 95/1261 [29:40<6:02:15, 18.64s/it]"
     ]
    },
    {
     "name": "stdout",
     "output_type": "stream",
     "text": [
      "Frame # 598\n"
     ]
    },
    {
     "name": "stderr",
     "output_type": "stream",
     "text": [
      "\r",
      "  8%|▊         | 96/1261 [29:58<6:01:51, 18.64s/it]"
     ]
    },
    {
     "name": "stdout",
     "output_type": "stream",
     "text": [
      "Frame # 599\n"
     ]
    },
    {
     "name": "stderr",
     "output_type": "stream",
     "text": [
      "\r",
      "  8%|▊         | 97/1261 [30:17<6:01:38, 18.64s/it]"
     ]
    },
    {
     "name": "stdout",
     "output_type": "stream",
     "text": [
      "Frame # 600\n"
     ]
    },
    {
     "name": "stderr",
     "output_type": "stream",
     "text": [
      "\r",
      "  8%|▊         | 98/1261 [30:36<6:01:22, 18.64s/it]"
     ]
    },
    {
     "name": "stdout",
     "output_type": "stream",
     "text": [
      "Frame # 601\n"
     ]
    },
    {
     "name": "stderr",
     "output_type": "stream",
     "text": [
      "\r",
      "  8%|▊         | 99/1261 [30:55<6:01:36, 18.67s/it]"
     ]
    },
    {
     "name": "stdout",
     "output_type": "stream",
     "text": [
      "Frame # 602\n"
     ]
    },
    {
     "name": "stderr",
     "output_type": "stream",
     "text": [
      "\r",
      "  8%|▊         | 100/1261 [31:13<6:01:17, 18.67s/it]"
     ]
    },
    {
     "name": "stdout",
     "output_type": "stream",
     "text": [
      "Frame # 603\n"
     ]
    },
    {
     "name": "stderr",
     "output_type": "stream",
     "text": [
      "\r",
      "  8%|▊         | 101/1261 [31:32<6:01:33, 18.70s/it]"
     ]
    },
    {
     "name": "stdout",
     "output_type": "stream",
     "text": [
      "Frame # 604\n"
     ]
    },
    {
     "name": "stderr",
     "output_type": "stream",
     "text": [
      "\r",
      "  8%|▊         | 102/1261 [31:51<6:01:24, 18.71s/it]"
     ]
    },
    {
     "name": "stdout",
     "output_type": "stream",
     "text": [
      "Frame # 605\n"
     ]
    },
    {
     "name": "stderr",
     "output_type": "stream",
     "text": [
      "\r",
      "  8%|▊         | 103/1261 [32:09<6:01:20, 18.72s/it]"
     ]
    },
    {
     "name": "stdout",
     "output_type": "stream",
     "text": [
      "Frame # 606\n"
     ]
    },
    {
     "name": "stderr",
     "output_type": "stream",
     "text": [
      "\r",
      "  8%|▊         | 104/1261 [32:28<6:00:57, 18.72s/it]"
     ]
    },
    {
     "name": "stdout",
     "output_type": "stream",
     "text": [
      "Frame # 607\n"
     ]
    },
    {
     "name": "stderr",
     "output_type": "stream",
     "text": [
      "\r",
      "  8%|▊         | 105/1261 [32:47<6:01:21, 18.76s/it]"
     ]
    },
    {
     "name": "stdout",
     "output_type": "stream",
     "text": [
      "Frame # 608\n"
     ]
    },
    {
     "name": "stderr",
     "output_type": "stream",
     "text": [
      "\r",
      "  8%|▊         | 106/1261 [33:06<6:00:24, 18.72s/it]"
     ]
    },
    {
     "name": "stdout",
     "output_type": "stream",
     "text": [
      "Frame # 609\n"
     ]
    },
    {
     "name": "stderr",
     "output_type": "stream",
     "text": [
      "\r",
      "  8%|▊         | 107/1261 [33:24<6:00:33, 18.75s/it]"
     ]
    },
    {
     "name": "stdout",
     "output_type": "stream",
     "text": [
      "Frame # 610\n"
     ]
    },
    {
     "name": "stderr",
     "output_type": "stream",
     "text": [
      "\r",
      "  9%|▊         | 108/1261 [33:43<6:00:38, 18.77s/it]"
     ]
    },
    {
     "name": "stdout",
     "output_type": "stream",
     "text": [
      "Frame # 611\n"
     ]
    },
    {
     "name": "stderr",
     "output_type": "stream",
     "text": [
      "\r",
      "  9%|▊         | 109/1261 [34:02<6:00:10, 18.76s/it]"
     ]
    },
    {
     "name": "stdout",
     "output_type": "stream",
     "text": [
      "Frame # 612\n"
     ]
    },
    {
     "name": "stderr",
     "output_type": "stream",
     "text": [
      "\r",
      "  9%|▊         | 110/1261 [34:21<5:59:58, 18.76s/it]"
     ]
    },
    {
     "name": "stdout",
     "output_type": "stream",
     "text": [
      "Frame # 613\n"
     ]
    },
    {
     "name": "stderr",
     "output_type": "stream",
     "text": [
      "\r",
      "  9%|▉         | 111/1261 [34:39<5:59:04, 18.73s/it]"
     ]
    },
    {
     "name": "stdout",
     "output_type": "stream",
     "text": [
      "Frame # 614\n"
     ]
    },
    {
     "name": "stderr",
     "output_type": "stream",
     "text": [
      "\r",
      "  9%|▉         | 112/1261 [34:58<5:58:25, 18.72s/it]"
     ]
    },
    {
     "name": "stdout",
     "output_type": "stream",
     "text": [
      "Frame # 615\n"
     ]
    },
    {
     "name": "stderr",
     "output_type": "stream",
     "text": [
      "\r",
      "  9%|▉         | 113/1261 [35:17<5:58:12, 18.72s/it]"
     ]
    },
    {
     "name": "stdout",
     "output_type": "stream",
     "text": [
      "Frame # 616\n"
     ]
    },
    {
     "name": "stderr",
     "output_type": "stream",
     "text": [
      "\r",
      "  9%|▉         | 114/1261 [35:36<5:58:47, 18.77s/it]"
     ]
    },
    {
     "name": "stdout",
     "output_type": "stream",
     "text": [
      "Frame # 617\n"
     ]
    },
    {
     "name": "stderr",
     "output_type": "stream",
     "text": [
      "\r",
      "  9%|▉         | 115/1261 [35:54<5:57:53, 18.74s/it]"
     ]
    },
    {
     "name": "stdout",
     "output_type": "stream",
     "text": [
      "Frame # 618\n"
     ]
    },
    {
     "name": "stderr",
     "output_type": "stream",
     "text": [
      "\r",
      "  9%|▉         | 116/1261 [36:13<5:57:46, 18.75s/it]"
     ]
    },
    {
     "name": "stdout",
     "output_type": "stream",
     "text": [
      "Frame # 619\n"
     ]
    },
    {
     "name": "stderr",
     "output_type": "stream",
     "text": [
      "\r",
      "  9%|▉         | 117/1261 [36:32<5:57:18, 18.74s/it]"
     ]
    },
    {
     "name": "stdout",
     "output_type": "stream",
     "text": [
      "Frame # 620\n"
     ]
    },
    {
     "name": "stderr",
     "output_type": "stream",
     "text": [
      "\r",
      "  9%|▉         | 118/1261 [36:51<5:56:51, 18.73s/it]"
     ]
    },
    {
     "name": "stdout",
     "output_type": "stream",
     "text": [
      "Frame # 621\n"
     ]
    },
    {
     "name": "stderr",
     "output_type": "stream",
     "text": [
      "\r",
      "  9%|▉         | 119/1261 [37:09<5:56:22, 18.72s/it]"
     ]
    },
    {
     "name": "stdout",
     "output_type": "stream",
     "text": [
      "Frame # 622\n"
     ]
    },
    {
     "name": "stderr",
     "output_type": "stream",
     "text": [
      "\r",
      " 10%|▉         | 120/1261 [37:28<5:55:44, 18.71s/it]"
     ]
    },
    {
     "name": "stdout",
     "output_type": "stream",
     "text": [
      "Frame # 623\n"
     ]
    },
    {
     "name": "stderr",
     "output_type": "stream",
     "text": [
      "\r",
      " 10%|▉         | 121/1261 [37:47<5:55:38, 18.72s/it]"
     ]
    },
    {
     "name": "stdout",
     "output_type": "stream",
     "text": [
      "Frame # 624\n"
     ]
    },
    {
     "name": "stderr",
     "output_type": "stream",
     "text": [
      "\r",
      " 10%|▉         | 122/1261 [38:05<5:54:27, 18.67s/it]"
     ]
    },
    {
     "name": "stdout",
     "output_type": "stream",
     "text": [
      "Frame # 625\n"
     ]
    },
    {
     "name": "stderr",
     "output_type": "stream",
     "text": [
      "\r",
      " 10%|▉         | 123/1261 [38:24<5:53:34, 18.64s/it]"
     ]
    },
    {
     "name": "stdout",
     "output_type": "stream",
     "text": [
      "Frame # 626\n"
     ]
    },
    {
     "name": "stderr",
     "output_type": "stream",
     "text": [
      "\r",
      " 10%|▉         | 124/1261 [38:42<5:53:18, 18.64s/it]"
     ]
    },
    {
     "name": "stdout",
     "output_type": "stream",
     "text": [
      "Frame # 627\n"
     ]
    },
    {
     "name": "stderr",
     "output_type": "stream",
     "text": [
      "\r",
      " 10%|▉         | 125/1261 [39:01<5:53:03, 18.65s/it]"
     ]
    },
    {
     "name": "stdout",
     "output_type": "stream",
     "text": [
      "Frame # 628\n"
     ]
    },
    {
     "name": "stderr",
     "output_type": "stream",
     "text": [
      "\r",
      " 10%|▉         | 126/1261 [39:20<5:53:09, 18.67s/it]"
     ]
    },
    {
     "name": "stdout",
     "output_type": "stream",
     "text": [
      "Frame # 629\n"
     ]
    },
    {
     "name": "stderr",
     "output_type": "stream",
     "text": [
      "\r",
      " 10%|█         | 127/1261 [39:39<5:53:55, 18.73s/it]"
     ]
    },
    {
     "name": "stdout",
     "output_type": "stream",
     "text": [
      "Frame # 630\n"
     ]
    },
    {
     "name": "stderr",
     "output_type": "stream",
     "text": [
      "\r",
      " 10%|█         | 128/1261 [39:57<5:53:47, 18.74s/it]"
     ]
    },
    {
     "name": "stdout",
     "output_type": "stream",
     "text": [
      "Frame # 631\n"
     ]
    },
    {
     "name": "stderr",
     "output_type": "stream",
     "text": [
      "\r",
      " 10%|█         | 129/1261 [40:16<5:53:05, 18.71s/it]"
     ]
    },
    {
     "name": "stdout",
     "output_type": "stream",
     "text": [
      "Frame # 632\n"
     ]
    },
    {
     "name": "stderr",
     "output_type": "stream",
     "text": [
      "\r",
      " 10%|█         | 130/1261 [40:35<5:52:23, 18.69s/it]"
     ]
    },
    {
     "name": "stdout",
     "output_type": "stream",
     "text": [
      "Frame # 633\n"
     ]
    },
    {
     "name": "stderr",
     "output_type": "stream",
     "text": [
      "\r",
      " 10%|█         | 131/1261 [40:53<5:52:08, 18.70s/it]"
     ]
    },
    {
     "name": "stdout",
     "output_type": "stream",
     "text": [
      "Frame # 634\n"
     ]
    },
    {
     "name": "stderr",
     "output_type": "stream",
     "text": [
      "\r",
      " 10%|█         | 132/1261 [41:12<5:51:58, 18.71s/it]"
     ]
    },
    {
     "name": "stdout",
     "output_type": "stream",
     "text": [
      "Frame # 635\n"
     ]
    },
    {
     "name": "stderr",
     "output_type": "stream",
     "text": [
      "\r",
      " 11%|█         | 133/1261 [41:31<5:52:05, 18.73s/it]"
     ]
    },
    {
     "name": "stdout",
     "output_type": "stream",
     "text": [
      "Frame # 636\n"
     ]
    },
    {
     "name": "stderr",
     "output_type": "stream",
     "text": [
      "\r",
      " 11%|█         | 134/1261 [41:50<5:52:06, 18.75s/it]"
     ]
    },
    {
     "name": "stdout",
     "output_type": "stream",
     "text": [
      "Frame # 637\n"
     ]
    },
    {
     "name": "stderr",
     "output_type": "stream",
     "text": [
      "\r",
      " 11%|█         | 135/1261 [42:09<5:52:00, 18.76s/it]"
     ]
    },
    {
     "name": "stdout",
     "output_type": "stream",
     "text": [
      "Frame # 638\n"
     ]
    },
    {
     "name": "stderr",
     "output_type": "stream",
     "text": [
      "\r",
      " 11%|█         | 136/1261 [42:27<5:52:23, 18.79s/it]"
     ]
    },
    {
     "name": "stdout",
     "output_type": "stream",
     "text": [
      "Frame # 639\n"
     ]
    },
    {
     "name": "stderr",
     "output_type": "stream",
     "text": [
      "\r",
      " 11%|█         | 137/1261 [42:46<5:52:08, 18.80s/it]"
     ]
    },
    {
     "name": "stdout",
     "output_type": "stream",
     "text": [
      "Frame # 640\n"
     ]
    },
    {
     "name": "stderr",
     "output_type": "stream",
     "text": [
      "\r",
      " 11%|█         | 138/1261 [43:05<5:51:19, 18.77s/it]"
     ]
    },
    {
     "name": "stdout",
     "output_type": "stream",
     "text": [
      "Frame # 641\n"
     ]
    },
    {
     "name": "stderr",
     "output_type": "stream",
     "text": [
      "\r",
      " 11%|█         | 139/1261 [43:24<5:51:23, 18.79s/it]"
     ]
    },
    {
     "name": "stdout",
     "output_type": "stream",
     "text": [
      "Frame # 642\n"
     ]
    },
    {
     "name": "stderr",
     "output_type": "stream",
     "text": [
      "\r",
      " 11%|█         | 140/1261 [43:43<5:51:49, 18.83s/it]"
     ]
    },
    {
     "name": "stdout",
     "output_type": "stream",
     "text": [
      "Frame # 643\n"
     ]
    },
    {
     "name": "stderr",
     "output_type": "stream",
     "text": [
      "\r",
      " 11%|█         | 141/1261 [44:02<5:51:57, 18.85s/it]"
     ]
    },
    {
     "name": "stdout",
     "output_type": "stream",
     "text": [
      "Frame # 644\n"
     ]
    },
    {
     "name": "stderr",
     "output_type": "stream",
     "text": [
      "\r",
      " 11%|█▏        | 142/1261 [44:21<5:52:18, 18.89s/it]"
     ]
    },
    {
     "name": "stdout",
     "output_type": "stream",
     "text": [
      "Frame # 645\n"
     ]
    },
    {
     "name": "stderr",
     "output_type": "stream",
     "text": [
      "\r",
      " 11%|█▏        | 143/1261 [44:40<5:51:58, 18.89s/it]"
     ]
    },
    {
     "name": "stdout",
     "output_type": "stream",
     "text": [
      "Frame # 646\n"
     ]
    },
    {
     "name": "stderr",
     "output_type": "stream",
     "text": [
      "\r",
      " 11%|█▏        | 144/1261 [44:58<5:51:33, 18.88s/it]"
     ]
    },
    {
     "name": "stdout",
     "output_type": "stream",
     "text": [
      "Frame # 647\n"
     ]
    },
    {
     "name": "stderr",
     "output_type": "stream",
     "text": [
      "\r",
      " 11%|█▏        | 145/1261 [45:17<5:50:36, 18.85s/it]"
     ]
    },
    {
     "name": "stdout",
     "output_type": "stream",
     "text": [
      "Frame # 648\n"
     ]
    },
    {
     "name": "stderr",
     "output_type": "stream",
     "text": [
      "\r",
      " 12%|█▏        | 146/1261 [45:36<5:50:42, 18.87s/it]"
     ]
    },
    {
     "name": "stdout",
     "output_type": "stream",
     "text": [
      "Frame # 649\n"
     ]
    },
    {
     "name": "stderr",
     "output_type": "stream",
     "text": [
      "\r",
      " 12%|█▏        | 147/1261 [45:55<5:50:12, 18.86s/it]"
     ]
    },
    {
     "name": "stdout",
     "output_type": "stream",
     "text": [
      "Frame # 650\n"
     ]
    },
    {
     "name": "stderr",
     "output_type": "stream",
     "text": [
      "\r",
      " 12%|█▏        | 148/1261 [46:14<5:49:58, 18.87s/it]"
     ]
    },
    {
     "name": "stdout",
     "output_type": "stream",
     "text": [
      "Frame # 651\n"
     ]
    },
    {
     "name": "stderr",
     "output_type": "stream",
     "text": [
      "\r",
      " 12%|█▏        | 149/1261 [46:33<5:49:26, 18.85s/it]"
     ]
    },
    {
     "name": "stdout",
     "output_type": "stream",
     "text": [
      "Frame # 652\n"
     ]
    },
    {
     "name": "stderr",
     "output_type": "stream",
     "text": [
      "\r",
      " 12%|█▏        | 150/1261 [46:51<5:49:17, 18.86s/it]"
     ]
    },
    {
     "name": "stdout",
     "output_type": "stream",
     "text": [
      "Frame # 653\n"
     ]
    },
    {
     "name": "stderr",
     "output_type": "stream",
     "text": [
      "\r",
      " 12%|█▏        | 151/1261 [47:10<5:48:48, 18.85s/it]"
     ]
    },
    {
     "name": "stdout",
     "output_type": "stream",
     "text": [
      "Frame # 654\n"
     ]
    },
    {
     "name": "stderr",
     "output_type": "stream",
     "text": [
      "\r",
      " 12%|█▏        | 152/1261 [47:29<5:47:50, 18.82s/it]"
     ]
    },
    {
     "name": "stdout",
     "output_type": "stream",
     "text": [
      "Frame # 655\n"
     ]
    },
    {
     "name": "stderr",
     "output_type": "stream",
     "text": [
      "\r",
      " 12%|█▏        | 153/1261 [47:48<5:47:06, 18.80s/it]"
     ]
    },
    {
     "name": "stdout",
     "output_type": "stream",
     "text": [
      "Frame # 656\n"
     ]
    },
    {
     "name": "stderr",
     "output_type": "stream",
     "text": [
      "\r",
      " 12%|█▏        | 154/1261 [48:07<5:46:21, 18.77s/it]"
     ]
    },
    {
     "name": "stdout",
     "output_type": "stream",
     "text": [
      "Frame # 657\n"
     ]
    },
    {
     "name": "stderr",
     "output_type": "stream",
     "text": [
      "\r",
      " 12%|█▏        | 155/1261 [48:25<5:46:30, 18.80s/it]"
     ]
    },
    {
     "name": "stdout",
     "output_type": "stream",
     "text": [
      "Frame # 658\n"
     ]
    },
    {
     "name": "stderr",
     "output_type": "stream",
     "text": [
      "\r",
      " 12%|█▏        | 156/1261 [48:44<5:46:17, 18.80s/it]"
     ]
    },
    {
     "name": "stdout",
     "output_type": "stream",
     "text": [
      "Frame # 659\n",
      "========\n",
      "Not Selecting.. ((1202, 393), (1276, 456))\n",
      "========\n"
     ]
    },
    {
     "name": "stderr",
     "output_type": "stream",
     "text": [
      "\r",
      " 12%|█▏        | 157/1261 [49:03<5:45:55, 18.80s/it]"
     ]
    },
    {
     "name": "stdout",
     "output_type": "stream",
     "text": [
      "Frame # 660\n",
      "========\n",
      "Not Selecting.. ((1198, 393), (1271, 456))\n",
      "========\n"
     ]
    },
    {
     "name": "stderr",
     "output_type": "stream",
     "text": [
      "\r",
      " 13%|█▎        | 158/1261 [49:22<5:45:20, 18.79s/it]"
     ]
    },
    {
     "name": "stdout",
     "output_type": "stream",
     "text": [
      "Frame # 661\n",
      "========\n",
      "Not Selecting.. ((1194, 393), (1275, 463))\n",
      "========\n"
     ]
    },
    {
     "name": "stderr",
     "output_type": "stream",
     "text": [
      "\r",
      " 13%|█▎        | 159/1261 [49:41<5:44:58, 18.78s/it]"
     ]
    },
    {
     "name": "stdout",
     "output_type": "stream",
     "text": [
      "Frame # 662\n",
      "========\n",
      "Selecting.. ((1194, 384), (1275, 463))\n",
      "========\n"
     ]
    },
    {
     "name": "stderr",
     "output_type": "stream",
     "text": [
      "\r",
      " 13%|█▎        | 160/1261 [49:59<5:45:02, 18.80s/it]"
     ]
    },
    {
     "name": "stdout",
     "output_type": "stream",
     "text": [
      "Frame # 663\n",
      "========\n",
      "Selecting.. ((1194, 384), (1275, 463))\n",
      "========\n"
     ]
    },
    {
     "name": "stderr",
     "output_type": "stream",
     "text": [
      "\r",
      " 13%|█▎        | 161/1261 [50:18<5:44:40, 18.80s/it]"
     ]
    },
    {
     "name": "stdout",
     "output_type": "stream",
     "text": [
      "Frame # 664\n",
      "========\n",
      "Selecting.. ((1188, 384), (1275, 465))\n",
      "========\n"
     ]
    },
    {
     "name": "stderr",
     "output_type": "stream",
     "text": [
      "\r",
      " 13%|█▎        | 162/1261 [50:37<5:44:21, 18.80s/it]"
     ]
    },
    {
     "name": "stdout",
     "output_type": "stream",
     "text": [
      "Frame # 665\n",
      "========\n",
      "Selecting.. ((1185, 384), (1275, 475))\n",
      "========\n"
     ]
    },
    {
     "name": "stderr",
     "output_type": "stream",
     "text": [
      "\r",
      " 13%|█▎        | 163/1261 [50:56<5:43:59, 18.80s/it]"
     ]
    },
    {
     "name": "stdout",
     "output_type": "stream",
     "text": [
      "Frame # 666\n",
      "========\n",
      "Selecting.. ((1188, 384), (1275, 475))\n",
      "========\n"
     ]
    },
    {
     "name": "stderr",
     "output_type": "stream",
     "text": [
      "\r",
      " 13%|█▎        | 164/1261 [51:15<5:43:28, 18.79s/it]"
     ]
    },
    {
     "name": "stdout",
     "output_type": "stream",
     "text": [
      "Frame # 667\n",
      "========\n",
      "Selecting.. ((1176, 384), (1275, 475))\n",
      "========\n"
     ]
    },
    {
     "name": "stderr",
     "output_type": "stream",
     "text": [
      "\r",
      " 13%|█▎        | 165/1261 [51:33<5:43:39, 18.81s/it]"
     ]
    },
    {
     "name": "stdout",
     "output_type": "stream",
     "text": [
      "Frame # 668\n",
      "========\n",
      "Selecting.. ((1176, 384), (1275, 475))\n",
      "========\n"
     ]
    },
    {
     "name": "stderr",
     "output_type": "stream",
     "text": [
      "\r",
      " 13%|█▎        | 166/1261 [51:52<5:43:52, 18.84s/it]"
     ]
    },
    {
     "name": "stdout",
     "output_type": "stream",
     "text": [
      "Frame # 669\n",
      "========\n",
      "Selecting.. ((1176, 384), (1275, 475))\n",
      "========\n"
     ]
    },
    {
     "name": "stderr",
     "output_type": "stream",
     "text": [
      "\r",
      " 13%|█▎        | 167/1261 [52:11<5:43:15, 18.83s/it]"
     ]
    },
    {
     "name": "stdout",
     "output_type": "stream",
     "text": [
      "Frame # 670\n",
      "========\n",
      "Selecting.. ((1176, 384), (1275, 475))\n",
      "========\n"
     ]
    },
    {
     "name": "stderr",
     "output_type": "stream",
     "text": [
      "\r",
      " 13%|█▎        | 168/1261 [52:30<5:42:58, 18.83s/it]"
     ]
    },
    {
     "name": "stdout",
     "output_type": "stream",
     "text": [
      "Frame # 671\n",
      "========\n",
      "Selecting.. ((1167, 384), (1275, 475))\n",
      "========\n"
     ]
    },
    {
     "name": "stderr",
     "output_type": "stream",
     "text": [
      "\r",
      " 13%|█▎        | 169/1261 [52:49<5:43:17, 18.86s/it]"
     ]
    },
    {
     "name": "stdout",
     "output_type": "stream",
     "text": [
      "Frame # 672\n",
      "========\n",
      "Selecting.. ((1167, 384), (1271, 475))\n",
      "========\n"
     ]
    },
    {
     "name": "stderr",
     "output_type": "stream",
     "text": [
      "\r",
      " 13%|█▎        | 170/1261 [53:08<5:42:07, 18.82s/it]"
     ]
    },
    {
     "name": "stdout",
     "output_type": "stream",
     "text": [
      "Frame # 673\n",
      "========\n",
      "Selecting.. ((1164, 384), (1271, 479))\n",
      "========\n"
     ]
    },
    {
     "name": "stderr",
     "output_type": "stream",
     "text": [
      "\r",
      " 14%|█▎        | 171/1261 [53:26<5:42:05, 18.83s/it]"
     ]
    },
    {
     "name": "stdout",
     "output_type": "stream",
     "text": [
      "Frame # 674\n",
      "========\n",
      "Selecting.. ((1164, 384), (1271, 479))\n",
      "========\n"
     ]
    },
    {
     "name": "stderr",
     "output_type": "stream",
     "text": [
      "\r",
      " 14%|█▎        | 172/1261 [53:45<5:42:27, 18.87s/it]"
     ]
    },
    {
     "name": "stdout",
     "output_type": "stream",
     "text": [
      "Frame # 675\n",
      "========\n",
      "Selecting.. ((1162, 384), (1271, 479))\n",
      "========\n"
     ]
    },
    {
     "name": "stderr",
     "output_type": "stream",
     "text": [
      "\r",
      " 14%|█▎        | 173/1261 [54:04<5:42:03, 18.86s/it]"
     ]
    },
    {
     "name": "stdout",
     "output_type": "stream",
     "text": [
      "Frame # 676\n",
      "========\n",
      "Selecting.. ((1162, 384), (1267, 479))\n",
      "========\n"
     ]
    },
    {
     "name": "stderr",
     "output_type": "stream",
     "text": [
      "\r",
      " 14%|█▍        | 174/1261 [54:23<5:41:41, 18.86s/it]"
     ]
    },
    {
     "name": "stdout",
     "output_type": "stream",
     "text": [
      "Frame # 677\n",
      "========\n",
      "Selecting.. ((1152, 384), (1257, 479))\n",
      "========\n"
     ]
    },
    {
     "name": "stderr",
     "output_type": "stream",
     "text": [
      "\r",
      " 14%|█▍        | 175/1261 [54:42<5:41:27, 18.87s/it]"
     ]
    },
    {
     "name": "stdout",
     "output_type": "stream",
     "text": [
      "Frame # 678\n",
      "========\n",
      "Selecting.. ((1149, 384), (1257, 479))\n",
      "========\n"
     ]
    },
    {
     "name": "stderr",
     "output_type": "stream",
     "text": [
      "\r",
      " 14%|█▍        | 176/1261 [55:01<5:40:45, 18.84s/it]"
     ]
    },
    {
     "name": "stdout",
     "output_type": "stream",
     "text": [
      "Frame # 679\n",
      "========\n",
      "Selecting.. ((1149, 384), (1257, 479))\n",
      "========\n"
     ]
    },
    {
     "name": "stderr",
     "output_type": "stream",
     "text": [
      "\r",
      " 14%|█▍        | 177/1261 [55:20<5:40:31, 18.85s/it]"
     ]
    },
    {
     "name": "stdout",
     "output_type": "stream",
     "text": [
      "Frame # 680\n",
      "========\n",
      "Selecting.. ((1149, 384), (1257, 479))\n",
      "========\n"
     ]
    },
    {
     "name": "stderr",
     "output_type": "stream",
     "text": [
      "\r",
      " 14%|█▍        | 178/1261 [55:38<5:40:13, 18.85s/it]"
     ]
    },
    {
     "name": "stdout",
     "output_type": "stream",
     "text": [
      "Frame # 681\n",
      "========\n",
      "Selecting.. ((1148, 384), (1255, 479))\n",
      "========\n"
     ]
    },
    {
     "name": "stderr",
     "output_type": "stream",
     "text": [
      "\r",
      " 14%|█▍        | 179/1261 [55:57<5:40:04, 18.86s/it]"
     ]
    },
    {
     "name": "stdout",
     "output_type": "stream",
     "text": [
      "Frame # 682\n",
      "========\n",
      "Selecting.. ((1140, 384), (1248, 479))\n",
      "========\n"
     ]
    },
    {
     "name": "stderr",
     "output_type": "stream",
     "text": [
      "\r",
      " 14%|█▍        | 180/1261 [56:16<5:39:23, 18.84s/it]"
     ]
    },
    {
     "name": "stdout",
     "output_type": "stream",
     "text": [
      "Frame # 683\n",
      "========\n",
      "Selecting.. ((1140, 384), (1248, 479))\n",
      "========\n"
     ]
    },
    {
     "name": "stderr",
     "output_type": "stream",
     "text": [
      "\r",
      " 14%|█▍        | 181/1261 [56:35<5:38:59, 18.83s/it]"
     ]
    },
    {
     "name": "stdout",
     "output_type": "stream",
     "text": [
      "Frame # 684\n",
      "========\n",
      "Selecting.. ((1140, 384), (1243, 479))\n",
      "========\n"
     ]
    },
    {
     "name": "stderr",
     "output_type": "stream",
     "text": [
      "\r",
      " 14%|█▍        | 182/1261 [56:54<5:38:39, 18.83s/it]"
     ]
    },
    {
     "name": "stdout",
     "output_type": "stream",
     "text": [
      "Frame # 685\n",
      "========\n",
      "Selecting.. ((1140, 384), (1243, 465))\n",
      "========\n"
     ]
    },
    {
     "name": "stderr",
     "output_type": "stream",
     "text": [
      "\r",
      " 15%|█▍        | 183/1261 [57:13<5:38:35, 18.85s/it]"
     ]
    },
    {
     "name": "stdout",
     "output_type": "stream",
     "text": [
      "Frame # 686\n",
      "========\n",
      "Selecting.. ((1134, 384), (1243, 479))\n",
      "========\n"
     ]
    },
    {
     "name": "stderr",
     "output_type": "stream",
     "text": [
      "\r",
      " 15%|█▍        | 184/1261 [57:31<5:37:40, 18.81s/it]"
     ]
    },
    {
     "name": "stdout",
     "output_type": "stream",
     "text": [
      "Frame # 687\n",
      "========\n",
      "Selecting.. ((1131, 384), (1239, 479))\n",
      "========\n"
     ]
    },
    {
     "name": "stderr",
     "output_type": "stream",
     "text": [
      "\r",
      " 15%|█▍        | 185/1261 [57:50<5:36:37, 18.77s/it]"
     ]
    },
    {
     "name": "stdout",
     "output_type": "stream",
     "text": [
      "Frame # 688\n",
      "========\n",
      "Selecting.. ((1128, 384), (1243, 479))\n",
      "========\n"
     ]
    },
    {
     "name": "stderr",
     "output_type": "stream",
     "text": [
      "\r",
      " 15%|█▍        | 186/1261 [58:09<5:36:25, 18.78s/it]"
     ]
    },
    {
     "name": "stdout",
     "output_type": "stream",
     "text": [
      "Frame # 689\n",
      "========\n",
      "Selecting.. ((1128, 384), (1239, 479))\n",
      "========\n"
     ]
    },
    {
     "name": "stderr",
     "output_type": "stream",
     "text": [
      "\r",
      " 15%|█▍        | 187/1261 [58:28<5:36:07, 18.78s/it]"
     ]
    },
    {
     "name": "stdout",
     "output_type": "stream",
     "text": [
      "Frame # 690\n",
      "========\n",
      "Selecting.. ((1128, 384), (1231, 479))\n",
      "========\n"
     ]
    },
    {
     "name": "stderr",
     "output_type": "stream",
     "text": [
      "\r",
      " 15%|█▍        | 188/1261 [58:46<5:35:45, 18.77s/it]"
     ]
    },
    {
     "name": "stdout",
     "output_type": "stream",
     "text": [
      "Frame # 691\n",
      "========\n",
      "Selecting.. ((1128, 384), (1239, 479))\n",
      "========\n"
     ]
    },
    {
     "name": "stderr",
     "output_type": "stream",
     "text": [
      "\r",
      " 15%|█▍        | 189/1261 [59:05<5:35:22, 18.77s/it]"
     ]
    },
    {
     "name": "stdout",
     "output_type": "stream",
     "text": [
      "Frame # 692\n",
      "========\n",
      "Selecting.. ((1128, 384), (1231, 479))\n",
      "========\n"
     ]
    },
    {
     "name": "stderr",
     "output_type": "stream",
     "text": [
      "\r",
      " 15%|█▌        | 190/1261 [59:24<5:36:13, 18.84s/it]"
     ]
    },
    {
     "name": "stdout",
     "output_type": "stream",
     "text": [
      "Frame # 693\n",
      "========\n",
      "Selecting.. ((1120, 384), (1231, 479))\n",
      "========\n"
     ]
    },
    {
     "name": "stderr",
     "output_type": "stream",
     "text": [
      "\r",
      " 15%|█▌        | 191/1261 [59:43<5:36:33, 18.87s/it]"
     ]
    },
    {
     "name": "stdout",
     "output_type": "stream",
     "text": [
      "Frame # 694\n",
      "========\n",
      "Selecting.. ((1116, 384), (1231, 479))\n",
      "========\n"
     ]
    },
    {
     "name": "stderr",
     "output_type": "stream",
     "text": [
      "\r",
      " 15%|█▌        | 192/1261 [1:00:02<5:35:58, 18.86s/it]"
     ]
    },
    {
     "name": "stdout",
     "output_type": "stream",
     "text": [
      "Frame # 695\n",
      "========\n",
      "Selecting.. ((1116, 384), (1230, 479))\n",
      "========\n"
     ]
    },
    {
     "name": "stderr",
     "output_type": "stream",
     "text": [
      "\r",
      " 15%|█▌        | 193/1261 [1:00:21<5:35:32, 18.85s/it]"
     ]
    },
    {
     "name": "stdout",
     "output_type": "stream",
     "text": [
      "Frame # 696\n",
      "========\n",
      "Selecting.. ((1116, 384), (1229, 479))\n",
      "========\n"
     ]
    },
    {
     "name": "stderr",
     "output_type": "stream",
     "text": [
      "\r",
      " 15%|█▌        | 194/1261 [1:00:40<5:35:16, 18.85s/it]"
     ]
    },
    {
     "name": "stdout",
     "output_type": "stream",
     "text": [
      "Frame # 697\n",
      "========\n",
      "Selecting.. ((1116, 384), (1221, 479))\n",
      "========\n"
     ]
    },
    {
     "name": "stderr",
     "output_type": "stream",
     "text": [
      "\r",
      " 15%|█▌        | 195/1261 [1:00:59<5:34:59, 18.85s/it]"
     ]
    },
    {
     "name": "stdout",
     "output_type": "stream",
     "text": [
      "Frame # 698\n",
      "========\n",
      "Selecting.. ((1116, 384), (1221, 479))\n",
      "========\n"
     ]
    },
    {
     "name": "stderr",
     "output_type": "stream",
     "text": [
      "\r",
      " 16%|█▌        | 196/1261 [1:01:17<5:34:42, 18.86s/it]"
     ]
    },
    {
     "name": "stdout",
     "output_type": "stream",
     "text": [
      "Frame # 699\n",
      "========\n",
      "Selecting.. ((1116, 384), (1221, 479))\n",
      "========\n"
     ]
    },
    {
     "name": "stderr",
     "output_type": "stream",
     "text": [
      "\r",
      " 16%|█▌        | 197/1261 [1:01:36<5:34:05, 18.84s/it]"
     ]
    },
    {
     "name": "stdout",
     "output_type": "stream",
     "text": [
      "Frame # 700\n",
      "========\n",
      "Selecting.. ((1120, 384), (1229, 475))\n",
      "========\n"
     ]
    },
    {
     "name": "stderr",
     "output_type": "stream",
     "text": [
      "\r",
      " 16%|█▌        | 198/1261 [1:01:55<5:34:05, 18.86s/it]"
     ]
    },
    {
     "name": "stdout",
     "output_type": "stream",
     "text": [
      "Frame # 701\n",
      "========\n",
      "Selecting.. ((1120, 384), (1219, 465))\n",
      "========\n"
     ]
    },
    {
     "name": "stderr",
     "output_type": "stream",
     "text": [
      "\r",
      " 16%|█▌        | 199/1261 [1:02:14<5:33:32, 18.84s/it]"
     ]
    },
    {
     "name": "stdout",
     "output_type": "stream",
     "text": [
      "Frame # 702\n",
      "========\n",
      "Selecting.. ((1122, 384), (1219, 463))\n",
      "========\n"
     ]
    },
    {
     "name": "stderr",
     "output_type": "stream",
     "text": [
      "\r",
      " 16%|█▌        | 200/1261 [1:02:33<5:33:12, 18.84s/it]"
     ]
    },
    {
     "name": "stdout",
     "output_type": "stream",
     "text": [
      "Frame # 703\n",
      "========\n",
      "Selecting.. ((1116, 384), (1219, 463))\n",
      "========\n"
     ]
    },
    {
     "name": "stderr",
     "output_type": "stream",
     "text": [
      "\r",
      " 16%|█▌        | 201/1261 [1:02:51<5:32:27, 18.82s/it]"
     ]
    },
    {
     "name": "stdout",
     "output_type": "stream",
     "text": [
      "Frame # 704\n",
      "========\n",
      "Selecting.. ((1113, 384), (1219, 463))\n",
      "========\n"
     ]
    },
    {
     "name": "stderr",
     "output_type": "stream",
     "text": [
      "\r",
      " 16%|█▌        | 202/1261 [1:03:10<5:32:06, 18.82s/it]"
     ]
    },
    {
     "name": "stdout",
     "output_type": "stream",
     "text": [
      "Frame # 705\n",
      "========\n",
      "Selecting.. ((1113, 384), (1266, 474))\n",
      "========\n"
     ]
    },
    {
     "name": "stderr",
     "output_type": "stream",
     "text": [
      "\r",
      " 16%|█▌        | 203/1261 [1:03:29<5:32:00, 18.83s/it]"
     ]
    },
    {
     "name": "stdout",
     "output_type": "stream",
     "text": [
      "Frame # 706\n",
      "========\n",
      "Selecting.. ((1113, 384), (1271, 479))\n",
      "========\n"
     ]
    },
    {
     "name": "stderr",
     "output_type": "stream",
     "text": [
      "\r",
      " 16%|█▌        | 204/1261 [1:03:48<5:31:57, 18.84s/it]"
     ]
    },
    {
     "name": "stdout",
     "output_type": "stream",
     "text": [
      "Frame # 707\n",
      "========\n",
      "Selecting.. ((1106, 384), (1271, 479))\n",
      "========\n"
     ]
    },
    {
     "name": "stderr",
     "output_type": "stream",
     "text": [
      "\r",
      " 16%|█▋        | 205/1261 [1:04:07<5:31:28, 18.83s/it]"
     ]
    },
    {
     "name": "stdout",
     "output_type": "stream",
     "text": [
      "Frame # 708\n",
      "========\n",
      "Selecting.. ((1106, 384), (1271, 479))\n",
      "========\n"
     ]
    },
    {
     "name": "stderr",
     "output_type": "stream",
     "text": [
      "\r",
      " 16%|█▋        | 206/1261 [1:04:26<5:30:21, 18.79s/it]"
     ]
    },
    {
     "name": "stdout",
     "output_type": "stream",
     "text": [
      "Frame # 709\n",
      "========\n",
      "Selecting.. ((1104, 384), (1271, 479))\n",
      "========\n"
     ]
    },
    {
     "name": "stderr",
     "output_type": "stream",
     "text": [
      "\r",
      " 16%|█▋        | 207/1261 [1:04:44<5:30:31, 18.82s/it]"
     ]
    },
    {
     "name": "stdout",
     "output_type": "stream",
     "text": [
      "Frame # 710\n",
      "========\n",
      "Selecting.. ((1104, 384), (1271, 479))\n",
      "========\n"
     ]
    },
    {
     "name": "stderr",
     "output_type": "stream",
     "text": [
      "\r",
      " 16%|█▋        | 208/1261 [1:05:03<5:30:22, 18.82s/it]"
     ]
    },
    {
     "name": "stdout",
     "output_type": "stream",
     "text": [
      "Frame # 711\n",
      "========\n",
      "Selecting.. ((1104, 384), (1219, 479))\n",
      "========\n"
     ]
    },
    {
     "name": "stderr",
     "output_type": "stream",
     "text": [
      "\r",
      " 17%|█▋        | 209/1261 [1:05:22<5:29:53, 18.81s/it]"
     ]
    },
    {
     "name": "stdout",
     "output_type": "stream",
     "text": [
      "Frame # 712\n",
      "========\n",
      "Selecting.. ((1104, 384), (1271, 479))\n",
      "========\n"
     ]
    },
    {
     "name": "stderr",
     "output_type": "stream",
     "text": [
      "\r",
      " 17%|█▋        | 210/1261 [1:05:41<5:30:34, 18.87s/it]"
     ]
    },
    {
     "name": "stdout",
     "output_type": "stream",
     "text": [
      "Frame # 713\n",
      "========\n",
      "Selecting.. ((1104, 384), (1271, 479))\n",
      "========\n"
     ]
    },
    {
     "name": "stderr",
     "output_type": "stream",
     "text": [
      "\r",
      " 17%|█▋        | 211/1261 [1:06:00<5:30:14, 18.87s/it]"
     ]
    },
    {
     "name": "stdout",
     "output_type": "stream",
     "text": [
      "Frame # 714\n",
      "========\n",
      "Selecting.. ((1104, 384), (1267, 479))\n",
      "========\n"
     ]
    },
    {
     "name": "stderr",
     "output_type": "stream",
     "text": [
      "\r",
      " 17%|█▋        | 212/1261 [1:06:19<5:29:25, 18.84s/it]"
     ]
    },
    {
     "name": "stdout",
     "output_type": "stream",
     "text": [
      "Frame # 715\n",
      "========\n",
      "Selecting.. ((1104, 384), (1267, 474))\n",
      "========\n"
     ]
    },
    {
     "name": "stderr",
     "output_type": "stream",
     "text": [
      "\r",
      " 17%|█▋        | 213/1261 [1:06:37<5:28:51, 18.83s/it]"
     ]
    },
    {
     "name": "stdout",
     "output_type": "stream",
     "text": [
      "Frame # 716\n",
      "========\n",
      "Selecting.. ((1104, 384), (1271, 479))\n",
      "========\n"
     ]
    },
    {
     "name": "stderr",
     "output_type": "stream",
     "text": [
      "\r",
      " 17%|█▋        | 214/1261 [1:06:56<5:27:37, 18.77s/it]"
     ]
    },
    {
     "name": "stdout",
     "output_type": "stream",
     "text": [
      "Frame # 717\n",
      "========\n",
      "Selecting.. ((1104, 384), (1271, 479))\n",
      "========\n"
     ]
    },
    {
     "name": "stderr",
     "output_type": "stream",
     "text": [
      "\r",
      " 17%|█▋        | 215/1261 [1:07:15<5:27:59, 18.81s/it]"
     ]
    },
    {
     "name": "stdout",
     "output_type": "stream",
     "text": [
      "Frame # 718\n",
      "========\n",
      "Selecting.. ((1092, 384), (1271, 479))\n",
      "========\n"
     ]
    },
    {
     "name": "stderr",
     "output_type": "stream",
     "text": [
      "\r",
      " 17%|█▋        | 216/1261 [1:07:34<5:28:36, 18.87s/it]"
     ]
    },
    {
     "name": "stdout",
     "output_type": "stream",
     "text": [
      "Frame # 719\n",
      "========\n",
      "Selecting.. ((1092, 384), (1271, 479))\n",
      "========\n"
     ]
    },
    {
     "name": "stderr",
     "output_type": "stream",
     "text": [
      "\r",
      " 17%|█▋        | 217/1261 [1:07:53<5:28:33, 18.88s/it]"
     ]
    },
    {
     "name": "stdout",
     "output_type": "stream",
     "text": [
      "Frame # 720\n",
      "========\n",
      "Selecting.. ((1092, 384), (1267, 479))\n",
      "========\n"
     ]
    },
    {
     "name": "stderr",
     "output_type": "stream",
     "text": [
      "\r",
      " 17%|█▋        | 218/1261 [1:08:12<5:28:13, 18.88s/it]"
     ]
    },
    {
     "name": "stdout",
     "output_type": "stream",
     "text": [
      "Frame # 721\n",
      "========\n",
      "Selecting.. ((1092, 384), (1271, 475))\n",
      "========\n"
     ]
    },
    {
     "name": "stderr",
     "output_type": "stream",
     "text": [
      "\r",
      " 17%|█▋        | 219/1261 [1:08:31<5:27:53, 18.88s/it]"
     ]
    },
    {
     "name": "stdout",
     "output_type": "stream",
     "text": [
      "Frame # 722\n",
      "========\n",
      "Selecting.. ((1092, 384), (1271, 479))\n",
      "========\n"
     ]
    },
    {
     "name": "stderr",
     "output_type": "stream",
     "text": [
      "\r",
      " 17%|█▋        | 220/1261 [1:08:50<5:27:09, 18.86s/it]"
     ]
    },
    {
     "name": "stdout",
     "output_type": "stream",
     "text": [
      "Frame # 723\n",
      "========\n",
      "Selecting.. ((1092, 384), (1267, 475))\n",
      "========\n"
     ]
    },
    {
     "name": "stderr",
     "output_type": "stream",
     "text": [
      "\r",
      " 18%|█▊        | 221/1261 [1:09:08<5:26:43, 18.85s/it]"
     ]
    },
    {
     "name": "stdout",
     "output_type": "stream",
     "text": [
      "Frame # 724\n",
      "========\n",
      "Selecting.. ((1092, 384), (1267, 479))\n",
      "========\n"
     ]
    },
    {
     "name": "stderr",
     "output_type": "stream",
     "text": [
      "\r",
      " 18%|█▊        | 222/1261 [1:09:27<5:26:04, 18.83s/it]"
     ]
    },
    {
     "name": "stdout",
     "output_type": "stream",
     "text": [
      "Frame # 725\n",
      "========\n",
      "Selecting.. ((1092, 384), (1267, 475))\n",
      "========\n"
     ]
    },
    {
     "name": "stderr",
     "output_type": "stream",
     "text": [
      "\r",
      " 18%|█▊        | 223/1261 [1:09:46<5:26:02, 18.85s/it]"
     ]
    },
    {
     "name": "stdout",
     "output_type": "stream",
     "text": [
      "Frame # 726\n",
      "========\n",
      "Selecting.. ((1092, 384), (1267, 475))\n",
      "========\n"
     ]
    },
    {
     "name": "stderr",
     "output_type": "stream",
     "text": [
      "\r",
      " 18%|█▊        | 224/1261 [1:10:05<5:25:30, 18.83s/it]"
     ]
    },
    {
     "name": "stdout",
     "output_type": "stream",
     "text": [
      "Frame # 727\n",
      "========\n",
      "Selecting.. ((1092, 384), (1267, 479))\n",
      "========\n"
     ]
    },
    {
     "name": "stderr",
     "output_type": "stream",
     "text": [
      "\r",
      " 18%|█▊        | 225/1261 [1:10:24<5:24:38, 18.80s/it]"
     ]
    },
    {
     "name": "stdout",
     "output_type": "stream",
     "text": [
      "Frame # 728\n",
      "========\n",
      "Selecting.. ((1092, 384), (1267, 479))\n",
      "========\n"
     ]
    },
    {
     "name": "stderr",
     "output_type": "stream",
     "text": [
      "\r",
      " 18%|█▊        | 226/1261 [1:10:42<5:24:14, 18.80s/it]"
     ]
    },
    {
     "name": "stdout",
     "output_type": "stream",
     "text": [
      "Frame # 729\n",
      "========\n",
      "Selecting.. ((1092, 384), (1267, 479))\n",
      "========\n"
     ]
    },
    {
     "name": "stderr",
     "output_type": "stream",
     "text": [
      "\r",
      " 18%|█▊        | 227/1261 [1:11:01<5:23:26, 18.77s/it]"
     ]
    },
    {
     "name": "stdout",
     "output_type": "stream",
     "text": [
      "Frame # 730\n",
      "========\n",
      "Selecting.. ((1086, 384), (1267, 479))\n",
      "========\n"
     ]
    },
    {
     "name": "stderr",
     "output_type": "stream",
     "text": [
      "\r",
      " 18%|█▊        | 228/1261 [1:11:20<5:23:06, 18.77s/it]"
     ]
    },
    {
     "name": "stdout",
     "output_type": "stream",
     "text": [
      "Frame # 731\n",
      "========\n",
      "Selecting.. ((1086, 384), (1267, 479))\n",
      "========\n"
     ]
    },
    {
     "name": "stderr",
     "output_type": "stream",
     "text": [
      "\r",
      " 18%|█▊        | 229/1261 [1:11:39<5:23:32, 18.81s/it]"
     ]
    },
    {
     "name": "stdout",
     "output_type": "stream",
     "text": [
      "Frame # 732\n",
      "========\n",
      "Selecting.. ((1086, 384), (1267, 479))\n",
      "========\n"
     ]
    },
    {
     "name": "stderr",
     "output_type": "stream",
     "text": [
      "\r",
      " 18%|█▊        | 230/1261 [1:11:58<5:23:12, 18.81s/it]"
     ]
    },
    {
     "name": "stdout",
     "output_type": "stream",
     "text": [
      "Frame # 733\n",
      "========\n",
      "Selecting.. ((1080, 384), (1267, 479))\n",
      "========\n"
     ]
    },
    {
     "name": "stderr",
     "output_type": "stream",
     "text": [
      "\r",
      " 18%|█▊        | 231/1261 [1:12:16<5:22:02, 18.76s/it]"
     ]
    },
    {
     "name": "stdout",
     "output_type": "stream",
     "text": [
      "Frame # 734\n",
      "========\n",
      "Selecting.. ((1080, 384), (1267, 479))\n",
      "========\n"
     ]
    },
    {
     "name": "stderr",
     "output_type": "stream",
     "text": [
      "\r",
      " 18%|█▊        | 232/1261 [1:12:35<5:21:50, 18.77s/it]"
     ]
    },
    {
     "name": "stdout",
     "output_type": "stream",
     "text": [
      "Frame # 735\n",
      "========\n",
      "Selecting.. ((1080, 384), (1271, 479))\n",
      "========\n"
     ]
    },
    {
     "name": "stderr",
     "output_type": "stream",
     "text": [
      "\r",
      " 18%|█▊        | 233/1261 [1:12:54<5:21:35, 18.77s/it]"
     ]
    },
    {
     "name": "stdout",
     "output_type": "stream",
     "text": [
      "Frame # 736\n",
      "========\n",
      "Selecting.. ((1080, 384), (1267, 479))\n",
      "========\n"
     ]
    },
    {
     "name": "stderr",
     "output_type": "stream",
     "text": [
      "\r",
      " 19%|█▊        | 234/1261 [1:13:13<5:21:26, 18.78s/it]"
     ]
    },
    {
     "name": "stdout",
     "output_type": "stream",
     "text": [
      "Frame # 737\n",
      "========\n",
      "Selecting.. ((1080, 384), (1267, 479))\n",
      "========\n"
     ]
    },
    {
     "name": "stderr",
     "output_type": "stream",
     "text": [
      "\r",
      " 19%|█▊        | 235/1261 [1:13:31<5:20:56, 18.77s/it]"
     ]
    },
    {
     "name": "stdout",
     "output_type": "stream",
     "text": [
      "Frame # 738\n",
      "========\n",
      "Selecting.. ((1077, 384), (1267, 479))\n",
      "========\n"
     ]
    },
    {
     "name": "stderr",
     "output_type": "stream",
     "text": [
      "\r",
      " 19%|█▊        | 236/1261 [1:13:50<5:20:43, 18.77s/it]"
     ]
    },
    {
     "name": "stdout",
     "output_type": "stream",
     "text": [
      "Frame # 739\n",
      "========\n",
      "Selecting.. ((1077, 384), (1271, 479))\n",
      "========\n"
     ]
    },
    {
     "name": "stderr",
     "output_type": "stream",
     "text": [
      "\r",
      " 19%|█▉        | 237/1261 [1:14:09<5:20:47, 18.80s/it]"
     ]
    },
    {
     "name": "stdout",
     "output_type": "stream",
     "text": [
      "Frame # 740\n",
      "========\n",
      "Selecting.. ((1077, 384), (1271, 479))\n",
      "========\n"
     ]
    },
    {
     "name": "stderr",
     "output_type": "stream",
     "text": [
      "\r",
      " 19%|█▉        | 238/1261 [1:14:28<5:20:57, 18.82s/it]"
     ]
    },
    {
     "name": "stdout",
     "output_type": "stream",
     "text": [
      "Frame # 741\n",
      "========\n",
      "Selecting.. ((1077, 384), (1271, 479))\n",
      "========\n"
     ]
    },
    {
     "name": "stderr",
     "output_type": "stream",
     "text": [
      "\r",
      " 19%|█▉        | 239/1261 [1:14:47<5:20:14, 18.80s/it]"
     ]
    },
    {
     "name": "stdout",
     "output_type": "stream",
     "text": [
      "Frame # 742\n",
      "========\n",
      "Selecting.. ((1077, 384), (1271, 479))\n",
      "========\n"
     ]
    },
    {
     "name": "stderr",
     "output_type": "stream",
     "text": [
      "\r",
      " 19%|█▉        | 240/1261 [1:15:05<5:19:37, 18.78s/it]"
     ]
    },
    {
     "name": "stdout",
     "output_type": "stream",
     "text": [
      "Frame # 743\n",
      "========\n",
      "Selecting.. ((1068, 384), (1271, 479))\n",
      "========\n"
     ]
    },
    {
     "name": "stderr",
     "output_type": "stream",
     "text": [
      "\r",
      " 19%|█▉        | 241/1261 [1:15:24<5:19:42, 18.81s/it]"
     ]
    },
    {
     "name": "stdout",
     "output_type": "stream",
     "text": [
      "Frame # 744\n",
      "========\n",
      "Selecting.. ((1068, 384), (1267, 479))\n",
      "========\n"
     ]
    },
    {
     "name": "stderr",
     "output_type": "stream",
     "text": [
      "\r",
      " 19%|█▉        | 242/1261 [1:15:43<5:19:17, 18.80s/it]"
     ]
    },
    {
     "name": "stdout",
     "output_type": "stream",
     "text": [
      "Frame # 745\n",
      "========\n",
      "Selecting.. ((1068, 384), (1267, 479))\n",
      "========\n"
     ]
    },
    {
     "name": "stderr",
     "output_type": "stream",
     "text": [
      "\r",
      " 19%|█▉        | 243/1261 [1:16:02<5:18:25, 18.77s/it]"
     ]
    },
    {
     "name": "stdout",
     "output_type": "stream",
     "text": [
      "Frame # 746\n",
      "========\n",
      "Selecting.. ((1068, 384), (1257, 479))\n",
      "========\n"
     ]
    },
    {
     "name": "stderr",
     "output_type": "stream",
     "text": [
      "\r",
      " 19%|█▉        | 244/1261 [1:16:20<5:17:22, 18.72s/it]"
     ]
    },
    {
     "name": "stdout",
     "output_type": "stream",
     "text": [
      "Frame # 747\n",
      "========\n",
      "Selecting.. ((1068, 384), (1267, 479))\n",
      "========\n"
     ]
    },
    {
     "name": "stderr",
     "output_type": "stream",
     "text": [
      "\r",
      " 19%|█▉        | 245/1261 [1:16:39<5:17:07, 18.73s/it]"
     ]
    },
    {
     "name": "stdout",
     "output_type": "stream",
     "text": [
      "Frame # 748\n",
      "========\n",
      "Selecting.. ((1064, 384), (1257, 479))\n",
      "========\n"
     ]
    },
    {
     "name": "stderr",
     "output_type": "stream",
     "text": [
      "\r",
      " 20%|█▉        | 246/1261 [1:16:58<5:16:34, 18.71s/it]"
     ]
    },
    {
     "name": "stdout",
     "output_type": "stream",
     "text": [
      "Frame # 749\n",
      "========\n",
      "Selecting.. ((1064, 384), (1257, 479))\n",
      "========\n"
     ]
    },
    {
     "name": "stderr",
     "output_type": "stream",
     "text": [
      "\r",
      " 20%|█▉        | 247/1261 [1:17:16<5:16:37, 18.74s/it]"
     ]
    },
    {
     "name": "stdout",
     "output_type": "stream",
     "text": [
      "Frame # 750\n",
      "========\n",
      "Selecting.. ((1064, 384), (1267, 479))\n",
      "========\n"
     ]
    },
    {
     "name": "stderr",
     "output_type": "stream",
     "text": [
      "\r",
      " 20%|█▉        | 248/1261 [1:17:35<5:16:34, 18.75s/it]"
     ]
    },
    {
     "name": "stdout",
     "output_type": "stream",
     "text": [
      "Frame # 751\n",
      "========\n",
      "Selecting.. ((1064, 384), (1267, 479))\n",
      "========\n"
     ]
    },
    {
     "name": "stderr",
     "output_type": "stream",
     "text": [
      "\r",
      " 20%|█▉        | 249/1261 [1:17:54<5:15:32, 18.71s/it]"
     ]
    },
    {
     "name": "stdout",
     "output_type": "stream",
     "text": [
      "Frame # 752\n",
      "========\n",
      "Selecting.. ((1059, 384), (1257, 479))\n",
      "========\n"
     ]
    },
    {
     "name": "stderr",
     "output_type": "stream",
     "text": [
      "\r",
      " 20%|█▉        | 250/1261 [1:18:13<5:15:43, 18.74s/it]"
     ]
    },
    {
     "name": "stdout",
     "output_type": "stream",
     "text": [
      "Frame # 753\n",
      "========\n",
      "Selecting.. ((1056, 384), (1267, 479))\n",
      "========\n"
     ]
    },
    {
     "name": "stderr",
     "output_type": "stream",
     "text": [
      "\r",
      " 20%|█▉        | 251/1261 [1:18:31<5:15:26, 18.74s/it]"
     ]
    },
    {
     "name": "stdout",
     "output_type": "stream",
     "text": [
      "Frame # 754\n",
      "========\n",
      "Selecting.. ((1056, 384), (1257, 479))\n",
      "========\n"
     ]
    },
    {
     "name": "stderr",
     "output_type": "stream",
     "text": [
      "\r",
      " 20%|█▉        | 252/1261 [1:18:50<5:15:02, 18.73s/it]"
     ]
    },
    {
     "name": "stdout",
     "output_type": "stream",
     "text": [
      "Frame # 755\n",
      "========\n",
      "Selecting.. ((1056, 384), (1257, 479))\n",
      "========\n"
     ]
    },
    {
     "name": "stderr",
     "output_type": "stream",
     "text": [
      "\r",
      " 20%|██        | 253/1261 [1:19:09<5:15:14, 18.76s/it]"
     ]
    },
    {
     "name": "stdout",
     "output_type": "stream",
     "text": [
      "Frame # 756\n",
      "========\n",
      "Selecting.. ((1056, 384), (1255, 479))\n",
      "========\n"
     ]
    },
    {
     "name": "stderr",
     "output_type": "stream",
     "text": [
      "\r",
      " 20%|██        | 254/1261 [1:19:28<5:15:16, 18.79s/it]"
     ]
    },
    {
     "name": "stdout",
     "output_type": "stream",
     "text": [
      "Frame # 757\n",
      "========\n",
      "Selecting.. ((1056, 384), (1257, 479))\n",
      "========\n"
     ]
    },
    {
     "name": "stderr",
     "output_type": "stream",
     "text": [
      "\r",
      " 20%|██        | 255/1261 [1:19:47<5:15:03, 18.79s/it]"
     ]
    },
    {
     "name": "stdout",
     "output_type": "stream",
     "text": [
      "Frame # 758\n",
      "========\n",
      "Selecting.. ((1056, 384), (1257, 479))\n",
      "========\n"
     ]
    },
    {
     "name": "stderr",
     "output_type": "stream",
     "text": [
      "\r",
      " 20%|██        | 256/1261 [1:20:05<5:15:18, 18.82s/it]"
     ]
    },
    {
     "name": "stdout",
     "output_type": "stream",
     "text": [
      "Frame # 759\n",
      "========\n",
      "Selecting.. ((1056, 384), (1257, 479))\n",
      "========\n"
     ]
    },
    {
     "name": "stderr",
     "output_type": "stream",
     "text": [
      "\r",
      " 20%|██        | 257/1261 [1:20:24<5:15:22, 18.85s/it]"
     ]
    },
    {
     "name": "stdout",
     "output_type": "stream",
     "text": [
      "Frame # 760\n",
      "========\n",
      "Selecting.. ((1056, 384), (1271, 493))\n",
      "========\n"
     ]
    },
    {
     "name": "stderr",
     "output_type": "stream",
     "text": [
      "\r",
      " 20%|██        | 258/1261 [1:20:43<5:15:00, 18.84s/it]"
     ]
    },
    {
     "name": "stdout",
     "output_type": "stream",
     "text": [
      "Frame # 761\n",
      "========\n",
      "Selecting.. ((1056, 384), (1267, 493))\n",
      "========\n",
      "========\n",
      "Not Selecting.. ((966, 420), (1039, 493))\n",
      "========\n",
      "========\n",
      "Not Selecting.. ((1005, 418), (1078, 481))\n",
      "========\n",
      "========\n",
      "Not Selecting.. ((1014, 418), (1087, 481))\n",
      "========\n"
     ]
    },
    {
     "name": "stderr",
     "output_type": "stream",
     "text": [
      "\r",
      " 21%|██        | 259/1261 [1:21:02<5:14:58, 18.86s/it]"
     ]
    },
    {
     "name": "stdout",
     "output_type": "stream",
     "text": [
      "Frame # 762\n",
      "========\n",
      "Selecting.. ((1050, 384), (1267, 493))\n",
      "========\n",
      "========\n",
      "Selecting.. ((960, 398), (1047, 499))\n",
      "========\n"
     ]
    },
    {
     "name": "stderr",
     "output_type": "stream",
     "text": [
      "\r",
      " 21%|██        | 260/1261 [1:21:21<5:15:06, 18.89s/it]"
     ]
    },
    {
     "name": "stdout",
     "output_type": "stream",
     "text": [
      "Frame # 763\n",
      "========\n",
      "Selecting.. ((1050, 384), (1267, 493))\n",
      "========\n",
      "========\n",
      "Not Selecting.. ((1009, 406), (1082, 469))\n",
      "========\n"
     ]
    },
    {
     "name": "stderr",
     "output_type": "stream",
     "text": [
      "\r",
      " 21%|██        | 261/1261 [1:21:40<5:13:51, 18.83s/it]"
     ]
    },
    {
     "name": "stdout",
     "output_type": "stream",
     "text": [
      "Frame # 764\n",
      "========\n",
      "Selecting.. ((1050, 384), (1257, 479))\n",
      "========\n"
     ]
    },
    {
     "name": "stderr",
     "output_type": "stream",
     "text": [
      "\r",
      " 21%|██        | 262/1261 [1:21:59<5:13:47, 18.85s/it]"
     ]
    },
    {
     "name": "stdout",
     "output_type": "stream",
     "text": [
      "Frame # 765\n",
      "========\n",
      "Selecting.. ((1050, 384), (1257, 479))\n",
      "========\n"
     ]
    },
    {
     "name": "stderr",
     "output_type": "stream",
     "text": [
      "\r",
      " 21%|██        | 263/1261 [1:22:18<5:13:38, 18.86s/it]"
     ]
    },
    {
     "name": "stdout",
     "output_type": "stream",
     "text": [
      "Frame # 766\n",
      "========\n",
      "Selecting.. ((1044, 384), (1267, 479))\n",
      "========\n"
     ]
    },
    {
     "name": "stderr",
     "output_type": "stream",
     "text": [
      "\r",
      " 21%|██        | 264/1261 [1:22:36<5:12:57, 18.83s/it]"
     ]
    },
    {
     "name": "stdout",
     "output_type": "stream",
     "text": [
      "Frame # 767\n",
      "========\n",
      "Selecting.. ((1050, 384), (1257, 487))\n",
      "========\n"
     ]
    },
    {
     "name": "stderr",
     "output_type": "stream",
     "text": [
      "\r",
      " 21%|██        | 265/1261 [1:22:55<5:13:14, 18.87s/it]"
     ]
    },
    {
     "name": "stdout",
     "output_type": "stream",
     "text": [
      "Frame # 768\n",
      "========\n",
      "Selecting.. ((1050, 384), (1257, 487))\n",
      "========\n"
     ]
    },
    {
     "name": "stderr",
     "output_type": "stream",
     "text": [
      "\r",
      " 21%|██        | 266/1261 [1:23:14<5:13:29, 18.90s/it]"
     ]
    },
    {
     "name": "stdout",
     "output_type": "stream",
     "text": [
      "Frame # 769\n",
      "========\n",
      "Selecting.. ((1050, 384), (1267, 493))\n",
      "========\n"
     ]
    },
    {
     "name": "stderr",
     "output_type": "stream",
     "text": [
      "\r",
      " 21%|██        | 267/1261 [1:23:33<5:12:27, 18.86s/it]"
     ]
    },
    {
     "name": "stdout",
     "output_type": "stream",
     "text": [
      "Frame # 770\n",
      "========\n",
      "Selecting.. ((1050, 384), (1267, 493))\n",
      "========\n"
     ]
    },
    {
     "name": "stderr",
     "output_type": "stream",
     "text": [
      "\r",
      " 21%|██▏       | 268/1261 [1:23:52<5:11:54, 18.85s/it]"
     ]
    },
    {
     "name": "stdout",
     "output_type": "stream",
     "text": [
      "Frame # 771\n",
      "========\n",
      "Selecting.. ((1050, 384), (1271, 507))\n",
      "========\n"
     ]
    },
    {
     "name": "stderr",
     "output_type": "stream",
     "text": [
      "\r",
      " 21%|██▏       | 269/1261 [1:24:11<5:11:49, 18.86s/it]"
     ]
    },
    {
     "name": "stdout",
     "output_type": "stream",
     "text": [
      "Frame # 772\n",
      "========\n",
      "Selecting.. ((1050, 384), (1271, 507))\n",
      "========\n"
     ]
    },
    {
     "name": "stderr",
     "output_type": "stream",
     "text": [
      "\r",
      " 21%|██▏       | 270/1261 [1:24:29<5:11:04, 18.83s/it]"
     ]
    },
    {
     "name": "stdout",
     "output_type": "stream",
     "text": [
      "Frame # 773\n",
      "========\n",
      "Selecting.. ((1050, 384), (1271, 523))\n",
      "========\n"
     ]
    },
    {
     "name": "stderr",
     "output_type": "stream",
     "text": [
      "\r",
      " 21%|██▏       | 271/1261 [1:24:48<5:10:22, 18.81s/it]"
     ]
    },
    {
     "name": "stdout",
     "output_type": "stream",
     "text": [
      "Frame # 774\n",
      "========\n",
      "Selecting.. ((1044, 384), (1257, 493))\n",
      "========\n"
     ]
    },
    {
     "name": "stderr",
     "output_type": "stream",
     "text": [
      "\r",
      " 22%|██▏       | 272/1261 [1:25:07<5:09:55, 18.80s/it]"
     ]
    },
    {
     "name": "stdout",
     "output_type": "stream",
     "text": [
      "Frame # 775\n",
      "========\n",
      "Selecting.. ((1044, 384), (1257, 479))\n",
      "========\n"
     ]
    },
    {
     "name": "stderr",
     "output_type": "stream",
     "text": [
      "\r",
      " 22%|██▏       | 273/1261 [1:25:26<5:09:44, 18.81s/it]"
     ]
    },
    {
     "name": "stdout",
     "output_type": "stream",
     "text": [
      "Frame # 776\n",
      "========\n",
      "Selecting.. ((1044, 384), (1257, 493))\n",
      "========\n"
     ]
    },
    {
     "name": "stderr",
     "output_type": "stream",
     "text": [
      "\r",
      " 22%|██▏       | 274/1261 [1:25:45<5:10:10, 18.86s/it]"
     ]
    },
    {
     "name": "stdout",
     "output_type": "stream",
     "text": [
      "Frame # 777\n",
      "========\n",
      "Selecting.. ((1044, 384), (1257, 523))\n",
      "========\n"
     ]
    },
    {
     "name": "stderr",
     "output_type": "stream",
     "text": [
      "\r",
      " 22%|██▏       | 275/1261 [1:26:04<5:09:43, 18.85s/it]"
     ]
    },
    {
     "name": "stdout",
     "output_type": "stream",
     "text": [
      "Frame # 778\n",
      "========\n",
      "Selecting.. ((1044, 384), (1257, 493))\n",
      "========\n"
     ]
    },
    {
     "name": "stderr",
     "output_type": "stream",
     "text": [
      "\r",
      " 22%|██▏       | 276/1261 [1:26:22<5:09:14, 18.84s/it]"
     ]
    },
    {
     "name": "stdout",
     "output_type": "stream",
     "text": [
      "Frame # 779\n",
      "========\n",
      "Selecting.. ((1044, 384), (1271, 523))\n",
      "========\n"
     ]
    },
    {
     "name": "stderr",
     "output_type": "stream",
     "text": [
      "\r",
      " 22%|██▏       | 277/1261 [1:26:41<5:08:39, 18.82s/it]"
     ]
    },
    {
     "name": "stdout",
     "output_type": "stream",
     "text": [
      "Frame # 780\n",
      "========\n",
      "Selecting.. ((1044, 384), (1271, 493))\n",
      "========\n"
     ]
    },
    {
     "name": "stderr",
     "output_type": "stream",
     "text": [
      "\r",
      " 22%|██▏       | 278/1261 [1:27:00<5:07:54, 18.79s/it]"
     ]
    },
    {
     "name": "stdout",
     "output_type": "stream",
     "text": [
      "Frame # 781\n",
      "========\n",
      "Selecting.. ((1036, 384), (1271, 535))\n",
      "========\n"
     ]
    },
    {
     "name": "stderr",
     "output_type": "stream",
     "text": [
      "\r",
      " 22%|██▏       | 279/1261 [1:27:19<5:07:44, 18.80s/it]"
     ]
    },
    {
     "name": "stdout",
     "output_type": "stream",
     "text": [
      "Frame # 782\n",
      "========\n",
      "Selecting.. ((1036, 384), (1257, 521))\n",
      "========\n"
     ]
    },
    {
     "name": "stderr",
     "output_type": "stream",
     "text": [
      "\r",
      " 22%|██▏       | 280/1261 [1:27:37<5:06:37, 18.75s/it]"
     ]
    },
    {
     "name": "stdout",
     "output_type": "stream",
     "text": [
      "Frame # 783\n",
      "========\n",
      "Selecting.. ((1032, 384), (1271, 493))\n",
      "========\n"
     ]
    },
    {
     "name": "stderr",
     "output_type": "stream",
     "text": [
      "\r",
      " 22%|██▏       | 281/1261 [1:27:56<5:06:17, 18.75s/it]"
     ]
    },
    {
     "name": "stdout",
     "output_type": "stream",
     "text": [
      "Frame # 784\n",
      "========\n",
      "Selecting.. ((1032, 384), (1257, 493))\n",
      "========\n"
     ]
    },
    {
     "name": "stderr",
     "output_type": "stream",
     "text": [
      "\r",
      " 22%|██▏       | 282/1261 [1:28:15<5:06:40, 18.80s/it]"
     ]
    },
    {
     "name": "stdout",
     "output_type": "stream",
     "text": [
      "Frame # 785\n",
      "========\n",
      "Selecting.. ((1032, 384), (1243, 493))\n",
      "========\n",
      "========\n",
      "Not Selecting.. ((876, 408), (943, 487))\n",
      "========\n"
     ]
    },
    {
     "name": "stderr",
     "output_type": "stream",
     "text": [
      "\r",
      " 22%|██▏       | 283/1261 [1:28:34<5:06:25, 18.80s/it]"
     ]
    },
    {
     "name": "stdout",
     "output_type": "stream",
     "text": [
      "Frame # 786\n",
      "========\n",
      "Selecting.. ((1032, 384), (1243, 493))\n",
      "========\n",
      "========\n",
      "Not Selecting.. ((874, 408), (947, 474))\n",
      "========\n"
     ]
    },
    {
     "name": "stderr",
     "output_type": "stream",
     "text": [
      "\r",
      " 23%|██▎       | 284/1261 [1:28:53<5:06:14, 18.81s/it]"
     ]
    },
    {
     "name": "stdout",
     "output_type": "stream",
     "text": [
      "Frame # 787\n",
      "========\n",
      "Selecting.. ((1032, 384), (1243, 507))\n",
      "========\n",
      "========\n",
      "Not Selecting.. ((874, 405), (947, 468))\n",
      "========\n"
     ]
    },
    {
     "name": "stderr",
     "output_type": "stream",
     "text": [
      "\r",
      " 23%|██▎       | 285/1261 [1:29:12<5:06:18, 18.83s/it]"
     ]
    },
    {
     "name": "stdout",
     "output_type": "stream",
     "text": [
      "Frame # 788\n",
      "========\n",
      "Selecting.. ((1032, 384), (1243, 493))\n",
      "========\n"
     ]
    },
    {
     "name": "stderr",
     "output_type": "stream",
     "text": [
      "\r",
      " 23%|██▎       | 286/1261 [1:29:30<5:06:17, 18.85s/it]"
     ]
    },
    {
     "name": "stdout",
     "output_type": "stream",
     "text": [
      "Frame # 789\n",
      "========\n",
      "Selecting.. ((1032, 384), (1243, 523))\n",
      "========\n"
     ]
    },
    {
     "name": "stderr",
     "output_type": "stream",
     "text": [
      "\r",
      " 23%|██▎       | 287/1261 [1:29:49<5:05:38, 18.83s/it]"
     ]
    },
    {
     "name": "stdout",
     "output_type": "stream",
     "text": [
      "Frame # 790\n",
      "========\n",
      "Selecting.. ((1032, 384), (1243, 493))\n",
      "========\n"
     ]
    },
    {
     "name": "stderr",
     "output_type": "stream",
     "text": [
      "\r",
      " 23%|██▎       | 288/1261 [1:30:08<5:05:34, 18.84s/it]"
     ]
    },
    {
     "name": "stdout",
     "output_type": "stream",
     "text": [
      "Frame # 791\n",
      "========\n",
      "Selecting.. ((1032, 384), (1243, 493))\n",
      "========\n",
      "========\n",
      "Not Selecting.. ((870, 398), (963, 475))\n",
      "========\n"
     ]
    },
    {
     "name": "stderr",
     "output_type": "stream",
     "text": [
      "\r",
      " 23%|██▎       | 289/1261 [1:30:27<5:05:22, 18.85s/it]"
     ]
    },
    {
     "name": "stdout",
     "output_type": "stream",
     "text": [
      "Frame # 792\n",
      "========\n",
      "Selecting.. ((1032, 384), (1243, 521))\n",
      "========\n"
     ]
    },
    {
     "name": "stderr",
     "output_type": "stream",
     "text": [
      "\r",
      " 23%|██▎       | 290/1261 [1:30:46<5:04:51, 18.84s/it]"
     ]
    },
    {
     "name": "stdout",
     "output_type": "stream",
     "text": [
      "Frame # 793\n",
      "========\n",
      "Selecting.. ((1032, 384), (1243, 521))\n",
      "========\n"
     ]
    },
    {
     "name": "stderr",
     "output_type": "stream",
     "text": [
      "\r",
      " 23%|██▎       | 291/1261 [1:31:05<5:04:05, 18.81s/it]"
     ]
    },
    {
     "name": "stdout",
     "output_type": "stream",
     "text": [
      "Frame # 794\n",
      "========\n",
      "Selecting.. ((1032, 384), (1243, 521))\n",
      "========\n",
      "========\n",
      "Not Selecting.. ((901, 402), (974, 465))\n",
      "========\n"
     ]
    },
    {
     "name": "stderr",
     "output_type": "stream",
     "text": [
      "\r",
      " 23%|██▎       | 292/1261 [1:31:23<5:04:19, 18.84s/it]"
     ]
    },
    {
     "name": "stdout",
     "output_type": "stream",
     "text": [
      "Frame # 795\n",
      "========\n",
      "Selecting.. ((1032, 384), (1243, 493))\n",
      "========\n",
      "========\n",
      "Not Selecting.. ((914, 408), (987, 475))\n",
      "========\n"
     ]
    },
    {
     "name": "stderr",
     "output_type": "stream",
     "text": [
      "\r",
      " 23%|██▎       | 293/1261 [1:31:42<5:04:14, 18.86s/it]"
     ]
    },
    {
     "name": "stdout",
     "output_type": "stream",
     "text": [
      "Frame # 796\n",
      "========\n",
      "Selecting.. ((1032, 384), (1243, 523))\n",
      "========\n"
     ]
    },
    {
     "name": "stderr",
     "output_type": "stream",
     "text": [
      "\r",
      " 23%|██▎       | 294/1261 [1:32:01<5:04:07, 18.87s/it]"
     ]
    },
    {
     "name": "stdout",
     "output_type": "stream",
     "text": [
      "Frame # 797\n",
      "========\n",
      "Selecting.. ((1032, 384), (1243, 493))\n",
      "========\n",
      "========\n",
      "Not Selecting.. ((900, 408), (979, 475))\n",
      "========\n"
     ]
    },
    {
     "name": "stderr",
     "output_type": "stream",
     "text": [
      "\r",
      " 23%|██▎       | 295/1261 [1:32:20<5:03:48, 18.87s/it]"
     ]
    },
    {
     "name": "stdout",
     "output_type": "stream",
     "text": [
      "Frame # 798\n",
      "========\n",
      "Selecting.. ((1032, 384), (1243, 521))\n",
      "========\n"
     ]
    },
    {
     "name": "stderr",
     "output_type": "stream",
     "text": [
      "\r",
      " 23%|██▎       | 296/1261 [1:32:39<5:03:38, 18.88s/it]"
     ]
    },
    {
     "name": "stdout",
     "output_type": "stream",
     "text": [
      "Frame # 799\n",
      "========\n",
      "Selecting.. ((1032, 384), (1243, 521))\n",
      "========\n"
     ]
    },
    {
     "name": "stderr",
     "output_type": "stream",
     "text": [
      "\r",
      " 24%|██▎       | 297/1261 [1:32:58<5:03:06, 18.87s/it]"
     ]
    },
    {
     "name": "stdout",
     "output_type": "stream",
     "text": [
      "Frame # 800\n",
      "========\n",
      "Selecting.. ((1032, 384), (1231, 523))\n",
      "========\n"
     ]
    },
    {
     "name": "stderr",
     "output_type": "stream",
     "text": [
      "\r",
      " 24%|██▎       | 298/1261 [1:33:17<5:03:15, 18.90s/it]"
     ]
    },
    {
     "name": "stdout",
     "output_type": "stream",
     "text": [
      "Frame # 801\n",
      "========\n",
      "Selecting.. ((1032, 384), (1231, 507))\n",
      "========\n",
      "========\n",
      "Not Selecting.. ((924, 398), (1003, 487))\n",
      "========\n"
     ]
    },
    {
     "name": "stderr",
     "output_type": "stream",
     "text": [
      "\r",
      " 24%|██▎       | 299/1261 [1:33:36<5:02:21, 18.86s/it]"
     ]
    },
    {
     "name": "stdout",
     "output_type": "stream",
     "text": [
      "Frame # 802\n",
      "========\n",
      "Selecting.. ((1008, 384), (1229, 521))\n",
      "========\n",
      "========\n",
      "Not Selecting.. ((928, 402), (1001, 465))\n",
      "========\n"
     ]
    },
    {
     "name": "stderr",
     "output_type": "stream",
     "text": [
      "\r",
      " 24%|██▍       | 300/1261 [1:33:55<5:02:12, 18.87s/it]"
     ]
    },
    {
     "name": "stdout",
     "output_type": "stream",
     "text": [
      "Frame # 803\n",
      "========\n",
      "Selecting.. ((1020, 384), (1231, 523))\n",
      "========\n"
     ]
    },
    {
     "name": "stderr",
     "output_type": "stream",
     "text": [
      "\r",
      " 24%|██▍       | 301/1261 [1:34:13<5:01:45, 18.86s/it]"
     ]
    },
    {
     "name": "stdout",
     "output_type": "stream",
     "text": [
      "Frame # 804\n",
      "========\n",
      "Selecting.. ((1020, 384), (1231, 535))\n",
      "========\n"
     ]
    },
    {
     "name": "stderr",
     "output_type": "stream",
     "text": [
      "\r",
      " 24%|██▍       | 302/1261 [1:34:32<5:01:25, 18.86s/it]"
     ]
    },
    {
     "name": "stdout",
     "output_type": "stream",
     "text": [
      "Frame # 805\n",
      "========\n",
      "Selecting.. ((1020, 384), (1229, 535))\n",
      "========\n"
     ]
    },
    {
     "name": "stderr",
     "output_type": "stream",
     "text": [
      "\r",
      " 24%|██▍       | 303/1261 [1:34:51<5:00:06, 18.80s/it]"
     ]
    },
    {
     "name": "stdout",
     "output_type": "stream",
     "text": [
      "Frame # 806\n",
      "========\n",
      "Selecting.. ((1020, 384), (1229, 523))\n",
      "========\n"
     ]
    },
    {
     "name": "stderr",
     "output_type": "stream",
     "text": [
      "\r",
      " 24%|██▍       | 304/1261 [1:35:10<4:59:18, 18.77s/it]"
     ]
    },
    {
     "name": "stdout",
     "output_type": "stream",
     "text": [
      "Frame # 807\n",
      "========\n",
      "Selecting.. ((1020, 384), (1229, 523))\n",
      "========\n"
     ]
    },
    {
     "name": "stderr",
     "output_type": "stream",
     "text": [
      "\r",
      " 24%|██▍       | 305/1261 [1:35:28<4:58:30, 18.74s/it]"
     ]
    },
    {
     "name": "stdout",
     "output_type": "stream",
     "text": [
      "Frame # 808\n",
      "========\n",
      "Selecting.. ((1020, 384), (1229, 523))\n",
      "========\n"
     ]
    },
    {
     "name": "stderr",
     "output_type": "stream",
     "text": [
      "\r",
      " 24%|██▍       | 306/1261 [1:35:47<4:58:02, 18.72s/it]"
     ]
    },
    {
     "name": "stdout",
     "output_type": "stream",
     "text": [
      "Frame # 809\n",
      "========\n",
      "Selecting.. ((1020, 384), (1229, 521))\n",
      "========\n"
     ]
    },
    {
     "name": "stderr",
     "output_type": "stream",
     "text": [
      "\r",
      " 24%|██▍       | 307/1261 [1:36:06<4:57:58, 18.74s/it]"
     ]
    },
    {
     "name": "stdout",
     "output_type": "stream",
     "text": [
      "Frame # 810\n",
      "========\n",
      "Selecting.. ((1008, 384), (1219, 493))\n",
      "========\n"
     ]
    },
    {
     "name": "stderr",
     "output_type": "stream",
     "text": [
      "\r",
      " 24%|██▍       | 308/1261 [1:36:24<4:57:58, 18.76s/it]"
     ]
    },
    {
     "name": "stdout",
     "output_type": "stream",
     "text": [
      "Frame # 811\n",
      "========\n",
      "Selecting.. ((1020, 384), (1219, 493))\n",
      "========\n"
     ]
    },
    {
     "name": "stderr",
     "output_type": "stream",
     "text": [
      "\r",
      " 25%|██▍       | 309/1261 [1:36:43<4:57:54, 18.78s/it]"
     ]
    },
    {
     "name": "stdout",
     "output_type": "stream",
     "text": [
      "Frame # 812\n",
      "========\n",
      "Selecting.. ((1020, 384), (1219, 535))\n",
      "========\n"
     ]
    },
    {
     "name": "stderr",
     "output_type": "stream",
     "text": [
      "\r",
      " 25%|██▍       | 310/1261 [1:37:02<4:57:33, 18.77s/it]"
     ]
    },
    {
     "name": "stdout",
     "output_type": "stream",
     "text": [
      "Frame # 813\n",
      "========\n",
      "Selecting.. ((1008, 384), (1219, 507))\n",
      "========\n"
     ]
    },
    {
     "name": "stderr",
     "output_type": "stream",
     "text": [
      "\r",
      " 25%|██▍       | 311/1261 [1:37:21<4:57:59, 18.82s/it]"
     ]
    },
    {
     "name": "stdout",
     "output_type": "stream",
     "text": [
      "Frame # 814\n",
      "========\n",
      "Selecting.. ((1008, 384), (1215, 493))\n",
      "========\n"
     ]
    },
    {
     "name": "stderr",
     "output_type": "stream",
     "text": [
      "\r",
      " 25%|██▍       | 312/1261 [1:37:40<4:57:43, 18.82s/it]"
     ]
    },
    {
     "name": "stdout",
     "output_type": "stream",
     "text": [
      "Frame # 815\n",
      "========\n",
      "Selecting.. ((1008, 384), (1219, 507))\n",
      "========\n"
     ]
    },
    {
     "name": "stderr",
     "output_type": "stream",
     "text": [
      "\r",
      " 25%|██▍       | 313/1261 [1:37:59<4:57:45, 18.85s/it]"
     ]
    },
    {
     "name": "stdout",
     "output_type": "stream",
     "text": [
      "Frame # 816\n",
      "========\n",
      "Selecting.. ((1020, 384), (1207, 493))\n",
      "========\n"
     ]
    },
    {
     "name": "stderr",
     "output_type": "stream",
     "text": [
      "\r",
      " 25%|██▍       | 314/1261 [1:38:18<4:57:20, 18.84s/it]"
     ]
    },
    {
     "name": "stdout",
     "output_type": "stream",
     "text": [
      "Frame # 817\n",
      "========\n",
      "Selecting.. ((1020, 384), (1215, 521))\n",
      "========\n"
     ]
    },
    {
     "name": "stderr",
     "output_type": "stream",
     "text": [
      "\r",
      " 25%|██▍       | 315/1261 [1:38:36<4:57:07, 18.84s/it]"
     ]
    },
    {
     "name": "stdout",
     "output_type": "stream",
     "text": [
      "Frame # 818\n",
      "========\n",
      "Selecting.. ((1023, 384), (1219, 521))\n",
      "========\n"
     ]
    },
    {
     "name": "stderr",
     "output_type": "stream",
     "text": [
      "\r",
      " 25%|██▌       | 316/1261 [1:38:55<4:56:17, 18.81s/it]"
     ]
    },
    {
     "name": "stdout",
     "output_type": "stream",
     "text": [
      "Frame # 819\n",
      "========\n",
      "Selecting.. ((1014, 384), (1219, 521))\n",
      "========\n"
     ]
    },
    {
     "name": "stderr",
     "output_type": "stream",
     "text": [
      "\r",
      " 25%|██▌       | 317/1261 [1:39:14<4:56:21, 18.84s/it]"
     ]
    },
    {
     "name": "stdout",
     "output_type": "stream",
     "text": [
      "Frame # 820\n",
      "========\n",
      "Selecting.. ((1008, 384), (1215, 523))\n",
      "========\n"
     ]
    },
    {
     "name": "stderr",
     "output_type": "stream",
     "text": [
      "\r",
      " 25%|██▌       | 318/1261 [1:39:33<4:56:12, 18.85s/it]"
     ]
    },
    {
     "name": "stdout",
     "output_type": "stream",
     "text": [
      "Frame # 821\n",
      "========\n",
      "Selecting.. ((1008, 384), (1215, 523))\n",
      "========\n"
     ]
    },
    {
     "name": "stderr",
     "output_type": "stream",
     "text": [
      "\r",
      " 25%|██▌       | 319/1261 [1:39:52<4:55:35, 18.83s/it]"
     ]
    },
    {
     "name": "stdout",
     "output_type": "stream",
     "text": [
      "Frame # 822\n",
      "========\n",
      "Selecting.. ((1008, 384), (1219, 523))\n",
      "========\n"
     ]
    },
    {
     "name": "stderr",
     "output_type": "stream",
     "text": [
      "\r",
      " 25%|██▌       | 320/1261 [1:40:11<4:55:12, 18.82s/it]"
     ]
    },
    {
     "name": "stdout",
     "output_type": "stream",
     "text": [
      "Frame # 823\n",
      "========\n",
      "Selecting.. ((1008, 384), (1215, 535))\n",
      "========\n"
     ]
    },
    {
     "name": "stderr",
     "output_type": "stream",
     "text": [
      "\r",
      " 25%|██▌       | 321/1261 [1:40:29<4:55:11, 18.84s/it]"
     ]
    },
    {
     "name": "stdout",
     "output_type": "stream",
     "text": [
      "Frame # 824\n",
      "========\n",
      "Selecting.. ((1008, 384), (1215, 521))\n",
      "========\n"
     ]
    },
    {
     "name": "stderr",
     "output_type": "stream",
     "text": [
      "\r",
      " 26%|██▌       | 322/1261 [1:40:48<4:54:50, 18.84s/it]"
     ]
    },
    {
     "name": "stdout",
     "output_type": "stream",
     "text": [
      "Frame # 825\n",
      "========\n",
      "Selecting.. ((1008, 384), (1215, 521))\n",
      "========\n"
     ]
    },
    {
     "name": "stderr",
     "output_type": "stream",
     "text": [
      "\r",
      " 26%|██▌       | 323/1261 [1:41:07<4:54:29, 18.84s/it]"
     ]
    },
    {
     "name": "stdout",
     "output_type": "stream",
     "text": [
      "Frame # 826\n",
      "========\n",
      "Selecting.. ((1014, 384), (1215, 521))\n",
      "========\n"
     ]
    },
    {
     "name": "stderr",
     "output_type": "stream",
     "text": [
      "\r",
      " 26%|██▌       | 324/1261 [1:41:26<4:54:38, 18.87s/it]"
     ]
    },
    {
     "name": "stdout",
     "output_type": "stream",
     "text": [
      "Frame # 827\n",
      "========\n",
      "Selecting.. ((1008, 384), (1215, 523))\n",
      "========\n"
     ]
    },
    {
     "name": "stderr",
     "output_type": "stream",
     "text": [
      "\r",
      " 26%|██▌       | 325/1261 [1:41:45<4:54:27, 18.88s/it]"
     ]
    },
    {
     "name": "stdout",
     "output_type": "stream",
     "text": [
      "Frame # 828\n",
      "========\n",
      "Selecting.. ((1008, 384), (1229, 535))\n",
      "========\n"
     ]
    },
    {
     "name": "stderr",
     "output_type": "stream",
     "text": [
      "\r",
      " 26%|██▌       | 326/1261 [1:42:04<4:54:02, 18.87s/it]"
     ]
    },
    {
     "name": "stdout",
     "output_type": "stream",
     "text": [
      "Frame # 829\n",
      "========\n",
      "Selecting.. ((1008, 384), (1267, 535))\n",
      "========\n"
     ]
    },
    {
     "name": "stderr",
     "output_type": "stream",
     "text": [
      "\r",
      " 26%|██▌       | 327/1261 [1:42:23<4:53:18, 18.84s/it]"
     ]
    },
    {
     "name": "stdout",
     "output_type": "stream",
     "text": [
      "Frame # 830\n",
      "========\n",
      "Selecting.. ((996, 384), (1267, 535))\n",
      "========\n"
     ]
    },
    {
     "name": "stderr",
     "output_type": "stream",
     "text": [
      "\r",
      " 26%|██▌       | 328/1261 [1:42:41<4:53:19, 18.86s/it]"
     ]
    },
    {
     "name": "stdout",
     "output_type": "stream",
     "text": [
      "Frame # 831\n",
      "========\n",
      "Selecting.. ((996, 384), (1267, 535))\n",
      "========\n"
     ]
    },
    {
     "name": "stderr",
     "output_type": "stream",
     "text": [
      "\r",
      " 26%|██▌       | 329/1261 [1:43:00<4:52:16, 18.82s/it]"
     ]
    },
    {
     "name": "stdout",
     "output_type": "stream",
     "text": [
      "Frame # 832\n",
      "========\n",
      "Selecting.. ((1008, 384), (1267, 521))\n",
      "========\n"
     ]
    },
    {
     "name": "stderr",
     "output_type": "stream",
     "text": [
      "\r",
      " 26%|██▌       | 330/1261 [1:43:19<4:52:22, 18.84s/it]"
     ]
    },
    {
     "name": "stdout",
     "output_type": "stream",
     "text": [
      "Frame # 833\n",
      "========\n",
      "Selecting.. ((1005, 384), (1215, 521))\n",
      "========\n"
     ]
    },
    {
     "name": "stderr",
     "output_type": "stream",
     "text": [
      "\r",
      " 26%|██▌       | 331/1261 [1:43:38<4:52:02, 18.84s/it]"
     ]
    },
    {
     "name": "stdout",
     "output_type": "stream",
     "text": [
      "Frame # 834\n",
      "========\n",
      "Selecting.. ((1008, 384), (1201, 507))\n",
      "========\n"
     ]
    },
    {
     "name": "stderr",
     "output_type": "stream",
     "text": [
      "\r",
      " 26%|██▋       | 332/1261 [1:43:57<4:51:34, 18.83s/it]"
     ]
    },
    {
     "name": "stdout",
     "output_type": "stream",
     "text": [
      "Frame # 835\n",
      "========\n",
      "Selecting.. ((1008, 384), (1201, 521))\n",
      "========\n"
     ]
    },
    {
     "name": "stderr",
     "output_type": "stream",
     "text": [
      "\r",
      " 26%|██▋       | 333/1261 [1:44:16<4:51:20, 18.84s/it]"
     ]
    },
    {
     "name": "stdout",
     "output_type": "stream",
     "text": [
      "Frame # 836\n",
      "========\n",
      "Selecting.. ((1005, 384), (1201, 523))\n",
      "========\n",
      "========\n",
      "Not Selecting.. ((1198, 411), (1271, 474))\n",
      "========\n"
     ]
    },
    {
     "name": "stderr",
     "output_type": "stream",
     "text": [
      "\r",
      " 26%|██▋       | 334/1261 [1:44:34<4:51:25, 18.86s/it]"
     ]
    },
    {
     "name": "stdout",
     "output_type": "stream",
     "text": [
      "Frame # 837\n",
      "========\n",
      "Selecting.. ((1005, 384), (1195, 521))\n",
      "========\n"
     ]
    },
    {
     "name": "stderr",
     "output_type": "stream",
     "text": [
      "\r",
      " 27%|██▋       | 335/1261 [1:44:53<4:50:45, 18.84s/it]"
     ]
    },
    {
     "name": "stdout",
     "output_type": "stream",
     "text": [
      "Frame # 838\n",
      "========\n",
      "Selecting.. ((1005, 384), (1201, 523))\n",
      "========\n"
     ]
    },
    {
     "name": "stderr",
     "output_type": "stream",
     "text": [
      "\r",
      " 27%|██▋       | 336/1261 [1:45:12<4:50:31, 18.84s/it]"
     ]
    },
    {
     "name": "stdout",
     "output_type": "stream",
     "text": [
      "Frame # 839\n",
      "========\n",
      "Selecting.. ((1008, 384), (1201, 535))\n",
      "========\n"
     ]
    },
    {
     "name": "stderr",
     "output_type": "stream",
     "text": [
      "\r",
      " 27%|██▋       | 337/1261 [1:45:31<4:50:12, 18.85s/it]"
     ]
    },
    {
     "name": "stdout",
     "output_type": "stream",
     "text": [
      "Frame # 840\n",
      "========\n",
      "Selecting.. ((1005, 384), (1201, 535))\n",
      "========\n"
     ]
    },
    {
     "name": "stderr",
     "output_type": "stream",
     "text": [
      "\r",
      " 27%|██▋       | 338/1261 [1:45:50<4:49:42, 18.83s/it]"
     ]
    },
    {
     "name": "stdout",
     "output_type": "stream",
     "text": [
      "Frame # 841\n",
      "========\n",
      "Selecting.. ((1008, 384), (1201, 523))\n",
      "========\n"
     ]
    },
    {
     "name": "stderr",
     "output_type": "stream",
     "text": [
      "\r",
      " 27%|██▋       | 339/1261 [1:46:09<4:49:26, 18.84s/it]"
     ]
    },
    {
     "name": "stdout",
     "output_type": "stream",
     "text": [
      "Frame # 842\n",
      "========\n",
      "Selecting.. ((1008, 384), (1187, 521))\n",
      "========\n"
     ]
    },
    {
     "name": "stderr",
     "output_type": "stream",
     "text": [
      "\r",
      " 27%|██▋       | 340/1261 [1:46:28<4:49:27, 18.86s/it]"
     ]
    },
    {
     "name": "stdout",
     "output_type": "stream",
     "text": [
      "Frame # 843\n",
      "========\n",
      "Selecting.. ((1008, 384), (1195, 521))\n",
      "========\n"
     ]
    },
    {
     "name": "stderr",
     "output_type": "stream",
     "text": [
      "\r",
      " 27%|██▋       | 341/1261 [1:46:46<4:48:51, 18.84s/it]"
     ]
    },
    {
     "name": "stdout",
     "output_type": "stream",
     "text": [
      "Frame # 844\n",
      "========\n",
      "Selecting.. ((1005, 384), (1201, 521))\n",
      "========\n"
     ]
    },
    {
     "name": "stderr",
     "output_type": "stream",
     "text": [
      "\r",
      " 27%|██▋       | 342/1261 [1:47:05<4:47:51, 18.79s/it]"
     ]
    },
    {
     "name": "stdout",
     "output_type": "stream",
     "text": [
      "Frame # 845\n",
      "========\n",
      "Selecting.. ((1005, 384), (1219, 521))\n",
      "========\n"
     ]
    },
    {
     "name": "stderr",
     "output_type": "stream",
     "text": [
      "\r",
      " 27%|██▋       | 343/1261 [1:47:24<4:48:05, 18.83s/it]"
     ]
    },
    {
     "name": "stdout",
     "output_type": "stream",
     "text": [
      "Frame # 846\n",
      "========\n",
      "Selecting.. ((1005, 384), (1201, 521))\n",
      "========\n"
     ]
    },
    {
     "name": "stderr",
     "output_type": "stream",
     "text": [
      "\r",
      " 27%|██▋       | 344/1261 [1:47:43<4:47:40, 18.82s/it]"
     ]
    },
    {
     "name": "stdout",
     "output_type": "stream",
     "text": [
      "Frame # 847\n",
      "========\n",
      "Selecting.. ((1005, 384), (1243, 507))\n",
      "========\n"
     ]
    },
    {
     "name": "stderr",
     "output_type": "stream",
     "text": [
      "\r",
      " 27%|██▋       | 345/1261 [1:48:02<4:47:19, 18.82s/it]"
     ]
    },
    {
     "name": "stdout",
     "output_type": "stream",
     "text": [
      "Frame # 848\n",
      "========\n",
      "Selecting.. ((996, 384), (1267, 521))\n",
      "========\n"
     ]
    },
    {
     "name": "stderr",
     "output_type": "stream",
     "text": [
      "\r",
      " 27%|██▋       | 346/1261 [1:48:20<4:47:13, 18.83s/it]"
     ]
    },
    {
     "name": "stdout",
     "output_type": "stream",
     "text": [
      "Frame # 849\n",
      "========\n",
      "Selecting.. ((996, 384), (1267, 523))\n",
      "========\n"
     ]
    },
    {
     "name": "stderr",
     "output_type": "stream",
     "text": [
      "\r",
      " 28%|██▊       | 347/1261 [1:48:39<4:47:07, 18.85s/it]"
     ]
    },
    {
     "name": "stdout",
     "output_type": "stream",
     "text": [
      "Frame # 850\n",
      "========\n",
      "Selecting.. ((1005, 384), (1243, 521))\n",
      "========\n"
     ]
    },
    {
     "name": "stderr",
     "output_type": "stream",
     "text": [
      "\r",
      " 28%|██▊       | 348/1261 [1:48:58<4:46:28, 18.83s/it]"
     ]
    },
    {
     "name": "stdout",
     "output_type": "stream",
     "text": [
      "Frame # 851\n",
      "========\n",
      "Selecting.. ((996, 384), (1173, 507))\n",
      "========\n"
     ]
    },
    {
     "name": "stderr",
     "output_type": "stream",
     "text": [
      "\r",
      " 28%|██▊       | 349/1261 [1:49:17<4:46:33, 18.85s/it]"
     ]
    },
    {
     "name": "stdout",
     "output_type": "stream",
     "text": [
      "Frame # 852\n",
      "========\n",
      "Selecting.. ((996, 384), (1183, 507))\n",
      "========\n"
     ]
    },
    {
     "name": "stderr",
     "output_type": "stream",
     "text": [
      "\r",
      " 28%|██▊       | 350/1261 [1:49:36<4:45:54, 18.83s/it]"
     ]
    },
    {
     "name": "stdout",
     "output_type": "stream",
     "text": [
      "Frame # 853\n",
      "========\n",
      "Selecting.. ((996, 384), (1173, 507))\n",
      "========\n"
     ]
    },
    {
     "name": "stderr",
     "output_type": "stream",
     "text": [
      "\r",
      " 28%|██▊       | 351/1261 [1:49:54<4:45:01, 18.79s/it]"
     ]
    },
    {
     "name": "stdout",
     "output_type": "stream",
     "text": [
      "Frame # 854\n",
      "========\n",
      "Selecting.. ((1005, 384), (1173, 507))\n",
      "========\n"
     ]
    },
    {
     "name": "stderr",
     "output_type": "stream",
     "text": [
      "\r",
      " 28%|██▊       | 352/1261 [1:50:13<4:45:17, 18.83s/it]"
     ]
    },
    {
     "name": "stdout",
     "output_type": "stream",
     "text": [
      "Frame # 855\n",
      "========\n",
      "Selecting.. ((996, 384), (1173, 507))\n",
      "========\n"
     ]
    },
    {
     "name": "stderr",
     "output_type": "stream",
     "text": [
      "\r",
      " 28%|██▊       | 353/1261 [1:50:32<4:44:44, 18.82s/it]"
     ]
    },
    {
     "name": "stdout",
     "output_type": "stream",
     "text": [
      "Frame # 856\n",
      "========\n",
      "Selecting.. ((987, 384), (1173, 511))\n",
      "========\n"
     ]
    },
    {
     "name": "stderr",
     "output_type": "stream",
     "text": [
      "\r",
      " 28%|██▊       | 354/1261 [1:50:51<4:44:06, 18.79s/it]"
     ]
    },
    {
     "name": "stdout",
     "output_type": "stream",
     "text": [
      "Frame # 857\n",
      "========\n",
      "Selecting.. ((984, 384), (1173, 511))\n",
      "========\n"
     ]
    },
    {
     "name": "stderr",
     "output_type": "stream",
     "text": [
      "\r",
      " 28%|██▊       | 355/1261 [1:51:10<4:43:39, 18.79s/it]"
     ]
    },
    {
     "name": "stdout",
     "output_type": "stream",
     "text": [
      "Frame # 858\n",
      "========\n",
      "Selecting.. ((987, 384), (1173, 511))\n",
      "========\n"
     ]
    },
    {
     "name": "stderr",
     "output_type": "stream",
     "text": [
      "\r",
      " 28%|██▊       | 356/1261 [1:51:29<4:43:43, 18.81s/it]"
     ]
    },
    {
     "name": "stdout",
     "output_type": "stream",
     "text": [
      "Frame # 859\n",
      "========\n",
      "Selecting.. ((987, 384), (1171, 511))\n",
      "========\n"
     ]
    },
    {
     "name": "stderr",
     "output_type": "stream",
     "text": [
      "\r",
      " 28%|██▊       | 357/1261 [1:51:47<4:43:30, 18.82s/it]"
     ]
    },
    {
     "name": "stdout",
     "output_type": "stream",
     "text": [
      "Frame # 860\n",
      "========\n",
      "Selecting.. ((996, 384), (1171, 507))\n",
      "========\n"
     ]
    },
    {
     "name": "stderr",
     "output_type": "stream",
     "text": [
      "\r",
      " 28%|██▊       | 358/1261 [1:52:06<4:43:09, 18.81s/it]"
     ]
    },
    {
     "name": "stdout",
     "output_type": "stream",
     "text": [
      "Frame # 861\n",
      "========\n",
      "Selecting.. ((996, 384), (1173, 511))\n",
      "========\n"
     ]
    },
    {
     "name": "stderr",
     "output_type": "stream",
     "text": [
      "\r",
      " 28%|██▊       | 359/1261 [1:52:25<4:42:51, 18.82s/it]"
     ]
    },
    {
     "name": "stdout",
     "output_type": "stream",
     "text": [
      "Frame # 862\n",
      "========\n",
      "Selecting.. ((996, 384), (1159, 511))\n",
      "========\n"
     ]
    },
    {
     "name": "stderr",
     "output_type": "stream",
     "text": [
      "\r",
      " 29%|██▊       | 360/1261 [1:52:44<4:42:41, 18.82s/it]"
     ]
    },
    {
     "name": "stdout",
     "output_type": "stream",
     "text": [
      "Frame # 863\n",
      "========\n",
      "Selecting.. ((996, 384), (1173, 511))\n",
      "========\n",
      "========\n",
      "Not Selecting.. ((1161, 396), (1234, 475))\n",
      "========\n"
     ]
    },
    {
     "name": "stderr",
     "output_type": "stream",
     "text": [
      "\r",
      " 29%|██▊       | 361/1261 [1:53:03<4:41:39, 18.78s/it]"
     ]
    },
    {
     "name": "stdout",
     "output_type": "stream",
     "text": [
      "Frame # 864\n",
      "========\n",
      "Selecting.. ((987, 384), (1159, 479))\n",
      "========\n"
     ]
    },
    {
     "name": "stderr",
     "output_type": "stream",
     "text": [
      "\r",
      " 29%|██▊       | 362/1261 [1:53:21<4:41:29, 18.79s/it]"
     ]
    },
    {
     "name": "stdout",
     "output_type": "stream",
     "text": [
      "Frame # 865\n",
      "========\n",
      "Selecting.. ((984, 384), (1159, 511))\n",
      "========\n"
     ]
    },
    {
     "name": "stderr",
     "output_type": "stream",
     "text": [
      "\r",
      " 29%|██▉       | 363/1261 [1:53:40<4:41:40, 18.82s/it]"
     ]
    },
    {
     "name": "stdout",
     "output_type": "stream",
     "text": [
      "Frame # 866\n",
      "========\n",
      "Selecting.. ((996, 384), (1159, 511))\n",
      "========\n"
     ]
    },
    {
     "name": "stderr",
     "output_type": "stream",
     "text": [
      "\r",
      " 29%|██▉       | 364/1261 [1:53:59<4:41:09, 18.81s/it]"
     ]
    },
    {
     "name": "stdout",
     "output_type": "stream",
     "text": [
      "Frame # 867\n",
      "========\n",
      "Selecting.. ((996, 384), (1159, 521))\n",
      "========\n"
     ]
    },
    {
     "name": "stderr",
     "output_type": "stream",
     "text": [
      "\r",
      " 29%|██▉       | 365/1261 [1:54:18<4:40:31, 18.79s/it]"
     ]
    },
    {
     "name": "stdout",
     "output_type": "stream",
     "text": [
      "Frame # 868\n",
      "========\n",
      "Selecting.. ((996, 384), (1173, 521))\n",
      "========\n"
     ]
    },
    {
     "name": "stderr",
     "output_type": "stream",
     "text": [
      "\r",
      " 29%|██▉       | 366/1261 [1:54:36<4:39:39, 18.75s/it]"
     ]
    },
    {
     "name": "stdout",
     "output_type": "stream",
     "text": [
      "Frame # 869\n",
      "========\n",
      "Selecting.. ((987, 384), (1159, 521))\n",
      "========\n"
     ]
    },
    {
     "name": "stderr",
     "output_type": "stream",
     "text": [
      "\r",
      " 29%|██▉       | 367/1261 [1:54:55<4:39:08, 18.73s/it]"
     ]
    },
    {
     "name": "stdout",
     "output_type": "stream",
     "text": [
      "Frame # 870\n",
      "========\n",
      "Selecting.. ((987, 384), (1147, 511))\n",
      "========\n"
     ]
    },
    {
     "name": "stderr",
     "output_type": "stream",
     "text": [
      "\r",
      " 29%|██▉       | 368/1261 [1:55:14<4:39:06, 18.75s/it]"
     ]
    },
    {
     "name": "stdout",
     "output_type": "stream",
     "text": [
      "Frame # 871\n",
      "========\n",
      "Selecting.. ((987, 384), (1147, 511))\n",
      "========\n"
     ]
    },
    {
     "name": "stderr",
     "output_type": "stream",
     "text": [
      "\r",
      " 29%|██▉       | 369/1261 [1:55:33<4:38:51, 18.76s/it]"
     ]
    },
    {
     "name": "stdout",
     "output_type": "stream",
     "text": [
      "Frame # 872\n",
      "========\n",
      "Selecting.. ((987, 384), (1147, 511))\n",
      "========\n"
     ]
    },
    {
     "name": "stderr",
     "output_type": "stream",
     "text": [
      "\r",
      " 29%|██▉       | 370/1261 [1:55:51<4:38:44, 18.77s/it]"
     ]
    },
    {
     "name": "stdout",
     "output_type": "stream",
     "text": [
      "Frame # 873\n",
      "========\n",
      "Selecting.. ((978, 384), (1147, 521))\n",
      "========\n"
     ]
    },
    {
     "name": "stderr",
     "output_type": "stream",
     "text": [
      "\r",
      " 29%|██▉       | 371/1261 [1:56:10<4:38:27, 18.77s/it]"
     ]
    },
    {
     "name": "stdout",
     "output_type": "stream",
     "text": [
      "Frame # 874\n",
      "========\n",
      "Selecting.. ((972, 384), (1147, 521))\n",
      "========\n",
      "========\n",
      "Not Selecting.. ((1164, 384), (1267, 479))\n",
      "========\n"
     ]
    },
    {
     "name": "stderr",
     "output_type": "stream",
     "text": [
      "\r",
      " 30%|██▉       | 372/1261 [1:56:29<4:38:16, 18.78s/it]"
     ]
    },
    {
     "name": "stdout",
     "output_type": "stream",
     "text": [
      "Frame # 875\n",
      "========\n",
      "Selecting.. ((972, 384), (1147, 521))\n",
      "========\n",
      "========\n",
      "Not Selecting.. ((1164, 384), (1267, 475))\n",
      "========\n"
     ]
    },
    {
     "name": "stderr",
     "output_type": "stream",
     "text": [
      "\r",
      " 30%|██▉       | 373/1261 [1:56:48<4:37:53, 18.78s/it]"
     ]
    },
    {
     "name": "stdout",
     "output_type": "stream",
     "text": [
      "Frame # 876\n",
      "========\n",
      "Selecting.. ((972, 384), (1145, 511))\n",
      "========\n",
      "========\n",
      "Not Selecting.. ((1188, 396), (1271, 475))\n",
      "========\n"
     ]
    },
    {
     "name": "stderr",
     "output_type": "stream",
     "text": [
      "\r",
      " 30%|██▉       | 374/1261 [1:57:07<4:37:25, 18.77s/it]"
     ]
    },
    {
     "name": "stdout",
     "output_type": "stream",
     "text": [
      "Frame # 877\n",
      "========\n",
      "Selecting.. ((978, 384), (1145, 521))\n",
      "========\n"
     ]
    },
    {
     "name": "stderr",
     "output_type": "stream",
     "text": [
      "\r",
      " 30%|██▉       | 375/1261 [1:57:25<4:37:14, 18.77s/it]"
     ]
    },
    {
     "name": "stdout",
     "output_type": "stream",
     "text": [
      "Frame # 878\n",
      "========\n",
      "Selecting.. ((969, 396), (1135, 521))\n",
      "========\n",
      "========\n",
      "Not Selecting.. ((927, 422), (1000, 485))\n",
      "========\n"
     ]
    },
    {
     "name": "stderr",
     "output_type": "stream",
     "text": [
      "\r",
      " 30%|██▉       | 376/1261 [1:57:44<4:37:24, 18.81s/it]"
     ]
    },
    {
     "name": "stdout",
     "output_type": "stream",
     "text": [
      "Frame # 879\n",
      "========\n",
      "Selecting.. ((969, 396), (1135, 521))\n",
      "========\n"
     ]
    },
    {
     "name": "stderr",
     "output_type": "stream",
     "text": [
      "\r",
      " 30%|██▉       | 377/1261 [1:58:03<4:36:59, 18.80s/it]"
     ]
    },
    {
     "name": "stdout",
     "output_type": "stream",
     "text": [
      "Frame # 880\n",
      "========\n",
      "Selecting.. ((969, 384), (1135, 523))\n",
      "========\n"
     ]
    },
    {
     "name": "stderr",
     "output_type": "stream",
     "text": [
      "\r",
      " 30%|██▉       | 378/1261 [1:58:22<4:36:51, 18.81s/it]"
     ]
    },
    {
     "name": "stdout",
     "output_type": "stream",
     "text": [
      "Frame # 881\n",
      "========\n",
      "Selecting.. ((969, 384), (1131, 511))\n",
      "========\n"
     ]
    },
    {
     "name": "stderr",
     "output_type": "stream",
     "text": [
      "\r",
      " 30%|███       | 379/1261 [1:58:41<4:36:09, 18.79s/it]"
     ]
    },
    {
     "name": "stdout",
     "output_type": "stream",
     "text": [
      "Frame # 882\n",
      "========\n",
      "Selecting.. ((969, 384), (1135, 521))\n",
      "========\n"
     ]
    },
    {
     "name": "stderr",
     "output_type": "stream",
     "text": [
      "\r",
      " 30%|███       | 380/1261 [1:58:59<4:35:31, 18.76s/it]"
     ]
    },
    {
     "name": "stdout",
     "output_type": "stream",
     "text": [
      "Frame # 883\n",
      "========\n",
      "Selecting.. ((978, 384), (1131, 507))\n",
      "========\n"
     ]
    },
    {
     "name": "stderr",
     "output_type": "stream",
     "text": [
      "\r",
      " 30%|███       | 381/1261 [1:59:18<4:34:59, 18.75s/it]"
     ]
    },
    {
     "name": "stdout",
     "output_type": "stream",
     "text": [
      "Frame # 884\n",
      "========\n",
      "Selecting.. ((978, 384), (1131, 507))\n",
      "========\n"
     ]
    },
    {
     "name": "stderr",
     "output_type": "stream",
     "text": [
      "\r",
      " 30%|███       | 382/1261 [1:59:37<4:34:37, 18.75s/it]"
     ]
    },
    {
     "name": "stdout",
     "output_type": "stream",
     "text": [
      "Frame # 885\n",
      "========\n",
      "Selecting.. ((978, 384), (1131, 511))\n",
      "========\n"
     ]
    },
    {
     "name": "stderr",
     "output_type": "stream",
     "text": [
      "\r",
      " 30%|███       | 383/1261 [1:59:55<4:34:21, 18.75s/it]"
     ]
    },
    {
     "name": "stdout",
     "output_type": "stream",
     "text": [
      "Frame # 886\n",
      "========\n",
      "Selecting.. ((994, 384), (1131, 507))\n",
      "========\n"
     ]
    },
    {
     "name": "stderr",
     "output_type": "stream",
     "text": [
      "\r",
      " 30%|███       | 384/1261 [2:00:14<4:34:06, 18.75s/it]"
     ]
    },
    {
     "name": "stdout",
     "output_type": "stream",
     "text": [
      "Frame # 887\n",
      "========\n",
      "Selecting.. ((969, 384), (1117, 507))\n",
      "========\n"
     ]
    },
    {
     "name": "stderr",
     "output_type": "stream",
     "text": [
      "\r",
      " 31%|███       | 385/1261 [2:00:33<4:34:24, 18.80s/it]"
     ]
    },
    {
     "name": "stdout",
     "output_type": "stream",
     "text": [
      "Frame # 888\n",
      "========\n",
      "Selecting.. ((984, 384), (1117, 499))\n",
      "========\n"
     ]
    },
    {
     "name": "stderr",
     "output_type": "stream",
     "text": [
      "\r",
      " 31%|███       | 386/1261 [2:00:52<4:33:19, 18.74s/it]"
     ]
    },
    {
     "name": "stdout",
     "output_type": "stream",
     "text": [
      "Frame # 889\n",
      "========\n",
      "Selecting.. ((980, 384), (1117, 507))\n",
      "========\n"
     ]
    },
    {
     "name": "stderr",
     "output_type": "stream",
     "text": [
      "\r",
      " 31%|███       | 387/1261 [2:01:10<4:32:33, 18.71s/it]"
     ]
    },
    {
     "name": "stdout",
     "output_type": "stream",
     "text": [
      "Frame # 890\n",
      "========\n",
      "Selecting.. ((960, 384), (1117, 507))\n",
      "========\n"
     ]
    },
    {
     "name": "stderr",
     "output_type": "stream",
     "text": [
      "\r",
      " 31%|███       | 388/1261 [2:01:29<4:32:31, 18.73s/it]"
     ]
    },
    {
     "name": "stdout",
     "output_type": "stream",
     "text": [
      "Frame # 891\n",
      "========\n",
      "Selecting.. ((984, 384), (1117, 507))\n",
      "========\n"
     ]
    },
    {
     "name": "stderr",
     "output_type": "stream",
     "text": [
      "\r",
      " 31%|███       | 389/1261 [2:01:48<4:32:52, 18.78s/it]"
     ]
    },
    {
     "name": "stdout",
     "output_type": "stream",
     "text": [
      "Frame # 892\n",
      "========\n",
      "Selecting.. ((984, 384), (1117, 507))\n",
      "========\n"
     ]
    },
    {
     "name": "stderr",
     "output_type": "stream",
     "text": [
      "\r",
      " 31%|███       | 390/1261 [2:02:07<4:32:11, 18.75s/it]"
     ]
    },
    {
     "name": "stdout",
     "output_type": "stream",
     "text": [
      "Frame # 893\n",
      "========\n",
      "Selecting.. ((984, 384), (1117, 507))\n",
      "========\n"
     ]
    },
    {
     "name": "stderr",
     "output_type": "stream",
     "text": [
      "\r",
      " 31%|███       | 391/1261 [2:02:25<4:31:44, 18.74s/it]"
     ]
    },
    {
     "name": "stdout",
     "output_type": "stream",
     "text": [
      "Frame # 894\n",
      "========\n",
      "Selecting.. ((951, 384), (1111, 511))\n",
      "========\n"
     ]
    },
    {
     "name": "stderr",
     "output_type": "stream",
     "text": [
      "\r",
      " 31%|███       | 392/1261 [2:02:44<4:31:24, 18.74s/it]"
     ]
    },
    {
     "name": "stdout",
     "output_type": "stream",
     "text": [
      "Frame # 895\n",
      "========\n",
      "Selecting.. ((951, 384), (1103, 493))\n",
      "========\n"
     ]
    },
    {
     "name": "stderr",
     "output_type": "stream",
     "text": [
      "\r",
      " 31%|███       | 393/1261 [2:03:03<4:30:19, 18.69s/it]"
     ]
    },
    {
     "name": "stdout",
     "output_type": "stream",
     "text": [
      "Frame # 896\n",
      "========\n",
      "Selecting.. ((951, 384), (1111, 507))\n",
      "========\n"
     ]
    },
    {
     "name": "stderr",
     "output_type": "stream",
     "text": [
      "\r",
      " 31%|███       | 394/1261 [2:03:21<4:30:10, 18.70s/it]"
     ]
    },
    {
     "name": "stdout",
     "output_type": "stream",
     "text": [
      "Frame # 897\n",
      "========\n",
      "Selecting.. ((972, 384), (1103, 507))\n",
      "========\n"
     ]
    },
    {
     "name": "stderr",
     "output_type": "stream",
     "text": [
      "\r",
      " 31%|███▏      | 395/1261 [2:03:40<4:30:13, 18.72s/it]"
     ]
    },
    {
     "name": "stdout",
     "output_type": "stream",
     "text": [
      "Frame # 898\n",
      "========\n",
      "Selecting.. ((966, 384), (1103, 511))\n",
      "========\n"
     ]
    },
    {
     "name": "stderr",
     "output_type": "stream",
     "text": [
      "\r",
      " 31%|███▏      | 396/1261 [2:03:59<4:29:38, 18.70s/it]"
     ]
    },
    {
     "name": "stdout",
     "output_type": "stream",
     "text": [
      "Frame # 899\n",
      "========\n",
      "Selecting.. ((972, 384), (1103, 511))\n",
      "========\n"
     ]
    },
    {
     "name": "stderr",
     "output_type": "stream",
     "text": [
      "\r",
      " 31%|███▏      | 397/1261 [2:04:17<4:28:19, 18.63s/it]"
     ]
    },
    {
     "name": "stdout",
     "output_type": "stream",
     "text": [
      "Frame # 900\n",
      "========\n",
      "Selecting.. ((972, 384), (1099, 507))\n",
      "========\n"
     ]
    },
    {
     "name": "stderr",
     "output_type": "stream",
     "text": [
      "\r",
      " 32%|███▏      | 398/1261 [2:04:36<4:28:14, 18.65s/it]"
     ]
    },
    {
     "name": "stdout",
     "output_type": "stream",
     "text": [
      "Frame # 901\n",
      "========\n",
      "Selecting.. ((972, 384), (1103, 507))\n",
      "========\n"
     ]
    },
    {
     "name": "stderr",
     "output_type": "stream",
     "text": [
      "\r",
      " 32%|███▏      | 399/1261 [2:04:55<4:27:39, 18.63s/it]"
     ]
    },
    {
     "name": "stdout",
     "output_type": "stream",
     "text": [
      "Frame # 902\n",
      "========\n",
      "Selecting.. ((980, 384), (1103, 507))\n",
      "========\n"
     ]
    },
    {
     "name": "stderr",
     "output_type": "stream",
     "text": [
      "\r",
      " 32%|███▏      | 400/1261 [2:05:13<4:27:49, 18.66s/it]"
     ]
    },
    {
     "name": "stdout",
     "output_type": "stream",
     "text": [
      "Frame # 903\n",
      "========\n",
      "Selecting.. ((980, 384), (1089, 507))\n",
      "========\n"
     ]
    },
    {
     "name": "stderr",
     "output_type": "stream",
     "text": [
      "\r",
      " 32%|███▏      | 401/1261 [2:05:32<4:27:58, 18.70s/it]"
     ]
    },
    {
     "name": "stdout",
     "output_type": "stream",
     "text": [
      "Frame # 904\n",
      "========\n",
      "Selecting.. ((978, 384), (1099, 507))\n",
      "========\n"
     ]
    },
    {
     "name": "stderr",
     "output_type": "stream",
     "text": [
      "\r",
      " 32%|███▏      | 402/1261 [2:05:51<4:27:22, 18.68s/it]"
     ]
    },
    {
     "name": "stdout",
     "output_type": "stream",
     "text": [
      "Frame # 905\n",
      "========\n",
      "Selecting.. ((980, 384), (1089, 499))\n",
      "========\n"
     ]
    },
    {
     "name": "stderr",
     "output_type": "stream",
     "text": [
      "\r",
      " 32%|███▏      | 403/1261 [2:06:10<4:27:38, 18.72s/it]"
     ]
    },
    {
     "name": "stdout",
     "output_type": "stream",
     "text": [
      "Frame # 906\n",
      "========\n",
      "Selecting.. ((980, 384), (1089, 499))\n",
      "========\n"
     ]
    },
    {
     "name": "stderr",
     "output_type": "stream",
     "text": [
      "\r",
      " 32%|███▏      | 404/1261 [2:06:28<4:27:47, 18.75s/it]"
     ]
    },
    {
     "name": "stdout",
     "output_type": "stream",
     "text": [
      "Frame # 907\n",
      "========\n",
      "Selecting.. ((980, 384), (1087, 493))\n",
      "========\n"
     ]
    },
    {
     "name": "stderr",
     "output_type": "stream",
     "text": [
      "\r",
      " 32%|███▏      | 405/1261 [2:06:47<4:26:52, 18.71s/it]"
     ]
    },
    {
     "name": "stdout",
     "output_type": "stream",
     "text": [
      "Frame # 908\n",
      "========\n",
      "Selecting.. ((972, 384), (1089, 493))\n",
      "========\n"
     ]
    },
    {
     "name": "stderr",
     "output_type": "stream",
     "text": [
      "\r",
      " 32%|███▏      | 406/1261 [2:07:06<4:26:24, 18.69s/it]"
     ]
    },
    {
     "name": "stdout",
     "output_type": "stream",
     "text": [
      "Frame # 909\n",
      "========\n",
      "Selecting.. ((972, 384), (1089, 499))\n",
      "========\n"
     ]
    },
    {
     "name": "stderr",
     "output_type": "stream",
     "text": [
      "\r",
      " 32%|███▏      | 407/1261 [2:07:24<4:26:13, 18.70s/it]"
     ]
    },
    {
     "name": "stdout",
     "output_type": "stream",
     "text": [
      "Frame # 910\n",
      "========\n",
      "Selecting.. ((972, 384), (1075, 479))\n",
      "========\n"
     ]
    },
    {
     "name": "stderr",
     "output_type": "stream",
     "text": [
      "\r",
      " 32%|███▏      | 408/1261 [2:07:43<4:25:57, 18.71s/it]"
     ]
    },
    {
     "name": "stdout",
     "output_type": "stream",
     "text": [
      "Frame # 911\n",
      "========\n",
      "Selecting.. ((966, 384), (1075, 479))\n",
      "========\n"
     ]
    },
    {
     "name": "stderr",
     "output_type": "stream",
     "text": [
      "\r",
      " 32%|███▏      | 409/1261 [2:08:02<4:25:57, 18.73s/it]"
     ]
    },
    {
     "name": "stdout",
     "output_type": "stream",
     "text": [
      "Frame # 912\n",
      "========\n",
      "Selecting.. ((966, 384), (1075, 479))\n",
      "========\n"
     ]
    },
    {
     "name": "stderr",
     "output_type": "stream",
     "text": [
      "\r",
      " 33%|███▎      | 410/1261 [2:08:21<4:25:30, 18.72s/it]"
     ]
    },
    {
     "name": "stdout",
     "output_type": "stream",
     "text": [
      "Frame # 913\n",
      "========\n",
      "Selecting.. ((980, 384), (1075, 499))\n",
      "========\n"
     ]
    },
    {
     "name": "stderr",
     "output_type": "stream",
     "text": [
      "\r",
      " 33%|███▎      | 411/1261 [2:08:39<4:25:16, 18.73s/it]"
     ]
    },
    {
     "name": "stdout",
     "output_type": "stream",
     "text": [
      "Frame # 914\n",
      "========\n",
      "Selecting.. ((980, 384), (1075, 499))\n",
      "========\n"
     ]
    },
    {
     "name": "stderr",
     "output_type": "stream",
     "text": [
      "\r",
      " 33%|███▎      | 412/1261 [2:08:58<4:24:44, 18.71s/it]"
     ]
    },
    {
     "name": "stdout",
     "output_type": "stream",
     "text": [
      "Frame # 915\n",
      "========\n",
      "Selecting.. ((972, 384), (1075, 499))\n",
      "========\n"
     ]
    },
    {
     "name": "stderr",
     "output_type": "stream",
     "text": [
      "\r",
      " 33%|███▎      | 413/1261 [2:09:17<4:24:23, 18.71s/it]"
     ]
    },
    {
     "name": "stdout",
     "output_type": "stream",
     "text": [
      "Frame # 916\n",
      "========\n",
      "Selecting.. ((972, 384), (1075, 499))\n",
      "========\n"
     ]
    },
    {
     "name": "stderr",
     "output_type": "stream",
     "text": [
      "\r",
      " 33%|███▎      | 414/1261 [2:09:36<4:24:35, 18.74s/it]"
     ]
    },
    {
     "name": "stdout",
     "output_type": "stream",
     "text": [
      "Frame # 917\n",
      "========\n",
      "Selecting.. ((966, 384), (1075, 499))\n",
      "========\n"
     ]
    },
    {
     "name": "stderr",
     "output_type": "stream",
     "text": [
      "\r",
      " 33%|███▎      | 415/1261 [2:09:54<4:24:18, 18.75s/it]"
     ]
    },
    {
     "name": "stdout",
     "output_type": "stream",
     "text": [
      "Frame # 918\n",
      "========\n",
      "Selecting.. ((966, 384), (1075, 499))\n",
      "========\n"
     ]
    },
    {
     "name": "stderr",
     "output_type": "stream",
     "text": [
      "\r",
      " 33%|███▎      | 416/1261 [2:10:13<4:24:19, 18.77s/it]"
     ]
    },
    {
     "name": "stdout",
     "output_type": "stream",
     "text": [
      "Frame # 919\n",
      "========\n",
      "Selecting.. ((966, 384), (1075, 493))\n",
      "========\n"
     ]
    },
    {
     "name": "stderr",
     "output_type": "stream",
     "text": [
      "\r",
      " 33%|███▎      | 417/1261 [2:10:32<4:23:59, 18.77s/it]"
     ]
    },
    {
     "name": "stdout",
     "output_type": "stream",
     "text": [
      "Frame # 920\n",
      "========\n",
      "Selecting.. ((966, 384), (1089, 507))\n",
      "========\n"
     ]
    },
    {
     "name": "stderr",
     "output_type": "stream",
     "text": [
      "\r",
      " 33%|███▎      | 418/1261 [2:10:51<4:23:08, 18.73s/it]"
     ]
    },
    {
     "name": "stdout",
     "output_type": "stream",
     "text": [
      "Frame # 921\n",
      "========\n",
      "Selecting.. ((966, 384), (1089, 499))\n",
      "========\n"
     ]
    },
    {
     "name": "stderr",
     "output_type": "stream",
     "text": [
      "\r",
      " 33%|███▎      | 419/1261 [2:11:09<4:23:19, 18.76s/it]"
     ]
    },
    {
     "name": "stdout",
     "output_type": "stream",
     "text": [
      "Frame # 922\n",
      "========\n",
      "Selecting.. ((952, 384), (1075, 499))\n",
      "========\n"
     ]
    },
    {
     "name": "stderr",
     "output_type": "stream",
     "text": [
      "\r",
      " 33%|███▎      | 420/1261 [2:11:28<4:23:13, 18.78s/it]"
     ]
    },
    {
     "name": "stdout",
     "output_type": "stream",
     "text": [
      "Frame # 923\n",
      "========\n",
      "Selecting.. ((966, 384), (1075, 493))\n",
      "========\n"
     ]
    },
    {
     "name": "stderr",
     "output_type": "stream",
     "text": [
      "\r",
      " 33%|███▎      | 421/1261 [2:11:47<4:23:01, 18.79s/it]"
     ]
    },
    {
     "name": "stdout",
     "output_type": "stream",
     "text": [
      "Frame # 924\n",
      "========\n",
      "Selecting.. ((980, 398), (1063, 493))\n",
      "========\n",
      "========\n",
      "Selecting.. ((938, 400), (1012, 464))\n",
      "========\n"
     ]
    },
    {
     "name": "stderr",
     "output_type": "stream",
     "text": [
      "\r",
      " 33%|███▎      | 422/1261 [2:12:06<4:22:47, 18.79s/it]"
     ]
    },
    {
     "name": "stdout",
     "output_type": "stream",
     "text": [
      "Frame # 925\n",
      "========\n",
      "Not Selecting.. ((966, 396), (1075, 499))\n",
      "========\n"
     ]
    },
    {
     "name": "stderr",
     "output_type": "stream",
     "text": [
      "\r",
      " 34%|███▎      | 423/1261 [2:12:25<4:22:15, 18.78s/it]"
     ]
    },
    {
     "name": "stdout",
     "output_type": "stream",
     "text": [
      "Frame # 926\n",
      "========\n",
      "Not Selecting.. ((966, 396), (1075, 499))\n",
      "========\n"
     ]
    },
    {
     "name": "stderr",
     "output_type": "stream",
     "text": [
      "\r",
      " 34%|███▎      | 424/1261 [2:12:43<4:22:12, 18.80s/it]"
     ]
    },
    {
     "name": "stdout",
     "output_type": "stream",
     "text": [
      "Frame # 927\n",
      "========\n",
      "Not Selecting.. ((966, 393), (1075, 507))\n",
      "========\n"
     ]
    },
    {
     "name": "stderr",
     "output_type": "stream",
     "text": [
      "\r",
      " 34%|███▎      | 425/1261 [2:13:02<4:20:52, 18.72s/it]"
     ]
    },
    {
     "name": "stdout",
     "output_type": "stream",
     "text": [
      "Frame # 928\n",
      "========\n",
      "Selecting.. ((966, 396), (1063, 507))\n",
      "========\n"
     ]
    },
    {
     "name": "stderr",
     "output_type": "stream",
     "text": [
      "\r",
      " 34%|███▍      | 426/1261 [2:13:21<4:20:22, 18.71s/it]"
     ]
    },
    {
     "name": "stdout",
     "output_type": "stream",
     "text": [
      "Frame # 929\n",
      "========\n",
      "Selecting.. ((966, 396), (1063, 499))\n",
      "========\n"
     ]
    },
    {
     "name": "stderr",
     "output_type": "stream",
     "text": [
      "\r",
      " 34%|███▍      | 427/1261 [2:13:39<4:20:13, 18.72s/it]"
     ]
    },
    {
     "name": "stdout",
     "output_type": "stream",
     "text": [
      "Frame # 930\n",
      "========\n",
      "Selecting.. ((960, 384), (1061, 493))\n",
      "========\n"
     ]
    },
    {
     "name": "stderr",
     "output_type": "stream",
     "text": [
      "\r",
      " 34%|███▍      | 428/1261 [2:13:58<4:19:58, 18.73s/it]"
     ]
    },
    {
     "name": "stdout",
     "output_type": "stream",
     "text": [
      "Frame # 931\n",
      "========\n",
      "Selecting.. ((960, 384), (1061, 499))\n",
      "========\n"
     ]
    },
    {
     "name": "stderr",
     "output_type": "stream",
     "text": [
      "\r",
      " 34%|███▍      | 429/1261 [2:14:17<4:20:15, 18.77s/it]"
     ]
    },
    {
     "name": "stdout",
     "output_type": "stream",
     "text": [
      "Frame # 932\n",
      "========\n",
      "Selecting.. ((960, 396), (1061, 499))\n",
      "========\n"
     ]
    },
    {
     "name": "stderr",
     "output_type": "stream",
     "text": [
      "\r",
      " 34%|███▍      | 430/1261 [2:14:36<4:20:26, 18.80s/it]"
     ]
    },
    {
     "name": "stdout",
     "output_type": "stream",
     "text": [
      "Frame # 933\n",
      "========\n",
      "Selecting.. ((952, 384), (1063, 507))\n",
      "========\n"
     ]
    },
    {
     "name": "stderr",
     "output_type": "stream",
     "text": [
      "\r",
      " 34%|███▍      | 431/1261 [2:14:54<4:19:09, 18.73s/it]"
     ]
    },
    {
     "name": "stdout",
     "output_type": "stream",
     "text": [
      "Frame # 934\n",
      "========\n",
      "Selecting.. ((952, 396), (1061, 493))\n",
      "========\n"
     ]
    },
    {
     "name": "stderr",
     "output_type": "stream",
     "text": [
      "\r",
      " 34%|███▍      | 432/1261 [2:15:13<4:19:11, 18.76s/it]"
     ]
    },
    {
     "name": "stdout",
     "output_type": "stream",
     "text": [
      "Frame # 935\n",
      "========\n",
      "Selecting.. ((952, 396), (1061, 493))\n",
      "========\n"
     ]
    },
    {
     "name": "stderr",
     "output_type": "stream",
     "text": [
      "\r",
      " 34%|███▍      | 433/1261 [2:15:32<4:17:38, 18.67s/it]"
     ]
    },
    {
     "name": "stdout",
     "output_type": "stream",
     "text": [
      "Frame # 936\n",
      "========\n",
      "Selecting.. ((952, 384), (1061, 493))\n",
      "========\n"
     ]
    },
    {
     "name": "stderr",
     "output_type": "stream",
     "text": [
      "\r",
      " 34%|███▍      | 434/1261 [2:15:50<4:17:39, 18.69s/it]"
     ]
    },
    {
     "name": "stdout",
     "output_type": "stream",
     "text": [
      "Frame # 937\n",
      "========\n",
      "Selecting.. ((952, 396), (1061, 499))\n",
      "========\n"
     ]
    },
    {
     "name": "stderr",
     "output_type": "stream",
     "text": [
      "\r",
      " 34%|███▍      | 435/1261 [2:16:09<4:17:34, 18.71s/it]"
     ]
    },
    {
     "name": "stdout",
     "output_type": "stream",
     "text": [
      "Frame # 938\n",
      "========\n",
      "Selecting.. ((952, 384), (1061, 499))\n",
      "========\n"
     ]
    },
    {
     "name": "stderr",
     "output_type": "stream",
     "text": [
      "\r",
      " 35%|███▍      | 436/1261 [2:16:28<4:17:18, 18.71s/it]"
     ]
    },
    {
     "name": "stdout",
     "output_type": "stream",
     "text": [
      "Frame # 939\n",
      "========\n",
      "Selecting.. ((952, 396), (1061, 499))\n",
      "========\n"
     ]
    },
    {
     "name": "stderr",
     "output_type": "stream",
     "text": [
      "\r",
      " 35%|███▍      | 437/1261 [2:16:47<4:16:36, 18.69s/it]"
     ]
    },
    {
     "name": "stdout",
     "output_type": "stream",
     "text": [
      "Frame # 940\n",
      "========\n",
      "Selecting.. ((952, 396), (1051, 499))\n",
      "========\n"
     ]
    },
    {
     "name": "stderr",
     "output_type": "stream",
     "text": [
      "\r",
      " 35%|███▍      | 438/1261 [2:17:05<4:16:09, 18.67s/it]"
     ]
    },
    {
     "name": "stdout",
     "output_type": "stream",
     "text": [
      "Frame # 941\n",
      "========\n",
      "Selecting.. ((952, 396), (1051, 493))\n",
      "========\n"
     ]
    },
    {
     "name": "stderr",
     "output_type": "stream",
     "text": [
      "\r",
      " 35%|███▍      | 439/1261 [2:17:24<4:15:53, 18.68s/it]"
     ]
    },
    {
     "name": "stdout",
     "output_type": "stream",
     "text": [
      "Frame # 942\n",
      "========\n",
      "Selecting.. ((948, 384), (1061, 499))\n",
      "========\n"
     ]
    },
    {
     "name": "stderr",
     "output_type": "stream",
     "text": [
      "\r",
      " 35%|███▍      | 440/1261 [2:17:43<4:16:09, 18.72s/it]"
     ]
    },
    {
     "name": "stdout",
     "output_type": "stream",
     "text": [
      "Frame # 943\n",
      "========\n",
      "Selecting.. ((938, 396), (1061, 499))\n",
      "========\n"
     ]
    },
    {
     "name": "stderr",
     "output_type": "stream",
     "text": [
      "\r",
      " 35%|███▍      | 441/1261 [2:18:02<4:16:08, 18.74s/it]"
     ]
    },
    {
     "name": "stdout",
     "output_type": "stream",
     "text": [
      "Frame # 944\n",
      "========\n",
      "Selecting.. ((938, 396), (1061, 507))\n",
      "========\n"
     ]
    },
    {
     "name": "stderr",
     "output_type": "stream",
     "text": [
      "\r",
      " 35%|███▌      | 442/1261 [2:18:20<4:16:25, 18.79s/it]"
     ]
    },
    {
     "name": "stdout",
     "output_type": "stream",
     "text": [
      "Frame # 945\n",
      "========\n",
      "Selecting.. ((948, 384), (1061, 507))\n",
      "========\n"
     ]
    },
    {
     "name": "stderr",
     "output_type": "stream",
     "text": [
      "\r",
      " 35%|███▌      | 443/1261 [2:18:39<4:16:02, 18.78s/it]"
     ]
    },
    {
     "name": "stdout",
     "output_type": "stream",
     "text": [
      "Frame # 946\n",
      "========\n",
      "Selecting.. ((948, 384), (1051, 499))\n",
      "========\n"
     ]
    },
    {
     "name": "stderr",
     "output_type": "stream",
     "text": [
      "\r",
      " 35%|███▌      | 444/1261 [2:18:58<4:15:43, 18.78s/it]"
     ]
    },
    {
     "name": "stdout",
     "output_type": "stream",
     "text": [
      "Frame # 947\n",
      "========\n",
      "Selecting.. ((938, 384), (1051, 499))\n",
      "========\n"
     ]
    },
    {
     "name": "stderr",
     "output_type": "stream",
     "text": [
      "\r",
      " 35%|███▌      | 445/1261 [2:19:17<4:15:17, 18.77s/it]"
     ]
    },
    {
     "name": "stdout",
     "output_type": "stream",
     "text": [
      "Frame # 948\n",
      "========\n",
      "Selecting.. ((938, 384), (1051, 499))\n",
      "========\n"
     ]
    },
    {
     "name": "stderr",
     "output_type": "stream",
     "text": [
      "\r",
      " 35%|███▌      | 446/1261 [2:19:35<4:14:55, 18.77s/it]"
     ]
    },
    {
     "name": "stdout",
     "output_type": "stream",
     "text": [
      "Frame # 949\n",
      "========\n",
      "Selecting.. ((938, 384), (1051, 499))\n",
      "========\n"
     ]
    },
    {
     "name": "stderr",
     "output_type": "stream",
     "text": [
      "\r",
      " 35%|███▌      | 447/1261 [2:19:54<4:14:32, 18.76s/it]"
     ]
    },
    {
     "name": "stdout",
     "output_type": "stream",
     "text": [
      "Frame # 950\n",
      "========\n",
      "Selecting.. ((938, 396), (1051, 499))\n",
      "========\n"
     ]
    },
    {
     "name": "stderr",
     "output_type": "stream",
     "text": [
      "\r",
      " 36%|███▌      | 448/1261 [2:20:13<4:14:17, 18.77s/it]"
     ]
    },
    {
     "name": "stdout",
     "output_type": "stream",
     "text": [
      "Frame # 951\n",
      "========\n",
      "Selecting.. ((938, 384), (1051, 507))\n",
      "========\n"
     ]
    },
    {
     "name": "stderr",
     "output_type": "stream",
     "text": [
      "\r",
      " 36%|███▌      | 449/1261 [2:20:32<4:14:07, 18.78s/it]"
     ]
    },
    {
     "name": "stdout",
     "output_type": "stream",
     "text": [
      "Frame # 952\n",
      "========\n",
      "Selecting.. ((938, 393), (1051, 499))\n",
      "========\n"
     ]
    },
    {
     "name": "stderr",
     "output_type": "stream",
     "text": [
      "\r",
      " 36%|███▌      | 450/1261 [2:20:50<4:13:25, 18.75s/it]"
     ]
    },
    {
     "name": "stdout",
     "output_type": "stream",
     "text": [
      "Frame # 953\n",
      "========\n",
      "Selecting.. ((938, 393), (1051, 499))\n",
      "========\n",
      "========\n",
      "Not Selecting.. ((1022, 437), (1095, 500))\n",
      "========\n"
     ]
    },
    {
     "name": "stderr",
     "output_type": "stream",
     "text": [
      "\r",
      " 36%|███▌      | 451/1261 [2:21:09<4:13:17, 18.76s/it]"
     ]
    },
    {
     "name": "stdout",
     "output_type": "stream",
     "text": [
      "Frame # 954\n",
      "========\n",
      "Not Selecting.. ((952, 396), (1051, 499))\n",
      "========\n"
     ]
    },
    {
     "name": "stderr",
     "output_type": "stream",
     "text": [
      "\r",
      " 36%|███▌      | 452/1261 [2:21:28<4:13:16, 18.78s/it]"
     ]
    },
    {
     "name": "stdout",
     "output_type": "stream",
     "text": [
      "Frame # 955\n",
      "========\n",
      "Not Selecting.. ((952, 396), (1051, 499))\n",
      "========\n"
     ]
    },
    {
     "name": "stderr",
     "output_type": "stream",
     "text": [
      "\r",
      " 36%|███▌      | 453/1261 [2:21:47<4:13:11, 18.80s/it]"
     ]
    },
    {
     "name": "stdout",
     "output_type": "stream",
     "text": [
      "Frame # 956\n",
      "========\n",
      "Not Selecting.. ((952, 398), (1051, 499))\n",
      "========\n"
     ]
    },
    {
     "name": "stderr",
     "output_type": "stream",
     "text": [
      "\r",
      " 36%|███▌      | 454/1261 [2:22:06<4:12:58, 18.81s/it]"
     ]
    },
    {
     "name": "stdout",
     "output_type": "stream",
     "text": [
      "Frame # 957\n",
      "========\n",
      "Selecting.. ((948, 398), (1051, 499))\n",
      "========\n"
     ]
    },
    {
     "name": "stderr",
     "output_type": "stream",
     "text": [
      "\r",
      " 36%|███▌      | 455/1261 [2:22:25<4:12:37, 18.81s/it]"
     ]
    },
    {
     "name": "stdout",
     "output_type": "stream",
     "text": [
      "Frame # 958\n",
      "========\n",
      "Selecting.. ((948, 398), (1051, 499))\n",
      "========\n"
     ]
    },
    {
     "name": "stderr",
     "output_type": "stream",
     "text": [
      "\r",
      " 36%|███▌      | 456/1261 [2:22:43<4:12:15, 18.80s/it]"
     ]
    },
    {
     "name": "stdout",
     "output_type": "stream",
     "text": [
      "Frame # 959\n",
      "========\n",
      "Selecting.. ((938, 384), (1051, 499))\n",
      "========\n"
     ]
    },
    {
     "name": "stderr",
     "output_type": "stream",
     "text": [
      "\r",
      " 36%|███▌      | 457/1261 [2:23:02<4:11:37, 18.78s/it]"
     ]
    },
    {
     "name": "stdout",
     "output_type": "stream",
     "text": [
      "Frame # 960\n",
      "========\n",
      "Selecting.. ((938, 384), (1051, 499))\n",
      "========\n"
     ]
    },
    {
     "name": "stderr",
     "output_type": "stream",
     "text": [
      "\r",
      " 36%|███▋      | 458/1261 [2:23:21<4:11:09, 18.77s/it]"
     ]
    },
    {
     "name": "stdout",
     "output_type": "stream",
     "text": [
      "Frame # 961\n",
      "========\n",
      "Selecting.. ((938, 396), (1051, 499))\n",
      "========\n"
     ]
    },
    {
     "name": "stderr",
     "output_type": "stream",
     "text": [
      "\r",
      " 36%|███▋      | 459/1261 [2:23:40<4:11:04, 18.78s/it]"
     ]
    },
    {
     "name": "stdout",
     "output_type": "stream",
     "text": [
      "Frame # 962\n",
      "========\n",
      "Selecting.. ((938, 396), (1047, 499))\n",
      "========\n"
     ]
    },
    {
     "name": "stderr",
     "output_type": "stream",
     "text": [
      "\r",
      " 36%|███▋      | 460/1261 [2:23:58<4:10:47, 18.79s/it]"
     ]
    },
    {
     "name": "stdout",
     "output_type": "stream",
     "text": [
      "Frame # 963\n",
      "========\n",
      "Selecting.. ((938, 396), (1047, 507))\n",
      "========\n"
     ]
    },
    {
     "name": "stderr",
     "output_type": "stream",
     "text": [
      "\r",
      " 37%|███▋      | 461/1261 [2:24:17<4:10:10, 18.76s/it]"
     ]
    },
    {
     "name": "stdout",
     "output_type": "stream",
     "text": [
      "Frame # 964\n",
      "========\n",
      "Selecting.. ((938, 396), (1047, 507))\n",
      "========\n"
     ]
    },
    {
     "name": "stderr",
     "output_type": "stream",
     "text": [
      "\r",
      " 37%|███▋      | 462/1261 [2:24:36<4:10:21, 18.80s/it]"
     ]
    },
    {
     "name": "stdout",
     "output_type": "stream",
     "text": [
      "Frame # 965\n",
      "========\n",
      "Selecting.. ((938, 393), (1047, 499))\n",
      "========\n"
     ]
    },
    {
     "name": "stderr",
     "output_type": "stream",
     "text": [
      "\r",
      " 37%|███▋      | 463/1261 [2:24:55<4:09:19, 18.75s/it]"
     ]
    },
    {
     "name": "stdout",
     "output_type": "stream",
     "text": [
      "Frame # 966\n",
      "========\n",
      "Selecting.. ((938, 384), (1047, 499))\n",
      "========\n"
     ]
    },
    {
     "name": "stderr",
     "output_type": "stream",
     "text": [
      "\r",
      " 37%|███▋      | 464/1261 [2:25:13<4:09:14, 18.76s/it]"
     ]
    },
    {
     "name": "stdout",
     "output_type": "stream",
     "text": [
      "Frame # 967\n",
      "========\n",
      "Selecting.. ((924, 384), (1047, 499))\n",
      "========\n"
     ]
    },
    {
     "name": "stderr",
     "output_type": "stream",
     "text": [
      "\r",
      " 37%|███▋      | 465/1261 [2:25:32<4:09:03, 18.77s/it]"
     ]
    },
    {
     "name": "stdout",
     "output_type": "stream",
     "text": [
      "Frame # 968\n",
      "========\n",
      "Selecting.. ((938, 384), (1047, 499))\n",
      "========\n"
     ]
    },
    {
     "name": "stderr",
     "output_type": "stream",
     "text": [
      "\r",
      " 37%|███▋      | 466/1261 [2:25:51<4:08:30, 18.76s/it]"
     ]
    },
    {
     "name": "stdout",
     "output_type": "stream",
     "text": [
      "Frame # 969\n",
      "========\n",
      "Selecting.. ((938, 384), (1047, 507))\n",
      "========\n"
     ]
    },
    {
     "name": "stderr",
     "output_type": "stream",
     "text": [
      "\r",
      " 37%|███▋      | 467/1261 [2:26:10<4:08:38, 18.79s/it]"
     ]
    },
    {
     "name": "stdout",
     "output_type": "stream",
     "text": [
      "Frame # 970\n",
      "========\n",
      "Selecting.. ((938, 384), (1051, 499))\n",
      "========\n"
     ]
    },
    {
     "name": "stderr",
     "output_type": "stream",
     "text": [
      "\r",
      " 37%|███▋      | 468/1261 [2:26:29<4:08:26, 18.80s/it]"
     ]
    },
    {
     "name": "stdout",
     "output_type": "stream",
     "text": [
      "Frame # 971\n",
      "========\n",
      "Selecting.. ((936, 384), (1061, 499))\n",
      "========\n"
     ]
    },
    {
     "name": "stderr",
     "output_type": "stream",
     "text": [
      "\r",
      " 37%|███▋      | 469/1261 [2:26:47<4:08:12, 18.80s/it]"
     ]
    },
    {
     "name": "stdout",
     "output_type": "stream",
     "text": [
      "Frame # 972\n",
      "========\n",
      "Selecting.. ((936, 384), (1075, 507))\n",
      "========\n"
     ]
    },
    {
     "name": "stderr",
     "output_type": "stream",
     "text": [
      "\r",
      " 37%|███▋      | 470/1261 [2:27:06<4:07:32, 18.78s/it]"
     ]
    },
    {
     "name": "stdout",
     "output_type": "stream",
     "text": [
      "Frame # 973\n",
      "========\n",
      "Selecting.. ((936, 384), (1089, 507))\n",
      "========\n"
     ]
    },
    {
     "name": "stderr",
     "output_type": "stream",
     "text": [
      "\r",
      " 37%|███▋      | 471/1261 [2:27:25<4:07:27, 18.79s/it]"
     ]
    },
    {
     "name": "stdout",
     "output_type": "stream",
     "text": [
      "Frame # 974\n",
      "========\n",
      "Selecting.. ((936, 384), (1099, 507))\n",
      "========\n"
     ]
    },
    {
     "name": "stderr",
     "output_type": "stream",
     "text": [
      "\r",
      " 37%|███▋      | 472/1261 [2:27:44<4:07:34, 18.83s/it]"
     ]
    },
    {
     "name": "stdout",
     "output_type": "stream",
     "text": [
      "Frame # 975\n",
      "========\n",
      "Selecting.. ((936, 384), (1099, 507))\n",
      "========\n"
     ]
    },
    {
     "name": "stderr",
     "output_type": "stream",
     "text": [
      "\r",
      " 38%|███▊      | 473/1261 [2:28:03<4:06:59, 18.81s/it]"
     ]
    },
    {
     "name": "stdout",
     "output_type": "stream",
     "text": [
      "Frame # 976\n",
      "========\n",
      "Selecting.. ((936, 384), (1089, 507))\n",
      "========\n"
     ]
    },
    {
     "name": "stderr",
     "output_type": "stream",
     "text": [
      "\r",
      " 38%|███▊      | 474/1261 [2:28:22<4:06:57, 18.83s/it]"
     ]
    },
    {
     "name": "stdout",
     "output_type": "stream",
     "text": [
      "Frame # 977\n",
      "========\n",
      "Selecting.. ((936, 384), (1061, 507))\n",
      "========\n"
     ]
    },
    {
     "name": "stderr",
     "output_type": "stream",
     "text": [
      "\r",
      " 38%|███▊      | 475/1261 [2:28:40<4:06:46, 18.84s/it]"
     ]
    },
    {
     "name": "stdout",
     "output_type": "stream",
     "text": [
      "Frame # 978\n",
      "========\n",
      "Selecting.. ((924, 384), (1117, 507))\n",
      "========\n"
     ]
    },
    {
     "name": "stderr",
     "output_type": "stream",
     "text": [
      "\r",
      " 38%|███▊      | 476/1261 [2:28:59<4:05:52, 18.79s/it]"
     ]
    },
    {
     "name": "stdout",
     "output_type": "stream",
     "text": [
      "Frame # 979\n",
      "========\n",
      "Selecting.. ((924, 384), (1075, 507))\n",
      "========\n",
      "========\n",
      "Not Selecting.. ((1068, 412), (1141, 487))\n",
      "========\n"
     ]
    },
    {
     "name": "stderr",
     "output_type": "stream",
     "text": [
      "\r",
      " 38%|███▊      | 477/1261 [2:29:18<4:05:40, 18.80s/it]"
     ]
    },
    {
     "name": "stdout",
     "output_type": "stream",
     "text": [
      "Frame # 980\n",
      "========\n",
      "Not Selecting.. ((924, 384), (1183, 507))\n",
      "========\n"
     ]
    },
    {
     "name": "stderr",
     "output_type": "stream",
     "text": [
      "\r",
      " 38%|███▊      | 478/1261 [2:29:37<4:05:09, 18.79s/it]"
     ]
    },
    {
     "name": "stdout",
     "output_type": "stream",
     "text": [
      "Frame # 981\n",
      "========\n",
      "Selecting.. ((924, 384), (1089, 507))\n",
      "========\n"
     ]
    },
    {
     "name": "stderr",
     "output_type": "stream",
     "text": [
      "\r",
      " 38%|███▊      | 479/1261 [2:29:56<4:05:16, 18.82s/it]"
     ]
    },
    {
     "name": "stdout",
     "output_type": "stream",
     "text": [
      "Frame # 982\n",
      "========\n",
      "Selecting.. ((924, 384), (1099, 507))\n",
      "========\n"
     ]
    },
    {
     "name": "stderr",
     "output_type": "stream",
     "text": [
      "\r",
      " 38%|███▊      | 480/1261 [2:30:14<4:04:47, 18.81s/it]"
     ]
    },
    {
     "name": "stdout",
     "output_type": "stream",
     "text": [
      "Frame # 983\n",
      "========\n",
      "Selecting.. ((924, 384), (1089, 493))\n",
      "========\n"
     ]
    },
    {
     "name": "stderr",
     "output_type": "stream",
     "text": [
      "\r",
      " 38%|███▊      | 481/1261 [2:30:33<4:05:08, 18.86s/it]"
     ]
    },
    {
     "name": "stdout",
     "output_type": "stream",
     "text": [
      "Frame # 984\n",
      "========\n",
      "Selecting.. ((924, 393), (1023, 493))\n",
      "========\n"
     ]
    },
    {
     "name": "stderr",
     "output_type": "stream",
     "text": [
      "\r",
      " 38%|███▊      | 482/1261 [2:30:52<4:04:27, 18.83s/it]"
     ]
    },
    {
     "name": "stdout",
     "output_type": "stream",
     "text": [
      "Frame # 985\n",
      "========\n",
      "Selecting.. ((924, 393), (1075, 499))\n",
      "========\n",
      "========\n",
      "Not Selecting.. ((1121, 420), (1195, 483))\n",
      "========\n"
     ]
    },
    {
     "name": "stderr",
     "output_type": "stream",
     "text": [
      "\r",
      " 38%|███▊      | 483/1261 [2:31:11<4:04:19, 18.84s/it]"
     ]
    },
    {
     "name": "stdout",
     "output_type": "stream",
     "text": [
      "Frame # 986\n",
      "========\n",
      "Selecting.. ((924, 384), (1075, 493))\n",
      "========\n"
     ]
    },
    {
     "name": "stderr",
     "output_type": "stream",
     "text": [
      "\r",
      " 38%|███▊      | 484/1261 [2:31:30<4:03:32, 18.81s/it]"
     ]
    },
    {
     "name": "stdout",
     "output_type": "stream",
     "text": [
      "Frame # 987\n",
      "========\n",
      "Not Selecting.. ((936, 384), (1159, 507))\n",
      "========\n"
     ]
    },
    {
     "name": "stderr",
     "output_type": "stream",
     "text": [
      "\r",
      " 38%|███▊      | 485/1261 [2:31:48<4:02:49, 18.77s/it]"
     ]
    },
    {
     "name": "stdout",
     "output_type": "stream",
     "text": [
      "Frame # 988\n",
      "========\n",
      "Selecting.. ((924, 384), (1159, 507))\n",
      "========\n"
     ]
    },
    {
     "name": "stderr",
     "output_type": "stream",
     "text": [
      "\r",
      " 39%|███▊      | 486/1261 [2:32:07<4:02:35, 18.78s/it]"
     ]
    },
    {
     "name": "stdout",
     "output_type": "stream",
     "text": [
      "Frame # 989\n",
      "========\n",
      "Selecting.. ((924, 384), (1173, 507))\n",
      "========\n"
     ]
    },
    {
     "name": "stderr",
     "output_type": "stream",
     "text": [
      "\r",
      " 39%|███▊      | 487/1261 [2:32:26<4:02:32, 18.80s/it]"
     ]
    },
    {
     "name": "stdout",
     "output_type": "stream",
     "text": [
      "Frame # 990\n",
      "========\n",
      "Selecting.. ((924, 384), (1173, 499))\n",
      "========\n",
      "========\n",
      "Not Selecting.. ((1200, 420), (1267, 499))\n",
      "========\n"
     ]
    },
    {
     "name": "stderr",
     "output_type": "stream",
     "text": [
      "\r",
      " 39%|███▊      | 488/1261 [2:32:45<4:02:40, 18.84s/it]"
     ]
    },
    {
     "name": "stdout",
     "output_type": "stream",
     "text": [
      "Frame # 991\n",
      "========\n",
      "Selecting.. ((938, 398), (1075, 507))\n",
      "========\n",
      "========\n",
      "Not Selecting.. ((1077, 408), (1231, 499))\n",
      "========\n"
     ]
    },
    {
     "name": "stderr",
     "output_type": "stream",
     "text": [
      "\r",
      " 39%|███▉      | 489/1261 [2:33:04<4:01:28, 18.77s/it]"
     ]
    },
    {
     "name": "stdout",
     "output_type": "stream",
     "text": [
      "Frame # 992\n",
      "========\n",
      "Selecting.. ((924, 398), (1047, 499))\n",
      "========\n",
      "========\n",
      "Not Selecting.. ((1050, 408), (1243, 507))\n",
      "========\n"
     ]
    },
    {
     "name": "stderr",
     "output_type": "stream",
     "text": [
      "\r",
      " 39%|███▉      | 490/1261 [2:33:22<4:01:18, 18.78s/it]"
     ]
    },
    {
     "name": "stdout",
     "output_type": "stream",
     "text": [
      "Frame # 993\n",
      "========\n",
      "Selecting.. ((924, 398), (1075, 507))\n",
      "========\n",
      "========\n",
      "Selecting.. ((1077, 408), (1267, 507))\n",
      "========\n"
     ]
    },
    {
     "name": "stderr",
     "output_type": "stream",
     "text": [
      "\r",
      " 39%|███▉      | 491/1261 [2:33:41<4:01:09, 18.79s/it]"
     ]
    },
    {
     "name": "stdout",
     "output_type": "stream",
     "text": [
      "Frame # 994\n",
      "========\n",
      "Selecting.. ((924, 398), (1039, 499))\n",
      "========\n",
      "========\n",
      "Selecting.. ((1122, 408), (1257, 499))\n",
      "========\n"
     ]
    },
    {
     "name": "stderr",
     "output_type": "stream",
     "text": [
      "\r",
      " 39%|███▉      | 492/1261 [2:34:00<4:00:50, 18.79s/it]"
     ]
    },
    {
     "name": "stdout",
     "output_type": "stream",
     "text": [
      "Frame # 995\n",
      "========\n",
      "Selecting.. ((938, 398), (1089, 507))\n",
      "========\n",
      "========\n",
      "Selecting.. ((1092, 408), (1275, 507))\n",
      "========\n"
     ]
    },
    {
     "name": "stderr",
     "output_type": "stream",
     "text": [
      "\r",
      " 39%|███▉      | 493/1261 [2:34:19<4:00:55, 18.82s/it]"
     ]
    },
    {
     "name": "stdout",
     "output_type": "stream",
     "text": [
      "Frame # 996\n",
      "========\n",
      "Selecting.. ((938, 398), (1075, 499))\n",
      "========\n",
      "========\n",
      "Selecting.. ((1140, 420), (1257, 499))\n",
      "========\n"
     ]
    },
    {
     "name": "stderr",
     "output_type": "stream",
     "text": [
      "\r",
      " 39%|███▉      | 494/1261 [2:34:38<4:00:54, 18.85s/it]"
     ]
    },
    {
     "name": "stdout",
     "output_type": "stream",
     "text": [
      "Frame # 997\n",
      "========\n",
      "Selecting.. ((924, 384), (1087, 507))\n",
      "========\n",
      "========\n",
      "Selecting.. ((1123, 420), (1197, 483))\n",
      "========\n",
      "========\n",
      "Selecting.. ((1148, 420), (1222, 483))\n",
      "========\n",
      "========\n",
      "Selecting.. ((1169, 420), (1243, 483))\n",
      "========\n"
     ]
    },
    {
     "name": "stderr",
     "output_type": "stream",
     "text": [
      "\r",
      " 39%|███▉      | 495/1261 [2:34:56<3:59:31, 18.76s/it]"
     ]
    },
    {
     "name": "stdout",
     "output_type": "stream",
     "text": [
      "Frame # 998\n",
      "========\n",
      "Selecting.. ((924, 398), (1005, 479))\n",
      "========\n",
      "========\n",
      "Not Selecting.. ((1188, 412), (1271, 499))\n",
      "========\n"
     ]
    },
    {
     "name": "stderr",
     "output_type": "stream",
     "text": [
      "\r",
      " 39%|███▉      | 496/1261 [2:35:15<3:58:59, 18.74s/it]"
     ]
    },
    {
     "name": "stdout",
     "output_type": "stream",
     "text": [
      "Frame # 999\n",
      "========\n",
      "Selecting.. ((924, 384), (1015, 479))\n",
      "========\n",
      "========\n",
      "Not Selecting.. ((1191, 420), (1264, 499))\n",
      "========\n"
     ]
    },
    {
     "name": "stderr",
     "output_type": "stream",
     "text": [
      "\r",
      " 39%|███▉      | 497/1261 [2:35:34<3:58:29, 18.73s/it]"
     ]
    },
    {
     "name": "stdout",
     "output_type": "stream",
     "text": [
      "Frame # 1000\n",
      "========\n",
      "Selecting.. ((924, 398), (1005, 463))\n",
      "========\n"
     ]
    },
    {
     "name": "stderr",
     "output_type": "stream",
     "text": [
      "\r",
      " 39%|███▉      | 498/1261 [2:35:52<3:58:06, 18.72s/it]"
     ]
    },
    {
     "name": "stdout",
     "output_type": "stream",
     "text": [
      "Frame # 1001\n",
      "========\n",
      "Selecting.. ((924, 384), (1019, 493))\n",
      "========\n"
     ]
    },
    {
     "name": "stderr",
     "output_type": "stream",
     "text": [
      "\r",
      " 40%|███▉      | 499/1261 [2:36:11<3:57:46, 18.72s/it]"
     ]
    },
    {
     "name": "stdout",
     "output_type": "stream",
     "text": [
      "Frame # 1002\n",
      "========\n",
      "Selecting.. ((924, 384), (1033, 499))\n",
      "========\n",
      "========\n",
      "Not Selecting.. ((1167, 420), (1248, 507))\n",
      "========\n"
     ]
    },
    {
     "name": "stderr",
     "output_type": "stream",
     "text": [
      "\r",
      " 40%|███▉      | 500/1261 [2:36:30<3:57:44, 18.74s/it]"
     ]
    },
    {
     "name": "stdout",
     "output_type": "stream",
     "text": [
      "Frame # 1003\n",
      "========\n",
      "Selecting.. ((924, 384), (1039, 499))\n",
      "========\n"
     ]
    },
    {
     "name": "stderr",
     "output_type": "stream",
     "text": [
      "\r",
      " 40%|███▉      | 501/1261 [2:36:49<3:57:14, 18.73s/it]"
     ]
    },
    {
     "name": "stdout",
     "output_type": "stream",
     "text": [
      "Frame # 1004\n",
      "========\n",
      "Selecting.. ((924, 384), (1019, 493))\n",
      "========\n"
     ]
    },
    {
     "name": "stderr",
     "output_type": "stream",
     "text": [
      "\r",
      " 40%|███▉      | 502/1261 [2:37:07<3:56:54, 18.73s/it]"
     ]
    },
    {
     "name": "stdout",
     "output_type": "stream",
     "text": [
      "Frame # 1005\n",
      "========\n",
      "Selecting.. ((924, 384), (1027, 493))\n",
      "========\n"
     ]
    },
    {
     "name": "stderr",
     "output_type": "stream",
     "text": [
      "\r",
      " 40%|███▉      | 503/1261 [2:37:26<3:57:33, 18.80s/it]"
     ]
    },
    {
     "name": "stdout",
     "output_type": "stream",
     "text": [
      "Frame # 1006\n",
      "========\n",
      "Selecting.. ((915, 384), (1033, 493))\n",
      "========\n"
     ]
    },
    {
     "name": "stderr",
     "output_type": "stream",
     "text": [
      "\r",
      " 40%|███▉      | 504/1261 [2:37:45<3:57:05, 18.79s/it]"
     ]
    },
    {
     "name": "stdout",
     "output_type": "stream",
     "text": [
      "Frame # 1007\n",
      "========\n",
      "Selecting.. ((924, 384), (1027, 493))\n",
      "========\n"
     ]
    },
    {
     "name": "stderr",
     "output_type": "stream",
     "text": [
      "\r",
      " 40%|████      | 505/1261 [2:38:04<3:56:36, 18.78s/it]"
     ]
    },
    {
     "name": "stdout",
     "output_type": "stream",
     "text": [
      "Frame # 1008\n",
      "========\n",
      "Selecting.. ((910, 384), (1019, 493))\n",
      "========\n"
     ]
    },
    {
     "name": "stderr",
     "output_type": "stream",
     "text": [
      "\r",
      " 40%|████      | 506/1261 [2:38:23<3:56:19, 18.78s/it]"
     ]
    },
    {
     "name": "stdout",
     "output_type": "stream",
     "text": [
      "Frame # 1009\n",
      "========\n",
      "Selecting.. ((924, 384), (1027, 493))\n",
      "========\n"
     ]
    },
    {
     "name": "stderr",
     "output_type": "stream",
     "text": [
      "\r",
      " 40%|████      | 507/1261 [2:38:41<3:55:54, 18.77s/it]"
     ]
    },
    {
     "name": "stdout",
     "output_type": "stream",
     "text": [
      "Frame # 1010\n",
      "========\n",
      "Selecting.. ((924, 384), (1019, 493))\n",
      "========\n"
     ]
    },
    {
     "name": "stderr",
     "output_type": "stream",
     "text": [
      "\r",
      " 40%|████      | 508/1261 [2:39:00<3:55:08, 18.74s/it]"
     ]
    },
    {
     "name": "stdout",
     "output_type": "stream",
     "text": [
      "Frame # 1011\n",
      "========\n",
      "Selecting.. ((924, 384), (1027, 493))\n",
      "========\n"
     ]
    },
    {
     "name": "stderr",
     "output_type": "stream",
     "text": [
      "\r",
      " 40%|████      | 509/1261 [2:39:19<3:54:43, 18.73s/it]"
     ]
    },
    {
     "name": "stdout",
     "output_type": "stream",
     "text": [
      "Frame # 1012\n",
      "========\n",
      "Selecting.. ((915, 384), (1019, 493))\n",
      "========\n"
     ]
    },
    {
     "name": "stderr",
     "output_type": "stream",
     "text": [
      "\r",
      " 40%|████      | 510/1261 [2:39:37<3:54:24, 18.73s/it]"
     ]
    },
    {
     "name": "stdout",
     "output_type": "stream",
     "text": [
      "Frame # 1013\n",
      "========\n",
      "Selecting.. ((924, 384), (1019, 493))\n",
      "========\n"
     ]
    },
    {
     "name": "stderr",
     "output_type": "stream",
     "text": [
      "\r",
      " 41%|████      | 511/1261 [2:39:56<3:54:18, 18.74s/it]"
     ]
    },
    {
     "name": "stdout",
     "output_type": "stream",
     "text": [
      "Frame # 1014\n",
      "========\n",
      "Selecting.. ((912, 384), (1019, 493))\n",
      "========\n"
     ]
    },
    {
     "name": "stderr",
     "output_type": "stream",
     "text": [
      "\r",
      " 41%|████      | 512/1261 [2:40:15<3:53:44, 18.72s/it]"
     ]
    },
    {
     "name": "stdout",
     "output_type": "stream",
     "text": [
      "Frame # 1015\n",
      "========\n",
      "Selecting.. ((910, 384), (1019, 493))\n",
      "========\n"
     ]
    },
    {
     "name": "stderr",
     "output_type": "stream",
     "text": [
      "\r",
      " 41%|████      | 513/1261 [2:40:34<3:53:40, 18.74s/it]"
     ]
    },
    {
     "name": "stdout",
     "output_type": "stream",
     "text": [
      "Frame # 1016\n",
      "========\n",
      "Selecting.. ((910, 384), (1015, 493))\n",
      "========\n"
     ]
    },
    {
     "name": "stderr",
     "output_type": "stream",
     "text": [
      "\r",
      " 41%|████      | 514/1261 [2:40:52<3:52:52, 18.71s/it]"
     ]
    },
    {
     "name": "stdout",
     "output_type": "stream",
     "text": [
      "Frame # 1017\n",
      "========\n",
      "Selecting.. ((924, 384), (1019, 493))\n",
      "========\n"
     ]
    },
    {
     "name": "stderr",
     "output_type": "stream",
     "text": [
      "\r",
      " 41%|████      | 515/1261 [2:41:11<3:53:20, 18.77s/it]"
     ]
    },
    {
     "name": "stdout",
     "output_type": "stream",
     "text": [
      "Frame # 1018\n",
      "========\n",
      "Selecting.. ((924, 384), (1019, 493))\n",
      "========\n"
     ]
    },
    {
     "name": "stderr",
     "output_type": "stream",
     "text": [
      "\r",
      " 41%|████      | 516/1261 [2:41:30<3:52:48, 18.75s/it]"
     ]
    },
    {
     "name": "stdout",
     "output_type": "stream",
     "text": [
      "Frame # 1019\n",
      "========\n",
      "Selecting.. ((910, 384), (1019, 493))\n",
      "========\n"
     ]
    },
    {
     "name": "stderr",
     "output_type": "stream",
     "text": [
      "\r",
      " 41%|████      | 517/1261 [2:41:49<3:52:28, 18.75s/it]"
     ]
    },
    {
     "name": "stdout",
     "output_type": "stream",
     "text": [
      "Frame # 1020\n",
      "========\n",
      "Selecting.. ((910, 384), (1019, 493))\n",
      "========\n"
     ]
    },
    {
     "name": "stderr",
     "output_type": "stream",
     "text": [
      "\r",
      " 41%|████      | 518/1261 [2:42:08<3:52:23, 18.77s/it]"
     ]
    },
    {
     "name": "stdout",
     "output_type": "stream",
     "text": [
      "Frame # 1021\n",
      "========\n",
      "Selecting.. ((910, 384), (1019, 493))\n",
      "========\n"
     ]
    },
    {
     "name": "stderr",
     "output_type": "stream",
     "text": [
      "\r",
      " 41%|████      | 519/1261 [2:42:26<3:52:06, 18.77s/it]"
     ]
    },
    {
     "name": "stdout",
     "output_type": "stream",
     "text": [
      "Frame # 1022\n",
      "========\n",
      "Selecting.. ((910, 384), (1019, 493))\n",
      "========\n"
     ]
    },
    {
     "name": "stderr",
     "output_type": "stream",
     "text": [
      "\r",
      " 41%|████      | 520/1261 [2:42:45<3:52:00, 18.79s/it]"
     ]
    },
    {
     "name": "stdout",
     "output_type": "stream",
     "text": [
      "Frame # 1023\n",
      "========\n",
      "Selecting.. ((912, 384), (1019, 493))\n",
      "========\n"
     ]
    },
    {
     "name": "stderr",
     "output_type": "stream",
     "text": [
      "\r",
      " 41%|████▏     | 521/1261 [2:43:04<3:50:58, 18.73s/it]"
     ]
    },
    {
     "name": "stdout",
     "output_type": "stream",
     "text": [
      "Frame # 1024\n",
      "========\n",
      "Selecting.. ((912, 384), (1015, 487))\n",
      "========\n"
     ]
    },
    {
     "name": "stderr",
     "output_type": "stream",
     "text": [
      "\r",
      " 41%|████▏     | 522/1261 [2:43:22<3:50:36, 18.72s/it]"
     ]
    },
    {
     "name": "stdout",
     "output_type": "stream",
     "text": [
      "Frame # 1025\n",
      "========\n",
      "Selecting.. ((912, 384), (1014, 487))\n",
      "========\n"
     ]
    },
    {
     "name": "stderr",
     "output_type": "stream",
     "text": [
      "\r",
      " 41%|████▏     | 523/1261 [2:43:41<3:50:33, 18.75s/it]"
     ]
    },
    {
     "name": "stdout",
     "output_type": "stream",
     "text": [
      "Frame # 1026\n",
      "========\n",
      "Selecting.. ((912, 384), (1015, 487))\n",
      "========\n"
     ]
    },
    {
     "name": "stderr",
     "output_type": "stream",
     "text": [
      "\r",
      " 42%|████▏     | 524/1261 [2:44:00<3:50:28, 18.76s/it]"
     ]
    },
    {
     "name": "stdout",
     "output_type": "stream",
     "text": [
      "Frame # 1027\n",
      "========\n",
      "Selecting.. ((910, 384), (1015, 493))\n",
      "========\n"
     ]
    },
    {
     "name": "stderr",
     "output_type": "stream",
     "text": [
      "\r",
      " 42%|████▏     | 525/1261 [2:44:19<3:50:30, 18.79s/it]"
     ]
    },
    {
     "name": "stdout",
     "output_type": "stream",
     "text": [
      "Frame # 1028\n",
      "========\n",
      "Selecting.. ((924, 384), (1015, 479))\n",
      "========\n"
     ]
    },
    {
     "name": "stderr",
     "output_type": "stream",
     "text": [
      "\r",
      " 42%|████▏     | 526/1261 [2:44:38<3:50:07, 18.79s/it]"
     ]
    },
    {
     "name": "stdout",
     "output_type": "stream",
     "text": [
      "Frame # 1029\n",
      "========\n",
      "Selecting.. ((924, 384), (1015, 479))\n",
      "========\n"
     ]
    },
    {
     "name": "stderr",
     "output_type": "stream",
     "text": [
      "\r",
      " 42%|████▏     | 527/1261 [2:44:56<3:49:23, 18.75s/it]"
     ]
    },
    {
     "name": "stdout",
     "output_type": "stream",
     "text": [
      "Frame # 1030\n",
      "========\n",
      "Selecting.. ((924, 384), (1015, 487))\n",
      "========\n"
     ]
    },
    {
     "name": "stderr",
     "output_type": "stream",
     "text": [
      "\r",
      " 42%|████▏     | 528/1261 [2:45:15<3:49:27, 18.78s/it]"
     ]
    },
    {
     "name": "stdout",
     "output_type": "stream",
     "text": [
      "Frame # 1031\n",
      "========\n",
      "Selecting.. ((924, 393), (1005, 487))\n",
      "========\n"
     ]
    },
    {
     "name": "stderr",
     "output_type": "stream",
     "text": [
      "\r",
      " 42%|████▏     | 529/1261 [2:45:34<3:49:04, 18.78s/it]"
     ]
    },
    {
     "name": "stdout",
     "output_type": "stream",
     "text": [
      "Frame # 1032\n",
      "========\n",
      "Selecting.. ((924, 393), (1005, 487))\n",
      "========\n"
     ]
    },
    {
     "name": "stderr",
     "output_type": "stream",
     "text": [
      "\r",
      " 42%|████▏     | 530/1261 [2:45:53<3:48:33, 18.76s/it]"
     ]
    },
    {
     "name": "stdout",
     "output_type": "stream",
     "text": [
      "Frame # 1033\n",
      "========\n",
      "Selecting.. ((912, 393), (1005, 479))\n",
      "========\n"
     ]
    },
    {
     "name": "stderr",
     "output_type": "stream",
     "text": [
      "\r",
      " 42%|████▏     | 531/1261 [2:46:11<3:48:02, 18.74s/it]"
     ]
    },
    {
     "name": "stdout",
     "output_type": "stream",
     "text": [
      "Frame # 1034\n",
      "========\n",
      "Selecting.. ((910, 393), (1015, 493))\n",
      "========\n"
     ]
    },
    {
     "name": "stderr",
     "output_type": "stream",
     "text": [
      "\r",
      " 42%|████▏     | 532/1261 [2:46:30<3:48:25, 18.80s/it]"
     ]
    },
    {
     "name": "stdout",
     "output_type": "stream",
     "text": [
      "Frame # 1035\n",
      "========\n",
      "Selecting.. ((912, 393), (1015, 493))\n",
      "========\n"
     ]
    },
    {
     "name": "stderr",
     "output_type": "stream",
     "text": [
      "\r",
      " 42%|████▏     | 533/1261 [2:46:49<3:48:29, 18.83s/it]"
     ]
    },
    {
     "name": "stdout",
     "output_type": "stream",
     "text": [
      "Frame # 1036\n",
      "========\n",
      "Selecting.. ((910, 384), (1019, 493))\n",
      "========\n"
     ]
    },
    {
     "name": "stderr",
     "output_type": "stream",
     "text": [
      "\r",
      " 42%|████▏     | 534/1261 [2:47:08<3:47:34, 18.78s/it]"
     ]
    },
    {
     "name": "stdout",
     "output_type": "stream",
     "text": [
      "Frame # 1037\n",
      "========\n",
      "Selecting.. ((910, 384), (1015, 493))\n",
      "========\n"
     ]
    },
    {
     "name": "stderr",
     "output_type": "stream",
     "text": [
      "\r",
      " 42%|████▏     | 535/1261 [2:47:27<3:47:42, 18.82s/it]"
     ]
    },
    {
     "name": "stdout",
     "output_type": "stream",
     "text": [
      "Frame # 1038\n",
      "========\n",
      "Selecting.. ((910, 384), (1019, 493))\n",
      "========\n"
     ]
    },
    {
     "name": "stderr",
     "output_type": "stream",
     "text": [
      "\r",
      " 43%|████▎     | 536/1261 [2:47:46<3:47:27, 18.82s/it]"
     ]
    },
    {
     "name": "stdout",
     "output_type": "stream",
     "text": [
      "Frame # 1039\n",
      "========\n",
      "Selecting.. ((910, 384), (1019, 493))\n",
      "========\n"
     ]
    },
    {
     "name": "stderr",
     "output_type": "stream",
     "text": [
      "\r",
      " 43%|████▎     | 537/1261 [2:48:04<3:47:03, 18.82s/it]"
     ]
    },
    {
     "name": "stdout",
     "output_type": "stream",
     "text": [
      "Frame # 1040\n",
      "========\n",
      "Selecting.. ((910, 384), (1015, 493))\n",
      "========\n"
     ]
    },
    {
     "name": "stderr",
     "output_type": "stream",
     "text": [
      "\r",
      " 43%|████▎     | 538/1261 [2:48:23<3:46:40, 18.81s/it]"
     ]
    },
    {
     "name": "stdout",
     "output_type": "stream",
     "text": [
      "Frame # 1041\n",
      "========\n",
      "Selecting.. ((910, 384), (1015, 493))\n",
      "========\n"
     ]
    },
    {
     "name": "stderr",
     "output_type": "stream",
     "text": [
      "\r",
      " 43%|████▎     | 539/1261 [2:48:42<3:46:02, 18.78s/it]"
     ]
    },
    {
     "name": "stdout",
     "output_type": "stream",
     "text": [
      "Frame # 1042\n",
      "========\n",
      "Selecting.. ((910, 384), (1005, 493))\n",
      "========\n"
     ]
    },
    {
     "name": "stderr",
     "output_type": "stream",
     "text": [
      "\r",
      " 43%|████▎     | 540/1261 [2:49:01<3:45:06, 18.73s/it]"
     ]
    },
    {
     "name": "stdout",
     "output_type": "stream",
     "text": [
      "Frame # 1043\n",
      "========\n",
      "Selecting.. ((910, 384), (1015, 493))\n",
      "========\n"
     ]
    },
    {
     "name": "stderr",
     "output_type": "stream",
     "text": [
      "\r",
      " 43%|████▎     | 541/1261 [2:49:19<3:44:24, 18.70s/it]"
     ]
    },
    {
     "name": "stdout",
     "output_type": "stream",
     "text": [
      "Frame # 1044\n",
      "========\n",
      "Selecting.. ((910, 384), (1005, 493))\n",
      "========\n"
     ]
    },
    {
     "name": "stderr",
     "output_type": "stream",
     "text": [
      "\r",
      " 43%|████▎     | 542/1261 [2:49:38<3:43:56, 18.69s/it]"
     ]
    },
    {
     "name": "stdout",
     "output_type": "stream",
     "text": [
      "Frame # 1045\n",
      "========\n",
      "Selecting.. ((910, 384), (1005, 493))\n",
      "========\n"
     ]
    },
    {
     "name": "stderr",
     "output_type": "stream",
     "text": [
      "\r",
      " 43%|████▎     | 543/1261 [2:49:56<3:43:22, 18.67s/it]"
     ]
    },
    {
     "name": "stdout",
     "output_type": "stream",
     "text": [
      "Frame # 1046\n",
      "========\n",
      "Selecting.. ((910, 384), (1005, 493))\n",
      "========\n"
     ]
    },
    {
     "name": "stderr",
     "output_type": "stream",
     "text": [
      "\r",
      " 43%|████▎     | 544/1261 [2:50:15<3:43:04, 18.67s/it]"
     ]
    },
    {
     "name": "stdout",
     "output_type": "stream",
     "text": [
      "Frame # 1047\n",
      "========\n",
      "Selecting.. ((910, 393), (1005, 493))\n",
      "========\n"
     ]
    },
    {
     "name": "stderr",
     "output_type": "stream",
     "text": [
      "\r",
      " 43%|████▎     | 545/1261 [2:50:34<3:42:39, 18.66s/it]"
     ]
    },
    {
     "name": "stdout",
     "output_type": "stream",
     "text": [
      "Frame # 1048\n",
      "========\n",
      "Selecting.. ((910, 393), (1005, 493))\n",
      "========\n"
     ]
    },
    {
     "name": "stderr",
     "output_type": "stream",
     "text": [
      "\r",
      " 43%|████▎     | 546/1261 [2:50:52<3:42:03, 18.63s/it]"
     ]
    },
    {
     "name": "stdout",
     "output_type": "stream",
     "text": [
      "Frame # 1049\n",
      "========\n",
      "Selecting.. ((910, 393), (1005, 493))\n",
      "========\n"
     ]
    },
    {
     "name": "stderr",
     "output_type": "stream",
     "text": [
      "\r",
      " 43%|████▎     | 547/1261 [2:51:11<3:41:53, 18.65s/it]"
     ]
    },
    {
     "name": "stdout",
     "output_type": "stream",
     "text": [
      "Frame # 1050\n",
      "========\n",
      "Selecting.. ((910, 393), (1005, 493))\n",
      "========\n"
     ]
    },
    {
     "name": "stderr",
     "output_type": "stream",
     "text": [
      "\r",
      " 43%|████▎     | 548/1261 [2:51:30<3:42:10, 18.70s/it]"
     ]
    },
    {
     "name": "stdout",
     "output_type": "stream",
     "text": [
      "Frame # 1051\n",
      "========\n",
      "Selecting.. ((910, 393), (1005, 493))\n",
      "========\n"
     ]
    },
    {
     "name": "stderr",
     "output_type": "stream",
     "text": [
      "\r",
      " 44%|████▎     | 549/1261 [2:51:49<3:42:27, 18.75s/it]"
     ]
    },
    {
     "name": "stdout",
     "output_type": "stream",
     "text": [
      "Frame # 1052\n",
      "========\n",
      "Selecting.. ((910, 396), (1005, 493))\n",
      "========\n"
     ]
    },
    {
     "name": "stderr",
     "output_type": "stream",
     "text": [
      "\r",
      " 44%|████▎     | 550/1261 [2:52:07<3:42:07, 18.75s/it]"
     ]
    },
    {
     "name": "stdout",
     "output_type": "stream",
     "text": [
      "Frame # 1053\n",
      "========\n",
      "Selecting.. ((924, 393), (1005, 487))\n",
      "========\n"
     ]
    },
    {
     "name": "stderr",
     "output_type": "stream",
     "text": [
      "\r",
      " 44%|████▎     | 551/1261 [2:52:26<3:42:12, 18.78s/it]"
     ]
    },
    {
     "name": "stdout",
     "output_type": "stream",
     "text": [
      "Frame # 1054\n",
      "========\n",
      "Selecting.. ((910, 393), (1005, 487))\n",
      "========\n"
     ]
    },
    {
     "name": "stderr",
     "output_type": "stream",
     "text": [
      "\r",
      " 44%|████▍     | 552/1261 [2:52:45<3:41:57, 18.78s/it]"
     ]
    },
    {
     "name": "stdout",
     "output_type": "stream",
     "text": [
      "Frame # 1055\n",
      "========\n",
      "Selecting.. ((910, 384), (1005, 479))\n",
      "========\n"
     ]
    },
    {
     "name": "stderr",
     "output_type": "stream",
     "text": [
      "\r",
      " 44%|████▍     | 553/1261 [2:53:04<3:41:49, 18.80s/it]"
     ]
    },
    {
     "name": "stdout",
     "output_type": "stream",
     "text": [
      "Frame # 1056\n",
      "========\n",
      "Selecting.. ((910, 384), (1003, 479))\n",
      "========\n"
     ]
    },
    {
     "name": "stderr",
     "output_type": "stream",
     "text": [
      "\r",
      " 44%|████▍     | 554/1261 [2:53:23<3:41:39, 18.81s/it]"
     ]
    },
    {
     "name": "stdout",
     "output_type": "stream",
     "text": [
      "Frame # 1057\n",
      "========\n",
      "Selecting.. ((910, 384), (1005, 493))\n",
      "========\n"
     ]
    },
    {
     "name": "stderr",
     "output_type": "stream",
     "text": [
      "\r",
      " 44%|████▍     | 555/1261 [2:53:42<3:41:35, 18.83s/it]"
     ]
    },
    {
     "name": "stdout",
     "output_type": "stream",
     "text": [
      "Frame # 1058\n",
      "========\n",
      "Selecting.. ((910, 384), (1005, 479))\n",
      "========\n"
     ]
    },
    {
     "name": "stderr",
     "output_type": "stream",
     "text": [
      "\r",
      " 44%|████▍     | 556/1261 [2:54:01<3:41:24, 18.84s/it]"
     ]
    },
    {
     "name": "stdout",
     "output_type": "stream",
     "text": [
      "Frame # 1059\n",
      "========\n",
      "Selecting.. ((910, 384), (1005, 493))\n",
      "========\n"
     ]
    },
    {
     "name": "stderr",
     "output_type": "stream",
     "text": [
      "\r",
      " 44%|████▍     | 557/1261 [2:54:19<3:40:44, 18.81s/it]"
     ]
    },
    {
     "name": "stdout",
     "output_type": "stream",
     "text": [
      "Frame # 1060\n",
      "========\n",
      "Selecting.. ((910, 393), (1005, 493))\n",
      "========\n"
     ]
    },
    {
     "name": "stderr",
     "output_type": "stream",
     "text": [
      "\r",
      " 44%|████▍     | 558/1261 [2:54:38<3:40:52, 18.85s/it]"
     ]
    },
    {
     "name": "stdout",
     "output_type": "stream",
     "text": [
      "Frame # 1061\n",
      "========\n",
      "Selecting.. ((910, 384), (1005, 493))\n",
      "========\n"
     ]
    },
    {
     "name": "stderr",
     "output_type": "stream",
     "text": [
      "\r",
      " 44%|████▍     | 559/1261 [2:54:57<3:40:22, 18.84s/it]"
     ]
    },
    {
     "name": "stdout",
     "output_type": "stream",
     "text": [
      "Frame # 1062\n",
      "========\n",
      "Selecting.. ((912, 384), (1003, 479))\n",
      "========\n"
     ]
    },
    {
     "name": "stderr",
     "output_type": "stream",
     "text": [
      "\r",
      " 44%|████▍     | 560/1261 [2:55:16<3:40:37, 18.88s/it]"
     ]
    },
    {
     "name": "stdout",
     "output_type": "stream",
     "text": [
      "Frame # 1063\n",
      "========\n",
      "Selecting.. ((912, 384), (1003, 479))\n",
      "========\n"
     ]
    },
    {
     "name": "stderr",
     "output_type": "stream",
     "text": [
      "\r",
      " 44%|████▍     | 561/1261 [2:55:35<3:40:27, 18.90s/it]"
     ]
    },
    {
     "name": "stdout",
     "output_type": "stream",
     "text": [
      "Frame # 1064\n",
      "========\n",
      "Selecting.. ((912, 384), (996, 479))\n",
      "========\n"
     ]
    },
    {
     "name": "stderr",
     "output_type": "stream",
     "text": [
      "\r",
      " 45%|████▍     | 562/1261 [2:55:54<3:40:17, 18.91s/it]"
     ]
    },
    {
     "name": "stdout",
     "output_type": "stream",
     "text": [
      "Frame # 1065\n",
      "========\n",
      "Selecting.. ((912, 384), (991, 479))\n",
      "========\n"
     ]
    },
    {
     "name": "stderr",
     "output_type": "stream",
     "text": [
      "\r",
      " 45%|████▍     | 563/1261 [2:56:13<3:40:11, 18.93s/it]"
     ]
    },
    {
     "name": "stdout",
     "output_type": "stream",
     "text": [
      "Frame # 1066\n",
      "========\n",
      "Selecting.. ((912, 384), (1003, 479))\n",
      "========\n"
     ]
    },
    {
     "name": "stderr",
     "output_type": "stream",
     "text": [
      "\r",
      " 45%|████▍     | 564/1261 [2:56:32<3:39:52, 18.93s/it]"
     ]
    },
    {
     "name": "stdout",
     "output_type": "stream",
     "text": [
      "Frame # 1067\n",
      "========\n",
      "Selecting.. ((910, 396), (1003, 479))\n",
      "========\n"
     ]
    },
    {
     "name": "stderr",
     "output_type": "stream",
     "text": [
      "\r",
      " 45%|████▍     | 565/1261 [2:56:50<3:38:48, 18.86s/it]"
     ]
    },
    {
     "name": "stdout",
     "output_type": "stream",
     "text": [
      "Frame # 1068\n",
      "========\n",
      "Selecting.. ((910, 393), (1005, 493))\n",
      "========\n"
     ]
    },
    {
     "name": "stderr",
     "output_type": "stream",
     "text": [
      "\r",
      " 45%|████▍     | 566/1261 [2:57:09<3:38:30, 18.86s/it]"
     ]
    },
    {
     "name": "stdout",
     "output_type": "stream",
     "text": [
      "Frame # 1069\n",
      "========\n",
      "Selecting.. ((912, 398), (1003, 493))\n",
      "========\n"
     ]
    },
    {
     "name": "stderr",
     "output_type": "stream",
     "text": [
      "\r",
      " 45%|████▍     | 567/1261 [2:57:28<3:38:25, 18.88s/it]"
     ]
    },
    {
     "name": "stdout",
     "output_type": "stream",
     "text": [
      "Frame # 1070\n",
      "========\n",
      "Not Selecting.. ((768, 384), (879, 463))\n",
      "========\n",
      "========\n",
      "Selecting.. ((910, 396), (1003, 493))\n",
      "========\n"
     ]
    },
    {
     "name": "stderr",
     "output_type": "stream",
     "text": [
      "\r",
      " 45%|████▌     | 568/1261 [2:57:47<3:38:17, 18.90s/it]"
     ]
    },
    {
     "name": "stdout",
     "output_type": "stream",
     "text": [
      "Frame # 1071\n",
      "========\n",
      "Not Selecting.. ((784, 384), (879, 463))\n",
      "========\n",
      "========\n",
      "Selecting.. ((912, 398), (1003, 493))\n",
      "========\n"
     ]
    },
    {
     "name": "stderr",
     "output_type": "stream",
     "text": [
      "\r",
      " 45%|████▌     | 569/1261 [2:58:06<3:37:52, 18.89s/it]"
     ]
    },
    {
     "name": "stdout",
     "output_type": "stream",
     "text": [
      "Frame # 1072\n",
      "========\n",
      "Selecting.. ((912, 398), (991, 487))\n",
      "========\n"
     ]
    },
    {
     "name": "stderr",
     "output_type": "stream",
     "text": [
      "\r",
      " 45%|████▌     | 570/1261 [2:58:25<3:37:57, 18.93s/it]"
     ]
    },
    {
     "name": "stdout",
     "output_type": "stream",
     "text": [
      "Frame # 1073\n",
      "========\n",
      "Selecting.. ((910, 396), (1003, 493))\n",
      "========\n"
     ]
    },
    {
     "name": "stderr",
     "output_type": "stream",
     "text": [
      "\r",
      " 45%|████▌     | 571/1261 [2:58:44<3:36:30, 18.83s/it]"
     ]
    },
    {
     "name": "stdout",
     "output_type": "stream",
     "text": [
      "Frame # 1074\n",
      "========\n",
      "Selecting.. ((910, 393), (1003, 493))\n",
      "========\n"
     ]
    },
    {
     "name": "stderr",
     "output_type": "stream",
     "text": [
      "\r",
      " 45%|████▌     | 572/1261 [2:59:02<3:35:00, 18.72s/it]"
     ]
    },
    {
     "name": "stdout",
     "output_type": "stream",
     "text": [
      "Frame # 1075\n",
      "========\n",
      "Selecting.. ((910, 393), (1005, 493))\n",
      "========\n"
     ]
    },
    {
     "name": "stderr",
     "output_type": "stream",
     "text": [
      "\r",
      " 45%|████▌     | 573/1261 [2:59:21<3:34:45, 18.73s/it]"
     ]
    },
    {
     "name": "stdout",
     "output_type": "stream",
     "text": [
      "Frame # 1076\n",
      "========\n",
      "Selecting.. ((910, 393), (1005, 493))\n",
      "========\n"
     ]
    },
    {
     "name": "stderr",
     "output_type": "stream",
     "text": [
      "\r",
      " 46%|████▌     | 574/1261 [2:59:40<3:34:28, 18.73s/it]"
     ]
    },
    {
     "name": "stdout",
     "output_type": "stream",
     "text": [
      "Frame # 1077\n",
      "========\n",
      "Selecting.. ((910, 393), (1005, 493))\n",
      "========\n"
     ]
    },
    {
     "name": "stderr",
     "output_type": "stream",
     "text": [
      "\r",
      " 46%|████▌     | 575/1261 [2:59:58<3:34:09, 18.73s/it]"
     ]
    },
    {
     "name": "stdout",
     "output_type": "stream",
     "text": [
      "Frame # 1078\n",
      "========\n",
      "Selecting.. ((910, 384), (1005, 493))\n",
      "========\n"
     ]
    },
    {
     "name": "stderr",
     "output_type": "stream",
     "text": [
      "\r",
      " 46%|████▌     | 576/1261 [3:00:17<3:33:48, 18.73s/it]"
     ]
    },
    {
     "name": "stdout",
     "output_type": "stream",
     "text": [
      "Frame # 1079\n",
      "========\n",
      "Selecting.. ((910, 393), (1005, 493))\n",
      "========\n"
     ]
    },
    {
     "name": "stderr",
     "output_type": "stream",
     "text": [
      "\r",
      " 46%|████▌     | 577/1261 [3:00:36<3:33:19, 18.71s/it]"
     ]
    },
    {
     "name": "stdout",
     "output_type": "stream",
     "text": [
      "Frame # 1080\n",
      "========\n",
      "Not Selecting.. ((777, 384), (850, 463))\n",
      "========\n",
      "========\n",
      "Selecting.. ((912, 396), (996, 487))\n",
      "========\n"
     ]
    },
    {
     "name": "stderr",
     "output_type": "stream",
     "text": [
      "\r",
      " 46%|████▌     | 578/1261 [3:00:54<3:32:46, 18.69s/it]"
     ]
    },
    {
     "name": "stdout",
     "output_type": "stream",
     "text": [
      "Frame # 1081\n",
      "========\n",
      "Not Selecting.. ((744, 384), (837, 475))\n",
      "========\n",
      "========\n",
      "Selecting.. ((912, 396), (996, 487))\n",
      "========\n"
     ]
    },
    {
     "name": "stderr",
     "output_type": "stream",
     "text": [
      "\r",
      " 46%|████▌     | 579/1261 [3:01:13<3:32:51, 18.73s/it]"
     ]
    },
    {
     "name": "stdout",
     "output_type": "stream",
     "text": [
      "Frame # 1082\n",
      "========\n",
      "Not Selecting.. ((771, 384), (844, 463))\n",
      "========\n",
      "========\n",
      "Selecting.. ((900, 396), (991, 487))\n",
      "========\n"
     ]
    },
    {
     "name": "stderr",
     "output_type": "stream",
     "text": [
      "\r",
      " 46%|████▌     | 580/1261 [3:01:32<3:31:40, 18.65s/it]"
     ]
    },
    {
     "name": "stdout",
     "output_type": "stream",
     "text": [
      "Frame # 1083\n",
      "========\n",
      "Selecting.. ((784, 384), (879, 479))\n",
      "========\n",
      "========\n",
      "Selecting.. ((910, 393), (996, 487))\n",
      "========\n"
     ]
    },
    {
     "name": "stderr",
     "output_type": "stream",
     "text": [
      "\r",
      " 46%|████▌     | 581/1261 [3:01:50<3:31:47, 18.69s/it]"
     ]
    },
    {
     "name": "stdout",
     "output_type": "stream",
     "text": [
      "Frame # 1084\n",
      "========\n",
      "Selecting.. ((774, 384), (847, 463))\n",
      "========\n",
      "========\n",
      "Selecting.. ((910, 393), (996, 487))\n",
      "========\n"
     ]
    },
    {
     "name": "stderr",
     "output_type": "stream",
     "text": [
      "\r",
      " 46%|████▌     | 582/1261 [3:02:09<3:32:16, 18.76s/it]"
     ]
    },
    {
     "name": "stdout",
     "output_type": "stream",
     "text": [
      "Frame # 1085\n",
      "========\n",
      "Selecting.. ((774, 384), (847, 463))\n",
      "========\n",
      "========\n",
      "Selecting.. ((910, 393), (996, 487))\n",
      "========\n"
     ]
    },
    {
     "name": "stderr",
     "output_type": "stream",
     "text": [
      "\r",
      " 46%|████▌     | 583/1261 [3:02:28<3:32:04, 18.77s/it]"
     ]
    },
    {
     "name": "stdout",
     "output_type": "stream",
     "text": [
      "Frame # 1086\n",
      "========\n",
      "Selecting.. ((798, 384), (879, 479))\n",
      "========\n",
      "========\n",
      "Selecting.. ((900, 393), (996, 487))\n",
      "========\n"
     ]
    },
    {
     "name": "stderr",
     "output_type": "stream",
     "text": [
      "\r",
      " 46%|████▋     | 584/1261 [3:02:47<3:31:44, 18.77s/it]"
     ]
    },
    {
     "name": "stdout",
     "output_type": "stream",
     "text": [
      "Frame # 1087\n",
      "========\n",
      "Selecting.. ((744, 384), (837, 479))\n",
      "========\n",
      "========\n",
      "Selecting.. ((910, 398), (1003, 493))\n",
      "========\n"
     ]
    },
    {
     "name": "stderr",
     "output_type": "stream",
     "text": [
      "\r",
      " 46%|████▋     | 585/1261 [3:03:06<3:31:01, 18.73s/it]"
     ]
    },
    {
     "name": "stdout",
     "output_type": "stream",
     "text": [
      "Frame # 1088\n",
      "========\n",
      "Selecting.. ((798, 384), (893, 479))\n",
      "========\n",
      "========\n",
      "Selecting.. ((896, 396), (1003, 493))\n",
      "========\n"
     ]
    },
    {
     "name": "stderr",
     "output_type": "stream",
     "text": [
      "\r",
      " 46%|████▋     | 586/1261 [3:03:24<3:30:37, 18.72s/it]"
     ]
    },
    {
     "name": "stdout",
     "output_type": "stream",
     "text": [
      "Frame # 1089\n",
      "========\n",
      "Selecting.. ((784, 384), (879, 479))\n",
      "========\n",
      "========\n",
      "Selecting.. ((910, 398), (991, 487))\n",
      "========\n"
     ]
    },
    {
     "name": "stderr",
     "output_type": "stream",
     "text": [
      "\r",
      " 47%|████▋     | 587/1261 [3:03:43<3:30:17, 18.72s/it]"
     ]
    },
    {
     "name": "stdout",
     "output_type": "stream",
     "text": [
      "Frame # 1090\n",
      "========\n",
      "Selecting.. ((781, 384), (854, 479))\n",
      "========\n",
      "========\n",
      "Selecting.. ((910, 398), (991, 487))\n",
      "========\n"
     ]
    },
    {
     "name": "stderr",
     "output_type": "stream",
     "text": [
      "\r",
      " 47%|████▋     | 588/1261 [3:04:02<3:29:56, 18.72s/it]"
     ]
    },
    {
     "name": "stdout",
     "output_type": "stream",
     "text": [
      "Frame # 1091\n",
      "========\n",
      "Selecting.. ((900, 396), (1003, 493))\n",
      "========\n"
     ]
    },
    {
     "name": "stderr",
     "output_type": "stream",
     "text": [
      "\r",
      " 47%|████▋     | 589/1261 [3:04:20<3:29:35, 18.71s/it]"
     ]
    },
    {
     "name": "stdout",
     "output_type": "stream",
     "text": [
      "Frame # 1092\n",
      "========\n",
      "Selecting.. ((900, 396), (991, 487))\n",
      "========\n",
      "========\n",
      "Not Selecting.. ((781, 398), (854, 479))\n",
      "========\n"
     ]
    },
    {
     "name": "stderr",
     "output_type": "stream",
     "text": [
      "\r",
      " 47%|████▋     | 590/1261 [3:04:39<3:29:19, 18.72s/it]"
     ]
    },
    {
     "name": "stdout",
     "output_type": "stream",
     "text": [
      "Frame # 1093\n",
      "========\n",
      "Not Selecting.. ((781, 384), (854, 479))\n",
      "========\n",
      "========\n",
      "Selecting.. ((910, 393), (996, 487))\n",
      "========\n"
     ]
    },
    {
     "name": "stderr",
     "output_type": "stream",
     "text": [
      "\r",
      " 47%|████▋     | 591/1261 [3:04:58<3:28:22, 18.66s/it]"
     ]
    },
    {
     "name": "stdout",
     "output_type": "stream",
     "text": [
      "Frame # 1094\n",
      "========\n",
      "Not Selecting.. ((781, 384), (854, 479))\n",
      "========\n",
      "========\n",
      "Selecting.. ((900, 396), (991, 487))\n",
      "========\n"
     ]
    },
    {
     "name": "stderr",
     "output_type": "stream",
     "text": [
      "\r",
      " 47%|████▋     | 592/1261 [3:05:17<3:28:37, 18.71s/it]"
     ]
    },
    {
     "name": "stdout",
     "output_type": "stream",
     "text": [
      "Frame # 1095\n",
      "========\n",
      "Selecting.. ((784, 384), (1003, 487))\n",
      "========\n"
     ]
    },
    {
     "name": "stderr",
     "output_type": "stream",
     "text": [
      "\r",
      " 47%|████▋     | 593/1261 [3:05:35<3:28:41, 18.74s/it]"
     ]
    },
    {
     "name": "stdout",
     "output_type": "stream",
     "text": [
      "Frame # 1096\n",
      "========\n",
      "Selecting.. ((784, 384), (879, 479))\n",
      "========\n",
      "========\n",
      "Selecting.. ((900, 396), (991, 487))\n",
      "========\n",
      "========\n",
      "Selecting.. ((860, 418), (933, 481))\n",
      "========\n"
     ]
    },
    {
     "name": "stderr",
     "output_type": "stream",
     "text": [
      "\r",
      " 47%|████▋     | 594/1261 [3:05:54<3:28:44, 18.78s/it]"
     ]
    },
    {
     "name": "stdout",
     "output_type": "stream",
     "text": [
      "Frame # 1097\n",
      "========\n",
      "Not Selecting.. ((781, 384), (854, 479))\n",
      "========\n",
      "========\n",
      "Not Selecting.. ((900, 396), (991, 487))\n",
      "========\n"
     ]
    },
    {
     "name": "stderr",
     "output_type": "stream",
     "text": [
      "\r",
      " 47%|████▋     | 595/1261 [3:06:13<3:28:34, 18.79s/it]"
     ]
    },
    {
     "name": "stdout",
     "output_type": "stream",
     "text": [
      "Frame # 1098\n",
      "========\n",
      "Not Selecting.. ((910, 393), (1003, 487))\n",
      "========\n",
      "========\n",
      "Not Selecting.. ((781, 398), (854, 479))\n",
      "========\n"
     ]
    },
    {
     "name": "stderr",
     "output_type": "stream",
     "text": [
      "\r",
      " 47%|████▋     | 596/1261 [3:06:32<3:28:32, 18.82s/it]"
     ]
    },
    {
     "name": "stdout",
     "output_type": "stream",
     "text": [
      "Frame # 1099\n",
      "========\n",
      "Selecting.. ((781, 384), (854, 479))\n",
      "========\n",
      "========\n",
      "Not Selecting.. ((910, 393), (991, 487))\n",
      "========\n"
     ]
    },
    {
     "name": "stderr",
     "output_type": "stream",
     "text": [
      "\r",
      " 47%|████▋     | 597/1261 [3:06:50<3:27:30, 18.75s/it]"
     ]
    },
    {
     "name": "stdout",
     "output_type": "stream",
     "text": [
      "Frame # 1100\n",
      "========\n",
      "Selecting.. ((781, 384), (854, 479))\n",
      "========\n",
      "========\n",
      "Selecting.. ((910, 393), (991, 487))\n",
      "========\n"
     ]
    },
    {
     "name": "stderr",
     "output_type": "stream",
     "text": [
      "\r",
      " 47%|████▋     | 598/1261 [3:07:09<3:27:34, 18.78s/it]"
     ]
    },
    {
     "name": "stdout",
     "output_type": "stream",
     "text": [
      "Frame # 1101\n",
      "========\n",
      "Selecting.. ((900, 384), (1005, 493))\n",
      "========\n"
     ]
    },
    {
     "name": "stderr",
     "output_type": "stream",
     "text": [
      "\r",
      " 48%|████▊     | 599/1261 [3:07:28<3:27:25, 18.80s/it]"
     ]
    },
    {
     "name": "stdout",
     "output_type": "stream",
     "text": [
      "Frame # 1102\n",
      "========\n",
      "Selecting.. ((910, 384), (1005, 493))\n",
      "========\n"
     ]
    },
    {
     "name": "stderr",
     "output_type": "stream",
     "text": [
      "\r",
      " 48%|████▊     | 600/1261 [3:07:47<3:27:07, 18.80s/it]"
     ]
    },
    {
     "name": "stdout",
     "output_type": "stream",
     "text": [
      "Frame # 1103\n",
      "========\n",
      "Selecting.. ((900, 384), (1005, 493))\n",
      "========\n"
     ]
    },
    {
     "name": "stderr",
     "output_type": "stream",
     "text": [
      "\r",
      " 48%|████▊     | 601/1261 [3:08:06<3:26:08, 18.74s/it]"
     ]
    },
    {
     "name": "stdout",
     "output_type": "stream",
     "text": [
      "Frame # 1104\n",
      "========\n",
      "Selecting.. ((910, 393), (991, 479))\n",
      "========\n"
     ]
    },
    {
     "name": "stderr",
     "output_type": "stream",
     "text": [
      "\r",
      " 48%|████▊     | 602/1261 [3:08:24<3:25:23, 18.70s/it]"
     ]
    },
    {
     "name": "stdout",
     "output_type": "stream",
     "text": [
      "Frame # 1105\n",
      "========\n",
      "Selecting.. ((910, 393), (991, 479))\n",
      "========\n"
     ]
    },
    {
     "name": "stderr",
     "output_type": "stream",
     "text": [
      "\r",
      " 48%|████▊     | 603/1261 [3:08:43<3:24:53, 18.68s/it]"
     ]
    },
    {
     "name": "stdout",
     "output_type": "stream",
     "text": [
      "Frame # 1106\n",
      "========\n",
      "Selecting.. ((910, 396), (1005, 493))\n",
      "========\n"
     ]
    },
    {
     "name": "stderr",
     "output_type": "stream",
     "text": [
      "\r",
      " 48%|████▊     | 604/1261 [3:09:01<3:24:11, 18.65s/it]"
     ]
    },
    {
     "name": "stdout",
     "output_type": "stream",
     "text": [
      "Frame # 1107\n",
      "========\n",
      "Selecting.. ((910, 393), (996, 493))\n",
      "========\n"
     ]
    },
    {
     "name": "stderr",
     "output_type": "stream",
     "text": [
      "\r",
      " 48%|████▊     | 605/1261 [3:09:20<3:23:48, 18.64s/it]"
     ]
    },
    {
     "name": "stdout",
     "output_type": "stream",
     "text": [
      "Frame # 1108\n",
      "========\n",
      "Selecting.. ((912, 398), (1051, 511))\n",
      "========\n"
     ]
    },
    {
     "name": "stderr",
     "output_type": "stream",
     "text": [
      "\r",
      " 48%|████▊     | 606/1261 [3:09:39<3:23:31, 18.64s/it]"
     ]
    },
    {
     "name": "stdout",
     "output_type": "stream",
     "text": [
      "Frame # 1109\n",
      "========\n",
      "Selecting.. ((912, 398), (1003, 493))\n",
      "========\n"
     ]
    },
    {
     "name": "stderr",
     "output_type": "stream",
     "text": [
      "\r",
      " 48%|████▊     | 607/1261 [3:09:57<3:23:29, 18.67s/it]"
     ]
    },
    {
     "name": "stdout",
     "output_type": "stream",
     "text": [
      "Frame # 1110\n",
      "========\n",
      "Selecting.. ((912, 398), (991, 487))\n",
      "========\n"
     ]
    },
    {
     "name": "stderr",
     "output_type": "stream",
     "text": [
      "\r",
      " 48%|████▊     | 608/1261 [3:10:16<3:23:45, 18.72s/it]"
     ]
    },
    {
     "name": "stdout",
     "output_type": "stream",
     "text": [
      "Frame # 1111\n",
      "========\n",
      "Selecting.. ((912, 402), (991, 487))\n",
      "========\n"
     ]
    },
    {
     "name": "stderr",
     "output_type": "stream",
     "text": [
      "\r",
      " 48%|████▊     | 609/1261 [3:10:35<3:23:34, 18.73s/it]"
     ]
    },
    {
     "name": "stdout",
     "output_type": "stream",
     "text": [
      "Frame # 1112\n",
      "========\n",
      "Selecting.. ((910, 398), (991, 487))\n",
      "========\n"
     ]
    },
    {
     "name": "stderr",
     "output_type": "stream",
     "text": [
      "\r",
      " 48%|████▊     | 610/1261 [3:10:54<3:23:07, 18.72s/it]"
     ]
    },
    {
     "name": "stdout",
     "output_type": "stream",
     "text": [
      "Frame # 1113\n",
      "========\n",
      "Selecting.. ((910, 398), (991, 487))\n",
      "========\n"
     ]
    },
    {
     "name": "stderr",
     "output_type": "stream",
     "text": [
      "\r",
      " 48%|████▊     | 611/1261 [3:11:12<3:23:02, 18.74s/it]"
     ]
    },
    {
     "name": "stdout",
     "output_type": "stream",
     "text": [
      "Frame # 1114\n",
      "========\n",
      "Selecting.. ((912, 398), (991, 475))\n",
      "========\n"
     ]
    },
    {
     "name": "stderr",
     "output_type": "stream",
     "text": [
      "\r",
      " 49%|████▊     | 612/1261 [3:11:31<3:22:40, 18.74s/it]"
     ]
    },
    {
     "name": "stdout",
     "output_type": "stream",
     "text": [
      "Frame # 1115\n",
      "========\n",
      "Selecting.. ((900, 398), (991, 487))\n",
      "========\n"
     ]
    },
    {
     "name": "stderr",
     "output_type": "stream",
     "text": [
      "\r",
      " 49%|████▊     | 613/1261 [3:11:50<3:22:25, 18.74s/it]"
     ]
    },
    {
     "name": "stdout",
     "output_type": "stream",
     "text": [
      "Frame # 1116\n",
      "========\n",
      "Selecting.. ((900, 398), (991, 487))\n",
      "========\n"
     ]
    },
    {
     "name": "stderr",
     "output_type": "stream",
     "text": [
      "\r",
      " 49%|████▊     | 614/1261 [3:12:09<3:22:10, 18.75s/it]"
     ]
    },
    {
     "name": "stdout",
     "output_type": "stream",
     "text": [
      "Frame # 1117\n",
      "========\n",
      "Selecting.. ((900, 408), (979, 487))\n",
      "========\n"
     ]
    },
    {
     "name": "stderr",
     "output_type": "stream",
     "text": [
      "\r",
      " 49%|████▉     | 615/1261 [3:12:27<3:21:54, 18.75s/it]"
     ]
    },
    {
     "name": "stdout",
     "output_type": "stream",
     "text": [
      "Frame # 1118\n",
      "========\n",
      "Selecting.. ((900, 398), (991, 487))\n",
      "========\n"
     ]
    },
    {
     "name": "stderr",
     "output_type": "stream",
     "text": [
      "\r",
      " 49%|████▉     | 616/1261 [3:12:46<3:21:46, 18.77s/it]"
     ]
    },
    {
     "name": "stdout",
     "output_type": "stream",
     "text": [
      "Frame # 1119\n",
      "========\n",
      "Selecting.. ((900, 398), (991, 487))\n",
      "========\n"
     ]
    },
    {
     "name": "stderr",
     "output_type": "stream",
     "text": [
      "\r",
      " 49%|████▉     | 617/1261 [3:13:05<3:20:52, 18.72s/it]"
     ]
    },
    {
     "name": "stdout",
     "output_type": "stream",
     "text": [
      "Frame # 1120\n",
      "========\n",
      "Selecting.. ((900, 398), (987, 487))\n",
      "========\n"
     ]
    },
    {
     "name": "stderr",
     "output_type": "stream",
     "text": [
      "\r",
      " 49%|████▉     | 618/1261 [3:13:24<3:20:30, 18.71s/it]"
     ]
    },
    {
     "name": "stdout",
     "output_type": "stream",
     "text": [
      "Frame # 1121\n",
      "========\n",
      "Selecting.. ((900, 402), (979, 487))\n",
      "========\n"
     ]
    },
    {
     "name": "stderr",
     "output_type": "stream",
     "text": [
      "\r",
      " 49%|████▉     | 619/1261 [3:13:42<3:20:18, 18.72s/it]"
     ]
    },
    {
     "name": "stdout",
     "output_type": "stream",
     "text": [
      "Frame # 1122\n"
     ]
    },
    {
     "name": "stderr",
     "output_type": "stream",
     "text": [
      "\r",
      " 49%|████▉     | 620/1261 [3:14:01<3:20:21, 18.75s/it]"
     ]
    },
    {
     "name": "stdout",
     "output_type": "stream",
     "text": [
      "Frame # 1123\n",
      "========\n",
      "Not Selecting.. ((900, 408), (979, 487))\n",
      "========\n"
     ]
    },
    {
     "name": "stderr",
     "output_type": "stream",
     "text": [
      "\r",
      " 49%|████▉     | 621/1261 [3:14:20<3:19:45, 18.73s/it]"
     ]
    },
    {
     "name": "stdout",
     "output_type": "stream",
     "text": [
      "Frame # 1124\n",
      "========\n",
      "Not Selecting.. ((900, 402), (978, 487))\n",
      "========\n"
     ]
    },
    {
     "name": "stderr",
     "output_type": "stream",
     "text": [
      "\r",
      " 49%|████▉     | 622/1261 [3:14:39<3:19:29, 18.73s/it]"
     ]
    },
    {
     "name": "stdout",
     "output_type": "stream",
     "text": [
      "Frame # 1125\n",
      "========\n",
      "Not Selecting.. ((900, 398), (979, 487))\n",
      "========\n"
     ]
    },
    {
     "name": "stderr",
     "output_type": "stream",
     "text": [
      "\r",
      " 49%|████▉     | 623/1261 [3:14:57<3:18:45, 18.69s/it]"
     ]
    },
    {
     "name": "stdout",
     "output_type": "stream",
     "text": [
      "Frame # 1126\n",
      "========\n",
      "Selecting.. ((900, 398), (979, 487))\n",
      "========\n"
     ]
    },
    {
     "name": "stderr",
     "output_type": "stream",
     "text": [
      "\r",
      " 49%|████▉     | 624/1261 [3:15:16<3:18:29, 18.70s/it]"
     ]
    },
    {
     "name": "stdout",
     "output_type": "stream",
     "text": [
      "Frame # 1127\n",
      "========\n",
      "Selecting.. ((900, 398), (979, 487))\n",
      "========\n"
     ]
    },
    {
     "name": "stderr",
     "output_type": "stream",
     "text": [
      "\r",
      " 50%|████▉     | 625/1261 [3:15:35<3:18:22, 18.72s/it]"
     ]
    },
    {
     "name": "stdout",
     "output_type": "stream",
     "text": [
      "Frame # 1128\n",
      "========\n",
      "Selecting.. ((900, 398), (979, 487))\n",
      "========\n"
     ]
    },
    {
     "name": "stderr",
     "output_type": "stream",
     "text": [
      "\r",
      " 50%|████▉     | 626/1261 [3:15:53<3:18:09, 18.72s/it]"
     ]
    },
    {
     "name": "stdout",
     "output_type": "stream",
     "text": [
      "Frame # 1129\n",
      "========\n",
      "Selecting.. ((900, 398), (979, 487))\n",
      "========\n"
     ]
    },
    {
     "name": "stderr",
     "output_type": "stream",
     "text": [
      "\r",
      " 50%|████▉     | 627/1261 [3:16:12<3:17:38, 18.70s/it]"
     ]
    },
    {
     "name": "stdout",
     "output_type": "stream",
     "text": [
      "Frame # 1130\n",
      "========\n",
      "Selecting.. ((900, 398), (979, 487))\n",
      "========\n"
     ]
    },
    {
     "name": "stderr",
     "output_type": "stream",
     "text": [
      "\r",
      " 50%|████▉     | 628/1261 [3:16:31<3:17:30, 18.72s/it]"
     ]
    },
    {
     "name": "stdout",
     "output_type": "stream",
     "text": [
      "Frame # 1131\n",
      "========\n",
      "Selecting.. ((900, 408), (977, 487))\n",
      "========\n"
     ]
    },
    {
     "name": "stderr",
     "output_type": "stream",
     "text": [
      "\r",
      " 50%|████▉     | 629/1261 [3:16:49<3:16:58, 18.70s/it]"
     ]
    },
    {
     "name": "stdout",
     "output_type": "stream",
     "text": [
      "Frame # 1132\n",
      "========\n",
      "Selecting.. ((900, 398), (979, 487))\n",
      "========\n"
     ]
    },
    {
     "name": "stderr",
     "output_type": "stream",
     "text": [
      "\r",
      " 50%|████▉     | 630/1261 [3:17:08<3:16:21, 18.67s/it]"
     ]
    },
    {
     "name": "stdout",
     "output_type": "stream",
     "text": [
      "Frame # 1133\n",
      "========\n",
      "Selecting.. ((900, 398), (991, 493))\n",
      "========\n"
     ]
    },
    {
     "name": "stderr",
     "output_type": "stream",
     "text": [
      "\r",
      " 50%|█████     | 631/1261 [3:17:27<3:15:45, 18.64s/it]"
     ]
    },
    {
     "name": "stdout",
     "output_type": "stream",
     "text": [
      "Frame # 1134\n",
      "========\n",
      "Selecting.. ((896, 396), (979, 487))\n",
      "========\n"
     ]
    },
    {
     "name": "stderr",
     "output_type": "stream",
     "text": [
      "\r",
      " 50%|█████     | 632/1261 [3:17:45<3:15:40, 18.67s/it]"
     ]
    },
    {
     "name": "stdout",
     "output_type": "stream",
     "text": [
      "Frame # 1135\n",
      "========\n",
      "Selecting.. ((896, 396), (979, 487))\n",
      "========\n"
     ]
    },
    {
     "name": "stderr",
     "output_type": "stream",
     "text": [
      "\r",
      " 50%|█████     | 633/1261 [3:18:04<3:15:26, 18.67s/it]"
     ]
    },
    {
     "name": "stdout",
     "output_type": "stream",
     "text": [
      "Frame # 1136\n",
      "========\n",
      "Selecting.. ((896, 398), (977, 487))\n",
      "========\n"
     ]
    },
    {
     "name": "stderr",
     "output_type": "stream",
     "text": [
      "\r",
      " 50%|█████     | 634/1261 [3:18:23<3:15:17, 18.69s/it]"
     ]
    },
    {
     "name": "stdout",
     "output_type": "stream",
     "text": [
      "Frame # 1137\n",
      "========\n",
      "Selecting.. ((896, 398), (977, 487))\n",
      "========\n"
     ]
    },
    {
     "name": "stderr",
     "output_type": "stream",
     "text": [
      "\r",
      " 50%|█████     | 635/1261 [3:18:41<3:15:04, 18.70s/it]"
     ]
    },
    {
     "name": "stdout",
     "output_type": "stream",
     "text": [
      "Frame # 1138\n",
      "========\n",
      "Selecting.. ((900, 408), (967, 487))\n",
      "========\n"
     ]
    },
    {
     "name": "stderr",
     "output_type": "stream",
     "text": [
      "\r",
      " 50%|█████     | 636/1261 [3:19:00<3:14:15, 18.65s/it]"
     ]
    },
    {
     "name": "stdout",
     "output_type": "stream",
     "text": [
      "Frame # 1139\n"
     ]
    },
    {
     "name": "stderr",
     "output_type": "stream",
     "text": [
      "\r",
      " 51%|█████     | 637/1261 [3:19:19<3:14:28, 18.70s/it]"
     ]
    },
    {
     "name": "stdout",
     "output_type": "stream",
     "text": [
      "Frame # 1140\n",
      "========\n",
      "Not Selecting.. ((882, 408), (977, 493))\n",
      "========\n"
     ]
    },
    {
     "name": "stderr",
     "output_type": "stream",
     "text": [
      "\r",
      " 51%|█████     | 638/1261 [3:19:38<3:14:25, 18.72s/it]"
     ]
    },
    {
     "name": "stdout",
     "output_type": "stream",
     "text": [
      "Frame # 1141\n",
      "========\n",
      "Not Selecting.. ((882, 408), (967, 493))\n",
      "========\n"
     ]
    },
    {
     "name": "stderr",
     "output_type": "stream",
     "text": [
      "\r",
      " 51%|█████     | 639/1261 [3:19:57<3:14:38, 18.78s/it]"
     ]
    },
    {
     "name": "stdout",
     "output_type": "stream",
     "text": [
      "Frame # 1142\n",
      "========\n",
      "Not Selecting.. ((882, 402), (977, 493))\n",
      "========\n"
     ]
    },
    {
     "name": "stderr",
     "output_type": "stream",
     "text": [
      "\r",
      " 51%|█████     | 640/1261 [3:20:15<3:14:33, 18.80s/it]"
     ]
    },
    {
     "name": "stdout",
     "output_type": "stream",
     "text": [
      "Frame # 1143\n",
      "========\n",
      "Selecting.. ((882, 398), (977, 487))\n",
      "========\n"
     ]
    },
    {
     "name": "stderr",
     "output_type": "stream",
     "text": [
      "\r",
      " 51%|█████     | 641/1261 [3:20:34<3:14:29, 18.82s/it]"
     ]
    },
    {
     "name": "stdout",
     "output_type": "stream",
     "text": [
      "Frame # 1144\n",
      "========\n",
      "Selecting.. ((882, 398), (977, 487))\n",
      "========\n"
     ]
    },
    {
     "name": "stderr",
     "output_type": "stream",
     "text": [
      "\r",
      " 51%|█████     | 642/1261 [3:20:53<3:13:24, 18.75s/it]"
     ]
    },
    {
     "name": "stdout",
     "output_type": "stream",
     "text": [
      "Frame # 1145\n",
      "========\n",
      "Selecting.. ((882, 398), (977, 487))\n",
      "========\n"
     ]
    },
    {
     "name": "stderr",
     "output_type": "stream",
     "text": [
      "\r",
      " 51%|█████     | 643/1261 [3:21:12<3:13:02, 18.74s/it]"
     ]
    },
    {
     "name": "stdout",
     "output_type": "stream",
     "text": [
      "Frame # 1146\n",
      "========\n",
      "Selecting.. ((882, 398), (977, 487))\n",
      "========\n"
     ]
    },
    {
     "name": "stderr",
     "output_type": "stream",
     "text": [
      "\r",
      " 51%|█████     | 644/1261 [3:21:30<3:12:47, 18.75s/it]"
     ]
    },
    {
     "name": "stdout",
     "output_type": "stream",
     "text": [
      "Frame # 1147\n",
      "========\n",
      "Selecting.. ((882, 398), (967, 487))\n",
      "========\n"
     ]
    },
    {
     "name": "stderr",
     "output_type": "stream",
     "text": [
      "\r",
      " 51%|█████     | 645/1261 [3:21:49<3:12:49, 18.78s/it]"
     ]
    },
    {
     "name": "stdout",
     "output_type": "stream",
     "text": [
      "Frame # 1148\n",
      "========\n",
      "Selecting.. ((882, 398), (977, 487))\n",
      "========\n"
     ]
    },
    {
     "name": "stderr",
     "output_type": "stream",
     "text": [
      "\r",
      " 51%|█████     | 646/1261 [3:22:08<3:12:39, 18.80s/it]"
     ]
    },
    {
     "name": "stdout",
     "output_type": "stream",
     "text": [
      "Frame # 1149\n",
      "========\n",
      "Selecting.. ((888, 398), (967, 487))\n",
      "========\n"
     ]
    },
    {
     "name": "stderr",
     "output_type": "stream",
     "text": [
      "\r",
      " 51%|█████▏    | 647/1261 [3:22:27<3:12:20, 18.80s/it]"
     ]
    },
    {
     "name": "stdout",
     "output_type": "stream",
     "text": [
      "Frame # 1150\n",
      "========\n",
      "Selecting.. ((888, 398), (967, 487))\n",
      "========\n"
     ]
    },
    {
     "name": "stderr",
     "output_type": "stream",
     "text": [
      "\r",
      " 51%|█████▏    | 648/1261 [3:22:46<3:11:58, 18.79s/it]"
     ]
    },
    {
     "name": "stdout",
     "output_type": "stream",
     "text": [
      "Frame # 1151\n",
      "========\n",
      "Selecting.. ((882, 398), (967, 487))\n",
      "========\n"
     ]
    },
    {
     "name": "stderr",
     "output_type": "stream",
     "text": [
      "\r",
      " 51%|█████▏    | 649/1261 [3:23:04<3:11:20, 18.76s/it]"
     ]
    },
    {
     "name": "stdout",
     "output_type": "stream",
     "text": [
      "Frame # 1152\n",
      "========\n",
      "Selecting.. ((876, 398), (967, 487))\n",
      "========\n"
     ]
    },
    {
     "name": "stderr",
     "output_type": "stream",
     "text": [
      "\r",
      " 52%|█████▏    | 650/1261 [3:23:23<3:11:02, 18.76s/it]"
     ]
    },
    {
     "name": "stdout",
     "output_type": "stream",
     "text": [
      "Frame # 1153\n",
      "========\n",
      "Selecting.. ((876, 396), (967, 487))\n",
      "========\n"
     ]
    },
    {
     "name": "stderr",
     "output_type": "stream",
     "text": [
      "\r",
      " 52%|█████▏    | 651/1261 [3:23:42<3:10:45, 18.76s/it]"
     ]
    },
    {
     "name": "stdout",
     "output_type": "stream",
     "text": [
      "Frame # 1154\n",
      "========\n",
      "Selecting.. ((876, 396), (967, 487))\n",
      "========\n"
     ]
    },
    {
     "name": "stderr",
     "output_type": "stream",
     "text": [
      "\r",
      " 52%|█████▏    | 652/1261 [3:24:01<3:10:52, 18.81s/it]"
     ]
    },
    {
     "name": "stdout",
     "output_type": "stream",
     "text": [
      "Frame # 1155\n",
      "========\n",
      "Selecting.. ((876, 396), (967, 487))\n",
      "========\n"
     ]
    },
    {
     "name": "stderr",
     "output_type": "stream",
     "text": [
      "\r",
      " 52%|█████▏    | 653/1261 [3:24:20<3:10:42, 18.82s/it]"
     ]
    },
    {
     "name": "stdout",
     "output_type": "stream",
     "text": [
      "Frame # 1156\n",
      "========\n",
      "Selecting.. ((876, 398), (963, 487))\n",
      "========\n"
     ]
    },
    {
     "name": "stderr",
     "output_type": "stream",
     "text": [
      "\r",
      " 52%|█████▏    | 654/1261 [3:24:38<3:10:32, 18.83s/it]"
     ]
    },
    {
     "name": "stdout",
     "output_type": "stream",
     "text": [
      "Frame # 1157\n",
      "========\n",
      "Selecting.. ((876, 398), (963, 487))\n",
      "========\n"
     ]
    },
    {
     "name": "stderr",
     "output_type": "stream",
     "text": [
      "\r",
      " 52%|█████▏    | 655/1261 [3:24:57<3:09:45, 18.79s/it]"
     ]
    },
    {
     "name": "stdout",
     "output_type": "stream",
     "text": [
      "Frame # 1158\n",
      "========\n",
      "Selecting.. ((876, 398), (963, 487))\n",
      "========\n"
     ]
    },
    {
     "name": "stderr",
     "output_type": "stream",
     "text": [
      "\r",
      " 52%|█████▏    | 656/1261 [3:25:16<3:09:32, 18.80s/it]"
     ]
    },
    {
     "name": "stdout",
     "output_type": "stream",
     "text": [
      "Frame # 1159\n",
      "========\n",
      "Selecting.. ((876, 398), (963, 487))\n",
      "========\n"
     ]
    },
    {
     "name": "stderr",
     "output_type": "stream",
     "text": [
      "\r",
      " 52%|█████▏    | 657/1261 [3:25:35<3:09:17, 18.80s/it]"
     ]
    },
    {
     "name": "stdout",
     "output_type": "stream",
     "text": [
      "Frame # 1160\n",
      "========\n",
      "Selecting.. ((868, 396), (967, 487))\n",
      "========\n"
     ]
    },
    {
     "name": "stderr",
     "output_type": "stream",
     "text": [
      "\r",
      " 52%|█████▏    | 658/1261 [3:25:53<3:08:43, 18.78s/it]"
     ]
    },
    {
     "name": "stdout",
     "output_type": "stream",
     "text": [
      "Frame # 1161\n",
      "========\n",
      "Selecting.. ((868, 396), (963, 493))\n",
      "========\n"
     ]
    },
    {
     "name": "stderr",
     "output_type": "stream",
     "text": [
      "\r",
      " 52%|█████▏    | 659/1261 [3:26:12<3:08:16, 18.76s/it]"
     ]
    },
    {
     "name": "stdout",
     "output_type": "stream",
     "text": [
      "Frame # 1162\n",
      "========\n",
      "Selecting.. ((876, 398), (963, 493))\n",
      "========\n"
     ]
    },
    {
     "name": "stderr",
     "output_type": "stream",
     "text": [
      "\r",
      " 52%|█████▏    | 660/1261 [3:26:31<3:08:00, 18.77s/it]"
     ]
    },
    {
     "name": "stdout",
     "output_type": "stream",
     "text": [
      "Frame # 1163\n",
      "========\n",
      "Selecting.. ((876, 398), (963, 487))\n",
      "========\n"
     ]
    },
    {
     "name": "stderr",
     "output_type": "stream",
     "text": [
      "\r",
      " 52%|█████▏    | 661/1261 [3:26:50<3:07:12, 18.72s/it]"
     ]
    },
    {
     "name": "stdout",
     "output_type": "stream",
     "text": [
      "Frame # 1164\n",
      "========\n",
      "Selecting.. ((876, 398), (963, 487))\n",
      "========\n"
     ]
    },
    {
     "name": "stderr",
     "output_type": "stream",
     "text": [
      "\r",
      " 52%|█████▏    | 662/1261 [3:27:08<3:06:38, 18.69s/it]"
     ]
    },
    {
     "name": "stdout",
     "output_type": "stream",
     "text": [
      "Frame # 1165\n",
      "========\n",
      "Selecting.. ((868, 398), (963, 493))\n",
      "========\n"
     ]
    },
    {
     "name": "stderr",
     "output_type": "stream",
     "text": [
      "\r",
      " 53%|█████▎    | 663/1261 [3:27:27<3:06:29, 18.71s/it]"
     ]
    },
    {
     "name": "stdout",
     "output_type": "stream",
     "text": [
      "Frame # 1166\n",
      "========\n",
      "Selecting.. ((876, 398), (955, 487))\n",
      "========\n"
     ]
    },
    {
     "name": "stderr",
     "output_type": "stream",
     "text": [
      "\r",
      " 53%|█████▎    | 664/1261 [3:27:46<3:06:15, 18.72s/it]"
     ]
    },
    {
     "name": "stdout",
     "output_type": "stream",
     "text": [
      "Frame # 1167\n",
      "========\n",
      "Selecting.. ((868, 398), (963, 493))\n",
      "========\n"
     ]
    },
    {
     "name": "stderr",
     "output_type": "stream",
     "text": [
      "\r",
      " 53%|█████▎    | 665/1261 [3:28:04<3:06:05, 18.73s/it]"
     ]
    },
    {
     "name": "stdout",
     "output_type": "stream",
     "text": [
      "Frame # 1168\n",
      "========\n",
      "Selecting.. ((868, 398), (963, 487))\n",
      "========\n"
     ]
    },
    {
     "name": "stderr",
     "output_type": "stream",
     "text": [
      "\r",
      " 53%|█████▎    | 666/1261 [3:28:23<3:05:47, 18.74s/it]"
     ]
    },
    {
     "name": "stdout",
     "output_type": "stream",
     "text": [
      "Frame # 1169\n",
      "========\n",
      "Selecting.. ((868, 393), (963, 487))\n",
      "========\n"
     ]
    },
    {
     "name": "stderr",
     "output_type": "stream",
     "text": [
      "\r",
      " 53%|█████▎    | 667/1261 [3:28:42<3:05:40, 18.76s/it]"
     ]
    },
    {
     "name": "stdout",
     "output_type": "stream",
     "text": [
      "Frame # 1170\n",
      "========\n",
      "Selecting.. ((864, 384), (963, 493))\n",
      "========\n"
     ]
    },
    {
     "name": "stderr",
     "output_type": "stream",
     "text": [
      "\r",
      " 53%|█████▎    | 668/1261 [3:29:01<3:04:56, 18.71s/it]"
     ]
    },
    {
     "name": "stdout",
     "output_type": "stream",
     "text": [
      "Frame # 1171\n",
      "========\n",
      "Selecting.. ((864, 384), (963, 487))\n",
      "========\n"
     ]
    },
    {
     "name": "stderr",
     "output_type": "stream",
     "text": [
      "\r",
      " 53%|█████▎    | 669/1261 [3:29:19<3:05:04, 18.76s/it]"
     ]
    },
    {
     "name": "stdout",
     "output_type": "stream",
     "text": [
      "Frame # 1172\n",
      "========\n",
      "Selecting.. ((876, 398), (955, 487))\n",
      "========\n"
     ]
    },
    {
     "name": "stderr",
     "output_type": "stream",
     "text": [
      "\r",
      " 53%|█████▎    | 670/1261 [3:29:38<3:05:12, 18.80s/it]"
     ]
    },
    {
     "name": "stdout",
     "output_type": "stream",
     "text": [
      "Frame # 1173\n",
      "========\n",
      "Selecting.. ((868, 398), (955, 487))\n",
      "========\n"
     ]
    },
    {
     "name": "stderr",
     "output_type": "stream",
     "text": [
      "\r",
      " 53%|█████▎    | 671/1261 [3:29:57<3:04:24, 18.75s/it]"
     ]
    },
    {
     "name": "stdout",
     "output_type": "stream",
     "text": [
      "Frame # 1174\n",
      "========\n",
      "Selecting.. ((864, 398), (955, 487))\n",
      "========\n"
     ]
    },
    {
     "name": "stderr",
     "output_type": "stream",
     "text": [
      "\r",
      " 53%|█████▎    | 672/1261 [3:30:16<3:03:37, 18.71s/it]"
     ]
    },
    {
     "name": "stdout",
     "output_type": "stream",
     "text": [
      "Frame # 1175\n",
      "========\n",
      "Selecting.. ((864, 396), (963, 493))\n",
      "========\n"
     ]
    },
    {
     "name": "stderr",
     "output_type": "stream",
     "text": [
      "\r",
      " 53%|█████▎    | 673/1261 [3:30:34<3:03:22, 18.71s/it]"
     ]
    },
    {
     "name": "stdout",
     "output_type": "stream",
     "text": [
      "Frame # 1176\n",
      "========\n",
      "Selecting.. ((864, 393), (963, 493))\n",
      "========\n"
     ]
    },
    {
     "name": "stderr",
     "output_type": "stream",
     "text": [
      "\r",
      " 53%|█████▎    | 674/1261 [3:30:53<3:02:29, 18.65s/it]"
     ]
    },
    {
     "name": "stdout",
     "output_type": "stream",
     "text": [
      "Frame # 1177\n",
      "========\n",
      "Selecting.. ((864, 396), (963, 493))\n",
      "========\n"
     ]
    },
    {
     "name": "stderr",
     "output_type": "stream",
     "text": [
      "\r",
      " 54%|█████▎    | 675/1261 [3:31:12<3:02:26, 18.68s/it]"
     ]
    },
    {
     "name": "stdout",
     "output_type": "stream",
     "text": [
      "Frame # 1178\n",
      "========\n",
      "Selecting.. ((864, 384), (963, 487))\n",
      "========\n"
     ]
    },
    {
     "name": "stderr",
     "output_type": "stream",
     "text": [
      "\r",
      " 54%|█████▎    | 676/1261 [3:31:30<3:02:09, 18.68s/it]"
     ]
    },
    {
     "name": "stdout",
     "output_type": "stream",
     "text": [
      "Frame # 1179\n",
      "========\n",
      "Selecting.. ((864, 393), (955, 487))\n",
      "========\n"
     ]
    },
    {
     "name": "stderr",
     "output_type": "stream",
     "text": [
      "\r",
      " 54%|█████▎    | 677/1261 [3:31:49<3:02:04, 18.71s/it]"
     ]
    },
    {
     "name": "stdout",
     "output_type": "stream",
     "text": [
      "Frame # 1180\n",
      "========\n",
      "Selecting.. ((864, 384), (955, 487))\n",
      "========\n"
     ]
    },
    {
     "name": "stderr",
     "output_type": "stream",
     "text": [
      "\r",
      " 54%|█████▍    | 678/1261 [3:32:08<3:02:11, 18.75s/it]"
     ]
    },
    {
     "name": "stdout",
     "output_type": "stream",
     "text": [
      "Frame # 1181\n",
      "========\n",
      "Selecting.. ((864, 396), (955, 487))\n",
      "========\n"
     ]
    },
    {
     "name": "stderr",
     "output_type": "stream",
     "text": [
      "\r",
      " 54%|█████▍    | 679/1261 [3:32:27<3:01:55, 18.76s/it]"
     ]
    },
    {
     "name": "stdout",
     "output_type": "stream",
     "text": [
      "Frame # 1182\n",
      "========\n",
      "Selecting.. ((864, 396), (955, 487))\n",
      "========\n"
     ]
    },
    {
     "name": "stderr",
     "output_type": "stream",
     "text": [
      "\r",
      " 54%|█████▍    | 680/1261 [3:32:46<3:01:52, 18.78s/it]"
     ]
    },
    {
     "name": "stdout",
     "output_type": "stream",
     "text": [
      "Frame # 1183\n",
      "========\n",
      "Selecting.. ((864, 396), (955, 487))\n",
      "========\n"
     ]
    },
    {
     "name": "stderr",
     "output_type": "stream",
     "text": [
      "\r",
      " 54%|█████▍    | 681/1261 [3:33:04<3:01:02, 18.73s/it]"
     ]
    },
    {
     "name": "stdout",
     "output_type": "stream",
     "text": [
      "Frame # 1184\n",
      "========\n",
      "Selecting.. ((864, 393), (951, 487))\n",
      "========\n"
     ]
    },
    {
     "name": "stderr",
     "output_type": "stream",
     "text": [
      "\r",
      " 54%|█████▍    | 682/1261 [3:33:23<3:00:46, 18.73s/it]"
     ]
    },
    {
     "name": "stdout",
     "output_type": "stream",
     "text": [
      "Frame # 1185\n",
      "========\n",
      "Selecting.. ((864, 398), (955, 487))\n",
      "========\n"
     ]
    },
    {
     "name": "stderr",
     "output_type": "stream",
     "text": [
      "\r",
      " 54%|█████▍    | 683/1261 [3:33:42<3:00:34, 18.74s/it]"
     ]
    },
    {
     "name": "stdout",
     "output_type": "stream",
     "text": [
      "Frame # 1186\n",
      "========\n",
      "Selecting.. ((864, 398), (951, 487))\n",
      "========\n"
     ]
    },
    {
     "name": "stderr",
     "output_type": "stream",
     "text": [
      "\r",
      " 54%|█████▍    | 684/1261 [3:34:00<3:00:04, 18.73s/it]"
     ]
    },
    {
     "name": "stdout",
     "output_type": "stream",
     "text": [
      "Frame # 1187\n",
      "========\n",
      "Selecting.. ((864, 398), (955, 487))\n",
      "========\n"
     ]
    },
    {
     "name": "stderr",
     "output_type": "stream",
     "text": [
      "\r",
      " 54%|█████▍    | 685/1261 [3:34:19<2:59:42, 18.72s/it]"
     ]
    },
    {
     "name": "stdout",
     "output_type": "stream",
     "text": [
      "Frame # 1188\n",
      "========\n",
      "Selecting.. ((864, 398), (951, 487))\n",
      "========\n",
      "========\n",
      "Not Selecting.. ((1207, 478), (1280, 542))\n",
      "========\n"
     ]
    },
    {
     "name": "stderr",
     "output_type": "stream",
     "text": [
      "\r",
      " 54%|█████▍    | 686/1261 [3:34:38<2:59:29, 18.73s/it]"
     ]
    },
    {
     "name": "stdout",
     "output_type": "stream",
     "text": [
      "Frame # 1189\n",
      "========\n",
      "Selecting.. ((868, 393), (951, 487))\n",
      "========\n",
      "========\n",
      "Not Selecting.. ((1200, 468), (1279, 547))\n",
      "========\n"
     ]
    },
    {
     "name": "stderr",
     "output_type": "stream",
     "text": [
      "\r",
      " 54%|█████▍    | 687/1261 [3:34:56<2:59:05, 18.72s/it]"
     ]
    },
    {
     "name": "stdout",
     "output_type": "stream",
     "text": [
      "Frame # 1190\n",
      "========\n",
      "Selecting.. ((868, 393), (951, 487))\n",
      "========\n",
      "========\n",
      "Not Selecting.. ((1176, 444), (1279, 559))\n",
      "========\n"
     ]
    },
    {
     "name": "stderr",
     "output_type": "stream",
     "text": [
      "\r",
      " 55%|█████▍    | 688/1261 [3:35:15<2:59:18, 18.78s/it]"
     ]
    },
    {
     "name": "stdout",
     "output_type": "stream",
     "text": [
      "Frame # 1191\n",
      "========\n",
      "Selecting.. ((868, 398), (951, 487))\n",
      "========\n",
      "========\n",
      "Selecting.. ((1176, 444), (1279, 559))\n",
      "========\n"
     ]
    },
    {
     "name": "stderr",
     "output_type": "stream",
     "text": [
      "\r",
      " 55%|█████▍    | 689/1261 [3:35:34<2:59:01, 18.78s/it]"
     ]
    },
    {
     "name": "stdout",
     "output_type": "stream",
     "text": [
      "Frame # 1192\n",
      "========\n",
      "Selecting.. ((868, 393), (955, 487))\n",
      "========\n",
      "========\n",
      "Selecting.. ((1162, 444), (1279, 559))\n",
      "========\n"
     ]
    },
    {
     "name": "stderr",
     "output_type": "stream",
     "text": [
      "\r",
      " 55%|█████▍    | 690/1261 [3:35:53<2:58:42, 18.78s/it]"
     ]
    },
    {
     "name": "stdout",
     "output_type": "stream",
     "text": [
      "Frame # 1193\n",
      "========\n",
      "Selecting.. ((864, 384), (955, 487))\n",
      "========\n",
      "========\n",
      "Selecting.. ((1162, 440), (1279, 559))\n",
      "========\n"
     ]
    },
    {
     "name": "stderr",
     "output_type": "stream",
     "text": [
      "\r",
      " 55%|█████▍    | 691/1261 [3:36:12<2:58:59, 18.84s/it]"
     ]
    },
    {
     "name": "stdout",
     "output_type": "stream",
     "text": [
      "Frame # 1194\n",
      "========\n",
      "Selecting.. ((868, 408), (949, 487))\n",
      "========\n",
      "========\n",
      "Selecting.. ((1148, 438), (1279, 563))\n",
      "========\n"
     ]
    },
    {
     "name": "stderr",
     "output_type": "stream",
     "text": [
      "\r",
      " 55%|█████▍    | 692/1261 [3:36:31<2:58:40, 18.84s/it]"
     ]
    },
    {
     "name": "stdout",
     "output_type": "stream",
     "text": [
      "Frame # 1195\n",
      "========\n",
      "Selecting.. ((868, 408), (949, 487))\n",
      "========\n",
      "========\n",
      "Selecting.. ((1140, 432), (1279, 563))\n",
      "========\n"
     ]
    },
    {
     "name": "stderr",
     "output_type": "stream",
     "text": [
      "\r",
      " 55%|█████▍    | 693/1261 [3:36:50<2:58:05, 18.81s/it]"
     ]
    },
    {
     "name": "stdout",
     "output_type": "stream",
     "text": [
      "Frame # 1196\n",
      "========\n",
      "Selecting.. ((876, 408), (949, 487))\n",
      "========\n",
      "========\n",
      "Selecting.. ((1134, 432), (1279, 563))\n",
      "========\n"
     ]
    },
    {
     "name": "stderr",
     "output_type": "stream",
     "text": [
      "\r",
      " 55%|█████▌    | 694/1261 [3:37:08<2:57:19, 18.76s/it]"
     ]
    },
    {
     "name": "stdout",
     "output_type": "stream",
     "text": [
      "Frame # 1197\n",
      "========\n",
      "Selecting.. ((868, 408), (949, 487))\n",
      "========\n",
      "========\n",
      "Selecting.. ((1120, 426), (1275, 563))\n",
      "========\n"
     ]
    },
    {
     "name": "stderr",
     "output_type": "stream",
     "text": [
      "\r",
      " 55%|█████▌    | 695/1261 [3:37:27<2:57:30, 18.82s/it]"
     ]
    },
    {
     "name": "stdout",
     "output_type": "stream",
     "text": [
      "Frame # 1198\n",
      "========\n",
      "Selecting.. ((864, 398), (955, 487))\n",
      "========\n",
      "========\n",
      "Selecting.. ((1120, 426), (1279, 549))\n",
      "========\n"
     ]
    },
    {
     "name": "stderr",
     "output_type": "stream",
     "text": [
      "\r",
      " 55%|█████▌    | 696/1261 [3:37:46<2:56:53, 18.78s/it]"
     ]
    },
    {
     "name": "stdout",
     "output_type": "stream",
     "text": [
      "Frame # 1199\n",
      "========\n",
      "Selecting.. ((864, 398), (949, 487))\n",
      "========\n",
      "========\n",
      "Selecting.. ((1106, 426), (1271, 549))\n",
      "========\n"
     ]
    },
    {
     "name": "stderr",
     "output_type": "stream",
     "text": [
      "\r",
      " 55%|█████▌    | 697/1261 [3:38:05<2:56:32, 18.78s/it]"
     ]
    },
    {
     "name": "stdout",
     "output_type": "stream",
     "text": [
      "Frame # 1200\n",
      "========\n",
      "Selecting.. ((864, 398), (949, 487))\n",
      "========\n",
      "========\n",
      "Selecting.. ((1106, 426), (1275, 563))\n",
      "========\n"
     ]
    },
    {
     "name": "stderr",
     "output_type": "stream",
     "text": [
      "\r",
      " 55%|█████▌    | 698/1261 [3:38:24<2:56:39, 18.83s/it]"
     ]
    },
    {
     "name": "stdout",
     "output_type": "stream",
     "text": [
      "Frame # 1201\n",
      "========\n",
      "Selecting.. ((864, 398), (955, 487))\n",
      "========\n",
      "========\n",
      "Selecting.. ((1104, 426), (1267, 549))\n",
      "========\n"
     ]
    },
    {
     "name": "stderr",
     "output_type": "stream",
     "text": [
      "\r",
      " 55%|█████▌    | 699/1261 [3:38:42<2:56:00, 18.79s/it]"
     ]
    },
    {
     "name": "stdout",
     "output_type": "stream",
     "text": [
      "Frame # 1202\n",
      "========\n",
      "Selecting.. ((864, 398), (955, 487))\n",
      "========\n",
      "========\n",
      "Selecting.. ((1092, 411), (1275, 549))\n",
      "========\n"
     ]
    },
    {
     "name": "stderr",
     "output_type": "stream",
     "text": [
      "\r",
      " 56%|█████▌    | 700/1261 [3:39:01<2:55:20, 18.75s/it]"
     ]
    },
    {
     "name": "stdout",
     "output_type": "stream",
     "text": [
      "Frame # 1203\n",
      "========\n",
      "Selecting.. ((1092, 396), (1279, 563))\n",
      "========\n",
      "========\n",
      "Selecting.. ((864, 398), (949, 487))\n",
      "========\n"
     ]
    },
    {
     "name": "stderr",
     "output_type": "stream",
     "text": [
      "\r",
      " 56%|█████▌    | 701/1261 [3:39:20<2:55:23, 18.79s/it]"
     ]
    },
    {
     "name": "stdout",
     "output_type": "stream",
     "text": [
      "Frame # 1204\n",
      "========\n",
      "Selecting.. ((1080, 393), (1279, 549))\n",
      "========\n",
      "========\n",
      "Selecting.. ((864, 408), (949, 487))\n",
      "========\n"
     ]
    },
    {
     "name": "stderr",
     "output_type": "stream",
     "text": [
      "\r",
      " 56%|█████▌    | 702/1261 [3:39:39<2:55:27, 18.83s/it]"
     ]
    },
    {
     "name": "stdout",
     "output_type": "stream",
     "text": [
      "Frame # 1205\n",
      "========\n",
      "Selecting.. ((1078, 393), (1279, 549))\n",
      "========\n",
      "========\n",
      "Selecting.. ((868, 408), (949, 487))\n",
      "========\n"
     ]
    },
    {
     "name": "stderr",
     "output_type": "stream",
     "text": [
      "\r",
      " 56%|█████▌    | 703/1261 [3:39:58<2:55:02, 18.82s/it]"
     ]
    },
    {
     "name": "stdout",
     "output_type": "stream",
     "text": [
      "Frame # 1206\n",
      "========\n",
      "Selecting.. ((1068, 396), (1279, 549))\n",
      "========\n",
      "========\n",
      "Selecting.. ((868, 408), (949, 487))\n",
      "========\n"
     ]
    },
    {
     "name": "stderr",
     "output_type": "stream",
     "text": [
      "\r",
      " 56%|█████▌    | 704/1261 [3:40:16<2:54:54, 18.84s/it]"
     ]
    },
    {
     "name": "stdout",
     "output_type": "stream",
     "text": [
      "Frame # 1207\n",
      "========\n",
      "Selecting.. ((1064, 384), (1279, 549))\n",
      "========\n",
      "========\n",
      "Selecting.. ((864, 408), (943, 487))\n",
      "========\n"
     ]
    },
    {
     "name": "stderr",
     "output_type": "stream",
     "text": [
      "\r",
      " 56%|█████▌    | 705/1261 [3:40:35<2:54:32, 18.84s/it]"
     ]
    },
    {
     "name": "stdout",
     "output_type": "stream",
     "text": [
      "Frame # 1208\n",
      "========\n",
      "Selecting.. ((1064, 384), (1279, 549))\n",
      "========\n",
      "========\n",
      "Selecting.. ((864, 408), (943, 487))\n",
      "========\n"
     ]
    },
    {
     "name": "stderr",
     "output_type": "stream",
     "text": [
      "\r",
      " 56%|█████▌    | 706/1261 [3:40:54<2:53:57, 18.81s/it]"
     ]
    },
    {
     "name": "stdout",
     "output_type": "stream",
     "text": [
      "Frame # 1209\n",
      "========\n",
      "Selecting.. ((1056, 384), (1279, 549))\n",
      "========\n",
      "========\n",
      "Selecting.. ((864, 408), (943, 487))\n",
      "========\n",
      "========\n",
      "Not Selecting.. ((1171, 573), (1244, 636))\n",
      "========\n"
     ]
    },
    {
     "name": "stderr",
     "output_type": "stream",
     "text": [
      "\r",
      " 56%|█████▌    | 707/1261 [3:41:13<2:54:05, 18.86s/it]"
     ]
    },
    {
     "name": "stdout",
     "output_type": "stream",
     "text": [
      "Frame # 1210\n",
      "========\n",
      "Selecting.. ((1050, 384), (1279, 549))\n",
      "========\n",
      "========\n",
      "Selecting.. ((864, 408), (943, 487))\n",
      "========\n",
      "========\n",
      "Not Selecting.. ((1158, 564), (1230, 636))\n",
      "========\n"
     ]
    },
    {
     "name": "stderr",
     "output_type": "stream",
     "text": [
      "\r",
      " 56%|█████▌    | 708/1261 [3:41:32<2:54:02, 18.88s/it]"
     ]
    },
    {
     "name": "stdout",
     "output_type": "stream",
     "text": [
      "Frame # 1211\n",
      "========\n",
      "Selecting.. ((1044, 384), (1279, 631))\n",
      "========\n",
      "========\n",
      "Selecting.. ((864, 408), (943, 475))\n",
      "========\n"
     ]
    },
    {
     "name": "stderr",
     "output_type": "stream",
     "text": [
      "\r",
      " 56%|█████▌    | 709/1261 [3:41:51<2:53:51, 18.90s/it]"
     ]
    },
    {
     "name": "stdout",
     "output_type": "stream",
     "text": [
      "Frame # 1212\n",
      "========\n",
      "Selecting.. ((1036, 384), (1271, 633))\n",
      "========\n",
      "========\n",
      "Selecting.. ((864, 408), (943, 487))\n",
      "========\n"
     ]
    },
    {
     "name": "stderr",
     "output_type": "stream",
     "text": [
      "\r",
      " 56%|█████▋    | 710/1261 [3:42:10<2:53:51, 18.93s/it]"
     ]
    },
    {
     "name": "stdout",
     "output_type": "stream",
     "text": [
      "Frame # 1213\n",
      "========\n",
      "Selecting.. ((1036, 384), (1271, 549))\n",
      "========\n",
      "========\n",
      "Selecting.. ((876, 408), (943, 487))\n",
      "========\n",
      "========\n",
      "Not Selecting.. ((1140, 564), (1207, 627))\n",
      "========\n"
     ]
    },
    {
     "name": "stderr",
     "output_type": "stream",
     "text": [
      "\r",
      " 56%|█████▋    | 711/1261 [3:42:29<2:53:36, 18.94s/it]"
     ]
    },
    {
     "name": "stdout",
     "output_type": "stream",
     "text": [
      "Frame # 1214\n",
      "========\n",
      "Selecting.. ((1036, 384), (1257, 549))\n",
      "========\n",
      "========\n",
      "Selecting.. ((864, 408), (943, 487))\n",
      "========\n",
      "========\n",
      "Not Selecting.. ((1116, 552), (1203, 633))\n",
      "========\n"
     ]
    },
    {
     "name": "stderr",
     "output_type": "stream",
     "text": [
      "\r",
      " 56%|█████▋    | 712/1261 [3:42:48<2:53:34, 18.97s/it]"
     ]
    },
    {
     "name": "stdout",
     "output_type": "stream",
     "text": [
      "Frame # 1215\n",
      "========\n",
      "Selecting.. ((1032, 384), (1257, 631))\n",
      "========\n",
      "========\n",
      "Selecting.. ((864, 408), (943, 475))\n",
      "========\n"
     ]
    },
    {
     "name": "stderr",
     "output_type": "stream",
     "text": [
      "\r",
      " 57%|█████▋    | 713/1261 [3:43:07<2:52:29, 18.89s/it]"
     ]
    },
    {
     "name": "stdout",
     "output_type": "stream",
     "text": [
      "Frame # 1216\n",
      "========\n",
      "Selecting.. ((1022, 384), (1257, 631))\n",
      "========\n",
      "========\n",
      "Selecting.. ((864, 408), (943, 487))\n",
      "========\n"
     ]
    },
    {
     "name": "stderr",
     "output_type": "stream",
     "text": [
      "\r",
      " 57%|█████▋    | 714/1261 [3:43:26<2:52:30, 18.92s/it]"
     ]
    },
    {
     "name": "stdout",
     "output_type": "stream",
     "text": [
      "Frame # 1217\n",
      "========\n",
      "Selecting.. ((1032, 384), (1257, 549))\n",
      "========\n",
      "========\n",
      "Selecting.. ((864, 408), (943, 475))\n",
      "========\n",
      "========\n",
      "Not Selecting.. ((1104, 552), (1185, 627))\n",
      "========\n"
     ]
    },
    {
     "name": "stderr",
     "output_type": "stream",
     "text": [
      "\r",
      " 57%|█████▋    | 715/1261 [3:43:44<2:52:17, 18.93s/it]"
     ]
    },
    {
     "name": "stdout",
     "output_type": "stream",
     "text": [
      "Frame # 1218\n",
      "========\n",
      "Selecting.. ((1020, 384), (1271, 631))\n",
      "========\n",
      "========\n",
      "Selecting.. ((864, 408), (943, 475))\n",
      "========\n",
      "========\n",
      "Selecting.. ((1143, 513), (1216, 576))\n",
      "========\n"
     ]
    },
    {
     "name": "stderr",
     "output_type": "stream",
     "text": [
      "\r",
      " 57%|█████▋    | 716/1261 [3:44:03<2:51:47, 18.91s/it]"
     ]
    },
    {
     "name": "stdout",
     "output_type": "stream",
     "text": [
      "Frame # 1219\n",
      "========\n",
      "Selecting.. ((1020, 384), (1279, 564))\n",
      "========\n",
      "========\n",
      "Selecting.. ((864, 408), (943, 475))\n",
      "========\n",
      "========\n",
      "Not Selecting.. ((1078, 538), (1171, 631))\n",
      "========\n"
     ]
    },
    {
     "name": "stderr",
     "output_type": "stream",
     "text": [
      "\r",
      " 57%|█████▋    | 717/1261 [3:44:22<2:51:34, 18.92s/it]"
     ]
    },
    {
     "name": "stdout",
     "output_type": "stream",
     "text": [
      "Frame # 1220\n",
      "========\n",
      "Selecting.. ((1020, 384), (1279, 583))\n",
      "========\n",
      "========\n",
      "Not Selecting.. ((1080, 540), (1167, 627))\n",
      "========\n"
     ]
    },
    {
     "name": "stderr",
     "output_type": "stream",
     "text": [
      "\r",
      " 57%|█████▋    | 718/1261 [3:44:41<2:51:11, 18.92s/it]"
     ]
    },
    {
     "name": "stdout",
     "output_type": "stream",
     "text": [
      "Frame # 1221\n",
      "========\n",
      "Not Selecting.. ((1020, 384), (1279, 619))\n",
      "========\n"
     ]
    },
    {
     "name": "stderr",
     "output_type": "stream",
     "text": [
      "\r",
      " 57%|█████▋    | 719/1261 [3:45:00<2:50:21, 18.86s/it]"
     ]
    },
    {
     "name": "stdout",
     "output_type": "stream",
     "text": [
      "Frame # 1222\n",
      "========\n",
      "Selecting.. ((1008, 384), (1279, 609))\n",
      "========\n",
      "========\n",
      "Not Selecting.. ((1079, 549), (1152, 612))\n",
      "========\n"
     ]
    },
    {
     "name": "stderr",
     "output_type": "stream",
     "text": [
      "\r",
      " 57%|█████▋    | 720/1261 [3:45:19<2:50:24, 18.90s/it]"
     ]
    },
    {
     "name": "stdout",
     "output_type": "stream",
     "text": [
      "Frame # 1223\n",
      "========\n",
      "Selecting.. ((1008, 384), (1279, 609))\n",
      "========\n",
      "========\n",
      "Not Selecting.. ((882, 400), (955, 464))\n",
      "========\n"
     ]
    },
    {
     "name": "stderr",
     "output_type": "stream",
     "text": [
      "\r",
      " 57%|█████▋    | 721/1261 [3:45:38<2:50:16, 18.92s/it]"
     ]
    },
    {
     "name": "stdout",
     "output_type": "stream",
     "text": [
      "Frame # 1224\n",
      "========\n",
      "Selecting.. ((1005, 384), (1279, 631))\n",
      "========\n"
     ]
    },
    {
     "name": "stderr",
     "output_type": "stream",
     "text": [
      "\r",
      " 57%|█████▋    | 722/1261 [3:45:57<2:50:07, 18.94s/it]"
     ]
    },
    {
     "name": "stdout",
     "output_type": "stream",
     "text": [
      "Frame # 1225\n",
      "========\n",
      "Selecting.. ((996, 384), (1275, 631))\n",
      "========\n",
      "========\n",
      "Not Selecting.. ((1093, 510), (1166, 574))\n",
      "========\n"
     ]
    },
    {
     "name": "stderr",
     "output_type": "stream",
     "text": [
      "\r",
      " 57%|█████▋    | 723/1261 [3:46:16<2:50:01, 18.96s/it]"
     ]
    },
    {
     "name": "stdout",
     "output_type": "stream",
     "text": [
      "Frame # 1226\n",
      "========\n",
      "Not Selecting.. ((1005, 384), (1279, 631))\n",
      "========\n"
     ]
    },
    {
     "name": "stderr",
     "output_type": "stream",
     "text": [
      "\r",
      " 57%|█████▋    | 724/1261 [3:46:35<2:49:27, 18.93s/it]"
     ]
    },
    {
     "name": "stdout",
     "output_type": "stream",
     "text": [
      "Frame # 1227\n",
      "========\n",
      "Not Selecting.. ((1005, 384), (1279, 631))\n",
      "========\n"
     ]
    },
    {
     "name": "stderr",
     "output_type": "stream",
     "text": [
      "\r",
      " 57%|█████▋    | 725/1261 [3:46:53<2:48:27, 18.86s/it]"
     ]
    },
    {
     "name": "stdout",
     "output_type": "stream",
     "text": [
      "Frame # 1228\n",
      "========\n",
      "Not Selecting.. ((996, 384), (1279, 631))\n",
      "========\n"
     ]
    },
    {
     "name": "stderr",
     "output_type": "stream",
     "text": [
      "\r",
      " 58%|█████▊    | 726/1261 [3:47:12<2:48:17, 18.87s/it]"
     ]
    },
    {
     "name": "stdout",
     "output_type": "stream",
     "text": [
      "Frame # 1229\n",
      "========\n",
      "Selecting.. ((987, 384), (1279, 633))\n",
      "========\n"
     ]
    },
    {
     "name": "stderr",
     "output_type": "stream",
     "text": [
      "\r",
      " 58%|█████▊    | 727/1261 [3:47:31<2:48:01, 18.88s/it]"
     ]
    },
    {
     "name": "stdout",
     "output_type": "stream",
     "text": [
      "Frame # 1230\n",
      "========\n",
      "Selecting.. ((994, 384), (1279, 633))\n",
      "========\n"
     ]
    },
    {
     "name": "stderr",
     "output_type": "stream",
     "text": [
      "\r",
      " 58%|█████▊    | 728/1261 [3:47:50<2:47:47, 18.89s/it]"
     ]
    },
    {
     "name": "stdout",
     "output_type": "stream",
     "text": [
      "Frame # 1231\n",
      "========\n",
      "Selecting.. ((994, 384), (1279, 633))\n",
      "========\n",
      "========\n",
      "Not Selecting.. ((876, 398), (949, 475))\n",
      "========\n"
     ]
    },
    {
     "name": "stderr",
     "output_type": "stream",
     "text": [
      "\r",
      " 58%|█████▊    | 729/1261 [3:48:09<2:48:00, 18.95s/it]"
     ]
    },
    {
     "name": "stdout",
     "output_type": "stream",
     "text": [
      "Frame # 1232\n",
      "========\n",
      "Selecting.. ((987, 384), (1279, 633))\n",
      "========\n"
     ]
    },
    {
     "name": "stderr",
     "output_type": "stream",
     "text": [
      "\r",
      " 58%|█████▊    | 730/1261 [3:48:28<2:47:44, 18.95s/it]"
     ]
    },
    {
     "name": "stdout",
     "output_type": "stream",
     "text": [
      "Frame # 1233\n",
      "========\n",
      "Selecting.. ((987, 384), (1279, 633))\n",
      "========\n"
     ]
    },
    {
     "name": "stderr",
     "output_type": "stream",
     "text": [
      "\r",
      " 58%|█████▊    | 731/1261 [3:48:47<2:47:29, 18.96s/it]"
     ]
    },
    {
     "name": "stdout",
     "output_type": "stream",
     "text": [
      "Frame # 1234\n",
      "========\n",
      "Selecting.. ((980, 384), (1279, 633))\n",
      "========\n"
     ]
    },
    {
     "name": "stderr",
     "output_type": "stream",
     "text": [
      "\r",
      " 58%|█████▊    | 732/1261 [3:49:06<2:46:41, 18.91s/it]"
     ]
    },
    {
     "name": "stdout",
     "output_type": "stream",
     "text": [
      "Frame # 1235\n",
      "========\n",
      "Selecting.. ((978, 384), (1279, 633))\n",
      "========\n"
     ]
    },
    {
     "name": "stderr",
     "output_type": "stream",
     "text": [
      "\r",
      " 58%|█████▊    | 733/1261 [3:49:25<2:46:26, 18.91s/it]"
     ]
    },
    {
     "name": "stdout",
     "output_type": "stream",
     "text": [
      "Frame # 1236\n",
      "========\n",
      "Selecting.. ((980, 384), (1279, 633))\n",
      "========\n"
     ]
    },
    {
     "name": "stderr",
     "output_type": "stream",
     "text": [
      "\r",
      " 58%|█████▊    | 734/1261 [3:49:44<2:46:09, 18.92s/it]"
     ]
    },
    {
     "name": "stdout",
     "output_type": "stream",
     "text": [
      "Frame # 1237\n",
      "========\n",
      "Selecting.. ((980, 384), (1279, 633))\n",
      "========\n"
     ]
    },
    {
     "name": "stderr",
     "output_type": "stream",
     "text": [
      "\r",
      " 58%|█████▊    | 735/1261 [3:50:03<2:45:44, 18.91s/it]"
     ]
    },
    {
     "name": "stdout",
     "output_type": "stream",
     "text": [
      "Frame # 1238\n",
      "========\n",
      "Selecting.. ((980, 384), (1279, 619))\n",
      "========\n"
     ]
    },
    {
     "name": "stderr",
     "output_type": "stream",
     "text": [
      "\r",
      " 58%|█████▊    | 736/1261 [3:50:22<2:45:38, 18.93s/it]"
     ]
    },
    {
     "name": "stdout",
     "output_type": "stream",
     "text": [
      "Frame # 1239\n",
      "========\n",
      "Selecting.. ((980, 384), (1279, 619))\n",
      "========\n"
     ]
    },
    {
     "name": "stderr",
     "output_type": "stream",
     "text": [
      "\r",
      " 58%|█████▊    | 737/1261 [3:50:41<2:45:45, 18.98s/it]"
     ]
    },
    {
     "name": "stdout",
     "output_type": "stream",
     "text": [
      "Frame # 1240\n",
      "========\n",
      "Selecting.. ((980, 384), (1279, 619))\n",
      "========\n"
     ]
    },
    {
     "name": "stderr",
     "output_type": "stream",
     "text": [
      "\r",
      " 59%|█████▊    | 738/1261 [3:51:00<2:44:59, 18.93s/it]"
     ]
    },
    {
     "name": "stdout",
     "output_type": "stream",
     "text": [
      "Frame # 1241\n",
      "========\n",
      "Selecting.. ((969, 384), (1279, 619))\n",
      "========\n"
     ]
    },
    {
     "name": "stderr",
     "output_type": "stream",
     "text": [
      "\r",
      " 59%|█████▊    | 739/1261 [3:51:19<2:44:54, 18.96s/it]"
     ]
    },
    {
     "name": "stdout",
     "output_type": "stream",
     "text": [
      "Frame # 1242\n",
      "========\n",
      "Selecting.. ((966, 384), (1279, 619))\n",
      "========\n",
      "========\n",
      "Not Selecting.. ((882, 408), (955, 487))\n",
      "========\n",
      "========\n",
      "Not Selecting.. ((925, 437), (998, 500))\n",
      "========\n"
     ]
    },
    {
     "name": "stderr",
     "output_type": "stream",
     "text": [
      "\r",
      " 59%|█████▊    | 740/1261 [3:51:38<2:44:40, 18.96s/it]"
     ]
    },
    {
     "name": "stdout",
     "output_type": "stream",
     "text": [
      "Frame # 1243\n",
      "========\n",
      "Selecting.. ((882, 384), (1279, 619))\n",
      "========\n"
     ]
    },
    {
     "name": "stderr",
     "output_type": "stream",
     "text": [
      "\r",
      " 59%|█████▉    | 741/1261 [3:51:56<2:44:03, 18.93s/it]"
     ]
    },
    {
     "name": "stdout",
     "output_type": "stream",
     "text": [
      "Frame # 1244\n",
      "========\n",
      "Selecting.. ((966, 384), (1279, 619))\n",
      "========\n",
      "========\n",
      "Not Selecting.. ((888, 408), (955, 487))\n",
      "========\n"
     ]
    },
    {
     "name": "stderr",
     "output_type": "stream",
     "text": [
      "\r",
      " 59%|█████▉    | 742/1261 [3:52:15<2:44:05, 18.97s/it]"
     ]
    },
    {
     "name": "stdout",
     "output_type": "stream",
     "text": [
      "Frame # 1245\n",
      "========\n",
      "Selecting.. ((888, 384), (1279, 619))\n",
      "========\n"
     ]
    },
    {
     "name": "stderr",
     "output_type": "stream",
     "text": [
      "\r",
      " 59%|█████▉    | 743/1261 [3:52:34<2:43:43, 18.97s/it]"
     ]
    },
    {
     "name": "stdout",
     "output_type": "stream",
     "text": [
      "Frame # 1246\n",
      "========\n",
      "Selecting.. ((876, 384), (1279, 607))\n",
      "========\n"
     ]
    },
    {
     "name": "stderr",
     "output_type": "stream",
     "text": [
      "\r",
      " 59%|█████▉    | 744/1261 [3:52:53<2:42:59, 18.92s/it]"
     ]
    },
    {
     "name": "stdout",
     "output_type": "stream",
     "text": [
      "Frame # 1247\n",
      "========\n",
      "Selecting.. ((876, 384), (1279, 607))\n",
      "========\n"
     ]
    },
    {
     "name": "stderr",
     "output_type": "stream",
     "text": [
      "\r",
      " 59%|█████▉    | 745/1261 [3:53:12<2:43:11, 18.98s/it]"
     ]
    },
    {
     "name": "stdout",
     "output_type": "stream",
     "text": [
      "Frame # 1248\n",
      "========\n",
      "Selecting.. ((876, 384), (1279, 591))\n",
      "========\n"
     ]
    },
    {
     "name": "stderr",
     "output_type": "stream",
     "text": [
      "\r",
      " 59%|█████▉    | 746/1261 [3:53:31<2:42:53, 18.98s/it]"
     ]
    },
    {
     "name": "stdout",
     "output_type": "stream",
     "text": [
      "Frame # 1249\n",
      "========\n",
      "Selecting.. ((882, 384), (1279, 595))\n",
      "========\n"
     ]
    },
    {
     "name": "stderr",
     "output_type": "stream",
     "text": [
      "\r",
      " 59%|█████▉    | 747/1261 [3:53:50<2:42:33, 18.98s/it]"
     ]
    },
    {
     "name": "stdout",
     "output_type": "stream",
     "text": [
      "Frame # 1250\n",
      "========\n",
      "Selecting.. ((882, 384), (1279, 605))\n",
      "========\n"
     ]
    },
    {
     "name": "stderr",
     "output_type": "stream",
     "text": [
      "\r",
      " 59%|█████▉    | 748/1261 [3:54:09<2:42:09, 18.97s/it]"
     ]
    },
    {
     "name": "stdout",
     "output_type": "stream",
     "text": [
      "Frame # 1251\n",
      "========\n",
      "Selecting.. ((888, 384), (1279, 605))\n",
      "========\n"
     ]
    },
    {
     "name": "stderr",
     "output_type": "stream",
     "text": [
      "\r",
      " 59%|█████▉    | 749/1261 [3:54:28<2:41:52, 18.97s/it]"
     ]
    },
    {
     "name": "stdout",
     "output_type": "stream",
     "text": [
      "Frame # 1252\n",
      "========\n",
      "Selecting.. ((888, 384), (1271, 605))\n",
      "========\n"
     ]
    },
    {
     "name": "stderr",
     "output_type": "stream",
     "text": [
      "\r",
      " 59%|█████▉    | 750/1261 [3:54:47<2:41:09, 18.92s/it]"
     ]
    },
    {
     "name": "stdout",
     "output_type": "stream",
     "text": [
      "Frame # 1253\n",
      "========\n",
      "Selecting.. ((888, 384), (1271, 605))\n",
      "========\n"
     ]
    },
    {
     "name": "stderr",
     "output_type": "stream",
     "text": [
      "\r",
      " 60%|█████▉    | 751/1261 [3:55:06<2:40:35, 18.89s/it]"
     ]
    },
    {
     "name": "stdout",
     "output_type": "stream",
     "text": [
      "Frame # 1254\n",
      "========\n",
      "Selecting.. ((888, 384), (1271, 605))\n",
      "========\n"
     ]
    },
    {
     "name": "stderr",
     "output_type": "stream",
     "text": [
      "\r",
      " 60%|█████▉    | 752/1261 [3:55:25<2:40:10, 18.88s/it]"
     ]
    },
    {
     "name": "stdout",
     "output_type": "stream",
     "text": [
      "Frame # 1255\n",
      "========\n",
      "Selecting.. ((980, 384), (1271, 605))\n",
      "========\n",
      "========\n",
      "Not Selecting.. ((888, 398), (967, 493))\n",
      "========\n"
     ]
    },
    {
     "name": "stderr",
     "output_type": "stream",
     "text": [
      "\r",
      " 60%|█████▉    | 753/1261 [3:55:44<2:39:56, 18.89s/it]"
     ]
    },
    {
     "name": "stdout",
     "output_type": "stream",
     "text": [
      "Frame # 1256\n",
      "========\n",
      "Selecting.. ((888, 384), (1257, 605))\n",
      "========\n"
     ]
    },
    {
     "name": "stderr",
     "output_type": "stream",
     "text": [
      "\r",
      " 60%|█████▉    | 754/1261 [3:56:02<2:39:25, 18.87s/it]"
     ]
    },
    {
     "name": "stdout",
     "output_type": "stream",
     "text": [
      "Frame # 1257\n",
      "========\n",
      "Selecting.. ((952, 384), (1257, 591))\n",
      "========\n"
     ]
    },
    {
     "name": "stderr",
     "output_type": "stream",
     "text": [
      "\r",
      " 60%|█████▉    | 755/1261 [3:56:21<2:39:06, 18.87s/it]"
     ]
    },
    {
     "name": "stdout",
     "output_type": "stream",
     "text": [
      "Frame # 1258\n",
      "========\n",
      "Selecting.. ((952, 384), (1257, 595))\n",
      "========\n"
     ]
    },
    {
     "name": "stderr",
     "output_type": "stream",
     "text": [
      "\r",
      " 60%|█████▉    | 756/1261 [3:56:40<2:39:00, 18.89s/it]"
     ]
    },
    {
     "name": "stdout",
     "output_type": "stream",
     "text": [
      "Frame # 1259\n",
      "========\n",
      "Selecting.. ((888, 384), (1243, 591))\n",
      "========\n"
     ]
    },
    {
     "name": "stderr",
     "output_type": "stream",
     "text": [
      "\r",
      " 60%|██████    | 757/1261 [3:56:59<2:38:05, 18.82s/it]"
     ]
    },
    {
     "name": "stdout",
     "output_type": "stream",
     "text": [
      "Frame # 1260\n",
      "========\n",
      "Selecting.. ((896, 384), (1243, 591))\n",
      "========\n"
     ]
    },
    {
     "name": "stderr",
     "output_type": "stream",
     "text": [
      "\r",
      " 60%|██████    | 758/1261 [3:57:18<2:38:02, 18.85s/it]"
     ]
    },
    {
     "name": "stdout",
     "output_type": "stream",
     "text": [
      "Frame # 1261\n",
      "========\n",
      "Selecting.. ((888, 384), (1243, 583))\n",
      "========\n"
     ]
    },
    {
     "name": "stderr",
     "output_type": "stream",
     "text": [
      "\r",
      " 60%|██████    | 759/1261 [3:57:36<2:36:56, 18.76s/it]"
     ]
    },
    {
     "name": "stdout",
     "output_type": "stream",
     "text": [
      "Frame # 1262\n",
      "========\n",
      "Selecting.. ((948, 384), (1231, 591))\n",
      "========\n"
     ]
    },
    {
     "name": "stderr",
     "output_type": "stream",
     "text": [
      "\r",
      " 60%|██████    | 760/1261 [3:57:55<2:36:10, 18.70s/it]"
     ]
    },
    {
     "name": "stdout",
     "output_type": "stream",
     "text": [
      "Frame # 1263\n",
      "========\n",
      "Selecting.. ((900, 384), (1231, 591))\n",
      "========\n"
     ]
    },
    {
     "name": "stderr",
     "output_type": "stream",
     "text": [
      "\r",
      " 60%|██████    | 761/1261 [3:58:14<2:36:23, 18.77s/it]"
     ]
    },
    {
     "name": "stdout",
     "output_type": "stream",
     "text": [
      "Frame # 1264\n",
      "========\n",
      "Selecting.. ((948, 384), (1231, 591))\n",
      "========\n"
     ]
    },
    {
     "name": "stderr",
     "output_type": "stream",
     "text": [
      "\r",
      " 60%|██████    | 762/1261 [3:58:33<2:36:30, 18.82s/it]"
     ]
    },
    {
     "name": "stdout",
     "output_type": "stream",
     "text": [
      "Frame # 1265\n",
      "========\n",
      "Selecting.. ((938, 384), (1229, 591))\n",
      "========\n"
     ]
    },
    {
     "name": "stderr",
     "output_type": "stream",
     "text": [
      "\r",
      " 61%|██████    | 763/1261 [3:58:51<2:35:45, 18.77s/it]"
     ]
    },
    {
     "name": "stdout",
     "output_type": "stream",
     "text": [
      "Frame # 1266\n",
      "========\n",
      "Selecting.. ((906, 384), (1221, 591))\n",
      "========\n"
     ]
    },
    {
     "name": "stderr",
     "output_type": "stream",
     "text": [
      "\r",
      " 61%|██████    | 764/1261 [3:59:10<2:35:38, 18.79s/it]"
     ]
    },
    {
     "name": "stdout",
     "output_type": "stream",
     "text": [
      "Frame # 1267\n",
      "========\n",
      "Selecting.. ((966, 384), (1229, 583))\n",
      "========\n"
     ]
    },
    {
     "name": "stderr",
     "output_type": "stream",
     "text": [
      "\r",
      " 61%|██████    | 765/1261 [3:59:29<2:35:29, 18.81s/it]"
     ]
    },
    {
     "name": "stdout",
     "output_type": "stream",
     "text": [
      "Frame # 1268\n",
      "========\n",
      "Selecting.. ((938, 384), (1219, 591))\n",
      "========\n"
     ]
    },
    {
     "name": "stderr",
     "output_type": "stream",
     "text": [
      "\r",
      " 61%|██████    | 766/1261 [3:59:48<2:35:28, 18.85s/it]"
     ]
    },
    {
     "name": "stdout",
     "output_type": "stream",
     "text": [
      "Frame # 1269\n",
      "========\n",
      "Selecting.. ((938, 384), (1219, 591))\n",
      "========\n"
     ]
    },
    {
     "name": "stderr",
     "output_type": "stream",
     "text": [
      "\r",
      " 61%|██████    | 767/1261 [4:00:07<2:35:20, 18.87s/it]"
     ]
    },
    {
     "name": "stdout",
     "output_type": "stream",
     "text": [
      "Frame # 1270\n",
      "========\n",
      "Selecting.. ((938, 384), (1215, 591))\n",
      "========\n"
     ]
    },
    {
     "name": "stderr",
     "output_type": "stream",
     "text": [
      "\r",
      " 61%|██████    | 768/1261 [4:00:26<2:35:10, 18.89s/it]"
     ]
    },
    {
     "name": "stdout",
     "output_type": "stream",
     "text": [
      "Frame # 1271\n",
      "========\n",
      "Selecting.. ((938, 384), (1212, 591))\n",
      "========\n"
     ]
    },
    {
     "name": "stderr",
     "output_type": "stream",
     "text": [
      "\r",
      " 61%|██████    | 769/1261 [4:00:45<2:35:48, 19.00s/it]"
     ]
    },
    {
     "name": "stdout",
     "output_type": "stream",
     "text": [
      "Frame # 1272\n",
      "========\n",
      "Selecting.. ((938, 384), (1207, 577))\n",
      "========\n"
     ]
    },
    {
     "name": "stderr",
     "output_type": "stream",
     "text": [
      "\r",
      " 61%|██████    | 770/1261 [4:01:04<2:34:45, 18.91s/it]"
     ]
    },
    {
     "name": "stdout",
     "output_type": "stream",
     "text": [
      "Frame # 1273\n",
      "========\n",
      "Selecting.. ((906, 384), (1203, 583))\n",
      "========\n"
     ]
    },
    {
     "name": "stderr",
     "output_type": "stream",
     "text": [
      "\r",
      " 61%|██████    | 771/1261 [4:01:23<2:34:26, 18.91s/it]"
     ]
    },
    {
     "name": "stdout",
     "output_type": "stream",
     "text": [
      "Frame # 1274\n",
      "========\n",
      "Selecting.. ((952, 384), (1203, 583))\n",
      "========\n"
     ]
    },
    {
     "name": "stderr",
     "output_type": "stream",
     "text": [
      "\r",
      " 61%|██████    | 772/1261 [4:01:42<2:34:13, 18.92s/it]"
     ]
    },
    {
     "name": "stdout",
     "output_type": "stream",
     "text": [
      "Frame # 1275\n",
      "========\n",
      "Selecting.. ((938, 384), (1201, 573))\n",
      "========\n"
     ]
    },
    {
     "name": "stderr",
     "output_type": "stream",
     "text": [
      "\r",
      " 61%|██████▏   | 773/1261 [4:02:01<2:33:49, 18.91s/it]"
     ]
    },
    {
     "name": "stdout",
     "output_type": "stream",
     "text": [
      "Frame # 1276\n",
      "========\n",
      "Selecting.. ((936, 384), (1201, 573))\n",
      "========\n"
     ]
    },
    {
     "name": "stderr",
     "output_type": "stream",
     "text": [
      "\r",
      " 61%|██████▏   | 774/1261 [4:02:20<2:33:28, 18.91s/it]"
     ]
    },
    {
     "name": "stdout",
     "output_type": "stream",
     "text": [
      "Frame # 1277\n",
      "========\n",
      "Selecting.. ((938, 384), (1194, 571))\n",
      "========\n"
     ]
    },
    {
     "name": "stderr",
     "output_type": "stream",
     "text": [
      "\r",
      " 61%|██████▏   | 775/1261 [4:02:38<2:33:02, 18.89s/it]"
     ]
    },
    {
     "name": "stdout",
     "output_type": "stream",
     "text": [
      "Frame # 1278\n",
      "========\n",
      "Selecting.. ((938, 384), (1187, 571))\n",
      "========\n"
     ]
    },
    {
     "name": "stderr",
     "output_type": "stream",
     "text": [
      "\r",
      " 62%|██████▏   | 776/1261 [4:02:57<2:32:12, 18.83s/it]"
     ]
    },
    {
     "name": "stdout",
     "output_type": "stream",
     "text": [
      "Frame # 1279\n",
      "========\n",
      "Selecting.. ((938, 384), (1187, 571))\n",
      "========\n"
     ]
    },
    {
     "name": "stderr",
     "output_type": "stream",
     "text": [
      "\r",
      " 62%|██████▏   | 777/1261 [4:03:16<2:31:40, 18.80s/it]"
     ]
    },
    {
     "name": "stdout",
     "output_type": "stream",
     "text": [
      "Frame # 1280\n",
      "========\n",
      "Selecting.. ((938, 384), (1187, 571))\n",
      "========\n"
     ]
    },
    {
     "name": "stderr",
     "output_type": "stream",
     "text": [
      "\r",
      " 62%|██████▏   | 778/1261 [4:03:35<2:31:26, 18.81s/it]"
     ]
    },
    {
     "name": "stdout",
     "output_type": "stream",
     "text": [
      "Frame # 1281\n",
      "========\n",
      "Selecting.. ((938, 384), (1187, 571))\n",
      "========\n"
     ]
    },
    {
     "name": "stderr",
     "output_type": "stream",
     "text": [
      "\r",
      " 62%|██████▏   | 779/1261 [4:03:54<2:31:14, 18.83s/it]"
     ]
    },
    {
     "name": "stdout",
     "output_type": "stream",
     "text": [
      "Frame # 1282\n",
      "========\n",
      "Selecting.. ((948, 384), (1173, 571))\n",
      "========\n"
     ]
    },
    {
     "name": "stderr",
     "output_type": "stream",
     "text": [
      "\r",
      " 62%|██████▏   | 780/1261 [4:04:12<2:31:04, 18.85s/it]"
     ]
    },
    {
     "name": "stdout",
     "output_type": "stream",
     "text": [
      "Frame # 1283\n",
      "========\n",
      "Selecting.. ((948, 384), (1187, 577))\n",
      "========\n"
     ]
    },
    {
     "name": "stderr",
     "output_type": "stream",
     "text": [
      "\r",
      " 62%|██████▏   | 781/1261 [4:04:31<2:31:07, 18.89s/it]"
     ]
    },
    {
     "name": "stdout",
     "output_type": "stream",
     "text": [
      "Frame # 1284\n",
      "========\n",
      "Selecting.. ((938, 384), (1173, 571))\n",
      "========\n"
     ]
    },
    {
     "name": "stderr",
     "output_type": "stream",
     "text": [
      "\r",
      " 62%|██████▏   | 782/1261 [4:04:50<2:30:22, 18.84s/it]"
     ]
    },
    {
     "name": "stdout",
     "output_type": "stream",
     "text": [
      "Frame # 1285\n",
      "========\n",
      "Selecting.. ((948, 384), (1176, 571))\n",
      "========\n"
     ]
    },
    {
     "name": "stderr",
     "output_type": "stream",
     "text": [
      "\r",
      " 62%|██████▏   | 783/1261 [4:05:09<2:29:47, 18.80s/it]"
     ]
    },
    {
     "name": "stdout",
     "output_type": "stream",
     "text": [
      "Frame # 1286\n",
      "========\n",
      "Selecting.. ((938, 384), (1173, 571))\n",
      "========\n"
     ]
    },
    {
     "name": "stderr",
     "output_type": "stream",
     "text": [
      "\r",
      " 62%|██████▏   | 784/1261 [4:05:28<2:29:39, 18.82s/it]"
     ]
    },
    {
     "name": "stdout",
     "output_type": "stream",
     "text": [
      "Frame # 1287\n",
      "========\n",
      "Selecting.. ((952, 384), (1173, 571))\n",
      "========\n"
     ]
    },
    {
     "name": "stderr",
     "output_type": "stream",
     "text": [
      "\r",
      " 62%|██████▏   | 785/1261 [4:05:47<2:29:17, 18.82s/it]"
     ]
    },
    {
     "name": "stdout",
     "output_type": "stream",
     "text": [
      "Frame # 1288\n",
      "========\n",
      "Selecting.. ((938, 384), (1167, 563))\n",
      "========\n"
     ]
    },
    {
     "name": "stderr",
     "output_type": "stream",
     "text": [
      "\r",
      " 62%|██████▏   | 786/1261 [4:06:05<2:28:59, 18.82s/it]"
     ]
    },
    {
     "name": "stdout",
     "output_type": "stream",
     "text": [
      "Frame # 1289\n",
      "========\n",
      "Selecting.. ((924, 384), (1159, 563))\n",
      "========\n"
     ]
    },
    {
     "name": "stderr",
     "output_type": "stream",
     "text": [
      "\r",
      " 62%|██████▏   | 787/1261 [4:06:24<2:28:34, 18.81s/it]"
     ]
    },
    {
     "name": "stdout",
     "output_type": "stream",
     "text": [
      "Frame # 1290\n",
      "========\n",
      "Selecting.. ((938, 384), (1159, 563))\n",
      "========\n"
     ]
    },
    {
     "name": "stderr",
     "output_type": "stream",
     "text": [
      "\r",
      " 62%|██████▏   | 788/1261 [4:06:43<2:28:19, 18.82s/it]"
     ]
    },
    {
     "name": "stdout",
     "output_type": "stream",
     "text": [
      "Frame # 1291\n",
      "========\n",
      "Selecting.. ((924, 384), (1159, 563))\n",
      "========\n"
     ]
    },
    {
     "name": "stderr",
     "output_type": "stream",
     "text": [
      "\r",
      " 63%|██████▎   | 789/1261 [4:07:02<2:27:30, 18.75s/it]"
     ]
    },
    {
     "name": "stdout",
     "output_type": "stream",
     "text": [
      "Frame # 1292\n",
      "========\n",
      "Selecting.. ((910, 384), (1159, 563))\n",
      "========\n"
     ]
    },
    {
     "name": "stderr",
     "output_type": "stream",
     "text": [
      "\r",
      " 63%|██████▎   | 790/1261 [4:07:20<2:27:30, 18.79s/it]"
     ]
    },
    {
     "name": "stdout",
     "output_type": "stream",
     "text": [
      "Frame # 1293\n",
      "========\n",
      "Selecting.. ((910, 384), (1159, 563))\n",
      "========\n"
     ]
    },
    {
     "name": "stderr",
     "output_type": "stream",
     "text": [
      "\r",
      " 63%|██████▎   | 791/1261 [4:07:39<2:27:27, 18.82s/it]"
     ]
    },
    {
     "name": "stdout",
     "output_type": "stream",
     "text": [
      "Frame # 1294\n",
      "========\n",
      "Selecting.. ((910, 384), (1159, 563))\n",
      "========\n"
     ]
    },
    {
     "name": "stderr",
     "output_type": "stream",
     "text": [
      "\r",
      " 63%|██████▎   | 792/1261 [4:07:58<2:27:29, 18.87s/it]"
     ]
    },
    {
     "name": "stdout",
     "output_type": "stream",
     "text": [
      "Frame # 1295\n",
      "========\n",
      "Selecting.. ((910, 384), (1147, 563))\n",
      "========\n"
     ]
    },
    {
     "name": "stderr",
     "output_type": "stream",
     "text": [
      "\r",
      " 63%|██████▎   | 793/1261 [4:08:17<2:27:11, 18.87s/it]"
     ]
    },
    {
     "name": "stdout",
     "output_type": "stream",
     "text": [
      "Frame # 1296\n",
      "========\n",
      "Selecting.. ((912, 384), (1147, 563))\n",
      "========\n"
     ]
    },
    {
     "name": "stderr",
     "output_type": "stream",
     "text": [
      "\r",
      " 63%|██████▎   | 794/1261 [4:08:36<2:26:51, 18.87s/it]"
     ]
    },
    {
     "name": "stdout",
     "output_type": "stream",
     "text": [
      "Frame # 1297\n",
      "========\n",
      "Selecting.. ((910, 384), (1147, 563))\n",
      "========\n"
     ]
    },
    {
     "name": "stderr",
     "output_type": "stream",
     "text": [
      "\r",
      " 63%|██████▎   | 795/1261 [4:08:55<2:26:09, 18.82s/it]"
     ]
    },
    {
     "name": "stdout",
     "output_type": "stream",
     "text": [
      "Frame # 1298\n",
      "========\n",
      "Selecting.. ((910, 384), (1145, 563))\n",
      "========\n"
     ]
    },
    {
     "name": "stderr",
     "output_type": "stream",
     "text": [
      "\r",
      " 63%|██████▎   | 796/1261 [4:09:14<2:26:01, 18.84s/it]"
     ]
    },
    {
     "name": "stdout",
     "output_type": "stream",
     "text": [
      "Frame # 1299\n",
      "========\n",
      "Selecting.. ((910, 384), (1145, 563))\n",
      "========\n"
     ]
    },
    {
     "name": "stderr",
     "output_type": "stream",
     "text": [
      "\r",
      " 63%|██████▎   | 797/1261 [4:09:32<2:25:43, 18.84s/it]"
     ]
    },
    {
     "name": "stdout",
     "output_type": "stream",
     "text": [
      "Frame # 1300\n",
      "========\n",
      "Selecting.. ((910, 384), (1135, 563))\n",
      "========\n"
     ]
    },
    {
     "name": "stderr",
     "output_type": "stream",
     "text": [
      "\r",
      " 63%|██████▎   | 798/1261 [4:09:51<2:25:36, 18.87s/it]"
     ]
    },
    {
     "name": "stdout",
     "output_type": "stream",
     "text": [
      "Frame # 1301\n",
      "========\n",
      "Selecting.. ((910, 384), (1131, 555))\n",
      "========\n"
     ]
    },
    {
     "name": "stderr",
     "output_type": "stream",
     "text": [
      "\r",
      " 63%|██████▎   | 799/1261 [4:10:10<2:25:05, 18.84s/it]"
     ]
    },
    {
     "name": "stdout",
     "output_type": "stream",
     "text": [
      "Frame # 1302\n",
      "========\n",
      "Selecting.. ((910, 384), (1131, 563))\n",
      "========\n"
     ]
    },
    {
     "name": "stderr",
     "output_type": "stream",
     "text": [
      "\r",
      " 63%|██████▎   | 800/1261 [4:10:29<2:24:53, 18.86s/it]"
     ]
    },
    {
     "name": "stdout",
     "output_type": "stream",
     "text": [
      "Frame # 1303\n",
      "========\n",
      "Selecting.. ((910, 384), (1131, 559))\n",
      "========\n"
     ]
    },
    {
     "name": "stderr",
     "output_type": "stream",
     "text": [
      "\r",
      " 64%|██████▎   | 801/1261 [4:10:48<2:24:41, 18.87s/it]"
     ]
    },
    {
     "name": "stdout",
     "output_type": "stream",
     "text": [
      "Frame # 1304\n",
      "========\n",
      "Selecting.. ((910, 384), (1131, 559))\n",
      "========\n"
     ]
    },
    {
     "name": "stderr",
     "output_type": "stream",
     "text": [
      "\r",
      " 64%|██████▎   | 802/1261 [4:11:07<2:23:51, 18.80s/it]"
     ]
    },
    {
     "name": "stdout",
     "output_type": "stream",
     "text": [
      "Frame # 1305\n",
      "========\n",
      "Selecting.. ((900, 384), (1131, 563))\n",
      "========\n"
     ]
    },
    {
     "name": "stderr",
     "output_type": "stream",
     "text": [
      "\r",
      " 64%|██████▎   | 803/1261 [4:11:26<2:23:58, 18.86s/it]"
     ]
    },
    {
     "name": "stdout",
     "output_type": "stream",
     "text": [
      "Frame # 1306\n",
      "========\n",
      "Selecting.. ((896, 384), (1123, 563))\n",
      "========\n"
     ]
    },
    {
     "name": "stderr",
     "output_type": "stream",
     "text": [
      "\r",
      " 64%|██████▍   | 804/1261 [4:11:45<2:23:41, 18.86s/it]"
     ]
    },
    {
     "name": "stdout",
     "output_type": "stream",
     "text": [
      "Frame # 1307\n",
      "========\n",
      "Selecting.. ((900, 384), (1117, 559))\n",
      "========\n"
     ]
    },
    {
     "name": "stderr",
     "output_type": "stream",
     "text": [
      "\r",
      " 64%|██████▍   | 805/1261 [4:12:03<2:23:08, 18.83s/it]"
     ]
    },
    {
     "name": "stdout",
     "output_type": "stream",
     "text": [
      "Frame # 1308\n",
      "========\n",
      "Selecting.. ((900, 384), (1123, 559))\n",
      "========\n"
     ]
    },
    {
     "name": "stderr",
     "output_type": "stream",
     "text": [
      "\r",
      " 64%|██████▍   | 806/1261 [4:12:22<2:23:00, 18.86s/it]"
     ]
    },
    {
     "name": "stdout",
     "output_type": "stream",
     "text": [
      "Frame # 1309\n",
      "========\n",
      "Selecting.. ((896, 384), (1117, 549))\n",
      "========\n"
     ]
    },
    {
     "name": "stderr",
     "output_type": "stream",
     "text": [
      "\r",
      " 64%|██████▍   | 807/1261 [4:12:41<2:22:52, 18.88s/it]"
     ]
    },
    {
     "name": "stdout",
     "output_type": "stream",
     "text": [
      "Frame # 1310\n",
      "========\n",
      "Selecting.. ((896, 384), (1117, 563))\n",
      "========\n"
     ]
    },
    {
     "name": "stderr",
     "output_type": "stream",
     "text": [
      "\r",
      " 64%|██████▍   | 808/1261 [4:13:00<2:22:01, 18.81s/it]"
     ]
    },
    {
     "name": "stdout",
     "output_type": "stream",
     "text": [
      "Frame # 1311\n",
      "========\n",
      "Selecting.. ((896, 384), (1117, 563))\n",
      "========\n"
     ]
    },
    {
     "name": "stderr",
     "output_type": "stream",
     "text": [
      "\r",
      " 64%|██████▍   | 809/1261 [4:13:19<2:21:42, 18.81s/it]"
     ]
    },
    {
     "name": "stdout",
     "output_type": "stream",
     "text": [
      "Frame # 1312\n",
      "========\n",
      "Selecting.. ((896, 384), (1113, 563))\n",
      "========\n"
     ]
    },
    {
     "name": "stderr",
     "output_type": "stream",
     "text": [
      "\r",
      " 64%|██████▍   | 810/1261 [4:13:37<2:21:27, 18.82s/it]"
     ]
    },
    {
     "name": "stdout",
     "output_type": "stream",
     "text": [
      "Frame # 1313\n",
      "========\n",
      "Selecting.. ((896, 384), (1113, 559))\n",
      "========\n"
     ]
    },
    {
     "name": "stderr",
     "output_type": "stream",
     "text": [
      "\r",
      " 64%|██████▍   | 811/1261 [4:13:56<2:21:08, 18.82s/it]"
     ]
    },
    {
     "name": "stdout",
     "output_type": "stream",
     "text": [
      "Frame # 1314\n",
      "========\n",
      "Selecting.. ((896, 384), (1111, 549))\n",
      "========\n"
     ]
    },
    {
     "name": "stderr",
     "output_type": "stream",
     "text": [
      "\r",
      " 64%|██████▍   | 812/1261 [4:14:15<2:20:45, 18.81s/it]"
     ]
    },
    {
     "name": "stdout",
     "output_type": "stream",
     "text": [
      "Frame # 1315\n",
      "========\n",
      "Selecting.. ((896, 384), (1103, 549))\n",
      "========\n"
     ]
    },
    {
     "name": "stderr",
     "output_type": "stream",
     "text": [
      "\r",
      " 64%|██████▍   | 813/1261 [4:14:34<2:20:32, 18.82s/it]"
     ]
    },
    {
     "name": "stdout",
     "output_type": "stream",
     "text": [
      "Frame # 1316\n",
      "========\n",
      "Selecting.. ((896, 384), (1103, 549))\n",
      "========\n"
     ]
    },
    {
     "name": "stderr",
     "output_type": "stream",
     "text": [
      "\r",
      " 65%|██████▍   | 814/1261 [4:14:53<2:19:52, 18.78s/it]"
     ]
    },
    {
     "name": "stdout",
     "output_type": "stream",
     "text": [
      "Frame # 1317\n",
      "========\n",
      "Selecting.. ((888, 384), (1099, 549))\n",
      "========\n"
     ]
    },
    {
     "name": "stderr",
     "output_type": "stream",
     "text": [
      "\r",
      " 65%|██████▍   | 815/1261 [4:15:11<2:19:44, 18.80s/it]"
     ]
    },
    {
     "name": "stdout",
     "output_type": "stream",
     "text": [
      "Frame # 1318\n",
      "========\n",
      "Selecting.. ((888, 384), (1099, 549))\n",
      "========\n"
     ]
    },
    {
     "name": "stderr",
     "output_type": "stream",
     "text": [
      "\r",
      " 65%|██████▍   | 816/1261 [4:15:30<2:19:46, 18.85s/it]"
     ]
    },
    {
     "name": "stdout",
     "output_type": "stream",
     "text": [
      "Frame # 1319\n",
      "========\n",
      "Selecting.. ((896, 384), (1099, 549))\n",
      "========\n"
     ]
    },
    {
     "name": "stderr",
     "output_type": "stream",
     "text": [
      "\r",
      " 65%|██████▍   | 817/1261 [4:15:49<2:19:24, 18.84s/it]"
     ]
    },
    {
     "name": "stdout",
     "output_type": "stream",
     "text": [
      "Frame # 1320\n",
      "========\n",
      "Selecting.. ((900, 384), (1095, 549))\n",
      "========\n"
     ]
    },
    {
     "name": "stderr",
     "output_type": "stream",
     "text": [
      "\r",
      " 65%|██████▍   | 818/1261 [4:16:08<2:19:04, 18.84s/it]"
     ]
    },
    {
     "name": "stdout",
     "output_type": "stream",
     "text": [
      "Frame # 1321\n",
      "========\n",
      "Selecting.. ((888, 384), (1089, 549))\n",
      "========\n"
     ]
    },
    {
     "name": "stderr",
     "output_type": "stream",
     "text": [
      "\r",
      " 65%|██████▍   | 819/1261 [4:16:27<2:18:45, 18.84s/it]"
     ]
    },
    {
     "name": "stdout",
     "output_type": "stream",
     "text": [
      "Frame # 1322\n",
      "========\n",
      "Selecting.. ((900, 384), (1089, 549))\n",
      "========\n"
     ]
    },
    {
     "name": "stderr",
     "output_type": "stream",
     "text": [
      "\r",
      " 65%|██████▌   | 820/1261 [4:16:46<2:18:24, 18.83s/it]"
     ]
    },
    {
     "name": "stdout",
     "output_type": "stream",
     "text": [
      "Frame # 1323\n",
      "========\n",
      "Selecting.. ((896, 384), (1089, 549))\n",
      "========\n"
     ]
    },
    {
     "name": "stderr",
     "output_type": "stream",
     "text": [
      "\r",
      " 65%|██████▌   | 821/1261 [4:17:04<2:17:26, 18.74s/it]"
     ]
    },
    {
     "name": "stdout",
     "output_type": "stream",
     "text": [
      "Frame # 1324\n",
      "========\n",
      "Selecting.. ((896, 384), (1089, 549))\n",
      "========\n"
     ]
    },
    {
     "name": "stderr",
     "output_type": "stream",
     "text": [
      "\r",
      " 65%|██████▌   | 822/1261 [4:17:23<2:17:14, 18.76s/it]"
     ]
    },
    {
     "name": "stdout",
     "output_type": "stream",
     "text": [
      "Frame # 1325\n",
      "========\n",
      "Selecting.. ((868, 384), (1089, 549))\n",
      "========\n"
     ]
    },
    {
     "name": "stderr",
     "output_type": "stream",
     "text": [
      "\r",
      " 65%|██████▌   | 823/1261 [4:17:41<2:16:03, 18.64s/it]"
     ]
    },
    {
     "name": "stdout",
     "output_type": "stream",
     "text": [
      "Frame # 1326\n",
      "========\n",
      "Selecting.. ((868, 384), (1089, 535))\n",
      "========\n"
     ]
    },
    {
     "name": "stderr",
     "output_type": "stream",
     "text": [
      "\r",
      " 65%|██████▌   | 824/1261 [4:17:59<2:14:29, 18.47s/it]"
     ]
    },
    {
     "name": "stdout",
     "output_type": "stream",
     "text": [
      "Frame # 1327\n",
      "========\n",
      "Selecting.. ((876, 384), (1089, 537))\n",
      "========\n"
     ]
    },
    {
     "name": "stderr",
     "output_type": "stream",
     "text": [
      "\r",
      " 65%|██████▌   | 825/1261 [4:18:17<2:12:53, 18.29s/it]"
     ]
    },
    {
     "name": "stdout",
     "output_type": "stream",
     "text": [
      "Frame # 1328\n",
      "========\n",
      "Selecting.. ((876, 384), (1075, 549))\n",
      "========\n"
     ]
    },
    {
     "name": "stderr",
     "output_type": "stream",
     "text": [
      "\r",
      " 66%|██████▌   | 826/1261 [4:18:36<2:13:45, 18.45s/it]"
     ]
    },
    {
     "name": "stdout",
     "output_type": "stream",
     "text": [
      "Frame # 1329\n",
      "========\n",
      "Selecting.. ((876, 384), (1075, 549))\n",
      "========\n"
     ]
    },
    {
     "name": "stderr",
     "output_type": "stream",
     "text": [
      "\r",
      " 66%|██████▌   | 827/1261 [4:18:55<2:13:42, 18.48s/it]"
     ]
    },
    {
     "name": "stdout",
     "output_type": "stream",
     "text": [
      "Frame # 1330\n",
      "========\n",
      "Selecting.. ((888, 384), (1075, 549))\n",
      "========\n"
     ]
    },
    {
     "name": "stderr",
     "output_type": "stream",
     "text": [
      "\r",
      " 66%|██████▌   | 828/1261 [4:19:13<2:13:54, 18.55s/it]"
     ]
    },
    {
     "name": "stdout",
     "output_type": "stream",
     "text": [
      "Frame # 1331\n",
      "========\n",
      "Selecting.. ((876, 384), (1075, 549))\n",
      "========\n"
     ]
    },
    {
     "name": "stderr",
     "output_type": "stream",
     "text": [
      "\r",
      " 66%|██████▌   | 829/1261 [4:19:32<2:14:00, 18.61s/it]"
     ]
    },
    {
     "name": "stdout",
     "output_type": "stream",
     "text": [
      "Frame # 1332\n",
      "========\n",
      "Selecting.. ((882, 384), (1075, 549))\n",
      "========\n"
     ]
    },
    {
     "name": "stderr",
     "output_type": "stream",
     "text": [
      "\r",
      " 66%|██████▌   | 830/1261 [4:19:51<2:14:02, 18.66s/it]"
     ]
    },
    {
     "name": "stdout",
     "output_type": "stream",
     "text": [
      "Frame # 1333\n",
      "========\n",
      "Selecting.. ((882, 384), (1075, 549))\n",
      "========\n"
     ]
    },
    {
     "name": "stderr",
     "output_type": "stream",
     "text": [
      "\r",
      " 66%|██████▌   | 831/1261 [4:20:10<2:14:01, 18.70s/it]"
     ]
    },
    {
     "name": "stdout",
     "output_type": "stream",
     "text": [
      "Frame # 1334\n",
      "========\n",
      "Selecting.. ((888, 384), (1075, 549))\n",
      "========\n"
     ]
    },
    {
     "name": "stderr",
     "output_type": "stream",
     "text": [
      "\r",
      " 66%|██████▌   | 832/1261 [4:20:29<2:13:57, 18.73s/it]"
     ]
    },
    {
     "name": "stdout",
     "output_type": "stream",
     "text": [
      "Frame # 1335\n",
      "========\n",
      "Selecting.. ((868, 384), (1075, 549))\n",
      "========\n"
     ]
    },
    {
     "name": "stderr",
     "output_type": "stream",
     "text": [
      "\r",
      " 66%|██████▌   | 833/1261 [4:20:47<2:13:35, 18.73s/it]"
     ]
    },
    {
     "name": "stdout",
     "output_type": "stream",
     "text": [
      "Frame # 1336\n",
      "========\n",
      "Selecting.. ((868, 384), (1075, 549))\n",
      "========\n"
     ]
    },
    {
     "name": "stderr",
     "output_type": "stream",
     "text": [
      "\r",
      " 66%|██████▌   | 834/1261 [4:21:06<2:12:33, 18.63s/it]"
     ]
    },
    {
     "name": "stdout",
     "output_type": "stream",
     "text": [
      "Frame # 1337\n",
      "========\n",
      "Selecting.. ((868, 384), (1063, 535))\n",
      "========\n"
     ]
    },
    {
     "name": "stderr",
     "output_type": "stream",
     "text": [
      "\r",
      " 66%|██████▌   | 835/1261 [4:21:24<2:12:27, 18.66s/it]"
     ]
    },
    {
     "name": "stdout",
     "output_type": "stream",
     "text": [
      "Frame # 1338\n",
      "========\n",
      "Selecting.. ((882, 384), (1063, 537))\n",
      "========\n"
     ]
    },
    {
     "name": "stderr",
     "output_type": "stream",
     "text": [
      "\r",
      " 66%|██████▋   | 836/1261 [4:21:43<2:12:29, 18.71s/it]"
     ]
    },
    {
     "name": "stdout",
     "output_type": "stream",
     "text": [
      "Frame # 1339\n",
      "========\n",
      "Selecting.. ((882, 384), (1063, 535))\n",
      "========\n"
     ]
    },
    {
     "name": "stderr",
     "output_type": "stream",
     "text": [
      "\r",
      " 66%|██████▋   | 837/1261 [4:22:02<2:12:15, 18.72s/it]"
     ]
    },
    {
     "name": "stdout",
     "output_type": "stream",
     "text": [
      "Frame # 1340\n",
      "========\n",
      "Selecting.. ((882, 384), (1061, 535))\n",
      "========\n"
     ]
    },
    {
     "name": "stderr",
     "output_type": "stream",
     "text": [
      "\r",
      " 66%|██████▋   | 838/1261 [4:22:21<2:12:05, 18.74s/it]"
     ]
    },
    {
     "name": "stdout",
     "output_type": "stream",
     "text": [
      "Frame # 1341\n",
      "========\n",
      "Selecting.. ((882, 384), (1061, 535))\n",
      "========\n"
     ]
    },
    {
     "name": "stderr",
     "output_type": "stream",
     "text": [
      "\r",
      " 67%|██████▋   | 839/1261 [4:22:39<2:11:44, 18.73s/it]"
     ]
    },
    {
     "name": "stdout",
     "output_type": "stream",
     "text": [
      "Frame # 1342\n",
      "========\n",
      "Selecting.. ((882, 384), (1051, 537))\n",
      "========\n"
     ]
    },
    {
     "name": "stderr",
     "output_type": "stream",
     "text": [
      "\r",
      " 67%|██████▋   | 840/1261 [4:22:58<2:10:55, 18.66s/it]"
     ]
    },
    {
     "name": "stdout",
     "output_type": "stream",
     "text": [
      "Frame # 1343\n",
      "========\n",
      "Selecting.. ((882, 384), (1051, 537))\n",
      "========\n"
     ]
    },
    {
     "name": "stderr",
     "output_type": "stream",
     "text": [
      "\r",
      " 67%|██████▋   | 841/1261 [4:23:17<2:11:00, 18.72s/it]"
     ]
    },
    {
     "name": "stdout",
     "output_type": "stream",
     "text": [
      "Frame # 1344\n",
      "========\n",
      "Selecting.. ((868, 384), (1051, 537))\n",
      "========\n"
     ]
    },
    {
     "name": "stderr",
     "output_type": "stream",
     "text": [
      "\r",
      " 67%|██████▋   | 842/1261 [4:23:36<2:10:46, 18.73s/it]"
     ]
    },
    {
     "name": "stdout",
     "output_type": "stream",
     "text": [
      "Frame # 1345\n",
      "========\n",
      "Selecting.. ((868, 384), (1051, 537))\n",
      "========\n"
     ]
    },
    {
     "name": "stderr",
     "output_type": "stream",
     "text": [
      "\r",
      " 67%|██████▋   | 843/1261 [4:23:54<2:10:39, 18.75s/it]"
     ]
    },
    {
     "name": "stdout",
     "output_type": "stream",
     "text": [
      "Frame # 1346\n",
      "========\n",
      "Selecting.. ((868, 384), (1047, 549))\n",
      "========\n"
     ]
    },
    {
     "name": "stderr",
     "output_type": "stream",
     "text": [
      "\r",
      " 67%|██████▋   | 844/1261 [4:24:13<2:10:16, 18.74s/it]"
     ]
    },
    {
     "name": "stdout",
     "output_type": "stream",
     "text": [
      "Frame # 1347\n",
      "========\n",
      "Selecting.. ((868, 384), (1051, 537))\n",
      "========\n"
     ]
    },
    {
     "name": "stderr",
     "output_type": "stream",
     "text": [
      "\r",
      " 67%|██████▋   | 845/1261 [4:24:32<2:10:01, 18.75s/it]"
     ]
    },
    {
     "name": "stdout",
     "output_type": "stream",
     "text": [
      "Frame # 1348\n",
      "========\n",
      "Selecting.. ((868, 384), (1051, 535))\n",
      "========\n"
     ]
    },
    {
     "name": "stderr",
     "output_type": "stream",
     "text": [
      "\r",
      " 67%|██████▋   | 846/1261 [4:24:50<2:09:26, 18.71s/it]"
     ]
    },
    {
     "name": "stdout",
     "output_type": "stream",
     "text": [
      "Frame # 1349\n",
      "========\n",
      "Selecting.. ((864, 384), (1051, 549))\n",
      "========\n"
     ]
    },
    {
     "name": "stderr",
     "output_type": "stream",
     "text": [
      "\r",
      " 67%|██████▋   | 847/1261 [4:25:09<2:08:51, 18.67s/it]"
     ]
    },
    {
     "name": "stdout",
     "output_type": "stream",
     "text": [
      "Frame # 1350\n",
      "========\n",
      "Selecting.. ((854, 384), (1047, 549))\n",
      "========\n"
     ]
    },
    {
     "name": "stderr",
     "output_type": "stream",
     "text": [
      "\r",
      " 67%|██████▋   | 848/1261 [4:25:28<2:08:51, 18.72s/it]"
     ]
    },
    {
     "name": "stdout",
     "output_type": "stream",
     "text": [
      "Frame # 1351\n",
      "========\n",
      "Selecting.. ((868, 384), (1041, 535))\n",
      "========\n"
     ]
    },
    {
     "name": "stderr",
     "output_type": "stream",
     "text": [
      "\r",
      " 67%|██████▋   | 849/1261 [4:25:47<2:08:42, 18.74s/it]"
     ]
    },
    {
     "name": "stdout",
     "output_type": "stream",
     "text": [
      "Frame # 1352\n",
      "========\n",
      "Selecting.. ((864, 384), (1041, 535))\n",
      "========\n"
     ]
    },
    {
     "name": "stderr",
     "output_type": "stream",
     "text": [
      "\r",
      " 67%|██████▋   | 850/1261 [4:26:06<2:08:36, 18.77s/it]"
     ]
    },
    {
     "name": "stdout",
     "output_type": "stream",
     "text": [
      "Frame # 1353\n",
      "========\n",
      "Selecting.. ((854, 384), (1039, 535))\n",
      "========\n"
     ]
    },
    {
     "name": "stderr",
     "output_type": "stream",
     "text": [
      "\r",
      " 67%|██████▋   | 851/1261 [4:26:24<2:08:15, 18.77s/it]"
     ]
    },
    {
     "name": "stdout",
     "output_type": "stream",
     "text": [
      "Frame # 1354\n",
      "========\n",
      "Selecting.. ((854, 384), (1039, 535))\n",
      "========\n"
     ]
    },
    {
     "name": "stderr",
     "output_type": "stream",
     "text": [
      "\r",
      " 68%|██████▊   | 852/1261 [4:26:43<2:07:43, 18.74s/it]"
     ]
    },
    {
     "name": "stdout",
     "output_type": "stream",
     "text": [
      "Frame # 1355\n",
      "========\n",
      "Selecting.. ((854, 384), (1041, 535))\n",
      "========\n"
     ]
    },
    {
     "name": "stderr",
     "output_type": "stream",
     "text": [
      "\r",
      " 68%|██████▊   | 853/1261 [4:27:01<2:06:53, 18.66s/it]"
     ]
    },
    {
     "name": "stdout",
     "output_type": "stream",
     "text": [
      "Frame # 1356\n",
      "========\n",
      "Selecting.. ((854, 384), (1039, 535))\n",
      "========\n"
     ]
    },
    {
     "name": "stderr",
     "output_type": "stream",
     "text": [
      "\r",
      " 68%|██████▊   | 854/1261 [4:27:20<2:06:44, 18.68s/it]"
     ]
    },
    {
     "name": "stdout",
     "output_type": "stream",
     "text": [
      "Frame # 1357\n",
      "========\n",
      "Selecting.. ((854, 384), (1041, 535))\n",
      "========\n"
     ]
    },
    {
     "name": "stderr",
     "output_type": "stream",
     "text": [
      "\r",
      " 68%|██████▊   | 855/1261 [4:27:39<2:06:43, 18.73s/it]"
     ]
    },
    {
     "name": "stdout",
     "output_type": "stream",
     "text": [
      "Frame # 1358\n",
      "========\n",
      "Selecting.. ((864, 384), (1047, 535))\n",
      "========\n"
     ]
    },
    {
     "name": "stderr",
     "output_type": "stream",
     "text": [
      "\r",
      " 68%|██████▊   | 856/1261 [4:27:58<2:06:18, 18.71s/it]"
     ]
    },
    {
     "name": "stdout",
     "output_type": "stream",
     "text": [
      "Frame # 1359\n",
      "========\n",
      "Selecting.. ((854, 384), (1047, 535))\n",
      "========\n"
     ]
    },
    {
     "name": "stderr",
     "output_type": "stream",
     "text": [
      "\r",
      " 68%|██████▊   | 857/1261 [4:28:16<2:06:08, 18.73s/it]"
     ]
    },
    {
     "name": "stdout",
     "output_type": "stream",
     "text": [
      "Frame # 1360\n",
      "========\n",
      "Selecting.. ((854, 384), (1047, 535))\n",
      "========\n"
     ]
    },
    {
     "name": "stderr",
     "output_type": "stream",
     "text": [
      "\r",
      " 68%|██████▊   | 858/1261 [4:28:35<2:06:02, 18.77s/it]"
     ]
    },
    {
     "name": "stdout",
     "output_type": "stream",
     "text": [
      "Frame # 1361\n",
      "========\n",
      "Selecting.. ((854, 384), (1047, 547))\n",
      "========\n"
     ]
    },
    {
     "name": "stderr",
     "output_type": "stream",
     "text": [
      "\r",
      " 68%|██████▊   | 859/1261 [4:28:54<2:05:34, 18.74s/it]"
     ]
    },
    {
     "name": "stdout",
     "output_type": "stream",
     "text": [
      "Frame # 1362\n",
      "========\n",
      "Selecting.. ((852, 384), (1061, 535))\n",
      "========\n"
     ]
    },
    {
     "name": "stderr",
     "output_type": "stream",
     "text": [
      "\r",
      " 68%|██████▊   | 860/1261 [4:29:13<2:05:36, 18.79s/it]"
     ]
    },
    {
     "name": "stdout",
     "output_type": "stream",
     "text": [
      "Frame # 1363\n",
      "========\n",
      "Selecting.. ((852, 384), (1061, 535))\n",
      "========\n"
     ]
    },
    {
     "name": "stderr",
     "output_type": "stream",
     "text": [
      "\r",
      " 68%|██████▊   | 861/1261 [4:29:32<2:05:27, 18.82s/it]"
     ]
    },
    {
     "name": "stdout",
     "output_type": "stream",
     "text": [
      "Frame # 1364\n",
      "========\n",
      "Selecting.. ((840, 384), (1051, 535))\n",
      "========\n"
     ]
    },
    {
     "name": "stderr",
     "output_type": "stream",
     "text": [
      "\r",
      " 68%|██████▊   | 862/1261 [4:29:51<2:05:21, 18.85s/it]"
     ]
    },
    {
     "name": "stdout",
     "output_type": "stream",
     "text": [
      "Frame # 1365\n",
      "========\n",
      "Selecting.. ((840, 384), (1051, 535))\n",
      "========\n"
     ]
    },
    {
     "name": "stderr",
     "output_type": "stream",
     "text": [
      "\r",
      " 68%|██████▊   | 863/1261 [4:30:10<2:05:02, 18.85s/it]"
     ]
    },
    {
     "name": "stdout",
     "output_type": "stream",
     "text": [
      "Frame # 1366\n",
      "========\n",
      "Selecting.. ((840, 384), (1061, 535))\n",
      "========\n"
     ]
    },
    {
     "name": "stderr",
     "output_type": "stream",
     "text": [
      "\r",
      " 69%|██████▊   | 864/1261 [4:30:28<2:04:42, 18.85s/it]"
     ]
    },
    {
     "name": "stdout",
     "output_type": "stream",
     "text": [
      "Frame # 1367\n",
      "========\n",
      "Selecting.. ((840, 384), (1063, 535))\n",
      "========\n"
     ]
    },
    {
     "name": "stderr",
     "output_type": "stream",
     "text": [
      "\r",
      " 69%|██████▊   | 865/1261 [4:30:47<2:04:16, 18.83s/it]"
     ]
    },
    {
     "name": "stdout",
     "output_type": "stream",
     "text": [
      "Frame # 1368\n",
      "========\n",
      "Selecting.. ((840, 384), (1063, 535))\n",
      "========\n"
     ]
    },
    {
     "name": "stderr",
     "output_type": "stream",
     "text": [
      "\r",
      " 69%|██████▊   | 866/1261 [4:31:06<2:03:32, 18.76s/it]"
     ]
    },
    {
     "name": "stdout",
     "output_type": "stream",
     "text": [
      "Frame # 1369\n",
      "========\n",
      "Selecting.. ((840, 384), (1063, 535))\n",
      "========\n"
     ]
    },
    {
     "name": "stderr",
     "output_type": "stream",
     "text": [
      "\r",
      " 69%|██████▉   | 867/1261 [4:31:25<2:03:16, 18.77s/it]"
     ]
    },
    {
     "name": "stdout",
     "output_type": "stream",
     "text": [
      "Frame # 1370\n",
      "========\n",
      "Selecting.. ((840, 384), (1063, 535))\n",
      "========\n"
     ]
    },
    {
     "name": "stderr",
     "output_type": "stream",
     "text": [
      "\r",
      " 69%|██████▉   | 868/1261 [4:31:43<2:02:54, 18.77s/it]"
     ]
    },
    {
     "name": "stdout",
     "output_type": "stream",
     "text": [
      "Frame # 1371\n",
      "========\n",
      "Selecting.. ((840, 384), (1063, 535))\n",
      "========\n"
     ]
    },
    {
     "name": "stderr",
     "output_type": "stream",
     "text": [
      "\r",
      " 69%|██████▉   | 869/1261 [4:32:02<2:02:47, 18.80s/it]"
     ]
    },
    {
     "name": "stdout",
     "output_type": "stream",
     "text": [
      "Frame # 1372\n",
      "========\n",
      "Selecting.. ((840, 384), (1063, 535))\n",
      "========\n"
     ]
    },
    {
     "name": "stderr",
     "output_type": "stream",
     "text": [
      "\r",
      " 69%|██████▉   | 870/1261 [4:32:21<2:02:41, 18.83s/it]"
     ]
    },
    {
     "name": "stdout",
     "output_type": "stream",
     "text": [
      "Frame # 1373\n",
      "========\n",
      "Selecting.. ((840, 384), (1063, 535))\n",
      "========\n"
     ]
    },
    {
     "name": "stderr",
     "output_type": "stream",
     "text": [
      "\r",
      " 69%|██████▉   | 871/1261 [4:32:40<2:02:23, 18.83s/it]"
     ]
    },
    {
     "name": "stdout",
     "output_type": "stream",
     "text": [
      "Frame # 1374\n",
      "========\n",
      "Selecting.. ((840, 384), (1005, 535))\n",
      "========\n"
     ]
    },
    {
     "name": "stderr",
     "output_type": "stream",
     "text": [
      "\r",
      " 69%|██████▉   | 872/1261 [4:32:58<2:01:07, 18.68s/it]"
     ]
    },
    {
     "name": "stdout",
     "output_type": "stream",
     "text": [
      "Frame # 1375\n",
      "========\n",
      "Selecting.. ((840, 384), (1019, 535))\n",
      "========\n"
     ]
    },
    {
     "name": "stderr",
     "output_type": "stream",
     "text": [
      "\r",
      " 69%|██████▉   | 873/1261 [4:33:17<2:00:57, 18.70s/it]"
     ]
    },
    {
     "name": "stdout",
     "output_type": "stream",
     "text": [
      "Frame # 1376\n",
      "========\n",
      "Selecting.. ((828, 384), (1005, 535))\n",
      "========\n"
     ]
    },
    {
     "name": "stderr",
     "output_type": "stream",
     "text": [
      "\r",
      " 69%|██████▉   | 874/1261 [4:33:36<2:00:32, 18.69s/it]"
     ]
    },
    {
     "name": "stdout",
     "output_type": "stream",
     "text": [
      "Frame # 1377\n",
      "========\n",
      "Selecting.. ((828, 384), (1019, 535))\n",
      "========\n"
     ]
    },
    {
     "name": "stderr",
     "output_type": "stream",
     "text": [
      "\r",
      " 69%|██████▉   | 875/1261 [4:33:54<2:00:19, 18.70s/it]"
     ]
    },
    {
     "name": "stdout",
     "output_type": "stream",
     "text": [
      "Frame # 1378\n",
      "========\n",
      "Selecting.. ((826, 384), (1019, 535))\n",
      "========\n"
     ]
    },
    {
     "name": "stderr",
     "output_type": "stream",
     "text": [
      "\r",
      " 69%|██████▉   | 876/1261 [4:34:13<2:00:10, 18.73s/it]"
     ]
    },
    {
     "name": "stdout",
     "output_type": "stream",
     "text": [
      "Frame # 1379\n",
      "========\n",
      "Selecting.. ((828, 384), (991, 535))\n",
      "========\n",
      "========\n",
      "Not Selecting.. ((959, 393), (1033, 456))\n",
      "========\n",
      "========\n",
      "Not Selecting.. ((968, 393), (1042, 456))\n",
      "========\n"
     ]
    },
    {
     "name": "stderr",
     "output_type": "stream",
     "text": [
      "\r",
      " 70%|██████▉   | 877/1261 [4:34:32<2:00:09, 18.77s/it]"
     ]
    },
    {
     "name": "stdout",
     "output_type": "stream",
     "text": [
      "Frame # 1380\n",
      "========\n",
      "Not Selecting.. ((826, 384), (1063, 535))\n",
      "========\n"
     ]
    },
    {
     "name": "stderr",
     "output_type": "stream",
     "text": [
      "\r",
      " 70%|██████▉   | 878/1261 [4:34:50<1:59:05, 18.66s/it]"
     ]
    },
    {
     "name": "stdout",
     "output_type": "stream",
     "text": [
      "Frame # 1381\n",
      "========\n",
      "Not Selecting.. ((840, 384), (1068, 535))\n",
      "========\n"
     ]
    },
    {
     "name": "stderr",
     "output_type": "stream",
     "text": [
      "\r",
      " 70%|██████▉   | 879/1261 [4:35:09<1:59:06, 18.71s/it]"
     ]
    },
    {
     "name": "stdout",
     "output_type": "stream",
     "text": [
      "Frame # 1382\n",
      "========\n",
      "Not Selecting.. ((826, 384), (1068, 535))\n",
      "========\n"
     ]
    },
    {
     "name": "stderr",
     "output_type": "stream",
     "text": [
      "\r",
      " 70%|██████▉   | 880/1261 [4:35:28<1:58:58, 18.74s/it]"
     ]
    },
    {
     "name": "stdout",
     "output_type": "stream",
     "text": [
      "Frame # 1383\n",
      "========\n",
      "Selecting.. ((826, 384), (1075, 535))\n",
      "========\n"
     ]
    },
    {
     "name": "stderr",
     "output_type": "stream",
     "text": [
      "\r",
      " 70%|██████▉   | 881/1261 [4:35:47<1:58:37, 18.73s/it]"
     ]
    },
    {
     "name": "stdout",
     "output_type": "stream",
     "text": [
      "Frame # 1384\n",
      "========\n",
      "Selecting.. ((826, 384), (1068, 535))\n",
      "========\n"
     ]
    },
    {
     "name": "stderr",
     "output_type": "stream",
     "text": [
      "\r",
      " 70%|██████▉   | 882/1261 [4:36:06<1:58:24, 18.75s/it]"
     ]
    },
    {
     "name": "stdout",
     "output_type": "stream",
     "text": [
      "Frame # 1385\n",
      "========\n",
      "Selecting.. ((826, 384), (1075, 535))\n",
      "========\n"
     ]
    },
    {
     "name": "stderr",
     "output_type": "stream",
     "text": [
      "\r",
      " 70%|███████   | 883/1261 [4:36:24<1:58:15, 18.77s/it]"
     ]
    },
    {
     "name": "stdout",
     "output_type": "stream",
     "text": [
      "Frame # 1386\n",
      "========\n",
      "Selecting.. ((826, 384), (1075, 535))\n",
      "========\n"
     ]
    },
    {
     "name": "stderr",
     "output_type": "stream",
     "text": [
      "\r",
      " 70%|███████   | 884/1261 [4:36:43<1:58:03, 18.79s/it]"
     ]
    },
    {
     "name": "stdout",
     "output_type": "stream",
     "text": [
      "Frame # 1387\n",
      "========\n",
      "Selecting.. ((826, 384), (1075, 535))\n",
      "========\n"
     ]
    },
    {
     "name": "stderr",
     "output_type": "stream",
     "text": [
      "\r",
      " 70%|███████   | 885/1261 [4:37:02<1:57:17, 18.72s/it]"
     ]
    },
    {
     "name": "stdout",
     "output_type": "stream",
     "text": [
      "Frame # 1388\n",
      "========\n",
      "Selecting.. ((826, 384), (1075, 535))\n",
      "========\n"
     ]
    },
    {
     "name": "stderr",
     "output_type": "stream",
     "text": [
      "\r",
      " 70%|███████   | 886/1261 [4:37:21<1:57:20, 18.77s/it]"
     ]
    },
    {
     "name": "stdout",
     "output_type": "stream",
     "text": [
      "Frame # 1389\n",
      "========\n",
      "Selecting.. ((826, 384), (1075, 535))\n",
      "========\n"
     ]
    },
    {
     "name": "stderr",
     "output_type": "stream",
     "text": [
      "\r",
      " 70%|███████   | 887/1261 [4:37:39<1:56:56, 18.76s/it]"
     ]
    },
    {
     "name": "stdout",
     "output_type": "stream",
     "text": [
      "Frame # 1390\n",
      "========\n",
      "Selecting.. ((826, 384), (1075, 535))\n",
      "========\n"
     ]
    },
    {
     "name": "stderr",
     "output_type": "stream",
     "text": [
      "\r",
      " 70%|███████   | 888/1261 [4:37:58<1:56:45, 18.78s/it]"
     ]
    },
    {
     "name": "stdout",
     "output_type": "stream",
     "text": [
      "Frame # 1391\n",
      "========\n",
      "Selecting.. ((826, 384), (1075, 535))\n",
      "========\n"
     ]
    },
    {
     "name": "stderr",
     "output_type": "stream",
     "text": [
      "\r",
      " 70%|███████   | 889/1261 [4:38:17<1:56:22, 18.77s/it]"
     ]
    },
    {
     "name": "stdout",
     "output_type": "stream",
     "text": [
      "Frame # 1392\n",
      "========\n",
      "Selecting.. ((826, 384), (1075, 535))\n",
      "========\n"
     ]
    },
    {
     "name": "stderr",
     "output_type": "stream",
     "text": [
      "\r",
      " 71%|███████   | 890/1261 [4:38:36<1:56:10, 18.79s/it]"
     ]
    },
    {
     "name": "stdout",
     "output_type": "stream",
     "text": [
      "Frame # 1393\n",
      "========\n",
      "Selecting.. ((826, 384), (1075, 535))\n",
      "========\n"
     ]
    },
    {
     "name": "stderr",
     "output_type": "stream",
     "text": [
      "\r",
      " 71%|███████   | 891/1261 [4:38:54<1:55:24, 18.71s/it]"
     ]
    },
    {
     "name": "stdout",
     "output_type": "stream",
     "text": [
      "Frame # 1394\n",
      "========\n",
      "Selecting.. ((826, 384), (1077, 535))\n",
      "========\n"
     ]
    },
    {
     "name": "stderr",
     "output_type": "stream",
     "text": [
      "\r",
      " 71%|███████   | 892/1261 [4:39:13<1:55:14, 18.74s/it]"
     ]
    },
    {
     "name": "stdout",
     "output_type": "stream",
     "text": [
      "Frame # 1395\n",
      "========\n",
      "Selecting.. ((826, 384), (991, 535))\n",
      "========\n",
      "========\n",
      "Not Selecting.. ((996, 384), (1077, 465))\n",
      "========\n"
     ]
    },
    {
     "name": "stderr",
     "output_type": "stream",
     "text": [
      "\r",
      " 71%|███████   | 893/1261 [4:39:32<1:55:15, 18.79s/it]"
     ]
    },
    {
     "name": "stdout",
     "output_type": "stream",
     "text": [
      "Frame # 1396\n",
      "========\n",
      "Selecting.. ((826, 384), (1087, 535))\n",
      "========\n"
     ]
    },
    {
     "name": "stderr",
     "output_type": "stream",
     "text": [
      "\r",
      " 71%|███████   | 894/1261 [4:39:51<1:54:46, 18.76s/it]"
     ]
    },
    {
     "name": "stdout",
     "output_type": "stream",
     "text": [
      "Frame # 1397\n",
      "========\n",
      "Selecting.. ((826, 384), (1087, 535))\n",
      "========\n"
     ]
    },
    {
     "name": "stderr",
     "output_type": "stream",
     "text": [
      "\r",
      " 71%|███████   | 895/1261 [4:40:10<1:54:30, 18.77s/it]"
     ]
    },
    {
     "name": "stdout",
     "output_type": "stream",
     "text": [
      "Frame # 1398\n",
      "========\n",
      "Selecting.. ((826, 384), (991, 535))\n",
      "========\n",
      "========\n",
      "Not Selecting.. ((994, 384), (1077, 479))\n",
      "========\n"
     ]
    },
    {
     "name": "stderr",
     "output_type": "stream",
     "text": [
      "\r",
      " 71%|███████   | 896/1261 [4:40:29<1:54:29, 18.82s/it]"
     ]
    },
    {
     "name": "stdout",
     "output_type": "stream",
     "text": [
      "Frame # 1399\n",
      "========\n",
      "Selecting.. ((826, 384), (991, 535))\n",
      "========\n",
      "========\n",
      "Not Selecting.. ((996, 384), (1077, 475))\n",
      "========\n"
     ]
    },
    {
     "name": "stderr",
     "output_type": "stream",
     "text": [
      "\r",
      " 71%|███████   | 897/1261 [4:40:47<1:54:13, 18.83s/it]"
     ]
    },
    {
     "name": "stdout",
     "output_type": "stream",
     "text": [
      "Frame # 1400\n",
      "========\n",
      "Selecting.. ((816, 384), (991, 535))\n",
      "========\n",
      "========\n",
      "Not Selecting.. ((994, 384), (1086, 465))\n",
      "========\n"
     ]
    },
    {
     "name": "stderr",
     "output_type": "stream",
     "text": [
      "\r",
      " 71%|███████   | 898/1261 [4:41:06<1:53:23, 18.74s/it]"
     ]
    },
    {
     "name": "stdout",
     "output_type": "stream",
     "text": [
      "Frame # 1401\n",
      "========\n",
      "Selecting.. ((826, 384), (991, 535))\n",
      "========\n",
      "========\n",
      "Selecting.. ((994, 384), (1086, 463))\n",
      "========\n"
     ]
    },
    {
     "name": "stderr",
     "output_type": "stream",
     "text": [
      "\r",
      " 71%|███████▏  | 899/1261 [4:41:25<1:53:19, 18.78s/it]"
     ]
    },
    {
     "name": "stdout",
     "output_type": "stream",
     "text": [
      "Frame # 1402\n",
      "========\n",
      "Selecting.. ((826, 384), (979, 535))\n",
      "========\n",
      "========\n",
      "Selecting.. ((1008, 384), (1086, 463))\n",
      "========\n"
     ]
    },
    {
     "name": "stderr",
     "output_type": "stream",
     "text": [
      "\r",
      " 71%|███████▏  | 900/1261 [4:41:44<1:53:00, 18.78s/it]"
     ]
    },
    {
     "name": "stdout",
     "output_type": "stream",
     "text": [
      "Frame # 1403\n",
      "========\n",
      "Selecting.. ((826, 384), (991, 535))\n",
      "========\n",
      "========\n",
      "Selecting.. ((994, 384), (1087, 463))\n",
      "========\n"
     ]
    },
    {
     "name": "stderr",
     "output_type": "stream",
     "text": [
      "\r",
      " 71%|███████▏  | 901/1261 [4:42:02<1:52:37, 18.77s/it]"
     ]
    },
    {
     "name": "stdout",
     "output_type": "stream",
     "text": [
      "Frame # 1404\n",
      "========\n",
      "Selecting.. ((826, 384), (991, 535))\n",
      "========\n",
      "========\n",
      "Selecting.. ((1008, 384), (1087, 465))\n",
      "========\n"
     ]
    },
    {
     "name": "stderr",
     "output_type": "stream",
     "text": [
      "\r",
      " 72%|███████▏  | 902/1261 [4:42:21<1:51:54, 18.70s/it]"
     ]
    },
    {
     "name": "stdout",
     "output_type": "stream",
     "text": [
      "Frame # 1405\n",
      "========\n",
      "Selecting.. ((826, 384), (977, 535))\n",
      "========\n",
      "========\n",
      "Selecting.. ((1008, 384), (1087, 465))\n",
      "========\n"
     ]
    },
    {
     "name": "stderr",
     "output_type": "stream",
     "text": [
      "\r",
      " 72%|███████▏  | 903/1261 [4:42:39<1:49:59, 18.43s/it]"
     ]
    },
    {
     "name": "stdout",
     "output_type": "stream",
     "text": [
      "Frame # 1406\n",
      "========\n",
      "Selecting.. ((816, 384), (977, 535))\n",
      "========\n",
      "========\n",
      "Selecting.. ((1008, 393), (1087, 465))\n",
      "========\n"
     ]
    },
    {
     "name": "stderr",
     "output_type": "stream",
     "text": [
      "\r",
      " 72%|███████▏  | 904/1261 [4:42:56<1:48:15, 18.19s/it]"
     ]
    },
    {
     "name": "stdout",
     "output_type": "stream",
     "text": [
      "Frame # 1407\n",
      "========\n",
      "Selecting.. ((812, 384), (977, 535))\n",
      "========\n",
      "========\n",
      "Selecting.. ((1008, 384), (1089, 465))\n",
      "========\n"
     ]
    },
    {
     "name": "stderr",
     "output_type": "stream",
     "text": [
      "\r",
      " 72%|███████▏  | 905/1261 [4:43:14<1:47:30, 18.12s/it]"
     ]
    },
    {
     "name": "stdout",
     "output_type": "stream",
     "text": [
      "Frame # 1408\n",
      "========\n",
      "Selecting.. ((812, 384), (977, 535))\n",
      "========\n",
      "========\n",
      "Selecting.. ((1008, 384), (1095, 475))\n",
      "========\n"
     ]
    },
    {
     "name": "stderr",
     "output_type": "stream",
     "text": [
      "\r",
      " 72%|███████▏  | 906/1261 [4:43:33<1:47:29, 18.17s/it]"
     ]
    },
    {
     "name": "stdout",
     "output_type": "stream",
     "text": [
      "Frame # 1409\n",
      "========\n",
      "Selecting.. ((812, 384), (977, 535))\n",
      "========\n",
      "========\n",
      "Selecting.. ((1008, 384), (1099, 475))\n",
      "========\n"
     ]
    },
    {
     "name": "stderr",
     "output_type": "stream",
     "text": [
      "\r",
      " 72%|███████▏  | 907/1261 [4:43:51<1:47:32, 18.23s/it]"
     ]
    },
    {
     "name": "stdout",
     "output_type": "stream",
     "text": [
      "Frame # 1410\n",
      "========\n",
      "Selecting.. ((812, 384), (977, 535))\n",
      "========\n",
      "========\n",
      "Selecting.. ((996, 384), (1099, 479))\n",
      "========\n"
     ]
    },
    {
     "name": "stderr",
     "output_type": "stream",
     "text": [
      "\r",
      " 72%|███████▏  | 908/1261 [4:44:09<1:47:34, 18.28s/it]"
     ]
    },
    {
     "name": "stdout",
     "output_type": "stream",
     "text": [
      "Frame # 1411\n",
      "========\n",
      "Selecting.. ((812, 384), (977, 535))\n",
      "========\n",
      "========\n",
      "Selecting.. ((1008, 384), (1099, 475))\n",
      "========\n"
     ]
    },
    {
     "name": "stderr",
     "output_type": "stream",
     "text": [
      "\r",
      " 72%|███████▏  | 909/1261 [4:44:28<1:47:24, 18.31s/it]"
     ]
    },
    {
     "name": "stdout",
     "output_type": "stream",
     "text": [
      "Frame # 1412\n",
      "========\n",
      "Selecting.. ((812, 384), (977, 535))\n",
      "========\n",
      "========\n",
      "Selecting.. ((1020, 393), (1099, 475))\n",
      "========\n"
     ]
    },
    {
     "name": "stderr",
     "output_type": "stream",
     "text": [
      "\r",
      " 72%|███████▏  | 910/1261 [4:44:46<1:47:00, 18.29s/it]"
     ]
    },
    {
     "name": "stdout",
     "output_type": "stream",
     "text": [
      "Frame # 1413\n",
      "========\n",
      "Selecting.. ((812, 384), (977, 535))\n",
      "========\n",
      "========\n",
      "Selecting.. ((1008, 393), (1099, 479))\n",
      "========\n"
     ]
    },
    {
     "name": "stderr",
     "output_type": "stream",
     "text": [
      "\r",
      " 72%|███████▏  | 911/1261 [4:45:04<1:46:16, 18.22s/it]"
     ]
    },
    {
     "name": "stdout",
     "output_type": "stream",
     "text": [
      "Frame # 1414\n",
      "========\n",
      "Selecting.. ((812, 384), (977, 535))\n",
      "========\n",
      "========\n",
      "Selecting.. ((1008, 384), (1103, 479))\n",
      "========\n"
     ]
    },
    {
     "name": "stderr",
     "output_type": "stream",
     "text": [
      "\r",
      " 72%|███████▏  | 912/1261 [4:45:21<1:44:42, 18.00s/it]"
     ]
    },
    {
     "name": "stdout",
     "output_type": "stream",
     "text": [
      "Frame # 1415\n",
      "========\n",
      "Selecting.. ((816, 384), (977, 535))\n",
      "========\n",
      "========\n",
      "Selecting.. ((1008, 384), (1104, 475))\n",
      "========\n"
     ]
    },
    {
     "name": "stderr",
     "output_type": "stream",
     "text": [
      "\r",
      " 72%|███████▏  | 913/1261 [4:45:39<1:44:06, 17.95s/it]"
     ]
    },
    {
     "name": "stdout",
     "output_type": "stream",
     "text": [
      "Frame # 1416\n",
      "========\n",
      "Selecting.. ((812, 384), (977, 535))\n",
      "========\n",
      "========\n",
      "Selecting.. ((1008, 384), (1111, 475))\n",
      "========\n"
     ]
    },
    {
     "name": "stderr",
     "output_type": "stream",
     "text": [
      "\r",
      " 72%|███████▏  | 914/1261 [4:45:56<1:41:39, 17.58s/it]"
     ]
    },
    {
     "name": "stdout",
     "output_type": "stream",
     "text": [
      "Frame # 1417\n",
      "========\n",
      "Selecting.. ((812, 384), (977, 535))\n",
      "========\n",
      "========\n",
      "Selecting.. ((1008, 384), (1111, 475))\n",
      "========\n"
     ]
    },
    {
     "name": "stderr",
     "output_type": "stream",
     "text": [
      "\r",
      " 73%|███████▎  | 915/1261 [4:46:12<1:39:11, 17.20s/it]"
     ]
    },
    {
     "name": "stdout",
     "output_type": "stream",
     "text": [
      "Frame # 1418\n",
      "========\n",
      "Selecting.. ((812, 384), (977, 535))\n",
      "========\n",
      "========\n",
      "Selecting.. ((1020, 384), (1111, 475))\n",
      "========\n"
     ]
    },
    {
     "name": "stderr",
     "output_type": "stream",
     "text": [
      "\r",
      " 73%|███████▎  | 916/1261 [4:46:27<1:35:08, 16.55s/it]"
     ]
    },
    {
     "name": "stdout",
     "output_type": "stream",
     "text": [
      "Frame # 1419\n",
      "========\n",
      "Selecting.. ((812, 384), (977, 535))\n",
      "========\n",
      "========\n",
      "Selecting.. ((1008, 384), (1113, 479))\n",
      "========\n"
     ]
    },
    {
     "name": "stderr",
     "output_type": "stream",
     "text": [
      "\r",
      " 73%|███████▎  | 917/1261 [4:46:42<1:32:11, 16.08s/it]"
     ]
    },
    {
     "name": "stdout",
     "output_type": "stream",
     "text": [
      "Frame # 1420\n",
      "========\n",
      "Selecting.. ((812, 384), (977, 535))\n",
      "========\n",
      "========\n",
      "Selecting.. ((1008, 384), (1111, 479))\n",
      "========\n"
     ]
    },
    {
     "name": "stderr",
     "output_type": "stream",
     "text": [
      "\r",
      " 73%|███████▎  | 918/1261 [4:46:57<1:29:58, 15.74s/it]"
     ]
    },
    {
     "name": "stdout",
     "output_type": "stream",
     "text": [
      "Frame # 1421\n",
      "========\n",
      "Selecting.. ((812, 384), (977, 523))\n",
      "========\n",
      "========\n",
      "Selecting.. ((1008, 384), (1117, 479))\n",
      "========\n"
     ]
    },
    {
     "name": "stderr",
     "output_type": "stream",
     "text": [
      "\r",
      " 73%|███████▎  | 919/1261 [4:47:12<1:28:21, 15.50s/it]"
     ]
    },
    {
     "name": "stdout",
     "output_type": "stream",
     "text": [
      "Frame # 1422\n",
      "========\n",
      "Selecting.. ((812, 384), (977, 523))\n",
      "========\n",
      "========\n",
      "Selecting.. ((1008, 384), (1117, 479))\n",
      "========\n"
     ]
    },
    {
     "name": "stderr",
     "output_type": "stream",
     "text": [
      "\r",
      " 73%|███████▎  | 920/1261 [4:47:27<1:27:07, 15.33s/it]"
     ]
    },
    {
     "name": "stdout",
     "output_type": "stream",
     "text": [
      "Frame # 1423\n",
      "========\n",
      "Selecting.. ((812, 384), (977, 535))\n",
      "========\n",
      "========\n",
      "Selecting.. ((1020, 384), (1122, 479))\n",
      "========\n"
     ]
    },
    {
     "name": "stderr",
     "output_type": "stream",
     "text": [
      "\r",
      " 73%|███████▎  | 921/1261 [4:47:42<1:26:17, 15.23s/it]"
     ]
    },
    {
     "name": "stdout",
     "output_type": "stream",
     "text": [
      "Frame # 1424\n",
      "========\n",
      "Selecting.. ((812, 384), (977, 535))\n",
      "========\n",
      "========\n",
      "Selecting.. ((1022, 384), (1122, 479))\n",
      "========\n"
     ]
    },
    {
     "name": "stderr",
     "output_type": "stream",
     "text": [
      "\r",
      " 73%|███████▎  | 922/1261 [4:47:57<1:25:24, 15.12s/it]"
     ]
    },
    {
     "name": "stdout",
     "output_type": "stream",
     "text": [
      "Frame # 1425\n",
      "========\n",
      "Selecting.. ((812, 384), (977, 535))\n",
      "========\n",
      "========\n",
      "Selecting.. ((1020, 384), (1122, 479))\n",
      "========\n"
     ]
    },
    {
     "name": "stderr",
     "output_type": "stream",
     "text": [
      "\r",
      " 73%|███████▎  | 923/1261 [4:48:12<1:24:49, 15.06s/it]"
     ]
    },
    {
     "name": "stdout",
     "output_type": "stream",
     "text": [
      "Frame # 1426\n",
      "========\n",
      "Selecting.. ((812, 384), (977, 535))\n",
      "========\n",
      "========\n",
      "Selecting.. ((1032, 393), (1122, 475))\n",
      "========\n"
     ]
    },
    {
     "name": "stderr",
     "output_type": "stream",
     "text": [
      "\r",
      " 73%|███████▎  | 924/1261 [4:48:27<1:24:22, 15.02s/it]"
     ]
    },
    {
     "name": "stdout",
     "output_type": "stream",
     "text": [
      "Frame # 1427\n",
      "========\n",
      "Selecting.. ((812, 384), (977, 535))\n",
      "========\n",
      "========\n",
      "Selecting.. ((1022, 384), (1123, 479))\n",
      "========\n"
     ]
    },
    {
     "name": "stderr",
     "output_type": "stream",
     "text": [
      "\r",
      " 73%|███████▎  | 925/1261 [4:48:42<1:24:05, 15.01s/it]"
     ]
    },
    {
     "name": "stdout",
     "output_type": "stream",
     "text": [
      "Frame # 1428\n",
      "========\n",
      "Selecting.. ((812, 384), (977, 535))\n",
      "========\n",
      "========\n",
      "Selecting.. ((1020, 384), (1131, 479))\n",
      "========\n"
     ]
    },
    {
     "name": "stderr",
     "output_type": "stream",
     "text": [
      "\r",
      " 73%|███████▎  | 926/1261 [4:48:57<1:24:08, 15.07s/it]"
     ]
    },
    {
     "name": "stdout",
     "output_type": "stream",
     "text": [
      "Frame # 1429\n",
      "========\n",
      "Selecting.. ((812, 384), (977, 535))\n",
      "========\n",
      "========\n",
      "Selecting.. ((1032, 384), (1131, 479))\n",
      "========\n"
     ]
    },
    {
     "name": "stderr",
     "output_type": "stream",
     "text": [
      "\r",
      " 74%|███████▎  | 927/1261 [4:49:12<1:23:44, 15.04s/it]"
     ]
    },
    {
     "name": "stdout",
     "output_type": "stream",
     "text": [
      "Frame # 1430\n",
      "========\n",
      "Selecting.. ((812, 384), (977, 535))\n",
      "========\n",
      "========\n",
      "Selecting.. ((1032, 393), (1123, 475))\n",
      "========\n"
     ]
    },
    {
     "name": "stderr",
     "output_type": "stream",
     "text": [
      "\r",
      " 74%|███████▎  | 928/1261 [4:49:27<1:23:11, 14.99s/it]"
     ]
    },
    {
     "name": "stdout",
     "output_type": "stream",
     "text": [
      "Frame # 1431\n",
      "========\n",
      "Selecting.. ((812, 384), (977, 535))\n",
      "========\n",
      "========\n",
      "Selecting.. ((1032, 384), (1131, 479))\n",
      "========\n"
     ]
    },
    {
     "name": "stderr",
     "output_type": "stream",
     "text": [
      "\r",
      " 74%|███████▎  | 929/1261 [4:49:42<1:23:00, 15.00s/it]"
     ]
    },
    {
     "name": "stdout",
     "output_type": "stream",
     "text": [
      "Frame # 1432\n",
      "========\n",
      "Selecting.. ((812, 384), (977, 535))\n",
      "========\n",
      "========\n",
      "Selecting.. ((1032, 384), (1131, 479))\n",
      "========\n"
     ]
    },
    {
     "name": "stderr",
     "output_type": "stream",
     "text": [
      "\r",
      " 74%|███████▍  | 930/1261 [4:49:57<1:22:42, 14.99s/it]"
     ]
    },
    {
     "name": "stdout",
     "output_type": "stream",
     "text": [
      "Frame # 1433\n",
      "========\n",
      "Selecting.. ((812, 384), (977, 535))\n",
      "========\n",
      "========\n",
      "Selecting.. ((1032, 384), (1131, 479))\n",
      "========\n"
     ]
    },
    {
     "name": "stderr",
     "output_type": "stream",
     "text": [
      "\r",
      " 74%|███████▍  | 931/1261 [4:50:12<1:22:23, 14.98s/it]"
     ]
    },
    {
     "name": "stdout",
     "output_type": "stream",
     "text": [
      "Frame # 1434\n",
      "========\n",
      "Selecting.. ((804, 384), (977, 535))\n",
      "========\n",
      "========\n",
      "Selecting.. ((1032, 384), (1135, 479))\n",
      "========\n"
     ]
    },
    {
     "name": "stderr",
     "output_type": "stream",
     "text": [
      "\r",
      " 74%|███████▍  | 932/1261 [4:50:27<1:21:55, 14.94s/it]"
     ]
    },
    {
     "name": "stdout",
     "output_type": "stream",
     "text": [
      "Frame # 1435\n",
      "========\n",
      "Selecting.. ((804, 384), (977, 535))\n",
      "========\n",
      "========\n",
      "Selecting.. ((1022, 384), (1140, 479))\n",
      "========\n"
     ]
    },
    {
     "name": "stderr",
     "output_type": "stream",
     "text": [
      "\r",
      " 74%|███████▍  | 933/1261 [4:50:42<1:21:36, 14.93s/it]"
     ]
    },
    {
     "name": "stdout",
     "output_type": "stream",
     "text": [
      "Frame # 1436\n",
      "========\n",
      "Selecting.. ((804, 384), (967, 535))\n",
      "========\n",
      "========\n",
      "Selecting.. ((1036, 384), (1135, 479))\n",
      "========\n"
     ]
    },
    {
     "name": "stderr",
     "output_type": "stream",
     "text": [
      "\r",
      " 74%|███████▍  | 934/1261 [4:50:57<1:21:30, 14.96s/it]"
     ]
    },
    {
     "name": "stdout",
     "output_type": "stream",
     "text": [
      "Frame # 1437\n",
      "========\n",
      "Selecting.. ((812, 384), (977, 535))\n",
      "========\n",
      "========\n",
      "Selecting.. ((1036, 384), (1140, 479))\n",
      "========\n"
     ]
    },
    {
     "name": "stderr",
     "output_type": "stream",
     "text": [
      "\r",
      " 74%|███████▍  | 935/1261 [4:51:12<1:21:11, 14.94s/it]"
     ]
    },
    {
     "name": "stdout",
     "output_type": "stream",
     "text": [
      "Frame # 1438\n",
      "========\n",
      "Selecting.. ((812, 384), (967, 535))\n",
      "========\n",
      "========\n",
      "Selecting.. ((1036, 384), (1145, 479))\n",
      "========\n"
     ]
    },
    {
     "name": "stderr",
     "output_type": "stream",
     "text": [
      "\r",
      " 74%|███████▍  | 936/1261 [4:51:26<1:20:58, 14.95s/it]"
     ]
    },
    {
     "name": "stdout",
     "output_type": "stream",
     "text": [
      "Frame # 1439\n",
      "========\n",
      "Selecting.. ((812, 384), (967, 523))\n",
      "========\n",
      "========\n",
      "Selecting.. ((1044, 384), (1135, 479))\n",
      "========\n"
     ]
    },
    {
     "name": "stderr",
     "output_type": "stream",
     "text": [
      "\r",
      " 74%|███████▍  | 937/1261 [4:51:41<1:20:37, 14.93s/it]"
     ]
    },
    {
     "name": "stdout",
     "output_type": "stream",
     "text": [
      "Frame # 1440\n",
      "========\n",
      "Selecting.. ((812, 384), (967, 523))\n",
      "========\n",
      "========\n",
      "Selecting.. ((1036, 384), (1135, 479))\n",
      "========\n"
     ]
    },
    {
     "name": "stderr",
     "output_type": "stream",
     "text": [
      "\r",
      " 74%|███████▍  | 938/1261 [4:51:56<1:20:33, 14.96s/it]"
     ]
    },
    {
     "name": "stdout",
     "output_type": "stream",
     "text": [
      "Frame # 1441\n",
      "========\n",
      "Selecting.. ((812, 384), (967, 535))\n",
      "========\n",
      "========\n",
      "Selecting.. ((1036, 384), (1145, 479))\n",
      "========\n"
     ]
    },
    {
     "name": "stderr",
     "output_type": "stream",
     "text": [
      "\r",
      " 74%|███████▍  | 939/1261 [4:52:11<1:20:16, 14.96s/it]"
     ]
    },
    {
     "name": "stdout",
     "output_type": "stream",
     "text": [
      "Frame # 1442\n",
      "========\n",
      "Selecting.. ((812, 384), (967, 535))\n",
      "========\n",
      "========\n",
      "Selecting.. ((1032, 384), (1145, 479))\n",
      "========\n"
     ]
    },
    {
     "name": "stderr",
     "output_type": "stream",
     "text": [
      "\r",
      " 75%|███████▍  | 940/1261 [4:52:26<1:19:55, 14.94s/it]"
     ]
    },
    {
     "name": "stdout",
     "output_type": "stream",
     "text": [
      "Frame # 1443\n",
      "========\n",
      "Selecting.. ((812, 384), (967, 523))\n",
      "========\n",
      "========\n",
      "Selecting.. ((1036, 384), (1145, 479))\n",
      "========\n"
     ]
    },
    {
     "name": "stderr",
     "output_type": "stream",
     "text": [
      "\r",
      " 75%|███████▍  | 941/1261 [4:52:41<1:19:33, 14.92s/it]"
     ]
    },
    {
     "name": "stdout",
     "output_type": "stream",
     "text": [
      "Frame # 1444\n",
      "========\n",
      "Selecting.. ((812, 384), (967, 523))\n",
      "========\n",
      "========\n",
      "Selecting.. ((1022, 384), (1147, 479))\n",
      "========\n"
     ]
    },
    {
     "name": "stderr",
     "output_type": "stream",
     "text": [
      "\r",
      " 75%|███████▍  | 942/1261 [4:52:56<1:19:28, 14.95s/it]"
     ]
    },
    {
     "name": "stdout",
     "output_type": "stream",
     "text": [
      "Frame # 1445\n",
      "========\n",
      "Selecting.. ((804, 384), (977, 523))\n",
      "========\n",
      "========\n",
      "Selecting.. ((1032, 384), (1158, 479))\n",
      "========\n"
     ]
    },
    {
     "name": "stderr",
     "output_type": "stream",
     "text": [
      "\r",
      " 75%|███████▍  | 943/1261 [4:53:11<1:19:08, 14.93s/it]"
     ]
    },
    {
     "name": "stdout",
     "output_type": "stream",
     "text": [
      "Frame # 1446\n",
      "========\n",
      "Selecting.. ((804, 384), (967, 535))\n",
      "========\n",
      "========\n",
      "Selecting.. ((1032, 384), (1158, 479))\n",
      "========\n"
     ]
    },
    {
     "name": "stderr",
     "output_type": "stream",
     "text": [
      "\r",
      " 75%|███████▍  | 944/1261 [4:53:26<1:18:53, 14.93s/it]"
     ]
    },
    {
     "name": "stdout",
     "output_type": "stream",
     "text": [
      "Frame # 1447\n",
      "========\n",
      "Selecting.. ((804, 384), (967, 523))\n",
      "========\n",
      "========\n",
      "Selecting.. ((1036, 384), (1149, 479))\n",
      "========\n"
     ]
    },
    {
     "name": "stderr",
     "output_type": "stream",
     "text": [
      "\r",
      " 75%|███████▍  | 945/1261 [4:53:41<1:18:43, 14.95s/it]"
     ]
    },
    {
     "name": "stdout",
     "output_type": "stream",
     "text": [
      "Frame # 1448\n",
      "========\n",
      "Selecting.. ((812, 384), (967, 535))\n",
      "========\n",
      "========\n",
      "Selecting.. ((1050, 384), (1159, 479))\n",
      "========\n"
     ]
    },
    {
     "name": "stderr",
     "output_type": "stream",
     "text": [
      "\r",
      " 75%|███████▌  | 946/1261 [4:53:56<1:18:33, 14.96s/it]"
     ]
    },
    {
     "name": "stdout",
     "output_type": "stream",
     "text": [
      "Frame # 1449\n",
      "========\n",
      "Selecting.. ((812, 384), (967, 535))\n",
      "========\n",
      "========\n",
      "Selecting.. ((1050, 384), (1159, 479))\n",
      "========\n"
     ]
    },
    {
     "name": "stderr",
     "output_type": "stream",
     "text": [
      "\r",
      " 75%|███████▌  | 947/1261 [4:54:11<1:18:14, 14.95s/it]"
     ]
    },
    {
     "name": "stdout",
     "output_type": "stream",
     "text": [
      "Frame # 1450\n",
      "========\n",
      "Selecting.. ((812, 384), (967, 521))\n",
      "========\n",
      "========\n",
      "Selecting.. ((1036, 384), (1159, 479))\n",
      "========\n"
     ]
    },
    {
     "name": "stderr",
     "output_type": "stream",
     "text": [
      "\r",
      " 75%|███████▌  | 948/1261 [4:54:26<1:18:02, 14.96s/it]"
     ]
    },
    {
     "name": "stdout",
     "output_type": "stream",
     "text": [
      "Frame # 1451\n",
      "========\n",
      "Selecting.. ((812, 384), (967, 523))\n",
      "========\n",
      "========\n",
      "Selecting.. ((1044, 384), (1167, 479))\n",
      "========\n"
     ]
    },
    {
     "name": "stderr",
     "output_type": "stream",
     "text": [
      "\r",
      " 75%|███████▌  | 949/1261 [4:54:41<1:17:41, 14.94s/it]"
     ]
    },
    {
     "name": "stdout",
     "output_type": "stream",
     "text": [
      "Frame # 1452\n",
      "========\n",
      "Selecting.. ((812, 384), (967, 521))\n",
      "========\n",
      "========\n",
      "Selecting.. ((1044, 384), (1167, 479))\n",
      "========\n"
     ]
    },
    {
     "name": "stderr",
     "output_type": "stream",
     "text": [
      "\r",
      " 75%|███████▌  | 950/1261 [4:54:56<1:17:26, 14.94s/it]"
     ]
    },
    {
     "name": "stdout",
     "output_type": "stream",
     "text": [
      "Frame # 1453\n",
      "========\n",
      "Selecting.. ((812, 384), (967, 523))\n",
      "========\n",
      "========\n",
      "Selecting.. ((1014, 384), (1167, 479))\n",
      "========\n"
     ]
    },
    {
     "name": "stderr",
     "output_type": "stream",
     "text": [
      "\r",
      " 75%|███████▌  | 951/1261 [4:55:11<1:17:19, 14.96s/it]"
     ]
    },
    {
     "name": "stdout",
     "output_type": "stream",
     "text": [
      "Frame # 1454\n",
      "========\n",
      "Selecting.. ((804, 384), (963, 523))\n",
      "========\n",
      "========\n",
      "Selecting.. ((1036, 384), (1171, 479))\n",
      "========\n"
     ]
    },
    {
     "name": "stderr",
     "output_type": "stream",
     "text": [
      "\r",
      " 75%|███████▌  | 952/1261 [4:55:26<1:16:58, 14.95s/it]"
     ]
    },
    {
     "name": "stdout",
     "output_type": "stream",
     "text": [
      "Frame # 1455\n",
      "========\n",
      "Selecting.. ((804, 384), (963, 521))\n",
      "========\n",
      "========\n",
      "Selecting.. ((1036, 384), (1173, 479))\n",
      "========\n"
     ]
    },
    {
     "name": "stderr",
     "output_type": "stream",
     "text": [
      "\r",
      " 76%|███████▌  | 953/1261 [4:55:41<1:16:39, 14.93s/it]"
     ]
    },
    {
     "name": "stdout",
     "output_type": "stream",
     "text": [
      "Frame # 1456\n",
      "========\n",
      "Selecting.. ((798, 384), (963, 521))\n",
      "========\n",
      "========\n",
      "Selecting.. ((1050, 384), (1183, 479))\n",
      "========\n"
     ]
    },
    {
     "name": "stderr",
     "output_type": "stream",
     "text": [
      "\r",
      " 76%|███████▌  | 954/1261 [4:55:55<1:16:23, 14.93s/it]"
     ]
    },
    {
     "name": "stdout",
     "output_type": "stream",
     "text": [
      "Frame # 1457\n",
      "========\n",
      "Selecting.. ((804, 384), (963, 521))\n",
      "========\n",
      "========\n",
      "Selecting.. ((1023, 384), (1183, 479))\n",
      "========\n"
     ]
    },
    {
     "name": "stderr",
     "output_type": "stream",
     "text": [
      "\r",
      " 76%|███████▌  | 955/1261 [4:56:10<1:16:18, 14.96s/it]"
     ]
    },
    {
     "name": "stdout",
     "output_type": "stream",
     "text": [
      "Frame # 1458\n",
      "========\n",
      "Selecting.. ((804, 384), (963, 523))\n",
      "========\n",
      "========\n",
      "Selecting.. ((1056, 384), (1183, 479))\n",
      "========\n"
     ]
    },
    {
     "name": "stderr",
     "output_type": "stream",
     "text": [
      "\r",
      " 76%|███████▌  | 956/1261 [4:56:25<1:15:57, 14.94s/it]"
     ]
    },
    {
     "name": "stdout",
     "output_type": "stream",
     "text": [
      "Frame # 1459\n",
      "========\n",
      "Selecting.. ((804, 384), (963, 523))\n",
      "========\n",
      "========\n",
      "Selecting.. ((1014, 384), (1173, 479))\n",
      "========\n"
     ]
    },
    {
     "name": "stderr",
     "output_type": "stream",
     "text": [
      "\r",
      " 76%|███████▌  | 957/1261 [4:56:40<1:15:42, 14.94s/it]"
     ]
    },
    {
     "name": "stdout",
     "output_type": "stream",
     "text": [
      "Frame # 1460\n",
      "========\n",
      "Selecting.. ((812, 384), (963, 523))\n",
      "========\n",
      "========\n",
      "Selecting.. ((1014, 384), (1183, 479))\n",
      "========\n"
     ]
    },
    {
     "name": "stderr",
     "output_type": "stream",
     "text": [
      "\r",
      " 76%|███████▌  | 958/1261 [4:56:55<1:15:29, 14.95s/it]"
     ]
    },
    {
     "name": "stdout",
     "output_type": "stream",
     "text": [
      "Frame # 1461\n",
      "========\n",
      "Selecting.. ((812, 384), (967, 523))\n",
      "========\n",
      "========\n",
      "Selecting.. ((1014, 384), (1176, 479))\n",
      "========\n"
     ]
    },
    {
     "name": "stderr",
     "output_type": "stream",
     "text": [
      "\r",
      " 76%|███████▌  | 959/1261 [4:57:10<1:15:26, 14.99s/it]"
     ]
    },
    {
     "name": "stdout",
     "output_type": "stream",
     "text": [
      "Frame # 1462\n",
      "========\n",
      "Selecting.. ((812, 384), (963, 523))\n",
      "========\n",
      "========\n",
      "Selecting.. ((1008, 384), (1176, 479))\n",
      "========\n"
     ]
    },
    {
     "name": "stderr",
     "output_type": "stream",
     "text": [
      "\r",
      " 76%|███████▌  | 960/1261 [4:57:25<1:15:07, 14.98s/it]"
     ]
    },
    {
     "name": "stdout",
     "output_type": "stream",
     "text": [
      "Frame # 1463\n",
      "========\n",
      "Selecting.. ((812, 384), (963, 521))\n",
      "========\n",
      "========\n",
      "Selecting.. ((1014, 384), (1185, 479))\n",
      "========\n"
     ]
    },
    {
     "name": "stderr",
     "output_type": "stream",
     "text": [
      "\r",
      " 76%|███████▌  | 961/1261 [4:57:40<1:14:55, 14.99s/it]"
     ]
    },
    {
     "name": "stdout",
     "output_type": "stream",
     "text": [
      "Frame # 1464\n",
      "========\n",
      "Selecting.. ((812, 384), (963, 523))\n",
      "========\n",
      "========\n",
      "Selecting.. ((1023, 384), (1187, 479))\n",
      "========\n"
     ]
    },
    {
     "name": "stderr",
     "output_type": "stream",
     "text": [
      "\r",
      " 76%|███████▋  | 962/1261 [4:57:55<1:14:39, 14.98s/it]"
     ]
    },
    {
     "name": "stdout",
     "output_type": "stream",
     "text": [
      "Frame # 1465\n",
      "========\n",
      "Selecting.. ((812, 384), (963, 523))\n",
      "========\n",
      "========\n",
      "Selecting.. ((1023, 384), (1187, 479))\n",
      "========\n"
     ]
    },
    {
     "name": "stderr",
     "output_type": "stream",
     "text": [
      "\r",
      " 76%|███████▋  | 963/1261 [4:58:10<1:14:27, 14.99s/it]"
     ]
    },
    {
     "name": "stdout",
     "output_type": "stream",
     "text": [
      "Frame # 1466\n",
      "========\n",
      "Selecting.. ((812, 384), (967, 523))\n",
      "========\n",
      "========\n",
      "Selecting.. ((1032, 384), (1194, 479))\n",
      "========\n"
     ]
    },
    {
     "name": "stderr",
     "output_type": "stream",
     "text": [
      "\r",
      " 76%|███████▋  | 964/1261 [4:58:25<1:14:02, 14.96s/it]"
     ]
    },
    {
     "name": "stdout",
     "output_type": "stream",
     "text": [
      "Frame # 1467\n",
      "========\n",
      "Selecting.. ((812, 384), (963, 523))\n",
      "========\n",
      "========\n",
      "Selecting.. ((1032, 384), (1194, 479))\n",
      "========\n"
     ]
    },
    {
     "name": "stderr",
     "output_type": "stream",
     "text": [
      "\r",
      " 77%|███████▋  | 965/1261 [4:58:40<1:13:45, 14.95s/it]"
     ]
    },
    {
     "name": "stdout",
     "output_type": "stream",
     "text": [
      "Frame # 1468\n",
      "========\n",
      "Selecting.. ((812, 384), (963, 523))\n",
      "========\n",
      "========\n",
      "Selecting.. ((1023, 384), (1194, 479))\n",
      "========\n"
     ]
    },
    {
     "name": "stderr",
     "output_type": "stream",
     "text": [
      "\r",
      " 77%|███████▋  | 966/1261 [4:58:55<1:13:38, 14.98s/it]"
     ]
    },
    {
     "name": "stdout",
     "output_type": "stream",
     "text": [
      "Frame # 1469\n",
      "========\n",
      "Selecting.. ((812, 384), (963, 523))\n",
      "========\n",
      "========\n",
      "Selecting.. ((1023, 384), (1207, 479))\n",
      "========\n"
     ]
    },
    {
     "name": "stderr",
     "output_type": "stream",
     "text": [
      "\r",
      " 77%|███████▋  | 967/1261 [4:59:10<1:13:26, 14.99s/it]"
     ]
    },
    {
     "name": "stdout",
     "output_type": "stream",
     "text": [
      "Frame # 1470\n",
      "========\n",
      "Selecting.. ((812, 384), (963, 523))\n",
      "========\n",
      "========\n",
      "Selecting.. ((1020, 384), (1207, 479))\n",
      "========\n"
     ]
    },
    {
     "name": "stderr",
     "output_type": "stream",
     "text": [
      "\r",
      " 77%|███████▋  | 968/1261 [4:59:25<1:13:22, 15.02s/it]"
     ]
    },
    {
     "name": "stdout",
     "output_type": "stream",
     "text": [
      "Frame # 1471\n",
      "========\n",
      "Selecting.. ((812, 384), (963, 535))\n",
      "========\n",
      "========\n",
      "Selecting.. ((1020, 384), (1203, 479))\n",
      "========\n"
     ]
    },
    {
     "name": "stderr",
     "output_type": "stream",
     "text": [
      "\r",
      " 77%|███████▋  | 969/1261 [4:59:40<1:13:06, 15.02s/it]"
     ]
    },
    {
     "name": "stdout",
     "output_type": "stream",
     "text": [
      "Frame # 1472\n",
      "========\n",
      "Selecting.. ((812, 384), (963, 523))\n",
      "========\n",
      "========\n",
      "Selecting.. ((1032, 384), (1207, 479))\n",
      "========\n"
     ]
    },
    {
     "name": "stderr",
     "output_type": "stream",
     "text": [
      "\r",
      " 77%|███████▋  | 970/1261 [4:59:55<1:12:53, 15.03s/it]"
     ]
    },
    {
     "name": "stdout",
     "output_type": "stream",
     "text": [
      "Frame # 1473\n",
      "========\n",
      "Selecting.. ((812, 384), (963, 523))\n",
      "========\n",
      "========\n",
      "Selecting.. ((1022, 384), (1201, 479))\n",
      "========\n"
     ]
    },
    {
     "name": "stderr",
     "output_type": "stream",
     "text": [
      "\r",
      " 77%|███████▋  | 971/1261 [5:00:10<1:12:34, 15.02s/it]"
     ]
    },
    {
     "name": "stdout",
     "output_type": "stream",
     "text": [
      "Frame # 1474\n",
      "========\n",
      "Selecting.. ((812, 384), (963, 521))\n",
      "========\n",
      "========\n",
      "Selecting.. ((1032, 384), (1215, 479))\n",
      "========\n"
     ]
    },
    {
     "name": "stderr",
     "output_type": "stream",
     "text": [
      "\r",
      " 77%|███████▋  | 972/1261 [5:00:25<1:12:19, 15.02s/it]"
     ]
    },
    {
     "name": "stdout",
     "output_type": "stream",
     "text": [
      "Frame # 1475\n",
      "========\n",
      "Selecting.. ((812, 384), (963, 523))\n",
      "========\n",
      "========\n",
      "Selecting.. ((1032, 384), (1266, 483))\n",
      "========\n"
     ]
    },
    {
     "name": "stderr",
     "output_type": "stream",
     "text": [
      "\r",
      " 77%|███████▋  | 973/1261 [5:00:40<1:11:58, 14.99s/it]"
     ]
    },
    {
     "name": "stdout",
     "output_type": "stream",
     "text": [
      "Frame # 1476\n",
      "========\n",
      "Selecting.. ((812, 384), (963, 523))\n",
      "========\n",
      "========\n",
      "Selecting.. ((1022, 384), (1215, 479))\n",
      "========\n"
     ]
    },
    {
     "name": "stderr",
     "output_type": "stream",
     "text": [
      "\r",
      " 77%|███████▋  | 974/1261 [5:00:55<1:11:44, 15.00s/it]"
     ]
    },
    {
     "name": "stdout",
     "output_type": "stream",
     "text": [
      "Frame # 1477\n",
      "========\n",
      "Selecting.. ((812, 384), (963, 523))\n",
      "========\n",
      "========\n",
      "Selecting.. ((1032, 384), (1212, 479))\n",
      "========\n"
     ]
    },
    {
     "name": "stderr",
     "output_type": "stream",
     "text": [
      "\r",
      " 77%|███████▋  | 975/1261 [5:01:10<1:11:32, 15.01s/it]"
     ]
    },
    {
     "name": "stdout",
     "output_type": "stream",
     "text": [
      "Frame # 1478\n",
      "========\n",
      "Selecting.. ((812, 384), (963, 523))\n",
      "========\n",
      "========\n",
      "Selecting.. ((1032, 384), (1229, 493))\n",
      "========\n"
     ]
    },
    {
     "name": "stderr",
     "output_type": "stream",
     "text": [
      "\r",
      " 77%|███████▋  | 976/1261 [5:01:25<1:11:21, 15.02s/it]"
     ]
    },
    {
     "name": "stdout",
     "output_type": "stream",
     "text": [
      "Frame # 1479\n",
      "========\n",
      "Selecting.. ((812, 384), (963, 523))\n",
      "========\n",
      "========\n",
      "Selecting.. ((1032, 384), (1215, 479))\n",
      "========\n"
     ]
    },
    {
     "name": "stderr",
     "output_type": "stream",
     "text": [
      "\r",
      " 77%|███████▋  | 977/1261 [5:01:40<1:10:55, 14.99s/it]"
     ]
    },
    {
     "name": "stdout",
     "output_type": "stream",
     "text": [
      "Frame # 1480\n",
      "========\n",
      "Selecting.. ((804, 384), (963, 523))\n",
      "========\n",
      "========\n",
      "Selecting.. ((1032, 384), (1215, 479))\n",
      "========\n"
     ]
    },
    {
     "name": "stderr",
     "output_type": "stream",
     "text": [
      "\r",
      " 78%|███████▊  | 978/1261 [5:01:55<1:10:22, 14.92s/it]"
     ]
    },
    {
     "name": "stdout",
     "output_type": "stream",
     "text": [
      "Frame # 1481\n",
      "========\n",
      "Selecting.. ((804, 384), (963, 523))\n",
      "========\n",
      "========\n",
      "Selecting.. ((1036, 384), (1229, 479))\n",
      "========\n"
     ]
    },
    {
     "name": "stderr",
     "output_type": "stream",
     "text": [
      "\r",
      " 78%|███████▊  | 979/1261 [5:02:10<1:09:56, 14.88s/it]"
     ]
    },
    {
     "name": "stdout",
     "output_type": "stream",
     "text": [
      "Frame # 1482\n",
      "========\n",
      "Selecting.. ((812, 384), (963, 535))\n",
      "========\n",
      "========\n",
      "Selecting.. ((1036, 384), (1221, 479))\n",
      "========\n"
     ]
    },
    {
     "name": "stderr",
     "output_type": "stream",
     "text": [
      "\r",
      " 78%|███████▊  | 980/1261 [5:02:25<1:09:36, 14.86s/it]"
     ]
    },
    {
     "name": "stdout",
     "output_type": "stream",
     "text": [
      "Frame # 1483\n",
      "========\n",
      "Selecting.. ((812, 384), (963, 523))\n",
      "========\n",
      "========\n",
      "Selecting.. ((1041, 384), (1229, 487))\n",
      "========\n"
     ]
    },
    {
     "name": "stderr",
     "output_type": "stream",
     "text": [
      "\r",
      " 78%|███████▊  | 981/1261 [5:02:39<1:09:14, 14.84s/it]"
     ]
    },
    {
     "name": "stdout",
     "output_type": "stream",
     "text": [
      "Frame # 1484\n",
      "========\n",
      "Selecting.. ((812, 384), (963, 523))\n",
      "========\n",
      "========\n",
      "Selecting.. ((1044, 384), (1229, 479))\n",
      "========\n"
     ]
    },
    {
     "name": "stderr",
     "output_type": "stream",
     "text": [
      "\r",
      " 78%|███████▊  | 982/1261 [5:02:54<1:09:02, 14.85s/it]"
     ]
    },
    {
     "name": "stdout",
     "output_type": "stream",
     "text": [
      "Frame # 1485\n",
      "========\n",
      "Selecting.. ((812, 384), (963, 523))\n",
      "========\n",
      "========\n",
      "Selecting.. ((1044, 384), (1229, 479))\n",
      "========\n"
     ]
    },
    {
     "name": "stderr",
     "output_type": "stream",
     "text": [
      "\r",
      " 78%|███████▊  | 983/1261 [5:03:09<1:08:46, 14.84s/it]"
     ]
    },
    {
     "name": "stdout",
     "output_type": "stream",
     "text": [
      "Frame # 1486\n",
      "========\n",
      "Selecting.. ((804, 384), (963, 523))\n",
      "========\n",
      "========\n",
      "Selecting.. ((1050, 384), (1229, 479))\n",
      "========\n"
     ]
    },
    {
     "name": "stderr",
     "output_type": "stream",
     "text": [
      "\r",
      " 78%|███████▊  | 984/1261 [5:03:24<1:08:24, 14.82s/it]"
     ]
    },
    {
     "name": "stdout",
     "output_type": "stream",
     "text": [
      "Frame # 1487\n",
      "========\n",
      "Selecting.. ((812, 384), (963, 523))\n",
      "========\n",
      "========\n",
      "Selecting.. ((1044, 384), (1229, 479))\n",
      "========\n"
     ]
    },
    {
     "name": "stderr",
     "output_type": "stream",
     "text": [
      "\r",
      " 78%|███████▊  | 985/1261 [5:03:39<1:08:13, 14.83s/it]"
     ]
    },
    {
     "name": "stdout",
     "output_type": "stream",
     "text": [
      "Frame # 1488\n",
      "========\n",
      "Selecting.. ((812, 384), (963, 521))\n",
      "========\n",
      "========\n",
      "Selecting.. ((1050, 384), (1231, 479))\n",
      "========\n"
     ]
    },
    {
     "name": "stderr",
     "output_type": "stream",
     "text": [
      "\r",
      " 78%|███████▊  | 986/1261 [5:03:54<1:07:53, 14.81s/it]"
     ]
    },
    {
     "name": "stdout",
     "output_type": "stream",
     "text": [
      "Frame # 1489\n",
      "========\n",
      "Selecting.. ((812, 384), (963, 521))\n",
      "========\n",
      "========\n",
      "Selecting.. ((1044, 384), (1243, 479))\n",
      "========\n"
     ]
    },
    {
     "name": "stderr",
     "output_type": "stream",
     "text": [
      "\r",
      " 78%|███████▊  | 987/1261 [5:04:08<1:07:32, 14.79s/it]"
     ]
    },
    {
     "name": "stdout",
     "output_type": "stream",
     "text": [
      "Frame # 1490\n",
      "========\n",
      "Selecting.. ((812, 384), (963, 521))\n",
      "========\n",
      "========\n",
      "Selecting.. ((1044, 384), (1243, 479))\n",
      "========\n"
     ]
    },
    {
     "name": "stderr",
     "output_type": "stream",
     "text": [
      "\r",
      " 78%|███████▊  | 988/1261 [5:04:23<1:07:18, 14.79s/it]"
     ]
    },
    {
     "name": "stdout",
     "output_type": "stream",
     "text": [
      "Frame # 1491\n",
      "========\n",
      "Selecting.. ((804, 384), (963, 523))\n",
      "========\n",
      "========\n",
      "Selecting.. ((1050, 384), (1243, 479))\n",
      "========\n"
     ]
    },
    {
     "name": "stderr",
     "output_type": "stream",
     "text": [
      "\r",
      " 78%|███████▊  | 989/1261 [5:04:38<1:07:05, 14.80s/it]"
     ]
    },
    {
     "name": "stdout",
     "output_type": "stream",
     "text": [
      "Frame # 1492\n",
      "========\n",
      "Selecting.. ((804, 384), (963, 523))\n",
      "========\n",
      "========\n",
      "Selecting.. ((1050, 384), (1243, 479))\n",
      "========\n"
     ]
    },
    {
     "name": "stderr",
     "output_type": "stream",
     "text": [
      "\r",
      " 79%|███████▊  | 990/1261 [5:04:53<1:06:52, 14.80s/it]"
     ]
    },
    {
     "name": "stdout",
     "output_type": "stream",
     "text": [
      "Frame # 1493\n",
      "========\n",
      "Selecting.. ((804, 384), (963, 523))\n",
      "========\n",
      "========\n",
      "Selecting.. ((1056, 384), (1243, 479))\n",
      "========\n"
     ]
    },
    {
     "name": "stderr",
     "output_type": "stream",
     "text": [
      "\r",
      " 79%|███████▊  | 991/1261 [5:05:07<1:06:25, 14.76s/it]"
     ]
    },
    {
     "name": "stdout",
     "output_type": "stream",
     "text": [
      "Frame # 1494\n",
      "========\n",
      "Selecting.. ((816, 384), (963, 521))\n",
      "========\n",
      "========\n",
      "Selecting.. ((1059, 384), (1243, 479))\n",
      "========\n"
     ]
    },
    {
     "name": "stderr",
     "output_type": "stream",
     "text": [
      "\r",
      " 79%|███████▊  | 992/1261 [5:05:22<1:06:01, 14.73s/it]"
     ]
    },
    {
     "name": "stdout",
     "output_type": "stream",
     "text": [
      "Frame # 1495\n",
      "========\n",
      "Selecting.. ((812, 384), (963, 521))\n",
      "========\n",
      "========\n",
      "Selecting.. ((1059, 384), (1243, 479))\n",
      "========\n"
     ]
    },
    {
     "name": "stderr",
     "output_type": "stream",
     "text": [
      "\r",
      " 79%|███████▊  | 993/1261 [5:05:37<1:05:48, 14.73s/it]"
     ]
    },
    {
     "name": "stdout",
     "output_type": "stream",
     "text": [
      "Frame # 1496\n",
      "========\n",
      "Selecting.. ((812, 384), (963, 523))\n",
      "========\n",
      "========\n",
      "Selecting.. ((1059, 384), (1243, 479))\n",
      "========\n"
     ]
    },
    {
     "name": "stderr",
     "output_type": "stream",
     "text": [
      "\r",
      " 79%|███████▉  | 994/1261 [5:05:52<1:05:38, 14.75s/it]"
     ]
    },
    {
     "name": "stdout",
     "output_type": "stream",
     "text": [
      "Frame # 1497\n",
      "========\n",
      "Selecting.. ((812, 384), (963, 523))\n",
      "========\n",
      "========\n",
      "Selecting.. ((1056, 384), (1255, 479))\n",
      "========\n"
     ]
    },
    {
     "name": "stderr",
     "output_type": "stream",
     "text": [
      "\r",
      " 79%|███████▉  | 995/1261 [5:06:06<1:05:26, 14.76s/it]"
     ]
    },
    {
     "name": "stdout",
     "output_type": "stream",
     "text": [
      "Frame # 1498\n",
      "========\n",
      "Selecting.. ((812, 384), (963, 523))\n",
      "========\n",
      "========\n",
      "Selecting.. ((1056, 384), (1255, 479))\n",
      "========\n"
     ]
    },
    {
     "name": "stderr",
     "output_type": "stream",
     "text": [
      "\r",
      " 79%|███████▉  | 996/1261 [5:06:21<1:05:12, 14.76s/it]"
     ]
    },
    {
     "name": "stdout",
     "output_type": "stream",
     "text": [
      "Frame # 1499\n",
      "========\n",
      "Selecting.. ((812, 384), (963, 523))\n",
      "========\n",
      "========\n",
      "Selecting.. ((1056, 384), (1255, 479))\n",
      "========\n"
     ]
    },
    {
     "name": "stderr",
     "output_type": "stream",
     "text": [
      "\r",
      " 79%|███████▉  | 997/1261 [5:06:36<1:05:06, 14.80s/it]"
     ]
    },
    {
     "name": "stdout",
     "output_type": "stream",
     "text": [
      "Frame # 1500\n",
      "========\n",
      "Selecting.. ((812, 384), (963, 521))\n",
      "========\n",
      "========\n",
      "Selecting.. ((1056, 384), (1257, 479))\n",
      "========\n"
     ]
    },
    {
     "name": "stderr",
     "output_type": "stream",
     "text": [
      "\r",
      " 79%|███████▉  | 998/1261 [5:06:51<1:05:05, 14.85s/it]"
     ]
    },
    {
     "name": "stdout",
     "output_type": "stream",
     "text": [
      "Frame # 1501\n",
      "========\n",
      "Selecting.. ((812, 384), (963, 521))\n",
      "========\n",
      "========\n",
      "Selecting.. ((1068, 384), (1257, 479))\n",
      "========\n"
     ]
    },
    {
     "name": "stderr",
     "output_type": "stream",
     "text": [
      "\r",
      " 79%|███████▉  | 999/1261 [5:07:06<1:04:49, 14.84s/it]"
     ]
    },
    {
     "name": "stdout",
     "output_type": "stream",
     "text": [
      "Frame # 1502\n",
      "========\n",
      "Selecting.. ((812, 384), (963, 521))\n",
      "========\n",
      "========\n",
      "Selecting.. ((1068, 384), (1257, 479))\n",
      "========\n"
     ]
    },
    {
     "name": "stderr",
     "output_type": "stream",
     "text": [
      "\r",
      " 79%|███████▉  | 1000/1261 [5:07:21<1:04:31, 14.83s/it]"
     ]
    },
    {
     "name": "stdout",
     "output_type": "stream",
     "text": [
      "Frame # 1503\n",
      "========\n",
      "Selecting.. ((812, 384), (963, 521))\n",
      "========\n",
      "========\n",
      "Selecting.. ((1068, 384), (1257, 479))\n",
      "========\n"
     ]
    },
    {
     "name": "stderr",
     "output_type": "stream",
     "text": [
      "\r",
      " 79%|███████▉  | 1001/1261 [5:07:35<1:04:16, 14.83s/it]"
     ]
    },
    {
     "name": "stdout",
     "output_type": "stream",
     "text": [
      "Frame # 1504\n",
      "========\n",
      "Selecting.. ((798, 384), (963, 521))\n",
      "========\n",
      "========\n",
      "Selecting.. ((1068, 384), (1257, 479))\n",
      "========\n"
     ]
    },
    {
     "name": "stderr",
     "output_type": "stream",
     "text": [
      "\r",
      " 79%|███████▉  | 1002/1261 [5:07:50<1:04:03, 14.84s/it]"
     ]
    },
    {
     "name": "stdout",
     "output_type": "stream",
     "text": [
      "Frame # 1505\n",
      "========\n",
      "Selecting.. ((812, 384), (963, 521))\n",
      "========\n",
      "========\n",
      "Selecting.. ((1068, 384), (1257, 479))\n",
      "========\n"
     ]
    },
    {
     "name": "stderr",
     "output_type": "stream",
     "text": [
      "\r",
      " 80%|███████▉  | 1003/1261 [5:08:05<1:03:50, 14.85s/it]"
     ]
    },
    {
     "name": "stdout",
     "output_type": "stream",
     "text": [
      "Frame # 1506\n",
      "========\n",
      "Selecting.. ((804, 384), (963, 521))\n",
      "========\n",
      "========\n",
      "Selecting.. ((1068, 384), (1267, 479))\n",
      "========\n"
     ]
    },
    {
     "name": "stderr",
     "output_type": "stream",
     "text": [
      "\r",
      " 80%|███████▉  | 1004/1261 [5:08:20<1:03:35, 14.85s/it]"
     ]
    },
    {
     "name": "stdout",
     "output_type": "stream",
     "text": [
      "Frame # 1507\n",
      "========\n",
      "Selecting.. ((812, 384), (967, 521))\n",
      "========\n",
      "========\n",
      "Selecting.. ((1077, 384), (1267, 479))\n",
      "========\n"
     ]
    },
    {
     "name": "stderr",
     "output_type": "stream",
     "text": [
      "\r",
      " 80%|███████▉  | 1005/1261 [5:08:35<1:03:16, 14.83s/it]"
     ]
    },
    {
     "name": "stdout",
     "output_type": "stream",
     "text": [
      "Frame # 1508\n",
      "========\n",
      "Selecting.. ((812, 384), (967, 521))\n",
      "========\n",
      "========\n",
      "Selecting.. ((1077, 384), (1267, 479))\n",
      "========\n"
     ]
    },
    {
     "name": "stderr",
     "output_type": "stream",
     "text": [
      "\r",
      " 80%|███████▉  | 1006/1261 [5:08:50<1:03:03, 14.84s/it]"
     ]
    },
    {
     "name": "stdout",
     "output_type": "stream",
     "text": [
      "Frame # 1509\n",
      "========\n",
      "Selecting.. ((812, 384), (967, 521))\n",
      "========\n",
      "========\n",
      "Selecting.. ((1078, 384), (1267, 479))\n",
      "========\n"
     ]
    },
    {
     "name": "stderr",
     "output_type": "stream",
     "text": [
      "\r",
      " 80%|███████▉  | 1007/1261 [5:09:05<1:02:59, 14.88s/it]"
     ]
    },
    {
     "name": "stdout",
     "output_type": "stream",
     "text": [
      "Frame # 1510\n",
      "========\n",
      "Selecting.. ((812, 384), (967, 521))\n",
      "========\n",
      "========\n",
      "Selecting.. ((1078, 384), (1267, 479))\n",
      "========\n"
     ]
    },
    {
     "name": "stderr",
     "output_type": "stream",
     "text": [
      "\r",
      " 80%|███████▉  | 1008/1261 [5:09:20<1:02:45, 14.88s/it]"
     ]
    },
    {
     "name": "stdout",
     "output_type": "stream",
     "text": [
      "Frame # 1511\n",
      "========\n",
      "Selecting.. ((812, 384), (967, 521))\n",
      "========\n",
      "========\n",
      "Selecting.. ((1080, 384), (1267, 479))\n",
      "========\n"
     ]
    },
    {
     "name": "stderr",
     "output_type": "stream",
     "text": [
      "\r",
      " 80%|████████  | 1009/1261 [5:09:34<1:02:27, 14.87s/it]"
     ]
    },
    {
     "name": "stdout",
     "output_type": "stream",
     "text": [
      "Frame # 1512\n",
      "========\n",
      "Selecting.. ((812, 384), (967, 521))\n",
      "========\n",
      "========\n",
      "Selecting.. ((1080, 384), (1271, 479))\n",
      "========\n"
     ]
    },
    {
     "name": "stderr",
     "output_type": "stream",
     "text": [
      "\r",
      " 80%|████████  | 1010/1261 [5:09:49<1:02:11, 14.87s/it]"
     ]
    },
    {
     "name": "stdout",
     "output_type": "stream",
     "text": [
      "Frame # 1513\n",
      "========\n",
      "Selecting.. ((812, 384), (967, 521))\n",
      "========\n",
      "========\n",
      "Selecting.. ((1080, 384), (1271, 479))\n",
      "========\n"
     ]
    },
    {
     "name": "stderr",
     "output_type": "stream",
     "text": [
      "\r",
      " 80%|████████  | 1011/1261 [5:10:04<1:01:59, 14.88s/it]"
     ]
    },
    {
     "name": "stdout",
     "output_type": "stream",
     "text": [
      "Frame # 1514\n",
      "========\n",
      "Selecting.. ((812, 384), (967, 521))\n",
      "========\n",
      "========\n",
      "Selecting.. ((1086, 384), (1271, 479))\n",
      "========\n"
     ]
    },
    {
     "name": "stderr",
     "output_type": "stream",
     "text": [
      "\r",
      " 80%|████████  | 1012/1261 [5:10:19<1:01:44, 14.88s/it]"
     ]
    },
    {
     "name": "stdout",
     "output_type": "stream",
     "text": [
      "Frame # 1515\n",
      "========\n",
      "Selecting.. ((812, 384), (967, 521))\n",
      "========\n",
      "========\n",
      "Selecting.. ((1086, 384), (1275, 479))\n",
      "========\n"
     ]
    },
    {
     "name": "stderr",
     "output_type": "stream",
     "text": [
      "\r",
      " 80%|████████  | 1013/1261 [5:10:34<1:01:22, 14.85s/it]"
     ]
    },
    {
     "name": "stdout",
     "output_type": "stream",
     "text": [
      "Frame # 1516\n",
      "========\n",
      "Selecting.. ((812, 384), (967, 521))\n",
      "========\n",
      "========\n",
      "Selecting.. ((1086, 384), (1275, 479))\n",
      "========\n"
     ]
    },
    {
     "name": "stderr",
     "output_type": "stream",
     "text": [
      "\r",
      " 80%|████████  | 1014/1261 [5:10:49<1:01:04, 14.84s/it]"
     ]
    },
    {
     "name": "stdout",
     "output_type": "stream",
     "text": [
      "Frame # 1517\n",
      "========\n",
      "Selecting.. ((812, 384), (963, 521))\n",
      "========\n",
      "========\n",
      "Selecting.. ((1086, 384), (1275, 479))\n",
      "========\n"
     ]
    },
    {
     "name": "stderr",
     "output_type": "stream",
     "text": [
      "\r",
      " 80%|████████  | 1015/1261 [5:11:03<1:00:54, 14.86s/it]"
     ]
    },
    {
     "name": "stdout",
     "output_type": "stream",
     "text": [
      "Frame # 1518\n",
      "========\n",
      "Selecting.. ((804, 384), (963, 521))\n",
      "========\n",
      "========\n",
      "Selecting.. ((1092, 384), (1275, 479))\n",
      "========\n"
     ]
    },
    {
     "name": "stderr",
     "output_type": "stream",
     "text": [
      "\r",
      " 81%|████████  | 1016/1261 [5:11:18<1:00:40, 14.86s/it]"
     ]
    },
    {
     "name": "stdout",
     "output_type": "stream",
     "text": [
      "Frame # 1519\n",
      "========\n",
      "Selecting.. ((812, 384), (963, 521))\n",
      "========\n",
      "========\n",
      "Selecting.. ((1086, 384), (1275, 479))\n",
      "========\n"
     ]
    },
    {
     "name": "stderr",
     "output_type": "stream",
     "text": [
      "\r",
      " 81%|████████  | 1017/1261 [5:11:33<1:00:21, 14.84s/it]"
     ]
    },
    {
     "name": "stdout",
     "output_type": "stream",
     "text": [
      "Frame # 1520\n",
      "========\n",
      "Selecting.. ((812, 384), (963, 521))\n",
      "========\n",
      "========\n",
      "Selecting.. ((1092, 384), (1267, 479))\n",
      "========\n"
     ]
    },
    {
     "name": "stderr",
     "output_type": "stream",
     "text": [
      "\r",
      " 81%|████████  | 1018/1261 [5:11:48<1:00:03, 14.83s/it]"
     ]
    },
    {
     "name": "stdout",
     "output_type": "stream",
     "text": [
      "Frame # 1521\n",
      "========\n",
      "Selecting.. ((812, 384), (963, 521))\n",
      "========\n",
      "========\n",
      "Selecting.. ((1092, 384), (1271, 479))\n",
      "========\n"
     ]
    },
    {
     "name": "stderr",
     "output_type": "stream",
     "text": [
      "\r",
      " 81%|████████  | 1019/1261 [5:12:03<59:51, 14.84s/it]  "
     ]
    },
    {
     "name": "stdout",
     "output_type": "stream",
     "text": [
      "Frame # 1522\n",
      "========\n",
      "Selecting.. ((812, 384), (963, 521))\n",
      "========\n",
      "========\n",
      "Selecting.. ((1092, 384), (1271, 479))\n",
      "========\n"
     ]
    },
    {
     "name": "stderr",
     "output_type": "stream",
     "text": [
      "\r",
      " 81%|████████  | 1020/1261 [5:12:18<59:38, 14.85s/it]"
     ]
    },
    {
     "name": "stdout",
     "output_type": "stream",
     "text": [
      "Frame # 1523\n",
      "========\n",
      "Selecting.. ((812, 384), (963, 521))\n",
      "========\n",
      "========\n",
      "Selecting.. ((1086, 384), (1271, 479))\n",
      "========\n"
     ]
    },
    {
     "name": "stderr",
     "output_type": "stream",
     "text": [
      "\r",
      " 81%|████████  | 1021/1261 [5:12:32<59:08, 14.79s/it]"
     ]
    },
    {
     "name": "stdout",
     "output_type": "stream",
     "text": [
      "Frame # 1524\n",
      "========\n",
      "Selecting.. ((812, 384), (963, 521))\n",
      "========\n",
      "========\n",
      "Selecting.. ((1092, 384), (1267, 479))\n",
      "========\n"
     ]
    },
    {
     "name": "stderr",
     "output_type": "stream",
     "text": [
      "\r",
      " 81%|████████  | 1022/1261 [5:12:47<58:43, 14.74s/it]"
     ]
    },
    {
     "name": "stdout",
     "output_type": "stream",
     "text": [
      "Frame # 1525\n",
      "========\n",
      "Selecting.. ((812, 384), (967, 521))\n",
      "========\n",
      "========\n",
      "Selecting.. ((1092, 384), (1257, 479))\n",
      "========\n"
     ]
    },
    {
     "name": "stderr",
     "output_type": "stream",
     "text": [
      "\r",
      " 81%|████████  | 1023/1261 [5:13:02<58:26, 14.73s/it]"
     ]
    },
    {
     "name": "stdout",
     "output_type": "stream",
     "text": [
      "Frame # 1526\n",
      "========\n",
      "Selecting.. ((812, 384), (963, 521))\n",
      "========\n",
      "========\n",
      "Selecting.. ((1092, 384), (1207, 479))\n",
      "========\n"
     ]
    },
    {
     "name": "stderr",
     "output_type": "stream",
     "text": [
      "\r",
      " 81%|████████  | 1024/1261 [5:13:16<58:08, 14.72s/it]"
     ]
    },
    {
     "name": "stdout",
     "output_type": "stream",
     "text": [
      "Frame # 1527\n",
      "========\n",
      "Selecting.. ((812, 384), (963, 521))\n",
      "========\n",
      "========\n",
      "Selecting.. ((1092, 384), (1267, 479))\n",
      "========\n"
     ]
    },
    {
     "name": "stderr",
     "output_type": "stream",
     "text": [
      "\r",
      " 81%|████████▏ | 1025/1261 [5:13:31<57:52, 14.71s/it]"
     ]
    },
    {
     "name": "stdout",
     "output_type": "stream",
     "text": [
      "Frame # 1528\n",
      "========\n",
      "Selecting.. ((812, 384), (1015, 511))\n",
      "========\n",
      "========\n",
      "Selecting.. ((1092, 384), (1267, 479))\n",
      "========\n"
     ]
    },
    {
     "name": "stderr",
     "output_type": "stream",
     "text": [
      "\r",
      " 81%|████████▏ | 1026/1261 [5:13:46<57:34, 14.70s/it]"
     ]
    },
    {
     "name": "stdout",
     "output_type": "stream",
     "text": [
      "Frame # 1529\n",
      "========\n",
      "Selecting.. ((812, 384), (1019, 521))\n",
      "========\n",
      "========\n",
      "Selecting.. ((1095, 384), (1267, 479))\n",
      "========\n"
     ]
    },
    {
     "name": "stderr",
     "output_type": "stream",
     "text": [
      "\r",
      " 81%|████████▏ | 1027/1261 [5:14:00<57:17, 14.69s/it]"
     ]
    },
    {
     "name": "stdout",
     "output_type": "stream",
     "text": [
      "Frame # 1530\n",
      "========\n",
      "Selecting.. ((812, 384), (963, 521))\n",
      "========\n",
      "========\n",
      "Selecting.. ((1092, 384), (1267, 479))\n",
      "========\n"
     ]
    },
    {
     "name": "stderr",
     "output_type": "stream",
     "text": [
      "\r",
      " 82%|████████▏ | 1028/1261 [5:14:15<57:05, 14.70s/it]"
     ]
    },
    {
     "name": "stdout",
     "output_type": "stream",
     "text": [
      "Frame # 1531\n",
      "========\n",
      "Selecting.. ((812, 384), (963, 521))\n",
      "========\n",
      "========\n",
      "Selecting.. ((1092, 384), (1267, 479))\n",
      "========\n"
     ]
    },
    {
     "name": "stderr",
     "output_type": "stream",
     "text": [
      "\r",
      " 82%|████████▏ | 1029/1261 [5:14:30<56:52, 14.71s/it]"
     ]
    },
    {
     "name": "stdout",
     "output_type": "stream",
     "text": [
      "Frame # 1532\n",
      "========\n",
      "Selecting.. ((804, 384), (963, 521))\n",
      "========\n",
      "========\n",
      "Selecting.. ((1092, 384), (1275, 479))\n",
      "========\n"
     ]
    },
    {
     "name": "stderr",
     "output_type": "stream",
     "text": [
      "\r",
      " 82%|████████▏ | 1030/1261 [5:14:45<56:36, 14.71s/it]"
     ]
    },
    {
     "name": "stdout",
     "output_type": "stream",
     "text": [
      "Frame # 1533\n",
      "========\n",
      "Selecting.. ((812, 384), (963, 521))\n",
      "========\n",
      "========\n",
      "Selecting.. ((1104, 384), (1267, 479))\n",
      "========\n"
     ]
    },
    {
     "name": "stderr",
     "output_type": "stream",
     "text": [
      "\r",
      " 82%|████████▏ | 1031/1261 [5:14:59<56:22, 14.71s/it]"
     ]
    },
    {
     "name": "stdout",
     "output_type": "stream",
     "text": [
      "Frame # 1534\n",
      "========\n",
      "Selecting.. ((812, 384), (977, 521))\n",
      "========\n",
      "========\n",
      "Selecting.. ((1104, 384), (1267, 479))\n",
      "========\n"
     ]
    },
    {
     "name": "stderr",
     "output_type": "stream",
     "text": [
      "\r",
      " 82%|████████▏ | 1032/1261 [5:15:14<56:08, 14.71s/it]"
     ]
    },
    {
     "name": "stdout",
     "output_type": "stream",
     "text": [
      "Frame # 1535\n",
      "========\n",
      "Selecting.. ((812, 384), (1005, 521))\n",
      "========\n",
      "========\n",
      "Selecting.. ((1104, 384), (1271, 479))\n",
      "========\n"
     ]
    },
    {
     "name": "stderr",
     "output_type": "stream",
     "text": [
      "\r",
      " 82%|████████▏ | 1033/1261 [5:15:29<56:02, 14.75s/it]"
     ]
    },
    {
     "name": "stdout",
     "output_type": "stream",
     "text": [
      "Frame # 1536\n",
      "========\n",
      "Selecting.. ((812, 384), (991, 521))\n",
      "========\n",
      "========\n",
      "Selecting.. ((1104, 384), (1275, 479))\n",
      "========\n"
     ]
    },
    {
     "name": "stderr",
     "output_type": "stream",
     "text": [
      "\r",
      " 82%|████████▏ | 1034/1261 [5:15:44<55:45, 14.74s/it]"
     ]
    },
    {
     "name": "stdout",
     "output_type": "stream",
     "text": [
      "Frame # 1537\n",
      "========\n",
      "Selecting.. ((812, 384), (991, 521))\n",
      "========\n",
      "========\n",
      "Selecting.. ((1113, 384), (1275, 479))\n",
      "========\n"
     ]
    },
    {
     "name": "stderr",
     "output_type": "stream",
     "text": [
      "\r",
      " 82%|████████▏ | 1035/1261 [5:15:58<55:27, 14.72s/it]"
     ]
    },
    {
     "name": "stdout",
     "output_type": "stream",
     "text": [
      "Frame # 1538\n",
      "========\n",
      "Selecting.. ((812, 384), (977, 521))\n",
      "========\n",
      "========\n",
      "Selecting.. ((1113, 384), (1275, 479))\n",
      "========\n",
      "========\n",
      "Not Selecting.. ((949, 426), (1022, 521))\n",
      "========\n",
      "========\n",
      "Not Selecting.. ((963, 426), (1036, 521))\n",
      "========\n",
      "========\n",
      "Not Selecting.. ((1008, 426), (1075, 507))\n",
      "========\n"
     ]
    },
    {
     "name": "stderr",
     "output_type": "stream",
     "text": [
      "\r",
      " 82%|████████▏ | 1036/1261 [5:16:13<55:13, 14.73s/it]"
     ]
    },
    {
     "name": "stdout",
     "output_type": "stream",
     "text": [
      "Frame # 1539\n",
      "========\n",
      "Selecting.. ((812, 384), (967, 521))\n",
      "========\n",
      "========\n",
      "Selecting.. ((1116, 384), (1275, 479))\n",
      "========\n",
      "========\n",
      "Selecting.. ((1008, 432), (1087, 511))\n",
      "========\n"
     ]
    },
    {
     "name": "stderr",
     "output_type": "stream",
     "text": [
      "\r",
      " 82%|████████▏ | 1037/1261 [5:16:28<55:00, 14.73s/it]"
     ]
    },
    {
     "name": "stdout",
     "output_type": "stream",
     "text": [
      "Frame # 1540\n",
      "========\n",
      "Selecting.. ((812, 384), (963, 521))\n",
      "========\n",
      "========\n",
      "Selecting.. ((1116, 384), (1275, 479))\n",
      "========\n"
     ]
    },
    {
     "name": "stderr",
     "output_type": "stream",
     "text": [
      "\r",
      " 82%|████████▏ | 1038/1261 [5:16:42<54:46, 14.74s/it]"
     ]
    },
    {
     "name": "stdout",
     "output_type": "stream",
     "text": [
      "Frame # 1541\n",
      "========\n",
      "Selecting.. ((812, 384), (967, 521))\n",
      "========\n",
      "========\n",
      "Selecting.. ((1116, 384), (1275, 479))\n",
      "========\n"
     ]
    },
    {
     "name": "stderr",
     "output_type": "stream",
     "text": [
      "\r",
      " 82%|████████▏ | 1039/1261 [5:16:57<54:31, 14.73s/it]"
     ]
    },
    {
     "name": "stdout",
     "output_type": "stream",
     "text": [
      "Frame # 1542\n",
      "========\n",
      "Selecting.. ((812, 384), (963, 521))\n",
      "========\n",
      "========\n",
      "Selecting.. ((1104, 384), (1231, 479))\n",
      "========\n"
     ]
    },
    {
     "name": "stderr",
     "output_type": "stream",
     "text": [
      "\r",
      " 82%|████████▏ | 1040/1261 [5:17:12<54:13, 14.72s/it]"
     ]
    },
    {
     "name": "stdout",
     "output_type": "stream",
     "text": [
      "Frame # 1543\n",
      "========\n",
      "Selecting.. ((812, 384), (977, 521))\n",
      "========\n",
      "========\n",
      "Selecting.. ((1113, 384), (1229, 479))\n",
      "========\n",
      "========\n",
      "Not Selecting.. ((1020, 396), (1087, 463))\n",
      "========\n"
     ]
    },
    {
     "name": "stderr",
     "output_type": "stream",
     "text": [
      "\r",
      " 83%|████████▎ | 1041/1261 [5:17:26<53:50, 14.68s/it]"
     ]
    },
    {
     "name": "stdout",
     "output_type": "stream",
     "text": [
      "Frame # 1544\n",
      "========\n",
      "Selecting.. ((812, 384), (963, 523))\n",
      "========\n",
      "========\n",
      "Selecting.. ((1106, 384), (1229, 479))\n",
      "========\n"
     ]
    },
    {
     "name": "stderr",
     "output_type": "stream",
     "text": [
      "\r",
      " 83%|████████▎ | 1042/1261 [5:17:41<53:40, 14.71s/it]"
     ]
    },
    {
     "name": "stdout",
     "output_type": "stream",
     "text": [
      "Frame # 1545\n",
      "========\n",
      "Selecting.. ((812, 384), (963, 521))\n",
      "========\n",
      "========\n",
      "Not Selecting.. ((1020, 384), (1099, 475))\n",
      "========\n",
      "========\n",
      "Selecting.. ((1113, 384), (1229, 479))\n",
      "========\n"
     ]
    },
    {
     "name": "stderr",
     "output_type": "stream",
     "text": [
      "\r",
      " 83%|████████▎ | 1043/1261 [5:17:56<53:20, 14.68s/it]"
     ]
    },
    {
     "name": "stdout",
     "output_type": "stream",
     "text": [
      "Frame # 1546\n",
      "========\n",
      "Selecting.. ((812, 384), (1003, 521))\n",
      "========\n",
      "========\n",
      "Selecting.. ((1116, 384), (1230, 479))\n",
      "========\n"
     ]
    },
    {
     "name": "stderr",
     "output_type": "stream",
     "text": [
      "\r",
      " 83%|████████▎ | 1044/1261 [5:18:10<53:02, 14.67s/it]"
     ]
    },
    {
     "name": "stdout",
     "output_type": "stream",
     "text": [
      "Frame # 1547\n",
      "========\n",
      "Selecting.. ((812, 384), (991, 521))\n",
      "========\n",
      "========\n",
      "Selecting.. ((1104, 384), (1230, 479))\n",
      "========\n"
     ]
    },
    {
     "name": "stderr",
     "output_type": "stream",
     "text": [
      "\r",
      " 83%|████████▎ | 1045/1261 [5:18:25<52:50, 14.68s/it]"
     ]
    },
    {
     "name": "stdout",
     "output_type": "stream",
     "text": [
      "Frame # 1548\n",
      "========\n",
      "Selecting.. ((812, 384), (977, 521))\n",
      "========\n",
      "========\n",
      "Selecting.. ((1113, 384), (1229, 479))\n",
      "========\n"
     ]
    },
    {
     "name": "stderr",
     "output_type": "stream",
     "text": [
      "\r",
      " 83%|████████▎ | 1046/1261 [5:18:40<52:44, 14.72s/it]"
     ]
    },
    {
     "name": "stdout",
     "output_type": "stream",
     "text": [
      "Frame # 1549\n",
      "========\n",
      "Selecting.. ((812, 384), (977, 521))\n",
      "========\n",
      "========\n",
      "Selecting.. ((1086, 384), (1231, 479))\n",
      "========\n"
     ]
    },
    {
     "name": "stderr",
     "output_type": "stream",
     "text": [
      "\r",
      " 83%|████████▎ | 1047/1261 [5:18:55<52:31, 14.73s/it]"
     ]
    },
    {
     "name": "stdout",
     "output_type": "stream",
     "text": [
      "Frame # 1550\n",
      "========\n",
      "Selecting.. ((812, 384), (963, 521))\n",
      "========\n",
      "========\n",
      "Selecting.. ((1104, 384), (1231, 479))\n",
      "========\n"
     ]
    },
    {
     "name": "stderr",
     "output_type": "stream",
     "text": [
      "\r",
      " 83%|████████▎ | 1048/1261 [5:19:09<52:13, 14.71s/it]"
     ]
    },
    {
     "name": "stdout",
     "output_type": "stream",
     "text": [
      "Frame # 1551\n",
      "========\n",
      "Selecting.. ((812, 384), (963, 511))\n",
      "========\n",
      "========\n",
      "Selecting.. ((1106, 384), (1239, 479))\n",
      "========\n"
     ]
    },
    {
     "name": "stderr",
     "output_type": "stream",
     "text": [
      "\r",
      " 83%|████████▎ | 1049/1261 [5:19:24<51:55, 14.70s/it]"
     ]
    },
    {
     "name": "stdout",
     "output_type": "stream",
     "text": [
      "Frame # 1552\n",
      "========\n",
      "Selecting.. ((812, 384), (963, 511))\n",
      "========\n",
      "========\n",
      "Selecting.. ((1104, 384), (1231, 479))\n",
      "========\n"
     ]
    },
    {
     "name": "stderr",
     "output_type": "stream",
     "text": [
      "\r",
      " 83%|████████▎ | 1050/1261 [5:19:39<51:36, 14.68s/it]"
     ]
    },
    {
     "name": "stdout",
     "output_type": "stream",
     "text": [
      "Frame # 1553\n",
      "========\n",
      "Selecting.. ((812, 384), (963, 511))\n",
      "========\n",
      "========\n",
      "Selecting.. ((1113, 384), (1243, 479))\n",
      "========\n"
     ]
    },
    {
     "name": "stderr",
     "output_type": "stream",
     "text": [
      "\r",
      " 83%|████████▎ | 1051/1261 [5:19:53<51:17, 14.65s/it]"
     ]
    },
    {
     "name": "stdout",
     "output_type": "stream",
     "text": [
      "Frame # 1554\n",
      "========\n",
      "Selecting.. ((812, 384), (955, 521))\n",
      "========\n",
      "========\n",
      "Selecting.. ((1122, 384), (1231, 479))\n",
      "========\n"
     ]
    },
    {
     "name": "stderr",
     "output_type": "stream",
     "text": [
      "\r",
      " 83%|████████▎ | 1052/1261 [5:20:08<50:58, 14.64s/it]"
     ]
    },
    {
     "name": "stdout",
     "output_type": "stream",
     "text": [
      "Frame # 1555\n",
      "========\n",
      "Selecting.. ((812, 384), (955, 521))\n",
      "========\n",
      "========\n",
      "Selecting.. ((1128, 384), (1231, 479))\n",
      "========\n"
     ]
    },
    {
     "name": "stderr",
     "output_type": "stream",
     "text": [
      "\r",
      " 84%|████████▎ | 1053/1261 [5:20:22<50:38, 14.61s/it]"
     ]
    },
    {
     "name": "stdout",
     "output_type": "stream",
     "text": [
      "Frame # 1556\n",
      "========\n",
      "Selecting.. ((812, 384), (955, 511))\n",
      "========\n",
      "========\n",
      "Selecting.. ((1131, 384), (1231, 479))\n",
      "========\n"
     ]
    },
    {
     "name": "stderr",
     "output_type": "stream",
     "text": [
      "\r",
      " 84%|████████▎ | 1054/1261 [5:20:37<50:25, 14.62s/it]"
     ]
    },
    {
     "name": "stdout",
     "output_type": "stream",
     "text": [
      "Frame # 1557\n",
      "========\n",
      "Selecting.. ((812, 384), (955, 521))\n",
      "========\n",
      "========\n",
      "Selecting.. ((1131, 384), (1239, 479))\n",
      "========\n"
     ]
    },
    {
     "name": "stderr",
     "output_type": "stream",
     "text": [
      "\r",
      " 84%|████████▎ | 1055/1261 [5:20:52<50:19, 14.66s/it]"
     ]
    },
    {
     "name": "stdout",
     "output_type": "stream",
     "text": [
      "Frame # 1558\n",
      "========\n",
      "Selecting.. ((812, 384), (963, 521))\n",
      "========\n",
      "========\n",
      "Selecting.. ((1128, 384), (1239, 479))\n",
      "========\n"
     ]
    },
    {
     "name": "stderr",
     "output_type": "stream",
     "text": [
      "\r",
      " 84%|████████▎ | 1056/1261 [5:21:06<50:02, 14.65s/it]"
     ]
    },
    {
     "name": "stdout",
     "output_type": "stream",
     "text": [
      "Frame # 1559\n",
      "========\n",
      "Selecting.. ((812, 384), (963, 521))\n",
      "========\n",
      "========\n",
      "Selecting.. ((1134, 384), (1239, 479))\n",
      "========\n"
     ]
    },
    {
     "name": "stderr",
     "output_type": "stream",
     "text": [
      "\r",
      " 84%|████████▍ | 1057/1261 [5:21:21<49:45, 14.64s/it]"
     ]
    },
    {
     "name": "stdout",
     "output_type": "stream",
     "text": [
      "Frame # 1560\n",
      "========\n",
      "Selecting.. ((812, 384), (963, 521))\n",
      "========\n",
      "========\n",
      "Selecting.. ((1128, 384), (1243, 479))\n",
      "========\n"
     ]
    },
    {
     "name": "stderr",
     "output_type": "stream",
     "text": [
      "\r",
      " 84%|████████▍ | 1058/1261 [5:21:36<49:34, 14.65s/it]"
     ]
    },
    {
     "name": "stdout",
     "output_type": "stream",
     "text": [
      "Frame # 1561\n",
      "========\n",
      "Selecting.. ((812, 384), (955, 521))\n",
      "========\n",
      "========\n",
      "Not Selecting.. ((1005, 384), (1075, 463))\n",
      "========\n",
      "========\n",
      "Selecting.. ((1122, 384), (1243, 479))\n",
      "========\n"
     ]
    },
    {
     "name": "stderr",
     "output_type": "stream",
     "text": [
      "\r",
      " 84%|████████▍ | 1059/1261 [5:21:51<49:26, 14.68s/it]"
     ]
    },
    {
     "name": "stdout",
     "output_type": "stream",
     "text": [
      "Frame # 1562\n",
      "========\n",
      "Selecting.. ((812, 384), (955, 521))\n",
      "========\n",
      "========\n",
      "Selecting.. ((1120, 384), (1243, 479))\n",
      "========\n"
     ]
    },
    {
     "name": "stderr",
     "output_type": "stream",
     "text": [
      "\r",
      " 84%|████████▍ | 1060/1261 [5:22:05<49:15, 14.70s/it]"
     ]
    },
    {
     "name": "stdout",
     "output_type": "stream",
     "text": [
      "Frame # 1563\n",
      "========\n",
      "Selecting.. ((812, 384), (955, 521))\n",
      "========\n",
      "========\n",
      "Selecting.. ((1122, 384), (1243, 479))\n",
      "========\n"
     ]
    },
    {
     "name": "stderr",
     "output_type": "stream",
     "text": [
      "\r",
      " 84%|████████▍ | 1061/1261 [5:22:20<48:59, 14.70s/it]"
     ]
    },
    {
     "name": "stdout",
     "output_type": "stream",
     "text": [
      "Frame # 1564\n",
      "========\n",
      "Selecting.. ((804, 384), (955, 523))\n",
      "========\n",
      "========\n",
      "Selecting.. ((1128, 384), (1243, 479))\n",
      "========\n"
     ]
    },
    {
     "name": "stderr",
     "output_type": "stream",
     "text": [
      "\r",
      " 84%|████████▍ | 1062/1261 [5:22:35<48:45, 14.70s/it]"
     ]
    },
    {
     "name": "stdout",
     "output_type": "stream",
     "text": [
      "Frame # 1565\n",
      "========\n",
      "Selecting.. ((804, 384), (949, 521))\n",
      "========\n",
      "========\n",
      "Selecting.. ((1085, 384), (1158, 463))\n",
      "========\n",
      "========\n",
      "Selecting.. ((1128, 384), (1255, 479))\n",
      "========\n"
     ]
    },
    {
     "name": "stderr",
     "output_type": "stream",
     "text": [
      "\r",
      " 84%|████████▍ | 1063/1261 [5:22:49<48:34, 14.72s/it]"
     ]
    },
    {
     "name": "stdout",
     "output_type": "stream",
     "text": [
      "Frame # 1566\n",
      "========\n",
      "Selecting.. ((812, 384), (949, 521))\n",
      "========\n",
      "========\n",
      "Selecting.. ((1140, 384), (1248, 479))\n",
      "========\n"
     ]
    },
    {
     "name": "stderr",
     "output_type": "stream",
     "text": [
      "\r",
      " 84%|████████▍ | 1064/1261 [5:23:04<48:24, 14.75s/it]"
     ]
    },
    {
     "name": "stdout",
     "output_type": "stream",
     "text": [
      "Frame # 1567\n",
      "========\n",
      "Selecting.. ((812, 384), (949, 521))\n",
      "========\n",
      "========\n",
      "Selecting.. ((1140, 384), (1248, 479))\n",
      "========\n"
     ]
    },
    {
     "name": "stderr",
     "output_type": "stream",
     "text": [
      "\r",
      " 84%|████████▍ | 1065/1261 [5:23:19<48:09, 14.74s/it]"
     ]
    },
    {
     "name": "stdout",
     "output_type": "stream",
     "text": [
      "Frame # 1568\n",
      "========\n",
      "Selecting.. ((804, 384), (949, 511))\n",
      "========\n",
      "========\n",
      "Selecting.. ((1140, 384), (1248, 479))\n",
      "========\n"
     ]
    },
    {
     "name": "stderr",
     "output_type": "stream",
     "text": [
      "\r",
      " 85%|████████▍ | 1066/1261 [5:23:34<47:57, 14.75s/it]"
     ]
    },
    {
     "name": "stdout",
     "output_type": "stream",
     "text": [
      "Frame # 1569\n",
      "========\n",
      "Selecting.. ((804, 384), (949, 521))\n",
      "========\n",
      "========\n",
      "Selecting.. ((1140, 384), (1243, 475))\n",
      "========\n"
     ]
    },
    {
     "name": "stderr",
     "output_type": "stream",
     "text": [
      "\r",
      " 85%|████████▍ | 1067/1261 [5:23:49<47:46, 14.78s/it]"
     ]
    },
    {
     "name": "stdout",
     "output_type": "stream",
     "text": [
      "Frame # 1570\n",
      "========\n",
      "Selecting.. ((804, 384), (955, 521))\n",
      "========\n",
      "========\n",
      "Selecting.. ((1140, 384), (1248, 479))\n",
      "========\n"
     ]
    },
    {
     "name": "stderr",
     "output_type": "stream",
     "text": [
      "\r",
      " 85%|████████▍ | 1068/1261 [5:24:03<47:30, 14.77s/it]"
     ]
    },
    {
     "name": "stdout",
     "output_type": "stream",
     "text": [
      "Frame # 1571\n",
      "========\n",
      "Selecting.. ((804, 384), (955, 511))\n",
      "========\n",
      "========\n",
      "Selecting.. ((1134, 384), (1248, 479))\n",
      "========\n"
     ]
    },
    {
     "name": "stderr",
     "output_type": "stream",
     "text": [
      "\r",
      " 85%|████████▍ | 1069/1261 [5:24:18<47:16, 14.77s/it]"
     ]
    },
    {
     "name": "stdout",
     "output_type": "stream",
     "text": [
      "Frame # 1572\n",
      "========\n",
      "Selecting.. ((804, 384), (949, 511))\n",
      "========\n",
      "========\n",
      "Selecting.. ((1140, 384), (1255, 479))\n",
      "========\n"
     ]
    },
    {
     "name": "stderr",
     "output_type": "stream",
     "text": [
      "\r",
      " 85%|████████▍ | 1070/1261 [5:24:33<47:02, 14.78s/it]"
     ]
    },
    {
     "name": "stdout",
     "output_type": "stream",
     "text": [
      "Frame # 1573\n",
      "========\n",
      "Selecting.. ((804, 384), (949, 521))\n",
      "========\n",
      "========\n",
      "Selecting.. ((1140, 384), (1248, 479))\n",
      "========\n"
     ]
    },
    {
     "name": "stderr",
     "output_type": "stream",
     "text": [
      "\r",
      " 85%|████████▍ | 1071/1261 [5:24:48<46:49, 14.79s/it]"
     ]
    },
    {
     "name": "stdout",
     "output_type": "stream",
     "text": [
      "Frame # 1574\n",
      "========\n",
      "Selecting.. ((804, 384), (949, 511))\n",
      "========\n",
      "========\n",
      "Selecting.. ((1128, 384), (1248, 479))\n",
      "========\n"
     ]
    },
    {
     "name": "stderr",
     "output_type": "stream",
     "text": [
      "\r",
      " 85%|████████▌ | 1072/1261 [5:25:03<46:38, 14.81s/it]"
     ]
    },
    {
     "name": "stdout",
     "output_type": "stream",
     "text": [
      "Frame # 1575\n",
      "========\n",
      "Selecting.. ((804, 384), (949, 521))\n",
      "========\n",
      "========\n",
      "Selecting.. ((1113, 384), (1255, 479))\n",
      "========\n"
     ]
    },
    {
     "name": "stderr",
     "output_type": "stream",
     "text": [
      "\r",
      " 85%|████████▌ | 1073/1261 [5:25:17<46:22, 14.80s/it]"
     ]
    },
    {
     "name": "stdout",
     "output_type": "stream",
     "text": [
      "Frame # 1576\n",
      "========\n",
      "Selecting.. ((804, 384), (949, 521))\n",
      "========\n",
      "========\n",
      "Selecting.. ((1131, 384), (1255, 479))\n",
      "========\n"
     ]
    },
    {
     "name": "stderr",
     "output_type": "stream",
     "text": [
      "\r",
      " 85%|████████▌ | 1074/1261 [5:25:32<46:07, 14.80s/it]"
     ]
    },
    {
     "name": "stdout",
     "output_type": "stream",
     "text": [
      "Frame # 1577\n",
      "========\n",
      "Selecting.. ((804, 384), (949, 521))\n",
      "========\n",
      "========\n",
      "Selecting.. ((1134, 384), (1257, 479))\n",
      "========\n"
     ]
    },
    {
     "name": "stderr",
     "output_type": "stream",
     "text": [
      "\r",
      " 85%|████████▌ | 1075/1261 [5:25:47<45:51, 14.79s/it]"
     ]
    },
    {
     "name": "stdout",
     "output_type": "stream",
     "text": [
      "Frame # 1578\n",
      "========\n",
      "Selecting.. ((804, 384), (949, 521))\n",
      "========\n",
      "========\n",
      "Selecting.. ((1134, 384), (1257, 479))\n",
      "========\n"
     ]
    },
    {
     "name": "stderr",
     "output_type": "stream",
     "text": [
      "\r",
      " 85%|████████▌ | 1076/1261 [5:26:02<45:35, 14.79s/it]"
     ]
    },
    {
     "name": "stdout",
     "output_type": "stream",
     "text": [
      "Frame # 1579\n",
      "========\n",
      "Selecting.. ((804, 384), (949, 521))\n",
      "========\n",
      "========\n",
      "Selecting.. ((1140, 384), (1257, 479))\n",
      "========\n"
     ]
    },
    {
     "name": "stderr",
     "output_type": "stream",
     "text": [
      "\r",
      " 85%|████████▌ | 1077/1261 [5:26:16<45:22, 14.80s/it]"
     ]
    },
    {
     "name": "stdout",
     "output_type": "stream",
     "text": [
      "Frame # 1580\n",
      "========\n",
      "Selecting.. ((804, 384), (949, 521))\n",
      "========\n",
      "========\n",
      "Selecting.. ((1148, 384), (1266, 479))\n",
      "========\n"
     ]
    },
    {
     "name": "stderr",
     "output_type": "stream",
     "text": [
      "\r",
      " 85%|████████▌ | 1078/1261 [5:26:31<45:08, 14.80s/it]"
     ]
    },
    {
     "name": "stdout",
     "output_type": "stream",
     "text": [
      "Frame # 1581\n",
      "========\n",
      "Selecting.. ((804, 384), (949, 521))\n",
      "========\n",
      "========\n",
      "Selecting.. ((1140, 384), (1257, 479))\n",
      "========\n"
     ]
    },
    {
     "name": "stderr",
     "output_type": "stream",
     "text": [
      "\r",
      " 86%|████████▌ | 1079/1261 [5:26:46<44:54, 14.81s/it]"
     ]
    },
    {
     "name": "stdout",
     "output_type": "stream",
     "text": [
      "Frame # 1582\n",
      "========\n",
      "Selecting.. ((804, 384), (951, 521))\n",
      "========\n",
      "========\n",
      "Selecting.. ((1140, 384), (1266, 479))\n",
      "========\n"
     ]
    },
    {
     "name": "stderr",
     "output_type": "stream",
     "text": [
      "\r",
      " 86%|████████▌ | 1080/1261 [5:27:01<44:46, 14.84s/it]"
     ]
    },
    {
     "name": "stdout",
     "output_type": "stream",
     "text": [
      "Frame # 1583\n",
      "========\n",
      "Selecting.. ((804, 384), (949, 521))\n",
      "========\n",
      "========\n",
      "Selecting.. ((1113, 384), (1266, 479))\n",
      "========\n"
     ]
    },
    {
     "name": "stderr",
     "output_type": "stream",
     "text": [
      "\r",
      " 86%|████████▌ | 1081/1261 [5:27:16<44:21, 14.79s/it]"
     ]
    },
    {
     "name": "stdout",
     "output_type": "stream",
     "text": [
      "Frame # 1584\n",
      "========\n",
      "Selecting.. ((804, 384), (949, 511))\n",
      "========\n",
      "========\n",
      "Selecting.. ((1149, 384), (1266, 479))\n",
      "========\n"
     ]
    },
    {
     "name": "stderr",
     "output_type": "stream",
     "text": [
      "\r",
      " 86%|████████▌ | 1082/1261 [5:27:30<43:57, 14.73s/it]"
     ]
    },
    {
     "name": "stdout",
     "output_type": "stream",
     "text": [
      "Frame # 1585\n",
      "========\n",
      "Selecting.. ((804, 384), (949, 511))\n",
      "========\n",
      "========\n",
      "Selecting.. ((1148, 384), (1266, 479))\n",
      "========\n"
     ]
    },
    {
     "name": "stderr",
     "output_type": "stream",
     "text": [
      "\r",
      " 86%|████████▌ | 1083/1261 [5:27:45<43:34, 14.69s/it]"
     ]
    },
    {
     "name": "stdout",
     "output_type": "stream",
     "text": [
      "Frame # 1586\n",
      "========\n",
      "Selecting.. ((804, 384), (949, 511))\n",
      "========\n",
      "========\n",
      "Selecting.. ((1148, 384), (1266, 479))\n",
      "========\n"
     ]
    },
    {
     "name": "stderr",
     "output_type": "stream",
     "text": [
      "\r",
      " 86%|████████▌ | 1084/1261 [5:28:00<43:17, 14.68s/it]"
     ]
    },
    {
     "name": "stdout",
     "output_type": "stream",
     "text": [
      "Frame # 1587\n",
      "========\n",
      "Selecting.. ((804, 384), (949, 511))\n",
      "========\n",
      "========\n",
      "Selecting.. ((1149, 384), (1271, 479))\n",
      "========\n"
     ]
    },
    {
     "name": "stderr",
     "output_type": "stream",
     "text": [
      "\r",
      " 86%|████████▌ | 1085/1261 [5:28:14<43:07, 14.70s/it]"
     ]
    },
    {
     "name": "stdout",
     "output_type": "stream",
     "text": [
      "Frame # 1588\n",
      "========\n",
      "Selecting.. ((804, 384), (949, 511))\n",
      "========\n",
      "========\n",
      "Selecting.. ((1149, 384), (1271, 479))\n",
      "========\n"
     ]
    },
    {
     "name": "stderr",
     "output_type": "stream",
     "text": [
      "\r",
      " 86%|████████▌ | 1086/1261 [5:28:29<42:56, 14.72s/it]"
     ]
    },
    {
     "name": "stdout",
     "output_type": "stream",
     "text": [
      "Frame # 1589\n",
      "========\n",
      "Selecting.. ((804, 384), (949, 521))\n",
      "========\n",
      "========\n",
      "Selecting.. ((1149, 384), (1271, 479))\n",
      "========\n"
     ]
    },
    {
     "name": "stderr",
     "output_type": "stream",
     "text": [
      "\r",
      " 86%|████████▌ | 1087/1261 [5:28:44<42:41, 14.72s/it]"
     ]
    },
    {
     "name": "stdout",
     "output_type": "stream",
     "text": [
      "Frame # 1590\n",
      "========\n",
      "Selecting.. ((804, 384), (949, 511))\n",
      "========\n",
      "========\n",
      "Selecting.. ((1152, 384), (1271, 479))\n",
      "========\n"
     ]
    },
    {
     "name": "stderr",
     "output_type": "stream",
     "text": [
      "\r",
      " 86%|████████▋ | 1088/1261 [5:28:59<42:30, 14.74s/it]"
     ]
    },
    {
     "name": "stdout",
     "output_type": "stream",
     "text": [
      "Frame # 1591\n",
      "========\n",
      "Selecting.. ((804, 384), (949, 511))\n",
      "========\n",
      "========\n",
      "Selecting.. ((1148, 384), (1271, 479))\n",
      "========\n"
     ]
    },
    {
     "name": "stderr",
     "output_type": "stream",
     "text": [
      "\r",
      " 86%|████████▋ | 1089/1261 [5:29:13<42:15, 14.74s/it]"
     ]
    },
    {
     "name": "stdout",
     "output_type": "stream",
     "text": [
      "Frame # 1592\n",
      "========\n",
      "Selecting.. ((804, 384), (949, 511))\n",
      "========\n",
      "========\n",
      "Selecting.. ((1149, 384), (1275, 479))\n",
      "========\n"
     ]
    },
    {
     "name": "stderr",
     "output_type": "stream",
     "text": [
      "\r",
      " 86%|████████▋ | 1090/1261 [5:29:28<42:06, 14.77s/it]"
     ]
    },
    {
     "name": "stdout",
     "output_type": "stream",
     "text": [
      "Frame # 1593\n",
      "========\n",
      "Selecting.. ((804, 384), (949, 521))\n",
      "========\n",
      "========\n",
      "Selecting.. ((1149, 384), (1275, 479))\n",
      "========\n"
     ]
    },
    {
     "name": "stderr",
     "output_type": "stream",
     "text": [
      "\r",
      " 87%|████████▋ | 1091/1261 [5:29:43<41:52, 14.78s/it]"
     ]
    },
    {
     "name": "stdout",
     "output_type": "stream",
     "text": [
      "Frame # 1594\n",
      "========\n",
      "Selecting.. ((804, 384), (949, 511))\n",
      "========\n",
      "========\n",
      "Selecting.. ((1149, 384), (1275, 479))\n",
      "========\n"
     ]
    },
    {
     "name": "stderr",
     "output_type": "stream",
     "text": [
      "\r",
      " 87%|████████▋ | 1092/1261 [5:29:58<41:38, 14.78s/it]"
     ]
    },
    {
     "name": "stdout",
     "output_type": "stream",
     "text": [
      "Frame # 1595\n",
      "========\n",
      "Selecting.. ((804, 384), (949, 521))\n",
      "========\n",
      "========\n",
      "Selecting.. ((1149, 384), (1271, 479))\n",
      "========\n"
     ]
    },
    {
     "name": "stderr",
     "output_type": "stream",
     "text": [
      "\r",
      " 87%|████████▋ | 1093/1261 [5:30:13<41:22, 14.78s/it]"
     ]
    },
    {
     "name": "stdout",
     "output_type": "stream",
     "text": [
      "Frame # 1596\n",
      "========\n",
      "Selecting.. ((798, 384), (949, 511))\n",
      "========\n",
      "========\n",
      "Selecting.. ((1149, 384), (1271, 479))\n",
      "========\n"
     ]
    },
    {
     "name": "stderr",
     "output_type": "stream",
     "text": [
      "\r",
      " 87%|████████▋ | 1094/1261 [5:30:27<41:09, 14.79s/it]"
     ]
    },
    {
     "name": "stdout",
     "output_type": "stream",
     "text": [
      "Frame # 1597\n",
      "========\n",
      "Selecting.. ((798, 384), (949, 507))\n",
      "========\n",
      "========\n",
      "Selecting.. ((1152, 384), (1271, 479))\n",
      "========\n"
     ]
    },
    {
     "name": "stderr",
     "output_type": "stream",
     "text": [
      "\r",
      " 87%|████████▋ | 1095/1261 [5:30:42<40:56, 14.80s/it]"
     ]
    },
    {
     "name": "stdout",
     "output_type": "stream",
     "text": [
      "Frame # 1598\n",
      "========\n",
      "Selecting.. ((798, 384), (943, 511))\n",
      "========\n",
      "========\n",
      "Selecting.. ((1152, 384), (1275, 479))\n",
      "========\n"
     ]
    },
    {
     "name": "stderr",
     "output_type": "stream",
     "text": [
      "\r",
      " 87%|████████▋ | 1096/1261 [5:30:57<40:43, 14.81s/it]"
     ]
    },
    {
     "name": "stdout",
     "output_type": "stream",
     "text": [
      "Frame # 1599\n",
      "========\n",
      "Selecting.. ((798, 384), (943, 521))\n",
      "========\n",
      "========\n",
      "Selecting.. ((1149, 384), (1275, 479))\n",
      "========\n"
     ]
    },
    {
     "name": "stderr",
     "output_type": "stream",
     "text": [
      "\r",
      " 87%|████████▋ | 1097/1261 [5:31:12<40:27, 14.80s/it]"
     ]
    },
    {
     "name": "stdout",
     "output_type": "stream",
     "text": [
      "Frame # 1600\n",
      "========\n",
      "Selecting.. ((798, 384), (935, 521))\n",
      "========\n",
      "========\n",
      "Selecting.. ((1152, 384), (1275, 479))\n",
      "========\n"
     ]
    },
    {
     "name": "stderr",
     "output_type": "stream",
     "text": [
      "\r",
      " 87%|████████▋ | 1098/1261 [5:31:27<40:10, 14.79s/it]"
     ]
    },
    {
     "name": "stdout",
     "output_type": "stream",
     "text": [
      "Frame # 1601\n",
      "========\n",
      "Selecting.. ((798, 384), (935, 521))\n",
      "========\n",
      "========\n",
      "Selecting.. ((1152, 384), (1275, 479))\n",
      "========\n"
     ]
    },
    {
     "name": "stderr",
     "output_type": "stream",
     "text": [
      "\r",
      " 87%|████████▋ | 1099/1261 [5:31:41<39:56, 14.79s/it]"
     ]
    },
    {
     "name": "stdout",
     "output_type": "stream",
     "text": [
      "Frame # 1602\n",
      "========\n",
      "Selecting.. ((804, 384), (943, 511))\n",
      "========\n",
      "========\n",
      "Selecting.. ((1158, 384), (1275, 479))\n",
      "========\n"
     ]
    },
    {
     "name": "stderr",
     "output_type": "stream",
     "text": [
      "\r",
      " 87%|████████▋ | 1100/1261 [5:31:56<39:38, 14.77s/it]"
     ]
    },
    {
     "name": "stdout",
     "output_type": "stream",
     "text": [
      "Frame # 1603\n",
      "========\n",
      "Selecting.. ((798, 384), (943, 511))\n",
      "========\n",
      "========\n",
      "Selecting.. ((1158, 384), (1275, 479))\n",
      "========\n"
     ]
    },
    {
     "name": "stderr",
     "output_type": "stream",
     "text": [
      "\r",
      " 87%|████████▋ | 1101/1261 [5:32:11<39:21, 14.76s/it]"
     ]
    },
    {
     "name": "stdout",
     "output_type": "stream",
     "text": [
      "Frame # 1604\n",
      "========\n",
      "Selecting.. ((798, 384), (935, 511))\n",
      "========\n",
      "========\n",
      "Selecting.. ((1149, 384), (1275, 479))\n",
      "========\n"
     ]
    },
    {
     "name": "stderr",
     "output_type": "stream",
     "text": [
      "\r",
      " 87%|████████▋ | 1102/1261 [5:32:26<39:05, 14.75s/it]"
     ]
    },
    {
     "name": "stdout",
     "output_type": "stream",
     "text": [
      "Frame # 1605\n",
      "========\n",
      "Selecting.. ((798, 384), (935, 507))\n",
      "========\n",
      "========\n",
      "Selecting.. ((1164, 384), (1275, 475))\n",
      "========\n"
     ]
    },
    {
     "name": "stderr",
     "output_type": "stream",
     "text": [
      "\r",
      " 87%|████████▋ | 1103/1261 [5:32:41<39:01, 14.82s/it]"
     ]
    },
    {
     "name": "stdout",
     "output_type": "stream",
     "text": [
      "Frame # 1606\n",
      "========\n",
      "Selecting.. ((798, 384), (943, 507))\n",
      "========\n",
      "========\n",
      "Selecting.. ((1167, 384), (1275, 475))\n",
      "========\n"
     ]
    },
    {
     "name": "stderr",
     "output_type": "stream",
     "text": [
      "\r",
      " 88%|████████▊ | 1104/1261 [5:32:55<38:54, 14.87s/it]"
     ]
    },
    {
     "name": "stdout",
     "output_type": "stream",
     "text": [
      "Frame # 1607\n",
      "========\n",
      "Selecting.. ((798, 384), (935, 507))\n",
      "========\n",
      "========\n",
      "Selecting.. ((1167, 384), (1275, 475))\n",
      "========\n"
     ]
    },
    {
     "name": "stderr",
     "output_type": "stream",
     "text": [
      "\r",
      " 88%|████████▊ | 1105/1261 [5:33:10<38:34, 14.84s/it]"
     ]
    },
    {
     "name": "stdout",
     "output_type": "stream",
     "text": [
      "Frame # 1608\n",
      "========\n",
      "Selecting.. ((798, 384), (949, 507))\n",
      "========\n",
      "========\n",
      "Selecting.. ((1167, 384), (1275, 475))\n",
      "========\n"
     ]
    },
    {
     "name": "stderr",
     "output_type": "stream",
     "text": [
      "\r",
      " 88%|████████▊ | 1106/1261 [5:33:25<38:15, 14.81s/it]"
     ]
    },
    {
     "name": "stdout",
     "output_type": "stream",
     "text": [
      "Frame # 1609\n",
      "========\n",
      "Selecting.. ((798, 384), (943, 511))\n",
      "========\n",
      "========\n",
      "Selecting.. ((1167, 384), (1275, 475))\n",
      "========\n"
     ]
    },
    {
     "name": "stderr",
     "output_type": "stream",
     "text": [
      "\r",
      " 88%|████████▊ | 1107/1261 [5:33:40<38:07, 14.86s/it]"
     ]
    },
    {
     "name": "stdout",
     "output_type": "stream",
     "text": [
      "Frame # 1610\n",
      "========\n",
      "Selecting.. ((798, 384), (949, 507))\n",
      "========\n",
      "========\n",
      "Selecting.. ((1167, 384), (1275, 475))\n",
      "========\n"
     ]
    },
    {
     "name": "stderr",
     "output_type": "stream",
     "text": [
      "\r",
      " 88%|████████▊ | 1108/1261 [5:33:55<37:53, 14.86s/it]"
     ]
    },
    {
     "name": "stdout",
     "output_type": "stream",
     "text": [
      "Frame # 1611\n",
      "========\n",
      "Selecting.. ((798, 384), (943, 507))\n",
      "========\n",
      "========\n",
      "Selecting.. ((1164, 384), (1275, 475))\n",
      "========\n"
     ]
    },
    {
     "name": "stderr",
     "output_type": "stream",
     "text": [
      "\r",
      " 88%|████████▊ | 1109/1261 [5:34:10<37:34, 14.83s/it]"
     ]
    },
    {
     "name": "stdout",
     "output_type": "stream",
     "text": [
      "Frame # 1612\n",
      "========\n",
      "Selecting.. ((798, 384), (935, 507))\n",
      "========\n",
      "========\n",
      "Selecting.. ((1164, 384), (1275, 475))\n",
      "========\n"
     ]
    },
    {
     "name": "stderr",
     "output_type": "stream",
     "text": [
      "\r",
      " 88%|████████▊ | 1110/1261 [5:34:24<37:14, 14.80s/it]"
     ]
    },
    {
     "name": "stdout",
     "output_type": "stream",
     "text": [
      "Frame # 1613\n",
      "========\n",
      "Selecting.. ((792, 384), (935, 507))\n",
      "========\n",
      "========\n",
      "Selecting.. ((1167, 384), (1275, 475))\n",
      "========\n"
     ]
    },
    {
     "name": "stderr",
     "output_type": "stream",
     "text": [
      "\r",
      " 88%|████████▊ | 1111/1261 [5:34:39<36:56, 14.77s/it]"
     ]
    },
    {
     "name": "stdout",
     "output_type": "stream",
     "text": [
      "Frame # 1614\n",
      "========\n",
      "Selecting.. ((798, 384), (935, 511))\n",
      "========\n",
      "========\n",
      "Selecting.. ((1176, 384), (1275, 475))\n",
      "========\n"
     ]
    },
    {
     "name": "stderr",
     "output_type": "stream",
     "text": [
      "\r",
      " 88%|████████▊ | 1112/1261 [5:34:54<36:42, 14.78s/it]"
     ]
    },
    {
     "name": "stdout",
     "output_type": "stream",
     "text": [
      "Frame # 1615\n",
      "========\n",
      "Selecting.. ((798, 384), (935, 511))\n",
      "========\n",
      "========\n",
      "Selecting.. ((1176, 384), (1275, 475))\n",
      "========\n"
     ]
    },
    {
     "name": "stderr",
     "output_type": "stream",
     "text": [
      "\r",
      " 88%|████████▊ | 1113/1261 [5:35:09<36:25, 14.76s/it]"
     ]
    },
    {
     "name": "stdout",
     "output_type": "stream",
     "text": [
      "Frame # 1616\n",
      "========\n",
      "Selecting.. ((798, 384), (935, 511))\n",
      "========\n",
      "========\n",
      "Selecting.. ((1176, 384), (1275, 475))\n",
      "========\n"
     ]
    },
    {
     "name": "stderr",
     "output_type": "stream",
     "text": [
      "\r",
      " 88%|████████▊ | 1114/1261 [5:35:23<36:07, 14.75s/it]"
     ]
    },
    {
     "name": "stdout",
     "output_type": "stream",
     "text": [
      "Frame # 1617\n",
      "========\n",
      "Selecting.. ((798, 384), (949, 511))\n",
      "========\n",
      "========\n",
      "Selecting.. ((1152, 384), (1275, 475))\n",
      "========\n"
     ]
    },
    {
     "name": "stderr",
     "output_type": "stream",
     "text": [
      "\r",
      " 88%|████████▊ | 1115/1261 [5:35:38<35:52, 14.74s/it]"
     ]
    },
    {
     "name": "stdout",
     "output_type": "stream",
     "text": [
      "Frame # 1618\n",
      "========\n",
      "Selecting.. ((798, 384), (949, 511))\n",
      "========\n",
      "========\n",
      "Selecting.. ((1164, 384), (1275, 475))\n",
      "========\n"
     ]
    },
    {
     "name": "stderr",
     "output_type": "stream",
     "text": [
      "\r",
      " 89%|████████▊ | 1116/1261 [5:35:53<35:42, 14.78s/it]"
     ]
    },
    {
     "name": "stdout",
     "output_type": "stream",
     "text": [
      "Frame # 1619\n",
      "========\n",
      "Selecting.. ((798, 384), (943, 511))\n",
      "========\n",
      "========\n",
      "Selecting.. ((1167, 384), (1275, 475))\n",
      "========\n"
     ]
    },
    {
     "name": "stderr",
     "output_type": "stream",
     "text": [
      "\r",
      " 89%|████████▊ | 1117/1261 [5:36:08<35:29, 14.79s/it]"
     ]
    },
    {
     "name": "stdout",
     "output_type": "stream",
     "text": [
      "Frame # 1620\n",
      "========\n",
      "Selecting.. ((798, 384), (949, 511))\n",
      "========\n",
      "========\n",
      "Selecting.. ((1164, 384), (1275, 475))\n",
      "========\n"
     ]
    },
    {
     "name": "stderr",
     "output_type": "stream",
     "text": [
      "\r",
      " 89%|████████▊ | 1118/1261 [5:36:23<35:16, 14.80s/it]"
     ]
    },
    {
     "name": "stdout",
     "output_type": "stream",
     "text": [
      "Frame # 1621\n",
      "========\n",
      "Selecting.. ((798, 384), (955, 521))\n",
      "========\n",
      "========\n",
      "Selecting.. ((1167, 384), (1275, 475))\n",
      "========\n"
     ]
    },
    {
     "name": "stderr",
     "output_type": "stream",
     "text": [
      "\r",
      " 89%|████████▊ | 1119/1261 [5:36:37<35:00, 14.79s/it]"
     ]
    },
    {
     "name": "stdout",
     "output_type": "stream",
     "text": [
      "Frame # 1622\n",
      "========\n",
      "Selecting.. ((798, 384), (977, 521))\n",
      "========\n",
      "========\n",
      "Selecting.. ((1176, 384), (1275, 475))\n",
      "========\n"
     ]
    },
    {
     "name": "stderr",
     "output_type": "stream",
     "text": [
      "\r",
      " 89%|████████▉ | 1120/1261 [5:36:52<34:50, 14.83s/it]"
     ]
    },
    {
     "name": "stdout",
     "output_type": "stream",
     "text": [
      "Frame # 1623\n",
      "========\n",
      "Selecting.. ((792, 384), (963, 507))\n",
      "========\n",
      "========\n",
      "Selecting.. ((1167, 384), (1275, 475))\n",
      "========\n"
     ]
    },
    {
     "name": "stderr",
     "output_type": "stream",
     "text": [
      "\r",
      " 89%|████████▉ | 1121/1261 [5:37:07<34:37, 14.84s/it]"
     ]
    },
    {
     "name": "stdout",
     "output_type": "stream",
     "text": [
      "Frame # 1624\n",
      "========\n",
      "Selecting.. ((792, 384), (963, 507))\n",
      "========\n",
      "========\n",
      "Selecting.. ((1176, 384), (1275, 475))\n",
      "========\n"
     ]
    },
    {
     "name": "stderr",
     "output_type": "stream",
     "text": [
      "\r",
      " 89%|████████▉ | 1122/1261 [5:37:22<34:17, 14.80s/it]"
     ]
    },
    {
     "name": "stdout",
     "output_type": "stream",
     "text": [
      "Frame # 1625\n",
      "========\n",
      "Selecting.. ((798, 384), (967, 507))\n",
      "========\n",
      "========\n",
      "Selecting.. ((1176, 384), (1275, 475))\n",
      "========\n"
     ]
    },
    {
     "name": "stderr",
     "output_type": "stream",
     "text": [
      "\r",
      " 89%|████████▉ | 1123/1261 [5:37:36<33:59, 14.78s/it]"
     ]
    },
    {
     "name": "stdout",
     "output_type": "stream",
     "text": [
      "Frame # 1626\n",
      "========\n",
      "Selecting.. ((798, 384), (979, 507))\n",
      "========\n",
      "========\n",
      "Selecting.. ((1185, 384), (1275, 463))\n",
      "========\n"
     ]
    },
    {
     "name": "stderr",
     "output_type": "stream",
     "text": [
      "\r",
      " 89%|████████▉ | 1124/1261 [5:37:51<33:41, 14.76s/it]"
     ]
    },
    {
     "name": "stdout",
     "output_type": "stream",
     "text": [
      "Frame # 1627\n",
      "========\n",
      "Selecting.. ((792, 384), (977, 507))\n",
      "========\n",
      "========\n",
      "Selecting.. ((1185, 384), (1275, 475))\n",
      "========\n"
     ]
    },
    {
     "name": "stderr",
     "output_type": "stream",
     "text": [
      "\r",
      " 89%|████████▉ | 1125/1261 [5:38:06<33:29, 14.77s/it]"
     ]
    },
    {
     "name": "stdout",
     "output_type": "stream",
     "text": [
      "Frame # 1628\n",
      "========\n",
      "Selecting.. ((792, 384), (991, 507))\n",
      "========\n",
      "========\n",
      "Selecting.. ((1194, 384), (1275, 463))\n",
      "========\n"
     ]
    },
    {
     "name": "stderr",
     "output_type": "stream",
     "text": [
      "\r",
      " 89%|████████▉ | 1126/1261 [5:38:21<33:11, 14.75s/it]"
     ]
    },
    {
     "name": "stdout",
     "output_type": "stream",
     "text": [
      "Frame # 1629\n",
      "========\n",
      "Selecting.. ((792, 384), (977, 507))\n",
      "========\n",
      "========\n",
      "Selecting.. ((1185, 384), (1275, 463))\n",
      "========\n"
     ]
    },
    {
     "name": "stderr",
     "output_type": "stream",
     "text": [
      "\r",
      " 89%|████████▉ | 1127/1261 [5:38:36<32:59, 14.77s/it]"
     ]
    },
    {
     "name": "stdout",
     "output_type": "stream",
     "text": [
      "Frame # 1630\n",
      "========\n",
      "Selecting.. ((792, 384), (991, 507))\n",
      "========\n",
      "========\n",
      "Selecting.. ((1176, 384), (1275, 463))\n",
      "========\n",
      "========\n",
      "Not Selecting.. ((1078, 432), (1159, 511))\n",
      "========\n"
     ]
    },
    {
     "name": "stderr",
     "output_type": "stream",
     "text": [
      "\r",
      " 89%|████████▉ | 1128/1261 [5:38:50<32:42, 14.76s/it]"
     ]
    },
    {
     "name": "stdout",
     "output_type": "stream",
     "text": [
      "Frame # 1631\n",
      "========\n",
      "Selecting.. ((792, 384), (991, 507))\n",
      "========\n",
      "========\n",
      "Selecting.. ((1176, 384), (1275, 463))\n",
      "========\n"
     ]
    },
    {
     "name": "stderr",
     "output_type": "stream",
     "text": [
      "\r",
      " 90%|████████▉ | 1129/1261 [5:39:05<32:27, 14.76s/it]"
     ]
    },
    {
     "name": "stdout",
     "output_type": "stream",
     "text": [
      "Frame # 1632\n",
      "========\n",
      "Selecting.. ((784, 384), (949, 507))\n",
      "========\n",
      "========\n",
      "Selecting.. ((1176, 384), (1275, 463))\n",
      "========\n",
      "========\n",
      "Not Selecting.. ((925, 412), (998, 475))\n",
      "========\n"
     ]
    },
    {
     "name": "stderr",
     "output_type": "stream",
     "text": [
      "\r",
      " 90%|████████▉ | 1130/1261 [5:39:20<32:12, 14.75s/it]"
     ]
    },
    {
     "name": "stdout",
     "output_type": "stream",
     "text": [
      "Frame # 1633\n",
      "========\n",
      "Selecting.. ((784, 384), (991, 507))\n",
      "========\n",
      "========\n",
      "Selecting.. ((1176, 384), (1275, 463))\n",
      "========\n"
     ]
    },
    {
     "name": "stderr",
     "output_type": "stream",
     "text": [
      "\r",
      " 90%|████████▉ | 1131/1261 [5:39:34<31:57, 14.75s/it]"
     ]
    },
    {
     "name": "stdout",
     "output_type": "stream",
     "text": [
      "Frame # 1634\n",
      "========\n",
      "Selecting.. ((792, 384), (967, 511))\n",
      "========\n",
      "========\n",
      "Selecting.. ((1176, 384), (1275, 463))\n",
      "========\n",
      "========\n",
      "Not Selecting.. ((1005, 396), (1078, 465))\n",
      "========\n",
      "========\n",
      "Not Selecting.. ((945, 412), (1018, 475))\n",
      "========\n"
     ]
    },
    {
     "name": "stderr",
     "output_type": "stream",
     "text": [
      "\r",
      " 90%|████████▉ | 1132/1261 [5:39:49<31:40, 14.74s/it]"
     ]
    },
    {
     "name": "stdout",
     "output_type": "stream",
     "text": [
      "Frame # 1635\n",
      "========\n",
      "Selecting.. ((784, 384), (977, 511))\n",
      "========\n",
      "========\n",
      "Selecting.. ((1176, 384), (1275, 463))\n",
      "========\n"
     ]
    },
    {
     "name": "stderr",
     "output_type": "stream",
     "text": [
      "\r",
      " 90%|████████▉ | 1133/1261 [5:40:04<31:26, 14.74s/it]"
     ]
    },
    {
     "name": "stdout",
     "output_type": "stream",
     "text": [
      "Frame # 1636\n",
      "========\n",
      "Selecting.. ((792, 384), (967, 507))\n",
      "========\n",
      "========\n",
      "Selecting.. ((1176, 384), (1275, 465))\n",
      "========\n",
      "========\n",
      "Not Selecting.. ((1009, 390), (1083, 453))\n",
      "========\n",
      "========\n",
      "Not Selecting.. ((938, 412), (1011, 475))\n",
      "========\n",
      "========\n",
      "Not Selecting.. ((951, 412), (1024, 475))\n",
      "========\n"
     ]
    },
    {
     "name": "stderr",
     "output_type": "stream",
     "text": [
      "\r",
      " 90%|████████▉ | 1134/1261 [5:40:19<31:13, 14.76s/it]"
     ]
    },
    {
     "name": "stdout",
     "output_type": "stream",
     "text": [
      "Frame # 1637\n",
      "========\n",
      "Selecting.. ((792, 384), (955, 507))\n",
      "========\n",
      "========\n",
      "Selecting.. ((1188, 384), (1275, 463))\n",
      "========\n"
     ]
    },
    {
     "name": "stderr",
     "output_type": "stream",
     "text": [
      "\r",
      " 90%|█████████ | 1135/1261 [5:40:33<30:57, 14.74s/it]"
     ]
    },
    {
     "name": "stdout",
     "output_type": "stream",
     "text": [
      "Frame # 1638\n",
      "========\n",
      "Selecting.. ((789, 384), (967, 507))\n",
      "========\n",
      "========\n",
      "Selecting.. ((1176, 384), (1275, 465))\n",
      "========\n"
     ]
    },
    {
     "name": "stderr",
     "output_type": "stream",
     "text": [
      "\r",
      " 90%|█████████ | 1136/1261 [5:40:48<30:39, 14.72s/it]"
     ]
    },
    {
     "name": "stdout",
     "output_type": "stream",
     "text": [
      "Frame # 1639\n",
      "========\n",
      "Selecting.. ((789, 384), (991, 507))\n",
      "========\n",
      "========\n",
      "Selecting.. ((1176, 384), (1275, 463))\n",
      "========\n",
      "========\n",
      "Selecting.. ((968, 401), (1042, 464))\n",
      "========\n"
     ]
    },
    {
     "name": "stderr",
     "output_type": "stream",
     "text": [
      "\r",
      " 90%|█████████ | 1137/1261 [5:41:03<30:26, 14.73s/it]"
     ]
    },
    {
     "name": "stdout",
     "output_type": "stream",
     "text": [
      "Frame # 1640\n",
      "========\n",
      "Selecting.. ((784, 384), (1005, 511))\n",
      "========\n",
      "========\n",
      "Selecting.. ((1176, 384), (1275, 465))\n",
      "========\n"
     ]
    },
    {
     "name": "stderr",
     "output_type": "stream",
     "text": [
      "\r",
      " 90%|█████████ | 1138/1261 [5:41:18<30:10, 14.72s/it]"
     ]
    },
    {
     "name": "stdout",
     "output_type": "stream",
     "text": [
      "Frame # 1641\n",
      "========\n",
      "Selecting.. ((784, 384), (1027, 511))\n",
      "========\n",
      "========\n",
      "Selecting.. ((1176, 384), (1275, 475))\n",
      "========\n",
      "========\n",
      "Not Selecting.. ((1050, 393), (1123, 456))\n",
      "========\n"
     ]
    },
    {
     "name": "stderr",
     "output_type": "stream",
     "text": [
      "\r",
      " 90%|█████████ | 1139/1261 [5:41:32<29:55, 14.72s/it]"
     ]
    },
    {
     "name": "stdout",
     "output_type": "stream",
     "text": [
      "Frame # 1642\n",
      "========\n",
      "Selecting.. ((784, 384), (1015, 511))\n",
      "========\n",
      "========\n",
      "Selecting.. ((1185, 384), (1275, 465))\n",
      "========\n"
     ]
    },
    {
     "name": "stderr",
     "output_type": "stream",
     "text": [
      "\r",
      " 90%|█████████ | 1140/1261 [5:41:47<29:40, 14.71s/it]"
     ]
    },
    {
     "name": "stdout",
     "output_type": "stream",
     "text": [
      "Frame # 1643\n",
      "========\n",
      "Selecting.. ((784, 384), (1015, 511))\n",
      "========\n",
      "========\n",
      "Selecting.. ((1185, 384), (1275, 465))\n",
      "========\n",
      "========\n",
      "Not Selecting.. ((985, 401), (1058, 464))\n",
      "========\n"
     ]
    },
    {
     "name": "stderr",
     "output_type": "stream",
     "text": [
      "\r",
      " 90%|█████████ | 1141/1261 [5:42:02<29:24, 14.70s/it]"
     ]
    },
    {
     "name": "stdout",
     "output_type": "stream",
     "text": [
      "Frame # 1644\n",
      "========\n",
      "Selecting.. ((784, 384), (943, 507))\n",
      "========\n",
      "========\n",
      "Selecting.. ((1185, 384), (1275, 463))\n",
      "========\n"
     ]
    },
    {
     "name": "stderr",
     "output_type": "stream",
     "text": [
      "\r",
      " 91%|█████████ | 1142/1261 [5:42:16<29:09, 14.70s/it]"
     ]
    },
    {
     "name": "stdout",
     "output_type": "stream",
     "text": [
      "Frame # 1645\n",
      "========\n",
      "Selecting.. ((784, 384), (963, 507))\n",
      "========\n",
      "========\n",
      "Selecting.. ((1188, 384), (1275, 463))\n",
      "========\n"
     ]
    },
    {
     "name": "stderr",
     "output_type": "stream",
     "text": [
      "\r",
      " 91%|█████████ | 1143/1261 [5:42:31<28:55, 14.71s/it]"
     ]
    },
    {
     "name": "stdout",
     "output_type": "stream",
     "text": [
      "Frame # 1646\n",
      "========\n",
      "Selecting.. ((784, 384), (977, 511))\n",
      "========\n",
      "========\n",
      "Selecting.. ((1188, 384), (1275, 463))\n",
      "========\n"
     ]
    },
    {
     "name": "stderr",
     "output_type": "stream",
     "text": [
      "\r",
      " 91%|█████████ | 1144/1261 [5:42:46<28:38, 14.69s/it]"
     ]
    },
    {
     "name": "stdout",
     "output_type": "stream",
     "text": [
      "Frame # 1647\n",
      "========\n",
      "Selecting.. ((784, 384), (967, 511))\n",
      "========\n",
      "========\n",
      "Selecting.. ((1194, 384), (1275, 456))\n",
      "========\n"
     ]
    },
    {
     "name": "stderr",
     "output_type": "stream",
     "text": [
      "\r",
      " 91%|█████████ | 1145/1261 [5:43:00<28:26, 14.71s/it]"
     ]
    },
    {
     "name": "stdout",
     "output_type": "stream",
     "text": [
      "Frame # 1648\n",
      "========\n",
      "Selecting.. ((784, 384), (967, 507))\n",
      "========\n",
      "========\n",
      "Selecting.. ((1194, 384), (1275, 456))\n",
      "========\n"
     ]
    },
    {
     "name": "stderr",
     "output_type": "stream",
     "text": [
      "\r",
      " 91%|█████████ | 1146/1261 [5:43:15<28:11, 14.71s/it]"
     ]
    },
    {
     "name": "stdout",
     "output_type": "stream",
     "text": [
      "Frame # 1649\n",
      "========\n",
      "Selecting.. ((784, 384), (977, 507))\n",
      "========\n",
      "========\n",
      "Selecting.. ((1188, 384), (1275, 463))\n",
      "========\n"
     ]
    },
    {
     "name": "stderr",
     "output_type": "stream",
     "text": [
      "\r",
      " 91%|█████████ | 1147/1261 [5:43:30<27:59, 14.73s/it]"
     ]
    },
    {
     "name": "stdout",
     "output_type": "stream",
     "text": [
      "Frame # 1650\n",
      "========\n",
      "Selecting.. ((780, 384), (977, 507))\n",
      "========\n",
      "========\n",
      "Selecting.. ((1185, 384), (1275, 463))\n",
      "========\n"
     ]
    },
    {
     "name": "stderr",
     "output_type": "stream",
     "text": [
      "\r",
      " 91%|█████████ | 1148/1261 [5:43:45<27:43, 14.72s/it]"
     ]
    },
    {
     "name": "stdout",
     "output_type": "stream",
     "text": [
      "Frame # 1651\n",
      "========\n",
      "Selecting.. ((780, 384), (955, 511))\n",
      "========\n",
      "========\n",
      "Selecting.. ((1185, 384), (1275, 463))\n",
      "========\n"
     ]
    },
    {
     "name": "stderr",
     "output_type": "stream",
     "text": [
      "\r",
      " 91%|█████████ | 1149/1261 [5:43:59<27:31, 14.74s/it]"
     ]
    },
    {
     "name": "stdout",
     "output_type": "stream",
     "text": [
      "Frame # 1652\n",
      "========\n",
      "Selecting.. ((780, 384), (963, 507))\n",
      "========\n",
      "========\n",
      "Selecting.. ((1194, 384), (1275, 456))\n",
      "========\n"
     ]
    },
    {
     "name": "stderr",
     "output_type": "stream",
     "text": [
      "\r",
      " 91%|█████████ | 1150/1261 [5:44:14<27:18, 14.76s/it]"
     ]
    },
    {
     "name": "stdout",
     "output_type": "stream",
     "text": [
      "Frame # 1653\n",
      "========\n",
      "Selecting.. ((780, 384), (977, 507))\n",
      "========\n",
      "========\n",
      "Selecting.. ((1203, 384), (1275, 456))\n",
      "========\n",
      "========\n",
      "Not Selecting.. ((1015, 411), (1089, 474))\n",
      "========\n",
      "========\n",
      "Not Selecting.. ((1063, 411), (1136, 474))\n",
      "========\n"
     ]
    },
    {
     "name": "stderr",
     "output_type": "stream",
     "text": [
      "\r",
      " 91%|█████████▏| 1151/1261 [5:44:29<27:01, 14.74s/it]"
     ]
    },
    {
     "name": "stdout",
     "output_type": "stream",
     "text": [
      "Frame # 1654\n",
      "========\n",
      "Selecting.. ((780, 384), (967, 507))\n",
      "========\n",
      "========\n",
      "Selecting.. ((1203, 393), (1275, 456))\n",
      "========\n",
      "========\n",
      "Not Selecting.. ((1080, 411), (1167, 487))\n",
      "========\n"
     ]
    },
    {
     "name": "stderr",
     "output_type": "stream",
     "text": [
      "\r",
      " 91%|█████████▏| 1152/1261 [5:44:44<26:46, 14.74s/it]"
     ]
    },
    {
     "name": "stdout",
     "output_type": "stream",
     "text": [
      "Frame # 1655\n",
      "========\n",
      "Selecting.. ((784, 384), (967, 507))\n",
      "========\n",
      "========\n",
      "Selecting.. ((1200, 384), (1275, 456))\n",
      "========\n"
     ]
    },
    {
     "name": "stderr",
     "output_type": "stream",
     "text": [
      "\r",
      " 91%|█████████▏| 1153/1261 [5:44:58<26:32, 14.75s/it]"
     ]
    },
    {
     "name": "stdout",
     "output_type": "stream",
     "text": [
      "Frame # 1656\n",
      "========\n",
      "Selecting.. ((780, 384), (967, 507))\n",
      "========\n",
      "========\n",
      "Selecting.. ((1194, 384), (1275, 456))\n",
      "========\n"
     ]
    },
    {
     "name": "stderr",
     "output_type": "stream",
     "text": [
      "\r",
      " 92%|█████████▏| 1154/1261 [5:45:13<26:16, 14.73s/it]"
     ]
    },
    {
     "name": "stdout",
     "output_type": "stream",
     "text": [
      "Frame # 1657\n",
      "========\n",
      "Selecting.. ((784, 384), (951, 507))\n",
      "========\n",
      "========\n",
      "Selecting.. ((1203, 384), (1275, 456))\n",
      "========\n"
     ]
    },
    {
     "name": "stderr",
     "output_type": "stream",
     "text": [
      "\r",
      " 92%|█████████▏| 1155/1261 [5:45:28<25:59, 14.71s/it]"
     ]
    },
    {
     "name": "stdout",
     "output_type": "stream",
     "text": [
      "Frame # 1658\n",
      "========\n",
      "Selecting.. ((784, 384), (955, 507))\n",
      "========\n",
      "========\n",
      "Selecting.. ((1207, 393), (1280, 456))\n",
      "========\n",
      "========\n",
      "Not Selecting.. ((1008, 398), (1159, 493))\n",
      "========\n"
     ]
    },
    {
     "name": "stderr",
     "output_type": "stream",
     "text": [
      "\r",
      " 92%|█████████▏| 1156/1261 [5:45:43<25:46, 14.73s/it]"
     ]
    },
    {
     "name": "stdout",
     "output_type": "stream",
     "text": [
      "Frame # 1659\n",
      "========\n",
      "Selecting.. ((784, 384), (963, 507))\n",
      "========\n",
      "========\n",
      "Selecting.. ((1203, 384), (1275, 456))\n",
      "========\n",
      "========\n",
      "Not Selecting.. ((1020, 396), (1173, 487))\n",
      "========\n"
     ]
    },
    {
     "name": "stderr",
     "output_type": "stream",
     "text": [
      "\r",
      " 92%|█████████▏| 1157/1261 [5:45:57<25:31, 14.73s/it]"
     ]
    },
    {
     "name": "stdout",
     "output_type": "stream",
     "text": [
      "Frame # 1660\n",
      "========\n",
      "Selecting.. ((784, 384), (967, 507))\n",
      "========\n",
      "========\n",
      "Selecting.. ((1203, 384), (1275, 456))\n",
      "========\n",
      "========\n",
      "Not Selecting.. ((1032, 396), (1183, 493))\n",
      "========\n"
     ]
    },
    {
     "name": "stderr",
     "output_type": "stream",
     "text": [
      "\r",
      " 92%|█████████▏| 1158/1261 [5:46:12<25:17, 14.73s/it]"
     ]
    },
    {
     "name": "stdout",
     "output_type": "stream",
     "text": [
      "Frame # 1661\n",
      "========\n",
      "Selecting.. ((784, 384), (963, 507))\n",
      "========\n",
      "========\n",
      "Selecting.. ((1203, 384), (1275, 456))\n",
      "========\n",
      "========\n",
      "Selecting.. ((1032, 396), (1173, 493))\n",
      "========\n"
     ]
    },
    {
     "name": "stderr",
     "output_type": "stream",
     "text": [
      "\r",
      " 92%|█████████▏| 1159/1261 [5:46:27<25:01, 14.72s/it]"
     ]
    },
    {
     "name": "stdout",
     "output_type": "stream",
     "text": [
      "Frame # 1662\n",
      "========\n",
      "Selecting.. ((784, 384), (955, 507))\n",
      "========\n",
      "========\n",
      "Selecting.. ((1203, 384), (1275, 456))\n",
      "========\n",
      "========\n",
      "Selecting.. ((1064, 408), (1173, 493))\n",
      "========\n"
     ]
    },
    {
     "name": "stderr",
     "output_type": "stream",
     "text": [
      "\r",
      " 92%|█████████▏| 1160/1261 [5:46:42<24:48, 14.73s/it]"
     ]
    },
    {
     "name": "stdout",
     "output_type": "stream",
     "text": [
      "Frame # 1663\n",
      "========\n",
      "Selecting.. ((784, 384), (963, 507))\n",
      "========\n",
      "========\n",
      "Selecting.. ((1044, 384), (1183, 493))\n",
      "========\n",
      "========\n",
      "Selecting.. ((1202, 393), (1276, 456))\n",
      "========\n"
     ]
    },
    {
     "name": "stderr",
     "output_type": "stream",
     "text": [
      "\r",
      " 92%|█████████▏| 1161/1261 [5:46:56<24:34, 14.75s/it]"
     ]
    },
    {
     "name": "stdout",
     "output_type": "stream",
     "text": [
      "Frame # 1664\n",
      "========\n",
      "Selecting.. ((784, 384), (967, 507))\n",
      "========\n",
      "========\n",
      "Selecting.. ((1059, 408), (1147, 487))\n",
      "========\n"
     ]
    },
    {
     "name": "stderr",
     "output_type": "stream",
     "text": [
      "\r",
      " 92%|█████████▏| 1162/1261 [5:47:11<24:19, 14.74s/it]"
     ]
    },
    {
     "name": "stdout",
     "output_type": "stream",
     "text": [
      "Frame # 1665\n",
      "========\n",
      "Selecting.. ((784, 384), (967, 507))\n",
      "========\n",
      "========\n",
      "Selecting.. ((1032, 384), (1195, 487))\n",
      "========\n"
     ]
    },
    {
     "name": "stderr",
     "output_type": "stream",
     "text": [
      "\r",
      " 92%|█████████▏| 1163/1261 [5:47:26<24:03, 14.73s/it]"
     ]
    },
    {
     "name": "stdout",
     "output_type": "stream",
     "text": [
      "Frame # 1666\n",
      "========\n",
      "Selecting.. ((784, 384), (949, 507))\n",
      "========\n",
      "========\n",
      "Selecting.. ((1078, 408), (1183, 487))\n",
      "========\n"
     ]
    },
    {
     "name": "stderr",
     "output_type": "stream",
     "text": [
      "\r",
      " 92%|█████████▏| 1164/1261 [5:47:40<23:50, 14.74s/it]"
     ]
    },
    {
     "name": "stdout",
     "output_type": "stream",
     "text": [
      "Frame # 1667\n",
      "========\n",
      "Selecting.. ((784, 384), (967, 507))\n",
      "========\n",
      "========\n",
      "Selecting.. ((1022, 398), (1171, 487))\n",
      "========\n"
     ]
    },
    {
     "name": "stderr",
     "output_type": "stream",
     "text": [
      "\r",
      " 92%|█████████▏| 1165/1261 [5:47:55<23:36, 14.75s/it]"
     ]
    },
    {
     "name": "stdout",
     "output_type": "stream",
     "text": [
      "Frame # 1668\n",
      "========\n",
      "Selecting.. ((784, 384), (967, 507))\n",
      "========\n",
      "========\n",
      "Selecting.. ((1041, 398), (1195, 487))\n",
      "========\n"
     ]
    },
    {
     "name": "stderr",
     "output_type": "stream",
     "text": [
      "\r",
      " 92%|█████████▏| 1166/1261 [5:48:10<23:20, 14.74s/it]"
     ]
    },
    {
     "name": "stdout",
     "output_type": "stream",
     "text": [
      "Frame # 1669\n",
      "========\n",
      "Selecting.. ((784, 384), (949, 507))\n",
      "========\n",
      "========\n",
      "Selecting.. ((1044, 398), (1149, 493))\n",
      "========\n"
     ]
    },
    {
     "name": "stderr",
     "output_type": "stream",
     "text": [
      "\r",
      " 93%|█████████▎| 1167/1261 [5:48:25<23:04, 14.73s/it]"
     ]
    },
    {
     "name": "stdout",
     "output_type": "stream",
     "text": [
      "Frame # 1670\n",
      "========\n",
      "Selecting.. ((784, 384), (977, 507))\n",
      "========\n",
      "========\n",
      "Selecting.. ((1050, 398), (1159, 487))\n",
      "========\n"
     ]
    },
    {
     "name": "stderr",
     "output_type": "stream",
     "text": [
      "\r",
      " 93%|█████████▎| 1168/1261 [5:48:39<22:50, 14.73s/it]"
     ]
    },
    {
     "name": "stdout",
     "output_type": "stream",
     "text": [
      "Frame # 1671\n",
      "========\n",
      "Selecting.. ((784, 384), (977, 507))\n",
      "========\n",
      "========\n",
      "Selecting.. ((1056, 384), (1183, 493))\n",
      "========\n"
     ]
    },
    {
     "name": "stderr",
     "output_type": "stream",
     "text": [
      "\r",
      " 93%|█████████▎| 1169/1261 [5:48:54<22:39, 14.78s/it]"
     ]
    },
    {
     "name": "stdout",
     "output_type": "stream",
     "text": [
      "Frame # 1672\n",
      "========\n",
      "Selecting.. ((784, 384), (963, 511))\n",
      "========\n",
      "========\n",
      "Selecting.. ((1044, 384), (1171, 487))\n",
      "========\n"
     ]
    },
    {
     "name": "stderr",
     "output_type": "stream",
     "text": [
      "\r",
      " 93%|█████████▎| 1170/1261 [5:49:09<22:26, 14.80s/it]"
     ]
    },
    {
     "name": "stdout",
     "output_type": "stream",
     "text": [
      "Frame # 1673\n",
      "========\n",
      "Selecting.. ((784, 384), (977, 521))\n",
      "========\n",
      "========\n",
      "Selecting.. ((1056, 384), (1183, 493))\n",
      "========\n"
     ]
    },
    {
     "name": "stderr",
     "output_type": "stream",
     "text": [
      "\r",
      " 93%|█████████▎| 1171/1261 [5:49:24<22:11, 14.79s/it]"
     ]
    },
    {
     "name": "stdout",
     "output_type": "stream",
     "text": [
      "Frame # 1674\n",
      "========\n",
      "Selecting.. ((784, 384), (935, 507))\n",
      "========\n",
      "========\n",
      "Selecting.. ((1068, 384), (1159, 479))\n",
      "========\n"
     ]
    },
    {
     "name": "stderr",
     "output_type": "stream",
     "text": [
      "\r",
      " 93%|█████████▎| 1172/1261 [5:49:39<21:57, 14.81s/it]"
     ]
    },
    {
     "name": "stdout",
     "output_type": "stream",
     "text": [
      "Frame # 1675\n",
      "========\n",
      "Selecting.. ((784, 384), (935, 507))\n",
      "========\n",
      "========\n",
      "Selecting.. ((1078, 384), (1203, 479))\n",
      "========\n"
     ]
    },
    {
     "name": "stderr",
     "output_type": "stream",
     "text": [
      "\r",
      " 93%|█████████▎| 1173/1261 [5:49:54<21:41, 14.79s/it]"
     ]
    },
    {
     "name": "stdout",
     "output_type": "stream",
     "text": [
      "Frame # 1676\n",
      "========\n",
      "Selecting.. ((784, 384), (963, 507))\n",
      "========\n",
      "========\n",
      "Selecting.. ((1080, 384), (1201, 507))\n",
      "========\n"
     ]
    },
    {
     "name": "stderr",
     "output_type": "stream",
     "text": [
      "\r",
      " 93%|█████████▎| 1174/1261 [5:50:08<21:27, 14.80s/it]"
     ]
    },
    {
     "name": "stdout",
     "output_type": "stream",
     "text": [
      "Frame # 1677\n",
      "========\n",
      "Selecting.. ((784, 384), (949, 507))\n",
      "========\n",
      "========\n",
      "Selecting.. ((1092, 384), (1201, 493))\n",
      "========\n"
     ]
    },
    {
     "name": "stderr",
     "output_type": "stream",
     "text": [
      "\r",
      " 93%|█████████▎| 1175/1261 [5:50:23<21:10, 14.78s/it]"
     ]
    },
    {
     "name": "stdout",
     "output_type": "stream",
     "text": [
      "Frame # 1678\n",
      "========\n",
      "Selecting.. ((780, 384), (949, 507))\n",
      "========\n",
      "========\n",
      "Selecting.. ((1092, 384), (1215, 523))\n",
      "========\n"
     ]
    },
    {
     "name": "stderr",
     "output_type": "stream",
     "text": [
      "\r",
      " 93%|█████████▎| 1176/1261 [5:50:38<20:55, 14.77s/it]"
     ]
    },
    {
     "name": "stdout",
     "output_type": "stream",
     "text": [
      "Frame # 1679\n",
      "========\n",
      "Selecting.. ((784, 384), (955, 507))\n",
      "========\n",
      "========\n",
      "Selecting.. ((1106, 384), (1215, 523))\n",
      "========\n"
     ]
    },
    {
     "name": "stderr",
     "output_type": "stream",
     "text": [
      "\r",
      " 93%|█████████▎| 1177/1261 [5:50:53<20:39, 14.75s/it]"
     ]
    },
    {
     "name": "stdout",
     "output_type": "stream",
     "text": [
      "Frame # 1680\n",
      "========\n",
      "Selecting.. ((784, 384), (955, 507))\n",
      "========\n",
      "========\n",
      "Selecting.. ((1116, 396), (1215, 511))\n",
      "========\n"
     ]
    },
    {
     "name": "stderr",
     "output_type": "stream",
     "text": [
      "\r",
      " 93%|█████████▎| 1178/1261 [5:51:07<20:25, 14.77s/it]"
     ]
    },
    {
     "name": "stdout",
     "output_type": "stream",
     "text": [
      "Frame # 1681\n",
      "========\n",
      "Selecting.. ((784, 384), (955, 507))\n",
      "========\n",
      "========\n",
      "Selecting.. ((1131, 384), (1219, 475))\n",
      "========\n"
     ]
    },
    {
     "name": "stderr",
     "output_type": "stream",
     "text": [
      "\r",
      " 93%|█████████▎| 1179/1261 [5:51:22<20:08, 14.74s/it]"
     ]
    },
    {
     "name": "stdout",
     "output_type": "stream",
     "text": [
      "Frame # 1682\n",
      "========\n",
      "Selecting.. ((784, 384), (955, 507))\n",
      "========\n",
      "========\n",
      "Selecting.. ((1134, 384), (1231, 475))\n",
      "========\n"
     ]
    },
    {
     "name": "stderr",
     "output_type": "stream",
     "text": [
      "\r",
      " 94%|█████████▎| 1180/1261 [5:51:37<19:53, 14.74s/it]"
     ]
    },
    {
     "name": "stdout",
     "output_type": "stream",
     "text": [
      "Frame # 1683\n",
      "========\n",
      "Selecting.. ((784, 384), (955, 507))\n",
      "========\n",
      "========\n",
      "Selecting.. ((1140, 384), (1257, 475))\n",
      "========\n"
     ]
    },
    {
     "name": "stderr",
     "output_type": "stream",
     "text": [
      "\r",
      " 94%|█████████▎| 1181/1261 [5:51:51<19:37, 14.72s/it]"
     ]
    },
    {
     "name": "stdout",
     "output_type": "stream",
     "text": [
      "Frame # 1684\n",
      "========\n",
      "Selecting.. ((784, 384), (963, 507))\n",
      "========\n",
      "========\n",
      "Selecting.. ((1176, 396), (1266, 465))\n",
      "========\n"
     ]
    },
    {
     "name": "stderr",
     "output_type": "stream",
     "text": [
      "\r",
      " 94%|█████████▎| 1182/1261 [5:52:06<19:24, 14.74s/it]"
     ]
    },
    {
     "name": "stdout",
     "output_type": "stream",
     "text": [
      "Frame # 1685\n",
      "========\n",
      "Selecting.. ((784, 384), (955, 507))\n",
      "========\n",
      "========\n",
      "Selecting.. ((1162, 393), (1266, 475))\n",
      "========\n",
      "========\n",
      "Not Selecting.. ((1119, 408), (1192, 475))\n",
      "========\n"
     ]
    },
    {
     "name": "stderr",
     "output_type": "stream",
     "text": [
      "\r",
      " 94%|█████████▍| 1183/1261 [5:52:21<19:08, 14.73s/it]"
     ]
    },
    {
     "name": "stdout",
     "output_type": "stream",
     "text": [
      "Frame # 1686\n",
      "========\n",
      "Selecting.. ((784, 384), (955, 507))\n",
      "========\n"
     ]
    },
    {
     "name": "stderr",
     "output_type": "stream",
     "text": [
      "\r",
      " 94%|█████████▍| 1184/1261 [5:52:36<18:51, 14.70s/it]"
     ]
    },
    {
     "name": "stdout",
     "output_type": "stream",
     "text": [
      "Frame # 1687\n",
      "========\n",
      "Selecting.. ((784, 384), (955, 507))\n",
      "========\n"
     ]
    },
    {
     "name": "stderr",
     "output_type": "stream",
     "text": [
      "\r",
      " 94%|█████████▍| 1185/1261 [5:52:50<18:37, 14.70s/it]"
     ]
    },
    {
     "name": "stdout",
     "output_type": "stream",
     "text": [
      "Frame # 1688\n",
      "========\n",
      "Selecting.. ((784, 384), (949, 507))\n",
      "========\n"
     ]
    },
    {
     "name": "stderr",
     "output_type": "stream",
     "text": [
      "\r",
      " 94%|█████████▍| 1186/1261 [5:53:05<18:23, 14.71s/it]"
     ]
    },
    {
     "name": "stdout",
     "output_type": "stream",
     "text": [
      "Frame # 1689\n",
      "========\n",
      "Selecting.. ((784, 384), (949, 507))\n",
      "========\n"
     ]
    },
    {
     "name": "stderr",
     "output_type": "stream",
     "text": [
      "\r",
      " 94%|█████████▍| 1187/1261 [5:53:20<18:08, 14.72s/it]"
     ]
    },
    {
     "name": "stdout",
     "output_type": "stream",
     "text": [
      "Frame # 1690\n",
      "========\n",
      "Selecting.. ((784, 384), (949, 507))\n",
      "========\n"
     ]
    },
    {
     "name": "stderr",
     "output_type": "stream",
     "text": [
      "\r",
      " 94%|█████████▍| 1188/1261 [5:53:34<17:53, 14.70s/it]"
     ]
    },
    {
     "name": "stdout",
     "output_type": "stream",
     "text": [
      "Frame # 1691\n",
      "========\n",
      "Selecting.. ((784, 384), (949, 511))\n",
      "========\n"
     ]
    },
    {
     "name": "stderr",
     "output_type": "stream",
     "text": [
      "\r",
      " 94%|█████████▍| 1189/1261 [5:53:49<17:38, 14.70s/it]"
     ]
    },
    {
     "name": "stdout",
     "output_type": "stream",
     "text": [
      "Frame # 1692\n",
      "========\n",
      "Selecting.. ((784, 384), (955, 507))\n",
      "========\n"
     ]
    },
    {
     "name": "stderr",
     "output_type": "stream",
     "text": [
      "\r",
      " 94%|█████████▍| 1190/1261 [5:54:04<17:23, 14.70s/it]"
     ]
    },
    {
     "name": "stdout",
     "output_type": "stream",
     "text": [
      "Frame # 1693\n",
      "========\n",
      "Selecting.. ((784, 384), (955, 507))\n",
      "========\n"
     ]
    },
    {
     "name": "stderr",
     "output_type": "stream",
     "text": [
      "\r",
      " 94%|█████████▍| 1191/1261 [5:54:19<17:09, 14.71s/it]"
     ]
    },
    {
     "name": "stdout",
     "output_type": "stream",
     "text": [
      "Frame # 1694\n",
      "========\n",
      "Selecting.. ((784, 384), (955, 507))\n",
      "========\n"
     ]
    },
    {
     "name": "stderr",
     "output_type": "stream",
     "text": [
      "\r",
      " 95%|█████████▍| 1192/1261 [5:54:33<16:55, 14.71s/it]"
     ]
    },
    {
     "name": "stdout",
     "output_type": "stream",
     "text": [
      "Frame # 1695\n",
      "========\n",
      "Selecting.. ((784, 384), (949, 507))\n",
      "========\n"
     ]
    },
    {
     "name": "stderr",
     "output_type": "stream",
     "text": [
      "\r",
      " 95%|█████████▍| 1193/1261 [5:54:48<16:39, 14.70s/it]"
     ]
    },
    {
     "name": "stdout",
     "output_type": "stream",
     "text": [
      "Frame # 1696\n",
      "========\n",
      "Selecting.. ((784, 384), (949, 511))\n",
      "========\n"
     ]
    },
    {
     "name": "stderr",
     "output_type": "stream",
     "text": [
      "\r",
      " 95%|█████████▍| 1194/1261 [5:55:03<16:26, 14.73s/it]"
     ]
    },
    {
     "name": "stdout",
     "output_type": "stream",
     "text": [
      "Frame # 1697\n",
      "========\n",
      "Selecting.. ((784, 384), (955, 507))\n",
      "========\n"
     ]
    },
    {
     "name": "stderr",
     "output_type": "stream",
     "text": [
      "\r",
      " 95%|█████████▍| 1195/1261 [5:55:17<16:12, 14.73s/it]"
     ]
    },
    {
     "name": "stdout",
     "output_type": "stream",
     "text": [
      "Frame # 1698\n",
      "========\n",
      "Selecting.. ((780, 384), (955, 521))\n",
      "========\n"
     ]
    },
    {
     "name": "stderr",
     "output_type": "stream",
     "text": [
      "\r",
      " 95%|█████████▍| 1196/1261 [5:55:32<15:57, 14.73s/it]"
     ]
    },
    {
     "name": "stdout",
     "output_type": "stream",
     "text": [
      "Frame # 1699\n",
      "========\n",
      "Selecting.. ((780, 384), (955, 507))\n",
      "========\n"
     ]
    },
    {
     "name": "stderr",
     "output_type": "stream",
     "text": [
      "\r",
      " 95%|█████████▍| 1197/1261 [5:55:47<15:41, 14.71s/it]"
     ]
    },
    {
     "name": "stdout",
     "output_type": "stream",
     "text": [
      "Frame # 1700\n",
      "========\n",
      "Selecting.. ((784, 384), (955, 507))\n",
      "========\n",
      "========\n",
      "Not Selecting.. ((1092, 384), (1171, 463))\n",
      "========\n"
     ]
    },
    {
     "name": "stderr",
     "output_type": "stream",
     "text": [
      "\r",
      " 95%|█████████▌| 1198/1261 [5:56:01<15:25, 14.69s/it]"
     ]
    },
    {
     "name": "stdout",
     "output_type": "stream",
     "text": [
      "Frame # 1701\n",
      "========\n",
      "Selecting.. ((784, 384), (955, 511))\n",
      "========\n",
      "========\n",
      "Not Selecting.. ((1092, 384), (1187, 479))\n",
      "========\n",
      "========\n",
      "Not Selecting.. ((1197, 417), (1270, 480))\n",
      "========\n"
     ]
    },
    {
     "name": "stderr",
     "output_type": "stream",
     "text": [
      "\r",
      " 95%|█████████▌| 1199/1261 [5:56:16<15:11, 14.71s/it]"
     ]
    },
    {
     "name": "stdout",
     "output_type": "stream",
     "text": [
      "Frame # 1702\n",
      "========\n",
      "Selecting.. ((780, 384), (955, 507))\n",
      "========\n",
      "========\n",
      "Not Selecting.. ((1104, 393), (1195, 487))\n",
      "========\n"
     ]
    },
    {
     "name": "stderr",
     "output_type": "stream",
     "text": [
      "\r",
      " 95%|█████████▌| 1200/1261 [5:56:31<14:58, 14.73s/it]"
     ]
    },
    {
     "name": "stdout",
     "output_type": "stream",
     "text": [
      "Frame # 1703\n",
      "========\n",
      "Selecting.. ((780, 384), (963, 507))\n",
      "========\n",
      "========\n",
      "Selecting.. ((1120, 393), (1215, 487))\n",
      "========\n"
     ]
    },
    {
     "name": "stderr",
     "output_type": "stream",
     "text": [
      "\r",
      " 95%|█████████▌| 1201/1261 [5:56:46<14:43, 14.73s/it]"
     ]
    },
    {
     "name": "stdout",
     "output_type": "stream",
     "text": [
      "Frame # 1704\n",
      "========\n",
      "Selecting.. ((784, 384), (935, 507))\n",
      "========\n"
     ]
    },
    {
     "name": "stderr",
     "output_type": "stream",
     "text": [
      "\r",
      " 95%|█████████▌| 1202/1261 [5:57:00<14:29, 14.73s/it]"
     ]
    },
    {
     "name": "stdout",
     "output_type": "stream",
     "text": [
      "Frame # 1705\n",
      "========\n",
      "Selecting.. ((784, 384), (935, 507))\n",
      "========\n"
     ]
    },
    {
     "name": "stderr",
     "output_type": "stream",
     "text": [
      "\r",
      " 95%|█████████▌| 1203/1261 [5:57:15<14:13, 14.72s/it]"
     ]
    },
    {
     "name": "stdout",
     "output_type": "stream",
     "text": [
      "Frame # 1706\n",
      "========\n",
      "Selecting.. ((780, 384), (935, 507))\n",
      "========\n",
      "========\n",
      "Not Selecting.. ((1148, 384), (1221, 463))\n",
      "========\n"
     ]
    },
    {
     "name": "stderr",
     "output_type": "stream",
     "text": [
      "\r",
      " 95%|█████████▌| 1204/1261 [5:57:30<13:58, 14.72s/it]"
     ]
    },
    {
     "name": "stdout",
     "output_type": "stream",
     "text": [
      "Frame # 1707\n",
      "========\n",
      "Selecting.. ((784, 384), (943, 507))\n",
      "========\n"
     ]
    },
    {
     "name": "stderr",
     "output_type": "stream",
     "text": [
      "\r",
      " 96%|█████████▌| 1205/1261 [5:57:45<13:43, 14.70s/it]"
     ]
    },
    {
     "name": "stdout",
     "output_type": "stream",
     "text": [
      "Frame # 1708\n",
      "========\n",
      "Selecting.. ((784, 384), (943, 507))\n",
      "========\n"
     ]
    },
    {
     "name": "stderr",
     "output_type": "stream",
     "text": [
      "\r",
      " 96%|█████████▌| 1206/1261 [5:57:59<13:28, 14.70s/it]"
     ]
    },
    {
     "name": "stdout",
     "output_type": "stream",
     "text": [
      "Frame # 1709\n",
      "========\n",
      "Selecting.. ((784, 384), (943, 507))\n",
      "========\n"
     ]
    },
    {
     "name": "stderr",
     "output_type": "stream",
     "text": [
      "\r",
      " 96%|█████████▌| 1207/1261 [5:58:14<13:14, 14.71s/it]"
     ]
    },
    {
     "name": "stdout",
     "output_type": "stream",
     "text": [
      "Frame # 1710\n",
      "========\n",
      "Selecting.. ((784, 384), (955, 507))\n",
      "========\n",
      "========\n",
      "Not Selecting.. ((1164, 384), (1243, 463))\n",
      "========\n"
     ]
    },
    {
     "name": "stderr",
     "output_type": "stream",
     "text": [
      "\r",
      " 96%|█████████▌| 1208/1261 [5:58:29<12:59, 14.71s/it]"
     ]
    },
    {
     "name": "stdout",
     "output_type": "stream",
     "text": [
      "Frame # 1711\n",
      "========\n",
      "Selecting.. ((780, 384), (949, 507))\n",
      "========\n",
      "========\n",
      "Not Selecting.. ((1176, 384), (1255, 463))\n",
      "========\n"
     ]
    },
    {
     "name": "stderr",
     "output_type": "stream",
     "text": [
      "\r",
      " 96%|█████████▌| 1209/1261 [5:58:43<12:45, 14.72s/it]"
     ]
    },
    {
     "name": "stdout",
     "output_type": "stream",
     "text": [
      "Frame # 1712\n",
      "========\n",
      "Selecting.. ((784, 384), (949, 511))\n",
      "========\n",
      "========\n",
      "Not Selecting.. ((1176, 384), (1267, 475))\n",
      "========\n"
     ]
    },
    {
     "name": "stderr",
     "output_type": "stream",
     "text": [
      "\r",
      " 96%|█████████▌| 1210/1261 [5:58:58<12:33, 14.77s/it]"
     ]
    },
    {
     "name": "stdout",
     "output_type": "stream",
     "text": [
      "Frame # 1713\n",
      "========\n",
      "Selecting.. ((780, 384), (943, 511))\n",
      "========\n",
      "========\n",
      "Selecting.. ((1200, 384), (1267, 463))\n",
      "========\n"
     ]
    },
    {
     "name": "stderr",
     "output_type": "stream",
     "text": [
      "\r",
      " 96%|█████████▌| 1211/1261 [5:59:13<12:17, 14.75s/it]"
     ]
    },
    {
     "name": "stdout",
     "output_type": "stream",
     "text": [
      "Frame # 1714\n",
      "========\n",
      "Selecting.. ((780, 384), (949, 507))\n",
      "========\n",
      "========\n",
      "Selecting.. ((1200, 396), (1271, 475))\n",
      "========\n"
     ]
    },
    {
     "name": "stderr",
     "output_type": "stream",
     "text": [
      "\r",
      " 96%|█████████▌| 1212/1261 [5:59:28<12:01, 14.73s/it]"
     ]
    },
    {
     "name": "stdout",
     "output_type": "stream",
     "text": [
      "Frame # 1715\n",
      "========\n",
      "Selecting.. ((780, 384), (949, 507))\n",
      "========\n"
     ]
    },
    {
     "name": "stderr",
     "output_type": "stream",
     "text": [
      "\r",
      " 96%|█████████▌| 1213/1261 [5:59:42<11:47, 14.74s/it]"
     ]
    },
    {
     "name": "stdout",
     "output_type": "stream",
     "text": [
      "Frame # 1716\n",
      "========\n",
      "Selecting.. ((780, 384), (949, 507))\n",
      "========\n"
     ]
    },
    {
     "name": "stderr",
     "output_type": "stream",
     "text": [
      "\r",
      " 96%|█████████▋| 1214/1261 [5:59:57<11:32, 14.73s/it]"
     ]
    },
    {
     "name": "stdout",
     "output_type": "stream",
     "text": [
      "Frame # 1717\n",
      "========\n",
      "Selecting.. ((770, 384), (921, 507))\n",
      "========\n"
     ]
    },
    {
     "name": "stderr",
     "output_type": "stream",
     "text": [
      "\r",
      " 96%|█████████▋| 1215/1261 [6:00:12<11:16, 14.72s/it]"
     ]
    },
    {
     "name": "stdout",
     "output_type": "stream",
     "text": [
      "Frame # 1718\n",
      "========\n",
      "Selecting.. ((770, 384), (943, 507))\n",
      "========\n"
     ]
    },
    {
     "name": "stderr",
     "output_type": "stream",
     "text": [
      "\r",
      " 96%|█████████▋| 1216/1261 [6:00:27<11:01, 14.69s/it]"
     ]
    },
    {
     "name": "stdout",
     "output_type": "stream",
     "text": [
      "Frame # 1719\n",
      "========\n",
      "Selecting.. ((770, 384), (949, 507))\n",
      "========\n"
     ]
    },
    {
     "name": "stderr",
     "output_type": "stream",
     "text": [
      "\r",
      " 97%|█████████▋| 1217/1261 [6:00:41<10:47, 14.71s/it]"
     ]
    },
    {
     "name": "stdout",
     "output_type": "stream",
     "text": [
      "Frame # 1720\n",
      "========\n",
      "Selecting.. ((770, 384), (949, 507))\n",
      "========\n"
     ]
    },
    {
     "name": "stderr",
     "output_type": "stream",
     "text": [
      "\r",
      " 97%|█████████▋| 1218/1261 [6:00:56<10:33, 14.74s/it]"
     ]
    },
    {
     "name": "stdout",
     "output_type": "stream",
     "text": [
      "Frame # 1721\n",
      "========\n",
      "Selecting.. ((770, 384), (955, 507))\n",
      "========\n"
     ]
    },
    {
     "name": "stderr",
     "output_type": "stream",
     "text": [
      "\r",
      " 97%|█████████▋| 1219/1261 [6:01:11<10:18, 14.72s/it]"
     ]
    },
    {
     "name": "stdout",
     "output_type": "stream",
     "text": [
      "Frame # 1722\n",
      "========\n",
      "Selecting.. ((770, 384), (935, 507))\n",
      "========\n"
     ]
    },
    {
     "name": "stderr",
     "output_type": "stream",
     "text": [
      "\r",
      " 97%|█████████▋| 1220/1261 [6:01:25<10:03, 14.72s/it]"
     ]
    },
    {
     "name": "stdout",
     "output_type": "stream",
     "text": [
      "Frame # 1723\n",
      "========\n",
      "Selecting.. ((780, 384), (949, 507))\n",
      "========\n"
     ]
    },
    {
     "name": "stderr",
     "output_type": "stream",
     "text": [
      "\r",
      " 97%|█████████▋| 1221/1261 [6:01:40<09:48, 14.72s/it]"
     ]
    },
    {
     "name": "stdout",
     "output_type": "stream",
     "text": [
      "Frame # 1724\n",
      "========\n",
      "Selecting.. ((780, 384), (921, 507))\n",
      "========\n"
     ]
    },
    {
     "name": "stderr",
     "output_type": "stream",
     "text": [
      "\r",
      " 97%|█████████▋| 1222/1261 [6:01:55<09:34, 14.73s/it]"
     ]
    },
    {
     "name": "stdout",
     "output_type": "stream",
     "text": [
      "Frame # 1725\n",
      "========\n",
      "Selecting.. ((770, 384), (955, 507))\n",
      "========\n"
     ]
    },
    {
     "name": "stderr",
     "output_type": "stream",
     "text": [
      "\r",
      " 97%|█████████▋| 1223/1261 [6:02:10<09:19, 14.72s/it]"
     ]
    },
    {
     "name": "stdout",
     "output_type": "stream",
     "text": [
      "Frame # 1726\n",
      "========\n",
      "Selecting.. ((770, 384), (963, 507))\n",
      "========\n"
     ]
    },
    {
     "name": "stderr",
     "output_type": "stream",
     "text": [
      "\r",
      " 97%|█████████▋| 1224/1261 [6:02:24<09:04, 14.72s/it]"
     ]
    },
    {
     "name": "stdout",
     "output_type": "stream",
     "text": [
      "Frame # 1727\n",
      "========\n",
      "Selecting.. ((770, 384), (955, 507))\n",
      "========\n"
     ]
    },
    {
     "name": "stderr",
     "output_type": "stream",
     "text": [
      "\r",
      " 97%|█████████▋| 1225/1261 [6:02:39<08:49, 14.71s/it]"
     ]
    },
    {
     "name": "stdout",
     "output_type": "stream",
     "text": [
      "Frame # 1728\n",
      "========\n",
      "Selecting.. ((770, 384), (921, 507))\n",
      "========\n"
     ]
    },
    {
     "name": "stderr",
     "output_type": "stream",
     "text": [
      "\r",
      " 97%|█████████▋| 1226/1261 [6:02:54<08:35, 14.73s/it]"
     ]
    },
    {
     "name": "stdout",
     "output_type": "stream",
     "text": [
      "Frame # 1729\n",
      "========\n",
      "Selecting.. ((770, 384), (943, 507))\n",
      "========\n"
     ]
    },
    {
     "name": "stderr",
     "output_type": "stream",
     "text": [
      "\r",
      " 97%|█████████▋| 1227/1261 [6:03:09<08:20, 14.73s/it]"
     ]
    },
    {
     "name": "stdout",
     "output_type": "stream",
     "text": [
      "Frame # 1730\n",
      "========\n",
      "Selecting.. ((770, 384), (931, 507))\n",
      "========\n"
     ]
    },
    {
     "name": "stderr",
     "output_type": "stream",
     "text": [
      "\r",
      " 97%|█████████▋| 1228/1261 [6:03:23<08:05, 14.72s/it]"
     ]
    },
    {
     "name": "stdout",
     "output_type": "stream",
     "text": [
      "Frame # 1731\n",
      "========\n",
      "Selecting.. ((770, 384), (907, 507))\n",
      "========\n"
     ]
    },
    {
     "name": "stderr",
     "output_type": "stream",
     "text": [
      "\r",
      " 97%|█████████▋| 1229/1261 [6:03:38<07:51, 14.72s/it]"
     ]
    },
    {
     "name": "stdout",
     "output_type": "stream",
     "text": [
      "Frame # 1732\n",
      "========\n",
      "Selecting.. ((770, 384), (921, 507))\n",
      "========\n"
     ]
    },
    {
     "name": "stderr",
     "output_type": "stream",
     "text": [
      "\r",
      " 98%|█████████▊| 1230/1261 [6:03:53<07:35, 14.70s/it]"
     ]
    },
    {
     "name": "stdout",
     "output_type": "stream",
     "text": [
      "Frame # 1733\n",
      "========\n",
      "Selecting.. ((770, 384), (907, 507))\n",
      "========\n"
     ]
    },
    {
     "name": "stderr",
     "output_type": "stream",
     "text": [
      "\r",
      " 98%|█████████▊| 1231/1261 [6:04:07<07:21, 14.71s/it]"
     ]
    },
    {
     "name": "stdout",
     "output_type": "stream",
     "text": [
      "Frame # 1734\n",
      "========\n",
      "Selecting.. ((780, 384), (907, 507))\n",
      "========\n"
     ]
    },
    {
     "name": "stderr",
     "output_type": "stream",
     "text": [
      "\r",
      " 98%|█████████▊| 1232/1261 [6:04:22<07:06, 14.70s/it]"
     ]
    },
    {
     "name": "stdout",
     "output_type": "stream",
     "text": [
      "Frame # 1735\n",
      "========\n",
      "Selecting.. ((770, 384), (907, 507))\n",
      "========\n"
     ]
    },
    {
     "name": "stderr",
     "output_type": "stream",
     "text": [
      "\r",
      " 98%|█████████▊| 1233/1261 [6:04:37<06:51, 14.69s/it]"
     ]
    },
    {
     "name": "stdout",
     "output_type": "stream",
     "text": [
      "Frame # 1736\n",
      "========\n",
      "Selecting.. ((780, 384), (907, 507))\n",
      "========\n"
     ]
    },
    {
     "name": "stderr",
     "output_type": "stream",
     "text": [
      "\r",
      " 98%|█████████▊| 1234/1261 [6:04:51<06:36, 14.70s/it]"
     ]
    },
    {
     "name": "stdout",
     "output_type": "stream",
     "text": [
      "Frame # 1737\n",
      "========\n",
      "Selecting.. ((770, 384), (907, 507))\n",
      "========\n"
     ]
    },
    {
     "name": "stderr",
     "output_type": "stream",
     "text": [
      "\r",
      " 98%|█████████▊| 1235/1261 [6:05:06<06:22, 14.73s/it]"
     ]
    },
    {
     "name": "stdout",
     "output_type": "stream",
     "text": [
      "Frame # 1738\n",
      "========\n",
      "Selecting.. ((768, 384), (907, 507))\n",
      "========\n"
     ]
    },
    {
     "name": "stderr",
     "output_type": "stream",
     "text": [
      "\r",
      " 98%|█████████▊| 1236/1261 [6:05:21<06:08, 14.75s/it]"
     ]
    },
    {
     "name": "stdout",
     "output_type": "stream",
     "text": [
      "Frame # 1739\n",
      "========\n",
      "Selecting.. ((756, 384), (921, 507))\n",
      "========\n"
     ]
    },
    {
     "name": "stderr",
     "output_type": "stream",
     "text": [
      "\r",
      " 98%|█████████▊| 1237/1261 [6:05:36<05:53, 14.74s/it]"
     ]
    },
    {
     "name": "stdout",
     "output_type": "stream",
     "text": [
      "Frame # 1740\n",
      "========\n",
      "Selecting.. ((756, 384), (895, 499))\n",
      "========\n"
     ]
    },
    {
     "name": "stderr",
     "output_type": "stream",
     "text": [
      "\r",
      " 98%|█████████▊| 1238/1261 [6:05:50<05:38, 14.71s/it]"
     ]
    },
    {
     "name": "stdout",
     "output_type": "stream",
     "text": [
      "Frame # 1741\n",
      "========\n",
      "Selecting.. ((756, 384), (895, 507))\n",
      "========\n"
     ]
    },
    {
     "name": "stderr",
     "output_type": "stream",
     "text": [
      "\r",
      " 98%|█████████▊| 1239/1261 [6:06:05<05:23, 14.73s/it]"
     ]
    },
    {
     "name": "stdout",
     "output_type": "stream",
     "text": [
      "Frame # 1742\n",
      "========\n",
      "Selecting.. ((768, 384), (907, 507))\n",
      "========\n"
     ]
    },
    {
     "name": "stderr",
     "output_type": "stream",
     "text": [
      "\r",
      " 98%|█████████▊| 1240/1261 [6:06:20<05:09, 14.73s/it]"
     ]
    },
    {
     "name": "stdout",
     "output_type": "stream",
     "text": [
      "Frame # 1743\n",
      "========\n",
      "Selecting.. ((768, 384), (907, 507))\n",
      "========\n"
     ]
    },
    {
     "name": "stderr",
     "output_type": "stream",
     "text": [
      "\r",
      " 98%|█████████▊| 1241/1261 [6:06:35<04:54, 14.71s/it]"
     ]
    },
    {
     "name": "stdout",
     "output_type": "stream",
     "text": [
      "Frame # 1744\n",
      "========\n",
      "Selecting.. ((756, 384), (919, 507))\n",
      "========\n"
     ]
    },
    {
     "name": "stderr",
     "output_type": "stream",
     "text": [
      "\r",
      " 98%|█████████▊| 1242/1261 [6:06:49<04:39, 14.70s/it]"
     ]
    },
    {
     "name": "stdout",
     "output_type": "stream",
     "text": [
      "Frame # 1745\n",
      "========\n",
      "Selecting.. ((768, 384), (907, 507))\n",
      "========\n"
     ]
    },
    {
     "name": "stderr",
     "output_type": "stream",
     "text": [
      "\r",
      " 99%|█████████▊| 1243/1261 [6:07:04<04:24, 14.71s/it]"
     ]
    },
    {
     "name": "stdout",
     "output_type": "stream",
     "text": [
      "Frame # 1746\n",
      "========\n",
      "Selecting.. ((756, 384), (907, 507))\n",
      "========\n"
     ]
    },
    {
     "name": "stderr",
     "output_type": "stream",
     "text": [
      "\r",
      " 99%|█████████▊| 1244/1261 [6:07:19<04:10, 14.73s/it]"
     ]
    },
    {
     "name": "stdout",
     "output_type": "stream",
     "text": [
      "Frame # 1747\n",
      "========\n",
      "Selecting.. ((756, 384), (931, 507))\n",
      "========\n"
     ]
    },
    {
     "name": "stderr",
     "output_type": "stream",
     "text": [
      "\r",
      " 99%|█████████▊| 1245/1261 [6:07:34<03:56, 14.77s/it]"
     ]
    },
    {
     "name": "stdout",
     "output_type": "stream",
     "text": [
      "Frame # 1748\n",
      "========\n",
      "Selecting.. ((756, 384), (895, 507))\n",
      "========\n"
     ]
    },
    {
     "name": "stderr",
     "output_type": "stream",
     "text": [
      "\r",
      " 99%|█████████▉| 1246/1261 [6:07:48<03:41, 14.75s/it]"
     ]
    },
    {
     "name": "stdout",
     "output_type": "stream",
     "text": [
      "Frame # 1749\n",
      "========\n",
      "Selecting.. ((756, 384), (893, 507))\n",
      "========\n"
     ]
    },
    {
     "name": "stderr",
     "output_type": "stream",
     "text": [
      "\r",
      " 99%|█████████▉| 1247/1261 [6:08:03<03:26, 14.76s/it]"
     ]
    },
    {
     "name": "stdout",
     "output_type": "stream",
     "text": [
      "Frame # 1750\n",
      "========\n",
      "Selecting.. ((756, 384), (893, 507))\n",
      "========\n",
      "========\n",
      "Not Selecting.. ((1112, 420), (1186, 483))\n",
      "========\n"
     ]
    },
    {
     "name": "stderr",
     "output_type": "stream",
     "text": [
      "\r",
      " 99%|█████████▉| 1248/1261 [6:08:18<03:11, 14.73s/it]"
     ]
    },
    {
     "name": "stdout",
     "output_type": "stream",
     "text": [
      "Frame # 1751\n",
      "========\n",
      "Selecting.. ((756, 384), (893, 507))\n",
      "========\n"
     ]
    },
    {
     "name": "stderr",
     "output_type": "stream",
     "text": [
      "\r",
      " 99%|█████████▉| 1249/1261 [6:08:33<02:56, 14.75s/it]"
     ]
    },
    {
     "name": "stdout",
     "output_type": "stream",
     "text": [
      "Frame # 1752\n",
      "========\n",
      "Selecting.. ((756, 384), (907, 507))\n",
      "========\n",
      "========\n",
      "Not Selecting.. ((1140, 411), (1275, 483))\n",
      "========\n"
     ]
    },
    {
     "name": "stderr",
     "output_type": "stream",
     "text": [
      "\r",
      " 99%|█████████▉| 1250/1261 [6:08:47<02:42, 14.73s/it]"
     ]
    },
    {
     "name": "stdout",
     "output_type": "stream",
     "text": [
      "Frame # 1753\n",
      "========\n",
      "Selecting.. ((742, 384), (893, 507))\n",
      "========\n",
      "========\n",
      "Not Selecting.. ((1188, 393), (1279, 492))\n",
      "========\n"
     ]
    },
    {
     "name": "stderr",
     "output_type": "stream",
     "text": [
      "\r",
      " 99%|█████████▉| 1251/1261 [6:09:02<02:27, 14.75s/it]"
     ]
    },
    {
     "name": "stdout",
     "output_type": "stream",
     "text": [
      "Frame # 1754\n",
      "========\n",
      "Selecting.. ((744, 384), (893, 507))\n",
      "========\n",
      "========\n",
      "Not Selecting.. ((1176, 384), (1279, 501))\n",
      "========\n"
     ]
    },
    {
     "name": "stderr",
     "output_type": "stream",
     "text": [
      "\r",
      " 99%|█████████▉| 1252/1261 [6:09:17<02:12, 14.73s/it]"
     ]
    },
    {
     "name": "stdout",
     "output_type": "stream",
     "text": [
      "Frame # 1755\n",
      "========\n",
      "Selecting.. ((744, 384), (893, 507))\n",
      "========\n",
      "========\n",
      "Selecting.. ((1176, 384), (1279, 507))\n",
      "========\n"
     ]
    },
    {
     "name": "stderr",
     "output_type": "stream",
     "text": [
      "\r",
      " 99%|█████████▉| 1253/1261 [6:09:31<01:57, 14.74s/it]"
     ]
    },
    {
     "name": "stdout",
     "output_type": "stream",
     "text": [
      "Frame # 1756\n",
      "========\n",
      "Selecting.. ((756, 384), (907, 507))\n",
      "========\n",
      "========\n",
      "Selecting.. ((1176, 384), (1279, 511))\n",
      "========\n"
     ]
    },
    {
     "name": "stderr",
     "output_type": "stream",
     "text": [
      "\r",
      " 99%|█████████▉| 1254/1261 [6:09:46<01:43, 14.75s/it]"
     ]
    },
    {
     "name": "stdout",
     "output_type": "stream",
     "text": [
      "Frame # 1757\n",
      "========\n",
      "Selecting.. ((742, 384), (879, 507))\n",
      "========\n",
      "========\n",
      "Selecting.. ((1162, 384), (1279, 511))\n",
      "========\n"
     ]
    },
    {
     "name": "stderr",
     "output_type": "stream",
     "text": [
      "\r",
      "100%|█████████▉| 1255/1261 [6:10:01<01:28, 14.73s/it]"
     ]
    },
    {
     "name": "stdout",
     "output_type": "stream",
     "text": [
      "Frame # 1758\n",
      "========\n",
      "Selecting.. ((742, 384), (893, 507))\n",
      "========\n",
      "========\n",
      "Selecting.. ((1162, 384), (1279, 511))\n",
      "========\n"
     ]
    },
    {
     "name": "stderr",
     "output_type": "stream",
     "text": [
      "\r",
      "100%|█████████▉| 1256/1261 [6:10:16<01:13, 14.73s/it]"
     ]
    },
    {
     "name": "stdout",
     "output_type": "stream",
     "text": [
      "Frame # 1759\n",
      "========\n",
      "Selecting.. ((742, 384), (879, 507))\n",
      "========\n",
      "========\n",
      "Selecting.. ((1113, 384), (1271, 507))\n",
      "========\n"
     ]
    },
    {
     "name": "stderr",
     "output_type": "stream",
     "text": [
      "\r",
      "100%|█████████▉| 1257/1261 [6:10:30<00:59, 14.75s/it]"
     ]
    },
    {
     "name": "stdout",
     "output_type": "stream",
     "text": [
      "Frame # 1760\n",
      "========\n",
      "Selecting.. ((742, 384), (895, 507))\n",
      "========\n",
      "========\n",
      "Selecting.. ((1104, 384), (1279, 507))\n",
      "========\n"
     ]
    },
    {
     "name": "stderr",
     "output_type": "stream",
     "text": [
      "\r",
      "100%|█████████▉| 1258/1261 [6:10:45<00:44, 14.74s/it]"
     ]
    },
    {
     "name": "stdout",
     "output_type": "stream",
     "text": [
      "Frame # 1761\n",
      "========\n",
      "Selecting.. ((742, 384), (879, 507))\n",
      "========\n",
      "========\n",
      "Selecting.. ((1120, 384), (1279, 511))\n",
      "========\n"
     ]
    },
    {
     "name": "stderr",
     "output_type": "stream",
     "text": [
      "\r",
      "100%|█████████▉| 1259/1261 [6:11:00<00:29, 14.75s/it]"
     ]
    },
    {
     "name": "stdout",
     "output_type": "stream",
     "text": [
      "Frame # 1762\n",
      "========\n",
      "Selecting.. ((742, 384), (883, 507))\n",
      "========\n",
      "========\n",
      "Selecting.. ((1128, 384), (1279, 507))\n",
      "========\n"
     ]
    },
    {
     "name": "stderr",
     "output_type": "stream",
     "text": [
      "\r",
      "100%|█████████▉| 1260/1261 [6:11:15<00:14, 14.77s/it]"
     ]
    },
    {
     "name": "stdout",
     "output_type": "stream",
     "text": [
      "Frame # 1763\n",
      "========\n",
      "Selecting.. ((742, 384), (893, 507))\n",
      "========\n",
      "========\n",
      "Selecting.. ((1120, 384), (1279, 511))\n",
      "========\n"
     ]
    },
    {
     "name": "stderr",
     "output_type": "stream",
     "text": [
      "\n"
     ]
    },
    {
     "name": "stdout",
     "output_type": "stream",
     "text": [
      "[MoviePy] Done.\n",
      "[MoviePy] >>>> Video ready: ./p5.mp4 \n",
      "\n",
      "CPU times: user 6h 8min 33s, sys: 1min 45s, total: 6h 10min 18s\n",
      "Wall time: 6h 11min 16s\n"
     ]
    }
   ],
   "source": [
    "if not test_mode:\n",
    "    output = './p5.mp4'\n",
    "    clip1 = VideoFileClip(\"project_video.mp4\") #.subclip(4, 20)\n",
    "    white_clip = clip1.fl_image(detect_and_draw) # NOTE: this function expects color images!!\n",
    "    %time white_clip.write_videofile(output, audio=False)"
   ]
  },
  {
   "cell_type": "code",
   "execution_count": null,
   "metadata": {
    "collapsed": true
   },
   "outputs": [],
   "source": []
  }
 ],
 "metadata": {
  "anaconda-cloud": {},
  "kernelspec": {
   "display_name": "Python 3",
   "language": "python",
   "name": "python3"
  },
  "language_info": {
   "codemirror_mode": {
    "name": "ipython",
    "version": 3
   },
   "file_extension": ".py",
   "mimetype": "text/x-python",
   "name": "python",
   "nbconvert_exporter": "python",
   "pygments_lexer": "ipython3",
   "version": "3.5.2"
  },
  "widgets": {
   "state": {},
   "version": "1.1.2"
  }
 },
 "nbformat": 4,
 "nbformat_minor": 1
}
